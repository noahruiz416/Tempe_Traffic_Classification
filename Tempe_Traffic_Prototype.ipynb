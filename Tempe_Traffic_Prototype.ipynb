{
  "nbformat": 4,
  "nbformat_minor": 0,
  "metadata": {
    "colab": {
      "name": "Tempe_Traffic_Prototype.ipynb",
      "provenance": [],
      "collapsed_sections": [],
      "authorship_tag": "ABX9TyPGuaJpSdb5/6VFFMgjz++h",
      "include_colab_link": true
    },
    "kernelspec": {
      "name": "python3",
      "display_name": "Python 3"
    },
    "language_info": {
      "name": "python"
    }
  },
  "cells": [
    {
      "cell_type": "markdown",
      "metadata": {
        "id": "view-in-github",
        "colab_type": "text"
      },
      "source": [
        "<a href=\"https://colab.research.google.com/github/noahruiz416/Tempe_Traffic_Classification/blob/main/Tempe_Traffic_Prototype.ipynb\" target=\"_parent\"><img src=\"https://colab.research.google.com/assets/colab-badge.svg\" alt=\"Open In Colab\"/></a>"
      ]
    },
    {
      "cell_type": "markdown",
      "source": [
        "# This Notebook is the initial prototype for the Tempe Traffic Classification Project. Within this file you will find various sections that conduct exploratory analysis, feature selection, initial models and more."
      ],
      "metadata": {
        "id": "2-Ph5FpxVugY"
      }
    },
    {
      "cell_type": "markdown",
      "source": [
        "## Exploratory Analysis"
      ],
      "metadata": {
        "id": "4q_2uZt1XTMY"
      }
    },
    {
      "cell_type": "code",
      "execution_count": 5,
      "metadata": {
        "id": "DvKjm0qQVkDf"
      },
      "outputs": [],
      "source": [
        "import pandas as pd \n",
        "import seaborn as sns \n",
        "import matplotlib.pyplot as plt "
      ]
    },
    {
      "cell_type": "code",
      "source": [
        "no_null_vals = pd.read_csv(\"no_null_vals_df.csv\")\n",
        "null_vals_df = pd.read_csv(\"null_vals_df.csv\")"
      ],
      "metadata": {
        "id": "5HLh3dt2WI5I"
      },
      "execution_count": 6,
      "outputs": []
    },
    {
      "cell_type": "code",
      "source": [
        "no_null_vals['Injuryseverity'].value_counts()"
      ],
      "metadata": {
        "colab": {
          "base_uri": "https://localhost:8080/"
        },
        "id": "z65PG5JtXFj8",
        "outputId": "614262d1-4306-46c2-e291-af85a7ce7a4f"
      },
      "execution_count": 7,
      "outputs": [
        {
          "output_type": "execute_result",
          "data": {
            "text/plain": [
              "No Injury                    24272\n",
              "Possible Injury               5558\n",
              "Non Incapacitating Injury     3991\n",
              "Suspected Minor Injury        1241\n",
              "Incapacitating Injury          480\n",
              "Suspected Serious Injury       105\n",
              "Fatal                           80\n",
              "Name: Injuryseverity, dtype: int64"
            ]
          },
          "metadata": {},
          "execution_count": 7
        }
      ]
    },
    {
      "cell_type": "code",
      "source": [
        "no_null_vals['Injuryseverity'].value_counts()"
      ],
      "metadata": {
        "colab": {
          "base_uri": "https://localhost:8080/"
        },
        "id": "q1p-QuetvNAd",
        "outputId": "f96f697a-c7dd-4542-f859-2a13502fff8f"
      },
      "execution_count": 66,
      "outputs": [
        {
          "output_type": "execute_result",
          "data": {
            "text/plain": [
              "No Injury                    24272\n",
              "Possible Injury               5558\n",
              "Non Incapacitating Injury     3991\n",
              "Suspected Minor Injury        1241\n",
              "Incapacitating Injury          480\n",
              "Suspected Serious Injury       105\n",
              "Fatal                           80\n",
              "Name: Injuryseverity, dtype: int64"
            ]
          },
          "metadata": {},
          "execution_count": 66
        }
      ]
    },
    {
      "cell_type": "code",
      "source": [
        "#one vs all encoding (add to etl later), this will be used for classifcation of accident being fatal or not \n",
        "Severity = []\n",
        "for row in no_null_vals['Injuryseverity']:\n",
        "  if row != \"Fatal\": \n",
        "    Severity.append(0)\n",
        "  if row == \"Fatal\":\n",
        "    Severity.append(1)"
      ],
      "metadata": {
        "id": "QLesUPz-vrKf"
      },
      "execution_count": 146,
      "outputs": []
    },
    {
      "cell_type": "code",
      "source": [
        "no_null_vals['Fatal_Non_Fatal'] = Severity"
      ],
      "metadata": {
        "id": "3Q2EEhGfx8Co"
      },
      "execution_count": 147,
      "outputs": []
    },
    {
      "cell_type": "code",
      "source": [
        "no_null_vals['Fatal_Non_Fatal'].value_counts()"
      ],
      "metadata": {
        "colab": {
          "base_uri": "https://localhost:8080/"
        },
        "id": "WSXBLuuQyCwT",
        "outputId": "c2f5cd2f-ff38-4263-c529-8b40814f7d8c"
      },
      "execution_count": 148,
      "outputs": [
        {
          "output_type": "execute_result",
          "data": {
            "text/plain": [
              "0    35647\n",
              "1       80\n",
              "Name: Fatal_Non_Fatal, dtype: int64"
            ]
          },
          "metadata": {},
          "execution_count": 148
        }
      ]
    },
    {
      "cell_type": "code",
      "source": [
        "#getting an idea of the predictor variables distribution\n",
        "sns.set_style(\"darkgrid\")\n",
        "no_null_vals['Injuryseverity'].value_counts().sort_values().plot.barh(title = 'Accident Severity Counts')"
      ],
      "metadata": {
        "colab": {
          "base_uri": "https://localhost:8080/",
          "height": 298
        },
        "id": "5ENqxc1YXWMy",
        "outputId": "598b3b3e-2984-4b81-a476-45cd74a0d84a"
      },
      "execution_count": 8,
      "outputs": [
        {
          "output_type": "execute_result",
          "data": {
            "text/plain": [
              "<matplotlib.axes._subplots.AxesSubplot at 0x7f8f233e09d0>"
            ]
          },
          "metadata": {},
          "execution_count": 8
        },
        {
          "output_type": "display_data",
          "data": {
            "text/plain": [
              "<Figure size 432x288 with 1 Axes>"
            ],
            "image/png": "[encoded data removed]"
          },
          "metadata": {}
        }
      ]
    },
    {
      "cell_type": "code",
      "source": [
        "no_null_vals['Injuryseverity'].value_counts(normalize=True).sort_values()"
      ],
      "metadata": {
        "colab": {
          "base_uri": "https://localhost:8080/"
        },
        "id": "080JHywuqvEp",
        "outputId": "cbc3aa55-d3be-4d58-fc12-051eba5d8751"
      },
      "execution_count": 61,
      "outputs": [
        {
          "output_type": "execute_result",
          "data": {
            "text/plain": [
              "Fatal                        0.002239\n",
              "Suspected Serious Injury     0.002939\n",
              "Incapacitating Injury        0.013435\n",
              "Suspected Minor Injury       0.034736\n",
              "Non Incapacitating Injury    0.111708\n",
              "Possible Injury              0.155569\n",
              "No Injury                    0.679374\n",
              "Name: Injuryseverity, dtype: float64"
            ]
          },
          "metadata": {},
          "execution_count": 61
        }
      ]
    },
    {
      "cell_type": "code",
      "source": [
        "#based on this less than \n",
        "no_null_vals['Totalfatalities'].value_counts().sort_values().plot.barh(title = 'Total Fatalities Counts')"
      ],
      "metadata": {
        "colab": {
          "base_uri": "https://localhost:8080/",
          "height": 298
        },
        "id": "j2RoN7ENpGMk",
        "outputId": "12906e83-6afd-456e-ce82-85f584a05076"
      },
      "execution_count": 37,
      "outputs": [
        {
          "output_type": "execute_result",
          "data": {
            "text/plain": [
              "<matplotlib.axes._subplots.AxesSubplot at 0x7f8f21b48590>"
            ]
          },
          "metadata": {},
          "execution_count": 37
        },
        {
          "output_type": "display_data",
          "data": {
            "text/plain": [
              "<Figure size 432x288 with 1 Axes>"
            ],
            "image/png": "[encoded data removed]"
          },
          "metadata": {}
        }
      ]
    },
    {
      "cell_type": "code",
      "source": [
        "no_null_vals['Totalfatalities'].value_counts()\n",
        "print(f\"Percent of fatal accidents: {round((80/35647) * 100, 3)}%. Percent of nonfatal accidents: {round((35647-80)/ (35647) * 100, 3)}%.\")"
      ],
      "metadata": {
        "colab": {
          "base_uri": "https://localhost:8080/"
        },
        "id": "ZGGDozf9pgbc",
        "outputId": "5ce3a382-e1b7-4958-e097-997c1aa6620c"
      },
      "execution_count": 59,
      "outputs": [
        {
          "output_type": "stream",
          "name": "stdout",
          "text": [
            "Percent of fatal accidents: 0.224%. Percent of nonfatal accidents: 99.776%.\n"
          ]
        }
      ]
    },
    {
      "cell_type": "code",
      "source": [
        "year_injuries = no_null_vals[['Year', 'Totalinjuries']].groupby('Year').sum()\n",
        "year_fatalities = no_null_vals[['Year', 'Totalfatalities']].groupby('Year').sum()"
      ],
      "metadata": {
        "id": "JL-Pl9lXXqXC"
      },
      "execution_count": 9,
      "outputs": []
    },
    {
      "cell_type": "code",
      "source": [
        "#plotting the\n",
        "sns.lineplot(x = 'Year', y = 'Totalinjuries', data = year_injuries).set(title = 'Injuries From 2012 - 2020')"
      ],
      "metadata": {
        "colab": {
          "base_uri": "https://localhost:8080/",
          "height": 312
        },
        "id": "LsvsR1K2wUHC",
        "outputId": "25456362-1d40-4224-d706-b6b9d3d9dbe5"
      },
      "execution_count": 10,
      "outputs": [
        {
          "output_type": "execute_result",
          "data": {
            "text/plain": [
              "[Text(0.5, 1.0, 'Injuries From 2012 - 2020')]"
            ]
          },
          "metadata": {},
          "execution_count": 10
        },
        {
          "output_type": "display_data",
          "data": {
            "text/plain": [
              "<Figure size 432x288 with 1 Axes>"
            ],
            "image/png": "[encoded data removed]"
          },
          "metadata": {}
        }
      ]
    },
    {
      "cell_type": "code",
      "source": [
        "sns.lineplot(x = 'Year', y = 'Totalfatalities', data = year_fatalities).set(title = 'Fatalities From 2012 - 2020')"
      ],
      "metadata": {
        "colab": {
          "base_uri": "https://localhost:8080/",
          "height": 312
        },
        "id": "YYwfRg-ewW9k",
        "outputId": "6f0143ab-d8a2-4aca-8587-1c1240ffaf2c"
      },
      "execution_count": 11,
      "outputs": [
        {
          "output_type": "execute_result",
          "data": {
            "text/plain": [
              "[Text(0.5, 1.0, 'Fatalities From 2012 - 2020')]"
            ]
          },
          "metadata": {},
          "execution_count": 11
        },
        {
          "output_type": "display_data",
          "data": {
            "text/plain": [
              "<Figure size 432x288 with 1 Axes>"
            ],
            "image/png": "[encoded data removed]"
          },
          "metadata": {}
        }
      ]
    },
    {
      "cell_type": "code",
      "source": [
        "#no features seem correlated at a first glance \n",
        "no_null_vals.corr()"
      ],
      "metadata": {
        "colab": {
          "base_uri": "https://localhost:8080/",
          "height": 485
        },
        "id": "yJB4ZkiQwYf1",
        "outputId": "c70dfcce-0030-4d0d-a08b-ff013c7e1565"
      },
      "execution_count": 12,
      "outputs": [
        {
          "output_type": "execute_result",
          "data": {
            "text/plain": [
              "                        X         Y  OBJECTID  Incidentid      Year  Distance  \\\n",
              "X                1.000000  0.163788 -0.020296   -0.020115 -0.020612 -0.006258   \n",
              "Y                0.163788  1.000000  0.019561    0.019097  0.019328  0.021733   \n",
              "OBJECTID        -0.020296  0.019561  1.000000    0.999134  0.992468 -0.006595   \n",
              "Incidentid      -0.020115  0.019097  0.999134    1.000000  0.991447 -0.006466   \n",
              "Year            -0.020612  0.019328  0.992468    0.991447  1.000000 -0.006009   \n",
              "Distance        -0.006258  0.021733 -0.006595   -0.006466 -0.006009  1.000000   \n",
              "Totalinjuries    0.007678 -0.013407  0.041621    0.042838  0.041154  0.000769   \n",
              "Totalfatalities  0.002757  0.003570  0.010008    0.012021  0.009601  0.001440   \n",
              "Age_Drv1        -0.017894 -0.045517  0.056947    0.057101  0.056163 -0.000947   \n",
              "Age_Drv2        -0.015308 -0.094131  0.022429    0.022363  0.023218 -0.004222   \n",
              "Latitude         0.163788  1.000000  0.019561    0.019097  0.019328  0.021733   \n",
              "Longitude        1.000000  0.163788 -0.020296   -0.020115 -0.020612 -0.006258   \n",
              "\n",
              "                 Totalinjuries  Totalfatalities  Age_Drv1  Age_Drv2  Latitude  \\\n",
              "X                     0.007678         0.002757 -0.017894 -0.015308  0.163788   \n",
              "Y                    -0.013407         0.003570 -0.045517 -0.094131  1.000000   \n",
              "OBJECTID              0.041621         0.010008  0.056947  0.022429  0.019561   \n",
              "Incidentid            0.042838         0.012021  0.057101  0.022363  0.019097   \n",
              "Year                  0.041154         0.009601  0.056163  0.023218  0.019328   \n",
              "Distance              0.000769         0.001440 -0.000947 -0.004222  0.021733   \n",
              "Totalinjuries         1.000000         0.014031 -0.075798 -0.013430 -0.013407   \n",
              "Totalfatalities       0.014031         1.000000  0.008623  0.015354  0.003570   \n",
              "Age_Drv1             -0.075798         0.008623  1.000000  0.028526 -0.045517   \n",
              "Age_Drv2             -0.013430         0.015354  0.028526  1.000000 -0.094131   \n",
              "Latitude             -0.013407         0.003570 -0.045517 -0.094131  1.000000   \n",
              "Longitude             0.007678         0.002757 -0.017894 -0.015308  0.163788   \n",
              "\n",
              "                 Longitude  \n",
              "X                 1.000000  \n",
              "Y                 0.163788  \n",
              "OBJECTID         -0.020296  \n",
              "Incidentid       -0.020115  \n",
              "Year             -0.020612  \n",
              "Distance         -0.006258  \n",
              "Totalinjuries     0.007678  \n",
              "Totalfatalities   0.002757  \n",
              "Age_Drv1         -0.017894  \n",
              "Age_Drv2         -0.015308  \n",
              "Latitude          0.163788  \n",
              "Longitude         1.000000  "
            ],
            "text/html": [
              "\n",
              "  <div id=\"df-e2cf7865-ae1d-4dfc-bee3-1b823fc5d6ff\">\n",
              "    <div class=\"colab-df-container\">\n",
              "      <div>\n",
              "<style scoped>\n",
              "    .dataframe tbody tr th:only-of-type {\n",
              "        vertical-align: middle;\n",
              "    }\n",
              "\n",
              "    .dataframe tbody tr th {\n",
              "        vertical-align: top;\n",
              "    }\n",
              "\n",
              "    .dataframe thead th {\n",
              "        text-align: right;\n",
              "    }\n",
              "</style>\n",
              "<table border=\"1\" class=\"dataframe\">\n",
              "  <thead>\n",
              "    <tr style=\"text-align: right;\">\n",
              "      <th></th>\n",
              "      <th>X</th>\n",
              "      <th>Y</th>\n",
              "      <th>OBJECTID</th>\n",
              "      <th>Incidentid</th>\n",
              "      <th>Year</th>\n",
              "      <th>Distance</th>\n",
              "      <th>Totalinjuries</th>\n",
              "      <th>Totalfatalities</th>\n",
              "      <th>Age_Drv1</th>\n",
              "      <th>Age_Drv2</th>\n",
              "      <th>Latitude</th>\n",
              "      <th>Longitude</th>\n",
              "    </tr>\n",
              "  </thead>\n",
              "  <tbody>\n",
              "    <tr>\n",
              "      <th>X</th>\n",
              "      <td>1.000000</td>\n",
              "      <td>0.163788</td>\n",
              "      <td>-0.020296</td>\n",
              "      <td>-0.020115</td>\n",
              "      <td>-0.020612</td>\n",
              "      <td>-0.006258</td>\n",
              "      <td>0.007678</td>\n",
              "      <td>0.002757</td>\n",
              "      <td>-0.017894</td>\n",
              "      <td>-0.015308</td>\n",
              "      <td>0.163788</td>\n",
              "      <td>1.000000</td>\n",
              "    </tr>\n",
              "    <tr>\n",
              "      <th>Y</th>\n",
              "      <td>0.163788</td>\n",
              "      <td>1.000000</td>\n",
              "      <td>0.019561</td>\n",
              "      <td>0.019097</td>\n",
              "      <td>0.019328</td>\n",
              "      <td>0.021733</td>\n",
              "      <td>-0.013407</td>\n",
              "      <td>0.003570</td>\n",
              "      <td>-0.045517</td>\n",
              "      <td>-0.094131</td>\n",
              "      <td>1.000000</td>\n",
              "      <td>0.163788</td>\n",
              "    </tr>\n",
              "    <tr>\n",
              "      <th>OBJECTID</th>\n",
              "      <td>-0.020296</td>\n",
              "      <td>0.019561</td>\n",
              "      <td>1.000000</td>\n",
              "      <td>0.999134</td>\n",
              "      <td>0.992468</td>\n",
              "      <td>-0.006595</td>\n",
              "      <td>0.041621</td>\n",
              "      <td>0.010008</td>\n",
              "      <td>0.056947</td>\n",
              "      <td>0.022429</td>\n",
              "      <td>0.019561</td>\n",
              "      <td>-0.020296</td>\n",
              "    </tr>\n",
              "    <tr>\n",
              "      <th>Incidentid</th>\n",
              "      <td>-0.020115</td>\n",
              "      <td>0.019097</td>\n",
              "      <td>0.999134</td>\n",
              "      <td>1.000000</td>\n",
              "      <td>0.991447</td>\n",
              "      <td>-0.006466</td>\n",
              "      <td>0.042838</td>\n",
              "      <td>0.012021</td>\n",
              "      <td>0.057101</td>\n",
              "      <td>0.022363</td>\n",
              "      <td>0.019097</td>\n",
              "      <td>-0.020115</td>\n",
              "    </tr>\n",
              "    <tr>\n",
              "      <th>Year</th>\n",
              "      <td>-0.020612</td>\n",
              "      <td>0.019328</td>\n",
              "      <td>0.992468</td>\n",
              "      <td>0.991447</td>\n",
              "      <td>1.000000</td>\n",
              "      <td>-0.006009</td>\n",
              "      <td>0.041154</td>\n",
              "      <td>0.009601</td>\n",
              "      <td>0.056163</td>\n",
              "      <td>0.023218</td>\n",
              "      <td>0.019328</td>\n",
              "      <td>-0.020612</td>\n",
              "    </tr>\n",
              "    <tr>\n",
              "      <th>Distance</th>\n",
              "      <td>-0.006258</td>\n",
              "      <td>0.021733</td>\n",
              "      <td>-0.006595</td>\n",
              "      <td>-0.006466</td>\n",
              "      <td>-0.006009</td>\n",
              "      <td>1.000000</td>\n",
              "      <td>0.000769</td>\n",
              "      <td>0.001440</td>\n",
              "      <td>-0.000947</td>\n",
              "      <td>-0.004222</td>\n",
              "      <td>0.021733</td>\n",
              "      <td>-0.006258</td>\n",
              "    </tr>\n",
              "    <tr>\n",
              "      <th>Totalinjuries</th>\n",
              "      <td>0.007678</td>\n",
              "      <td>-0.013407</td>\n",
              "      <td>0.041621</td>\n",
              "      <td>0.042838</td>\n",
              "      <td>0.041154</td>\n",
              "      <td>0.000769</td>\n",
              "      <td>1.000000</td>\n",
              "      <td>0.014031</td>\n",
              "      <td>-0.075798</td>\n",
              "      <td>-0.013430</td>\n",
              "      <td>-0.013407</td>\n",
              "      <td>0.007678</td>\n",
              "    </tr>\n",
              "    <tr>\n",
              "      <th>Totalfatalities</th>\n",
              "      <td>0.002757</td>\n",
              "      <td>0.003570</td>\n",
              "      <td>0.010008</td>\n",
              "      <td>0.012021</td>\n",
              "      <td>0.009601</td>\n",
              "      <td>0.001440</td>\n",
              "      <td>0.014031</td>\n",
              "      <td>1.000000</td>\n",
              "      <td>0.008623</td>\n",
              "      <td>0.015354</td>\n",
              "      <td>0.003570</td>\n",
              "      <td>0.002757</td>\n",
              "    </tr>\n",
              "    <tr>\n",
              "      <th>Age_Drv1</th>\n",
              "      <td>-0.017894</td>\n",
              "      <td>-0.045517</td>\n",
              "      <td>0.056947</td>\n",
              "      <td>0.057101</td>\n",
              "      <td>0.056163</td>\n",
              "      <td>-0.000947</td>\n",
              "      <td>-0.075798</td>\n",
              "      <td>0.008623</td>\n",
              "      <td>1.000000</td>\n",
              "      <td>0.028526</td>\n",
              "      <td>-0.045517</td>\n",
              "      <td>-0.017894</td>\n",
              "    </tr>\n",
              "    <tr>\n",
              "      <th>Age_Drv2</th>\n",
              "      <td>-0.015308</td>\n",
              "      <td>-0.094131</td>\n",
              "      <td>0.022429</td>\n",
              "      <td>0.022363</td>\n",
              "      <td>0.023218</td>\n",
              "      <td>-0.004222</td>\n",
              "      <td>-0.013430</td>\n",
              "      <td>0.015354</td>\n",
              "      <td>0.028526</td>\n",
              "      <td>1.000000</td>\n",
              "      <td>-0.094131</td>\n",
              "      <td>-0.015308</td>\n",
              "    </tr>\n",
              "    <tr>\n",
              "      <th>Latitude</th>\n",
              "      <td>0.163788</td>\n",
              "      <td>1.000000</td>\n",
              "      <td>0.019561</td>\n",
              "      <td>0.019097</td>\n",
              "      <td>0.019328</td>\n",
              "      <td>0.021733</td>\n",
              "      <td>-0.013407</td>\n",
              "      <td>0.003570</td>\n",
              "      <td>-0.045517</td>\n",
              "      <td>-0.094131</td>\n",
              "      <td>1.000000</td>\n",
              "      <td>0.163788</td>\n",
              "    </tr>\n",
              "    <tr>\n",
              "      <th>Longitude</th>\n",
              "      <td>1.000000</td>\n",
              "      <td>0.163788</td>\n",
              "      <td>-0.020296</td>\n",
              "      <td>-0.020115</td>\n",
              "      <td>-0.020612</td>\n",
              "      <td>-0.006258</td>\n",
              "      <td>0.007678</td>\n",
              "      <td>0.002757</td>\n",
              "      <td>-0.017894</td>\n",
              "      <td>-0.015308</td>\n",
              "      <td>0.163788</td>\n",
              "      <td>1.000000</td>\n",
              "    </tr>\n",
              "  </tbody>\n",
              "</table>\n",
              "</div>\n",
              "      <button class=\"colab-df-convert\" onclick=\"convertToInteractive('df-e2cf7865-ae1d-4dfc-bee3-1b823fc5d6ff')\"\n",
              "              title=\"Convert this dataframe to an interactive table.\"\n",
              "              style=\"display:none;\">\n",
              "        \n",
              "  <svg xmlns=\"http://www.w3.org/2000/svg\" height=\"24px\"viewBox=\"0 0 24 24\"\n",
              "       width=\"24px\">\n",
              "    <path d=\"M0 0h24v24H0V0z\" fill=\"none\"/>\n",
              "    <path d=\"M18.56 5.44l.94 2.06.94-2.06 2.06-.94-2.06-.94-.94-2.06-.94 2.06-2.06.94zm-11 1L8.5 8.5l.94-2.06 2.06-.94-2.06-.94L8.5 2.5l-.94 2.06-2.06.94zm10 10l.94 2.06.94-2.06 2.06-.94-2.06-.94-.94-2.06-.94 2.06-2.06.94z\"/><path d=\"M17.41 7.96l-1.37-1.37c-.4-.4-.92-.59-1.43-.59-.52 0-1.04.2-1.43.59L10.3 9.45l-7.72 7.72c-.78.78-.78 2.05 0 2.83L4 21.41c.39.39.9.59 1.41.59.51 0 1.02-.2 1.41-.59l7.78-7.78 2.81-2.81c.8-.78.8-2.07 0-2.86zM5.41 20L4 18.59l7.72-7.72 1.47 1.35L5.41 20z\"/>\n",
              "  </svg>\n",
              "      </button>\n",
              "      \n",
              "  <style>\n",
              "    .colab-df-container {\n",
              "      display:flex;\n",
              "      flex-wrap:wrap;\n",
              "      gap: 12px;\n",
              "    }\n",
              "\n",
              "    .colab-df-convert {\n",
              "      background-color: #E8F0FE;\n",
              "      border: none;\n",
              "      border-radius: 50%;\n",
              "      cursor: pointer;\n",
              "      display: none;\n",
              "      fill: #1967D2;\n",
              "      height: 32px;\n",
              "      padding: 0 0 0 0;\n",
              "      width: 32px;\n",
              "    }\n",
              "\n",
              "    .colab-df-convert:hover {\n",
              "      background-color: #E2EBFA;\n",
              "      box-shadow: 0px 1px 2px rgba(60, 64, 67, 0.3), 0px 1px 3px 1px rgba(60, 64, 67, 0.15);\n",
              "      fill: #174EA6;\n",
              "    }\n",
              "\n",
              "    [theme=dark] .colab-df-convert {\n",
              "      background-color: #3B4455;\n",
              "      fill: #D2E3FC;\n",
              "    }\n",
              "\n",
              "    [theme=dark] .colab-df-convert:hover {\n",
              "      background-color: #434B5C;\n",
              "      box-shadow: 0px 1px 3px 1px rgba(0, 0, 0, 0.15);\n",
              "      filter: drop-shadow(0px 1px 2px rgba(0, 0, 0, 0.3));\n",
              "      fill: #FFFFFF;\n",
              "    }\n",
              "  </style>\n",
              "\n",
              "      <script>\n",
              "        const buttonEl =\n",
              "          document.querySelector('#df-e2cf7865-ae1d-4dfc-bee3-1b823fc5d6ff button.colab-df-convert');\n",
              "        buttonEl.style.display =\n",
              "          google.colab.kernel.accessAllowed ? 'block' : 'none';\n",
              "\n",
              "        async function convertToInteractive(key) {\n",
              "          const element = document.querySelector('#df-e2cf7865-ae1d-4dfc-bee3-1b823fc5d6ff');\n",
              "          const dataTable =\n",
              "            await google.colab.kernel.invokeFunction('convertToInteractive',\n",
              "                                                     [key], {});\n",
              "          if (!dataTable) return;\n",
              "\n",
              "          const docLinkHtml = 'Like what you see? Visit the ' +\n",
              "            '<a target=\"_blank\" href=https://colab.research.google.com/notebooks/data_table.ipynb>data table notebook</a>'\n",
              "            + ' to learn more about interactive tables.';\n",
              "          element.innerHTML = '';\n",
              "          dataTable['output_type'] = 'display_data';\n",
              "          await google.colab.output.renderOutput(dataTable, element);\n",
              "          const docLink = document.createElement('div');\n",
              "          docLink.innerHTML = docLinkHtml;\n",
              "          element.appendChild(docLink);\n",
              "        }\n",
              "      </script>\n",
              "    </div>\n",
              "  </div>\n",
              "  "
            ]
          },
          "metadata": {},
          "execution_count": 12
        }
      ]
    },
    {
      "cell_type": "code",
      "source": [
        "no_null_vals['AlcoholUse_Drv2'].value_counts()"
      ],
      "metadata": {
        "colab": {
          "base_uri": "https://localhost:8080/"
        },
        "id": "zinKYvzezf85",
        "outputId": "454a9930-abbd-4313-d72e-79e9a7d7a6b3"
      },
      "execution_count": 13,
      "outputs": [
        {
          "output_type": "execute_result",
          "data": {
            "text/plain": [
              "No Apparent Influence    35636\n",
              "Alcohol                     91\n",
              "Name: AlcoholUse_Drv2, dtype: int64"
            ]
          },
          "metadata": {},
          "execution_count": 13
        }
      ]
    },
    {
      "cell_type": "code",
      "source": [
        "#initial categorical dummies for now\n",
        "dummies = pd.get_dummies(no_null_vals[['Weather', 'SurfaceCondition','Lightcondition', \n",
        "                                       'AlcoholUse_Drv1', 'AlcoholUse_Drv2',\n",
        "                                       'DrugUse_Drv1', 'DrugUse_Drv2']])"
      ],
      "metadata": {
        "id": "ZjDy3z8Uy8wK"
      },
      "execution_count": 14,
      "outputs": []
    },
    {
      "cell_type": "code",
      "source": [
        "no_null_vals['Weather']"
      ],
      "metadata": {
        "colab": {
          "base_uri": "https://localhost:8080/"
        },
        "id": "4R_PRfFc0Moh",
        "outputId": "7e1b3e91-0d4b-41ca-9bbe-cdbcb4e7efc2"
      },
      "execution_count": 15,
      "outputs": [
        {
          "output_type": "execute_result",
          "data": {
            "text/plain": [
              "0         Clear\n",
              "1         Clear\n",
              "2         Clear\n",
              "3         Clear\n",
              "4         Clear\n",
              "          ...  \n",
              "35722     Clear\n",
              "35723    Cloudy\n",
              "35724    Cloudy\n",
              "35725      Rain\n",
              "35726     Clear\n",
              "Name: Weather, Length: 35727, dtype: object"
            ]
          },
          "metadata": {},
          "execution_count": 15
        }
      ]
    },
    {
      "cell_type": "code",
      "source": [
        "##exploring categorical features\n",
        "no_null_vals['Weather'].value_counts().sort_values().plot.barh(title = 'Weather Counts')"
      ],
      "metadata": {
        "colab": {
          "base_uri": "https://localhost:8080/",
          "height": 298
        },
        "id": "PPJsl4-Z0dPH",
        "outputId": "b5a42bb3-c345-4a15-fce7-2c3e6fc6c39f"
      },
      "execution_count": 16,
      "outputs": [
        {
          "output_type": "execute_result",
          "data": {
            "text/plain": [
              "<matplotlib.axes._subplots.AxesSubplot at 0x7f8f227cd790>"
            ]
          },
          "metadata": {},
          "execution_count": 16
        },
        {
          "output_type": "display_data",
          "data": {
            "text/plain": [
              "<Figure size 432x288 with 1 Axes>"
            ],
            "image/png": "[encoded data removed]"
          },
          "metadata": {}
        }
      ]
    },
    {
      "cell_type": "code",
      "source": [
        "no_null_vals['Weather'].value_counts()"
      ],
      "metadata": {
        "colab": {
          "base_uri": "https://localhost:8080/"
        },
        "id": "-iWUH81l2MBr",
        "outputId": "f24092dd-52c2-45a5-8267-079170070195"
      },
      "execution_count": 17,
      "outputs": [
        {
          "output_type": "execute_result",
          "data": {
            "text/plain": [
              "Clear                                  32492\n",
              "Cloudy                                  1955\n",
              "Rain                                     776\n",
              "Unknown                                  485\n",
              "Blowing Sand Soil Dirt                     8\n",
              "Fog Smog Smoke                             5\n",
              "Sleet Hail Freezing Rain Or Drizzle        3\n",
              "Other                                      2\n",
              "Severe Crosswinds                          1\n",
              "Name: Weather, dtype: int64"
            ]
          },
          "metadata": {},
          "execution_count": 17
        }
      ]
    },
    {
      "cell_type": "code",
      "source": [
        "no_null_vals['SurfaceCondition'].value_counts().sort_values().plot.barh(title = 'Surface Road Conditions')"
      ],
      "metadata": {
        "colab": {
          "base_uri": "https://localhost:8080/",
          "height": 298
        },
        "id": "cbo3IJA00lLg",
        "outputId": "6c5efbda-bf2c-413b-aa74-e06b8303999c"
      },
      "execution_count": 18,
      "outputs": [
        {
          "output_type": "execute_result",
          "data": {
            "text/plain": [
              "<matplotlib.axes._subplots.AxesSubplot at 0x7f8f22759590>"
            ]
          },
          "metadata": {},
          "execution_count": 18
        },
        {
          "output_type": "display_data",
          "data": {
            "text/plain": [
              "<Figure size 432x288 with 1 Axes>"
            ],
            "image/png": "[encoded data removed]"
          },
          "metadata": {}
        }
      ]
    },
    {
      "cell_type": "code",
      "source": [
        "no_null_vals['SurfaceCondition'].value_counts()"
      ],
      "metadata": {
        "colab": {
          "base_uri": "https://localhost:8080/"
        },
        "id": "_9ze_TSY2OLX",
        "outputId": "33893270-8ec1-4cd6-be27-8ff86097ee63"
      },
      "execution_count": 19,
      "outputs": [
        {
          "output_type": "execute_result",
          "data": {
            "text/plain": [
              "Dry                      34352\n",
              "Wet                       1058\n",
              "Unknown                    312\n",
              "Water Standing Moving        3\n",
              "Other                        1\n",
              "Mud Dirt Gravel              1\n",
              "Name: SurfaceCondition, dtype: int64"
            ]
          },
          "metadata": {},
          "execution_count": 19
        }
      ]
    },
    {
      "cell_type": "code",
      "source": [
        "no_null_vals['Lightcondition'].value_counts().sort_values().plot.barh(title = 'Light Conditions')"
      ],
      "metadata": {
        "colab": {
          "base_uri": "https://localhost:8080/",
          "height": 298
        },
        "id": "zMGTQ6_00mUV",
        "outputId": "98da6a61-10ad-4f65-ea72-b08cefa5aa25"
      },
      "execution_count": 20,
      "outputs": [
        {
          "output_type": "execute_result",
          "data": {
            "text/plain": [
              "<matplotlib.axes._subplots.AxesSubplot at 0x7f8f2268b3d0>"
            ]
          },
          "metadata": {},
          "execution_count": 20
        },
        {
          "output_type": "display_data",
          "data": {
            "text/plain": [
              "<Figure size 432x288 with 1 Axes>"
            ],
            "image/png": "[encoded data removed]"
          },
          "metadata": {}
        }
      ]
    },
    {
      "cell_type": "code",
      "source": [
        "no_null_vals['Lightcondition'].value_counts()"
      ],
      "metadata": {
        "colab": {
          "base_uri": "https://localhost:8080/"
        },
        "id": "20dTDTOf2Qo9",
        "outputId": "a3fb6e20-aece-412b-b19e-35be9997ac16"
      },
      "execution_count": 21,
      "outputs": [
        {
          "output_type": "execute_result",
          "data": {
            "text/plain": [
              "Daylight                 26646\n",
              "Dark Lighted              7178\n",
              "Dusk                      1183\n",
              "Dawn                       277\n",
              "Unknown 51                 174\n",
              "Dark Not Lighted           161\n",
              "Dark Unknown Lighting       69\n",
              "51                          39\n",
              "Name: Lightcondition, dtype: int64"
            ]
          },
          "metadata": {},
          "execution_count": 21
        }
      ]
    },
    {
      "cell_type": "code",
      "source": [
        "no_null_vals['AlcoholUse_Drv1'].value_counts().sort_values().plot.barh(title = 'Alcohol Use Driver 1')"
      ],
      "metadata": {
        "colab": {
          "base_uri": "https://localhost:8080/",
          "height": 298
        },
        "id": "aL4Uqxa31M6o",
        "outputId": "52f6fc39-57d9-4805-b781-e35408b26268"
      },
      "execution_count": 22,
      "outputs": [
        {
          "output_type": "execute_result",
          "data": {
            "text/plain": [
              "<matplotlib.axes._subplots.AxesSubplot at 0x7f8f225b9e10>"
            ]
          },
          "metadata": {},
          "execution_count": 22
        },
        {
          "output_type": "display_data",
          "data": {
            "text/plain": [
              "<Figure size 432x288 with 1 Axes>"
            ],
            "image/png": "[encoded data removed]"
          },
          "metadata": {}
        }
      ]
    },
    {
      "cell_type": "code",
      "source": [
        "no_null_vals['AlcoholUse_Drv1'].value_counts()"
      ],
      "metadata": {
        "colab": {
          "base_uri": "https://localhost:8080/"
        },
        "id": "vL_bZXa72Sd4",
        "outputId": "089429c8-db9f-4ef3-aa96-8a68069d2746"
      },
      "execution_count": 23,
      "outputs": [
        {
          "output_type": "execute_result",
          "data": {
            "text/plain": [
              "No Apparent Influence    34665\n",
              "Alcohol                   1062\n",
              "Name: AlcoholUse_Drv1, dtype: int64"
            ]
          },
          "metadata": {},
          "execution_count": 23
        }
      ]
    },
    {
      "cell_type": "code",
      "source": [
        "no_null_vals['AlcoholUse_Drv2'].value_counts().sort_values().plot.barh(title = 'Alcohol Use Driver 2')"
      ],
      "metadata": {
        "colab": {
          "base_uri": "https://localhost:8080/",
          "height": 298
        },
        "id": "jFiU6e_61x-m",
        "outputId": "0fa89dfe-09c2-4dda-dad0-65fe62f7a64f"
      },
      "execution_count": 24,
      "outputs": [
        {
          "output_type": "execute_result",
          "data": {
            "text/plain": [
              "<matplotlib.axes._subplots.AxesSubplot at 0x7f8f21c8b090>"
            ]
          },
          "metadata": {},
          "execution_count": 24
        },
        {
          "output_type": "display_data",
          "data": {
            "text/plain": [
              "<Figure size 432x288 with 1 Axes>"
            ],
            "image/png": "[encoded data removed]"
          },
          "metadata": {}
        }
      ]
    },
    {
      "cell_type": "code",
      "source": [
        "no_null_vals['AlcoholUse_Drv2'].value_counts()"
      ],
      "metadata": {
        "colab": {
          "base_uri": "https://localhost:8080/"
        },
        "id": "z4hf3y4n2Uqw",
        "outputId": "7ecd04a4-27c6-4602-f4b3-86c633b86504"
      },
      "execution_count": 25,
      "outputs": [
        {
          "output_type": "execute_result",
          "data": {
            "text/plain": [
              "No Apparent Influence    35636\n",
              "Alcohol                     91\n",
              "Name: AlcoholUse_Drv2, dtype: int64"
            ]
          },
          "metadata": {},
          "execution_count": 25
        }
      ]
    },
    {
      "cell_type": "code",
      "source": [
        "no_null_vals['DrugUse_Drv1'].value_counts().sort_values().plot.barh(title = 'Drug Use Driver 1')"
      ],
      "metadata": {
        "colab": {
          "base_uri": "https://localhost:8080/",
          "height": 298
        },
        "id": "MhgRf3NZ13Sv",
        "outputId": "e0b395b2-6298-4c84-f4b5-615a22b26448"
      },
      "execution_count": 26,
      "outputs": [
        {
          "output_type": "execute_result",
          "data": {
            "text/plain": [
              "<matplotlib.axes._subplots.AxesSubplot at 0x7f8f21c51250>"
            ]
          },
          "metadata": {},
          "execution_count": 26
        },
        {
          "output_type": "display_data",
          "data": {
            "text/plain": [
              "<Figure size 432x288 with 1 Axes>"
            ],
            "image/png": "[encoded data removed]"
          },
          "metadata": {}
        }
      ]
    },
    {
      "cell_type": "code",
      "source": [
        "no_null_vals['DrugUse_Drv1'].value_counts()"
      ],
      "metadata": {
        "colab": {
          "base_uri": "https://localhost:8080/"
        },
        "id": "kmMNHa_O2YN1",
        "outputId": "7bd226f1-c219-4d56-fc74-27614a97c3f5"
      },
      "execution_count": 27,
      "outputs": [
        {
          "output_type": "execute_result",
          "data": {
            "text/plain": [
              "No Apparent Influence    35512\n",
              "Drugs                      215\n",
              "Name: DrugUse_Drv1, dtype: int64"
            ]
          },
          "metadata": {},
          "execution_count": 27
        }
      ]
    },
    {
      "cell_type": "code",
      "source": [
        "no_null_vals['DrugUse_Drv2'].value_counts().sort_values().plot.barh(title = 'Drug Use Driver 2')"
      ],
      "metadata": {
        "colab": {
          "base_uri": "https://localhost:8080/",
          "height": 298
        },
        "id": "XE3zeINr1-en",
        "outputId": "5644e04e-bbb0-4032-fbe8-ab03093a9376"
      },
      "execution_count": 28,
      "outputs": [
        {
          "output_type": "execute_result",
          "data": {
            "text/plain": [
              "<matplotlib.axes._subplots.AxesSubplot at 0x7f8f21bccb10>"
            ]
          },
          "metadata": {},
          "execution_count": 28
        },
        {
          "output_type": "display_data",
          "data": {
            "text/plain": [
              "<Figure size 432x288 with 1 Axes>"
            ],
            "image/png": "[encoded data removed]"
          },
          "metadata": {}
        }
      ]
    },
    {
      "cell_type": "code",
      "source": [
        "no_null_vals['DrugUse_Drv2'].value_counts()"
      ],
      "metadata": {
        "colab": {
          "base_uri": "https://localhost:8080/"
        },
        "id": "xVkcXU_q2DUD",
        "outputId": "c46fd85f-85f3-4c15-d27f-091d1c02a397"
      },
      "execution_count": 29,
      "outputs": [
        {
          "output_type": "execute_result",
          "data": {
            "text/plain": [
              "No Apparent Influence    35714\n",
              "Drugs                       13\n",
              "Name: DrugUse_Drv2, dtype: int64"
            ]
          },
          "metadata": {},
          "execution_count": 29
        }
      ]
    },
    {
      "cell_type": "code",
      "source": [
        "no_null_vals.info()"
      ],
      "metadata": {
        "colab": {
          "base_uri": "https://localhost:8080/"
        },
        "id": "Cgt2YxxM2fo0",
        "outputId": "1b9e3452-5ecb-47c4-8f36-d98b5c8e6e58"
      },
      "execution_count": 30,
      "outputs": [
        {
          "output_type": "stream",
          "name": "stdout",
          "text": [
            "<class 'pandas.core.frame.DataFrame'>\n",
            "RangeIndex: 35727 entries, 0 to 35726\n",
            "Data columns (total 35 columns):\n",
            " #   Column               Non-Null Count  Dtype  \n",
            "---  ------               --------------  -----  \n",
            " 0   X                    35727 non-null  float64\n",
            " 1   Y                    35727 non-null  float64\n",
            " 2   OBJECTID             35727 non-null  int64  \n",
            " 3   Incidentid           35727 non-null  int64  \n",
            " 4   DateTime             35727 non-null  object \n",
            " 5   Year                 35727 non-null  int64  \n",
            " 6   StreetName           35727 non-null  object \n",
            " 7   CrossStreet          35727 non-null  object \n",
            " 8   Distance             35727 non-null  float64\n",
            " 9   JunctionRelation     35727 non-null  object \n",
            " 10  Totalinjuries        35727 non-null  int64  \n",
            " 11  Totalfatalities      35727 non-null  int64  \n",
            " 12  Injuryseverity       35727 non-null  object \n",
            " 13  Collisionmanner      35727 non-null  object \n",
            " 14  Lightcondition       35727 non-null  object \n",
            " 15  Weather              35727 non-null  object \n",
            " 16  SurfaceCondition     35727 non-null  object \n",
            " 17  Unittype_One         35727 non-null  object \n",
            " 18  Age_Drv1             35727 non-null  float64\n",
            " 19  Gender_Drv1          35727 non-null  object \n",
            " 20  Traveldirection_One  35727 non-null  object \n",
            " 21  Unitaction_One       35727 non-null  object \n",
            " 22  Violation1_Drv1      35727 non-null  object \n",
            " 23  AlcoholUse_Drv1      35727 non-null  object \n",
            " 24  DrugUse_Drv1         35727 non-null  object \n",
            " 25  Unittype_Two         35727 non-null  object \n",
            " 26  Age_Drv2             35727 non-null  float64\n",
            " 27  Gender_Drv2          35727 non-null  object \n",
            " 28  Traveldirection_Two  35727 non-null  object \n",
            " 29  Unitaction_Two       35727 non-null  object \n",
            " 30  Violation1_Drv2      35727 non-null  object \n",
            " 31  AlcoholUse_Drv2      35727 non-null  object \n",
            " 32  DrugUse_Drv2         35727 non-null  object \n",
            " 33  Latitude             35727 non-null  float64\n",
            " 34  Longitude            35727 non-null  float64\n",
            "dtypes: float64(7), int64(5), object(23)\n",
            "memory usage: 9.5+ MB\n"
          ]
        }
      ]
    },
    {
      "cell_type": "code",
      "source": [
        "#exploring which street names occur frequently\n",
        "no_null_vals['StreetName'].value_counts(normalize=True).head(50).plot(figsize=(10,5))"
      ],
      "metadata": {
        "colab": {
          "base_uri": "https://localhost:8080/",
          "height": 337
        },
        "id": "EhpjVedXze74",
        "outputId": "b63d146e-6cc8-4333-8ad7-97c6a699ed0d"
      },
      "execution_count": 95,
      "outputs": [
        {
          "output_type": "execute_result",
          "data": {
            "text/plain": [
              "<matplotlib.axes._subplots.AxesSubplot at 0x7f8f1e5f2550>"
            ]
          },
          "metadata": {},
          "execution_count": 95
        },
        {
          "output_type": "display_data",
          "data": {
            "text/plain": [
              "<Figure size 720x360 with 1 Axes>"
            ],
            "image/png": "[encoded data removed]"
          },
          "metadata": {}
        }
      ]
    },
    {
      "cell_type": "markdown",
      "source": [
        "## Initial Logistic Model, to confirm existince of imbalanced data, our analysis shows that imbalance does exist, so we will continue to analyze this area "
      ],
      "metadata": {
        "id": "qaqA7-bByk7C"
      }
    },
    {
      "cell_type": "code",
      "source": [
        "dummies = pd.get_dummies(no_null_vals[['Collisionmanner', 'Lightcondition', 'Weather',\n",
        "                                       'SurfaceCondition', 'Age_Drv1', 'Age_Drv2',\n",
        "                                       'AlcoholUse_Drv1', 'AlcoholUse_Drv2',\n",
        "                                       'DrugUse_Drv1', 'DrugUse_Drv2']])\n"
      ],
      "metadata": {
        "id": "3H42H28nz5J0"
      },
      "execution_count": 118,
      "outputs": []
    },
    {
      "cell_type": "code",
      "source": [
        "dummies2 = no_null_vals[['Collisionmanner', 'Lightcondition', 'Weather',\n",
        "                                       'SurfaceCondition', 'Age_Drv1', 'Age_Drv2',\n",
        "                                       'AlcoholUse_Drv1', 'AlcoholUse_Drv2',\n",
        "                                       'DrugUse_Drv1', 'DrugUse_Drv2']]"
      ],
      "metadata": {
        "id": "X35MFp_29ZmV"
      },
      "execution_count": 141,
      "outputs": []
    },
    {
      "cell_type": "code",
      "source": [
        "from sklearn.model_selection import train_test_split\n",
        "from sklearn import preprocessing\n",
        "\n",
        "lb = preprocessing.LabelBinarizer()\n",
        "\n",
        "X = dummies\n",
        "y = no_null_vals['Fatal_Non_Fatal']\n",
        "\n",
        "lb.fit(y)\n",
        "\n",
        "y = lb.transform(no_null_vals['Fatal_Non_Fatal'])\n",
        "\n",
        "\n",
        "X_train, X_test, y_train, y_test = train_test_split(X, y, test_size = 0.10)"
      ],
      "metadata": {
        "id": "oFajuX-a03VF"
      },
      "execution_count": 189,
      "outputs": []
    },
    {
      "cell_type": "code",
      "source": [
        "from sklearn.linear_model import LogisticRegression\n",
        "logistic = LogisticRegression(random_state=0, max_iter = 1000).fit(X_train, y_train)"
      ],
      "metadata": {
        "colab": {
          "base_uri": "https://localhost:8080/"
        },
        "id": "mCRwySOG3XRT",
        "outputId": "f7fb059e-ba96-4a8c-9a60-ed7c72edb51c"
      },
      "execution_count": 194,
      "outputs": [
        {
          "output_type": "stream",
          "name": "stderr",
          "text": [
            "/usr/local/lib/python3.7/dist-packages/sklearn/utils/validation.py:993: DataConversionWarning: A column-vector y was passed when a 1d array was expected. Please change the shape of y to (n_samples, ), for example using ravel().\n",
            "  y = column_or_1d(y, warn=True)\n"
          ]
        }
      ]
    },
    {
      "cell_type": "code",
      "source": [
        "from sklearn import metrics\n",
        "y_pred=logistic.predict(X_test)\n",
        "\n",
        "cnf_matrix = metrics.confusion_matrix(y_test, y_pred)\n",
        "cnf_matrix"
      ],
      "metadata": {
        "colab": {
          "base_uri": "https://localhost:8080/"
        },
        "id": "0TG-PnguFrWv",
        "outputId": "1792dd47-3759-4331-dddf-2e5f026a0446"
      },
      "execution_count": 195,
      "outputs": [
        {
          "output_type": "execute_result",
          "data": {
            "text/plain": [
              "array([[3566,    0],\n",
              "       [   7,    0]])"
            ]
          },
          "metadata": {},
          "execution_count": 195
        }
      ]
    },
    {
      "cell_type": "code",
      "source": [
        "#evaluating initial model\n",
        "from sklearn.metrics import ConfusionMatrixDisplay\n",
        "sns.set_style(\"darkgrid\")\n",
        "ConfusionMatrixDisplay.from_estimator(logistic, X_test, y_test)\n",
        "plt.show()"
      ],
      "metadata": {
        "colab": {
          "base_uri": "https://localhost:8080/",
          "height": 279
        },
        "id": "rTPGXEh86aIP",
        "outputId": "90a1bb02-9e42-4643-ddf4-30565256bc65"
      },
      "execution_count": 196,
      "outputs": [
        {
          "output_type": "display_data",
          "data": {
            "text/plain": [
              "<Figure size 432x288 with 2 Axes>"
            ],
            "image/png": "[encoded data removed]"
          },
          "metadata": {}
        }
      ]
    },
    {
      "cell_type": "code",
      "source": [
        "print(\"Accuracy:\",metrics.accuracy_score(y_test, y_pred))\n",
        "print(\"Precision:\",metrics.precision_score(y_test, y_pred))\n",
        "print(\"Recall:\",metrics.recall_score(y_test, y_pred))"
      ],
      "metadata": {
        "colab": {
          "base_uri": "https://localhost:8080/"
        },
        "id": "qxT-U-vBGCBd",
        "outputId": "7b0cdfca-3d39-44ec-a244-d6e9571aa84e"
      },
      "execution_count": 197,
      "outputs": [
        {
          "output_type": "stream",
          "name": "stdout",
          "text": [
            "Accuracy: 0.9980408620207109\n",
            "Precision: 0.0\n",
            "Recall: 0.0\n"
          ]
        },
        {
          "output_type": "stream",
          "name": "stderr",
          "text": [
            "/usr/local/lib/python3.7/dist-packages/sklearn/metrics/_classification.py:1318: UndefinedMetricWarning: Precision is ill-defined and being set to 0.0 due to no predicted samples. Use `zero_division` parameter to control this behavior.\n",
            "  _warn_prf(average, modifier, msg_start, len(result))\n"
          ]
        }
      ]
    },
    {
      "cell_type": "code",
      "source": [
        ""
      ],
      "metadata": {
        "id": "ScmKbiHtHIvv"
      },
      "execution_count": null,
      "outputs": []
    }
  ]
}