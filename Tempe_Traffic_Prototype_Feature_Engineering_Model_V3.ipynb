{
  "nbformat": 4,
  "nbformat_minor": 0,
  "metadata": {
    "colab": {
      "name": "Tempe_Traffic_Prototype_Feature_Engineering_Model_V3.ipynb",
      "provenance": [],
      "collapsed_sections": [
        "hCHYaDreRt-Q",
        "hVItbMEkWyxi",
        "wFig3EFaawKO",
        "6ZtxxfQHja9J",
        "jlgCjfDhtIpn",
        "azs0ihZtPyiK",
        "QxpEJNSaqbun",
        "widCZqb3_C-a",
        "khaRjt0dw6Fo",
        "Cad-IfTA3MjQ",
        "Io_kVwQzObyr"
      ],
      "authorship_tag": "ABX9TyO0w2pPhxp2WD0rUUSAExLq",
      "include_colab_link": true
    },
    "kernelspec": {
      "name": "python3",
      "display_name": "Python 3"
    },
    "language_info": {
      "name": "python"
    }
  },
  "cells": [
    {
      "cell_type": "markdown",
      "metadata": {
        "id": "view-in-github",
        "colab_type": "text"
      },
      "source": [
        "<a href=\"https://colab.research.google.com/github/noahruiz416/Tempe_Traffic_Classification/blob/main/Tempe_Traffic_Prototype_Feature_Engineering_Model_V3.ipynb\" target=\"_parent\"><img src=\"https://colab.research.google.com/assets/colab-badge.svg\" alt=\"Open In Colab\"/></a>"
      ]
    },
    {
      "cell_type": "markdown",
      "source": [
        "#This notebook will contain feature engineering approaches that we will base of the V2 feature engineering notebook. Additionally we will try to engineer additional features from datetime and try to find a final best fit model using catboost "
      ],
      "metadata": {
        "id": "Wq6faJg5QBic"
      }
    },
    {
      "cell_type": "markdown",
      "source": [
        "### installing dependencies and loading libraries"
      ],
      "metadata": {
        "id": "hCHYaDreRt-Q"
      }
    },
    {
      "cell_type": "code",
      "execution_count": 1,
      "metadata": {
        "colab": {
          "base_uri": "https://localhost:8080/"
        },
        "id": "U7t_CbzbP9ki",
        "outputId": "3aa2fc89-c0b0-418c-b5eb-fe48a9561b24"
      },
      "outputs": [
        {
          "output_type": "stream",
          "name": "stdout",
          "text": [
            "Looking in indexes: https://pypi.org/simple, https://us-python.pkg.dev/colab-wheels/public/simple/\n",
            "Collecting category_encoders\n",
            "  Downloading category_encoders-2.5.0-py2.py3-none-any.whl (69 kB)\n",
            "\u001b[K     |████████████████████████████████| 69 kB 1.9 MB/s \n",
            "\u001b[?25hRequirement already satisfied: scikit-learn>=0.20.0 in /usr/local/lib/python3.7/dist-packages (from category_encoders) (1.0.2)\n",
            "Requirement already satisfied: pandas>=1.0.5 in /usr/local/lib/python3.7/dist-packages (from category_encoders) (1.3.5)\n",
            "Requirement already satisfied: statsmodels>=0.9.0 in /usr/local/lib/python3.7/dist-packages (from category_encoders) (0.10.2)\n",
            "Requirement already satisfied: numpy>=1.14.0 in /usr/local/lib/python3.7/dist-packages (from category_encoders) (1.21.6)\n",
            "Requirement already satisfied: scipy>=1.0.0 in /usr/local/lib/python3.7/dist-packages (from category_encoders) (1.7.3)\n",
            "Requirement already satisfied: patsy>=0.5.1 in /usr/local/lib/python3.7/dist-packages (from category_encoders) (0.5.2)\n",
            "Requirement already satisfied: python-dateutil>=2.7.3 in /usr/local/lib/python3.7/dist-packages (from pandas>=1.0.5->category_encoders) (2.8.2)\n",
            "Requirement already satisfied: pytz>=2017.3 in /usr/local/lib/python3.7/dist-packages (from pandas>=1.0.5->category_encoders) (2022.1)\n",
            "Requirement already satisfied: six in /usr/local/lib/python3.7/dist-packages (from patsy>=0.5.1->category_encoders) (1.15.0)\n",
            "Requirement already satisfied: joblib>=0.11 in /usr/local/lib/python3.7/dist-packages (from scikit-learn>=0.20.0->category_encoders) (1.1.0)\n",
            "Requirement already satisfied: threadpoolctl>=2.0.0 in /usr/local/lib/python3.7/dist-packages (from scikit-learn>=0.20.0->category_encoders) (3.1.0)\n",
            "Installing collected packages: category-encoders\n",
            "Successfully installed category-encoders-2.5.0\n",
            "Looking in indexes: https://pypi.org/simple, https://us-python.pkg.dev/colab-wheels/public/simple/\n",
            "Collecting catboost\n",
            "  Downloading catboost-1.0.6-cp37-none-manylinux1_x86_64.whl (76.6 MB)\n",
            "\u001b[K     |████████████████████████████████| 76.6 MB 74 kB/s \n",
            "\u001b[?25hRequirement already satisfied: scipy in /usr/local/lib/python3.7/dist-packages (from catboost) (1.7.3)\n",
            "Requirement already satisfied: plotly in /usr/local/lib/python3.7/dist-packages (from catboost) (5.5.0)\n",
            "Requirement already satisfied: numpy>=1.16.0 in /usr/local/lib/python3.7/dist-packages (from catboost) (1.21.6)\n",
            "Requirement already satisfied: six in /usr/local/lib/python3.7/dist-packages (from catboost) (1.15.0)\n",
            "Requirement already satisfied: matplotlib in /usr/local/lib/python3.7/dist-packages (from catboost) (3.2.2)\n",
            "Requirement already satisfied: pandas>=0.24.0 in /usr/local/lib/python3.7/dist-packages (from catboost) (1.3.5)\n",
            "Requirement already satisfied: graphviz in /usr/local/lib/python3.7/dist-packages (from catboost) (0.10.1)\n",
            "Requirement already satisfied: pytz>=2017.3 in /usr/local/lib/python3.7/dist-packages (from pandas>=0.24.0->catboost) (2022.1)\n",
            "Requirement already satisfied: python-dateutil>=2.7.3 in /usr/local/lib/python3.7/dist-packages (from pandas>=0.24.0->catboost) (2.8.2)\n",
            "Requirement already satisfied: pyparsing!=2.0.4,!=2.1.2,!=2.1.6,>=2.0.1 in /usr/local/lib/python3.7/dist-packages (from matplotlib->catboost) (3.0.9)\n",
            "Requirement already satisfied: cycler>=0.10 in /usr/local/lib/python3.7/dist-packages (from matplotlib->catboost) (0.11.0)\n",
            "Requirement already satisfied: kiwisolver>=1.0.1 in /usr/local/lib/python3.7/dist-packages (from matplotlib->catboost) (1.4.4)\n",
            "Requirement already satisfied: typing-extensions in /usr/local/lib/python3.7/dist-packages (from kiwisolver>=1.0.1->matplotlib->catboost) (4.1.1)\n",
            "Requirement already satisfied: tenacity>=6.2.0 in /usr/local/lib/python3.7/dist-packages (from plotly->catboost) (8.0.1)\n",
            "Installing collected packages: catboost\n",
            "Successfully installed catboost-1.0.6\n",
            "Looking in indexes: https://pypi.org/simple, https://us-python.pkg.dev/colab-wheels/public/simple/\n",
            "Requirement already satisfied: imblearn in /usr/local/lib/python3.7/dist-packages (0.0)\n",
            "Requirement already satisfied: imbalanced-learn in /usr/local/lib/python3.7/dist-packages (from imblearn) (0.8.1)\n",
            "Requirement already satisfied: scikit-learn>=0.24 in /usr/local/lib/python3.7/dist-packages (from imbalanced-learn->imblearn) (1.0.2)\n",
            "Requirement already satisfied: numpy>=1.13.3 in /usr/local/lib/python3.7/dist-packages (from imbalanced-learn->imblearn) (1.21.6)\n",
            "Requirement already satisfied: scipy>=0.19.1 in /usr/local/lib/python3.7/dist-packages (from imbalanced-learn->imblearn) (1.7.3)\n",
            "Requirement already satisfied: joblib>=0.11 in /usr/local/lib/python3.7/dist-packages (from imbalanced-learn->imblearn) (1.1.0)\n",
            "Requirement already satisfied: threadpoolctl>=2.0.0 in /usr/local/lib/python3.7/dist-packages (from scikit-learn>=0.24->imbalanced-learn->imblearn) (3.1.0)\n"
          ]
        }
      ],
      "source": [
        "!pip install category_encoders\n",
        "!pip install catboost \n",
        "!pip install imblearn\n",
        "\n",
        "#data loading \n",
        "import pandas as pd\n",
        "import numpy as np \n",
        "\n",
        "#viz tools\n",
        "import matplotlib.pyplot as plt\n",
        "from matplotlib.pyplot import figure\n",
        "\n",
        "#ml data preprocessing\n",
        "from sklearn.model_selection import train_test_split\n",
        "from sklearn.pipeline import Pipeline\n",
        "\n",
        "#evaluation metric libraries\n",
        "from sklearn.metrics import precision_score\n",
        "from sklearn.metrics import recall_score\n",
        "from sklearn.metrics import accuracy_score\n",
        "from sklearn.metrics import f1_score\n",
        "from sklearn.metrics import RocCurveDisplay\n",
        "from sklearn.metrics import ConfusionMatrixDisplay\n",
        "\n",
        "#over and undersampling\n",
        "from imblearn.over_sampling import SMOTENC\n",
        "from imblearn.under_sampling import RandomUnderSampler\n",
        "\n",
        "#catboost classification model \n",
        "from catboost import CatBoostClassifier"
      ]
    },
    {
      "cell_type": "markdown",
      "source": [
        "### function to clean loaded data and engineer new features"
      ],
      "metadata": {
        "id": "nq28Pl_qRzna"
      }
    },
    {
      "cell_type": "code",
      "source": [
        "#function to binary encode accidents as fatal or nonfatal\n",
        "def encode_fatal_accidents(data):\n",
        "  Severity = []\n",
        "  for row in data['Injuryseverity']:\n",
        "    if row != \"Fatal\":\n",
        "      Severity.append(0) #nonfatal\n",
        "    if row == \"Fatal\":\n",
        "      Severity.append(1) #fatal\n",
        "  data['Fatal_Non_Fatal'] = Severity\n",
        "\n",
        "#drops columns that will not be used\n",
        "def drop_useless_cols(data):\n",
        "  return_data = data.drop(labels = ['X', 'Y',\n",
        "                      'Incidentid', 'Year',\n",
        "                       'Latitude', 'Longitude', 'Totalinjuries',\n",
        "                       'Totalfatalities', 'Injuryseverity', 'Distance', 'OBJECTID', 'Age_Drv1', 'Age_Drv2', 'Gender_Drv1', 'Gender_Drv2'], axis = 1)\n",
        "  return return_data\n"
      ],
      "metadata": {
        "id": "InxaIm-ER6bG"
      },
      "execution_count": 469,
      "outputs": []
    },
    {
      "cell_type": "code",
      "source": [
        "#helper function that contains the logic for whether or not drugs were involved in an accident\n",
        "def label_drugs(row):\n",
        "  if row['DrugUse_Drv1'] == \"Drugs\" or row['DrugUse_Drv2'] == \"Drugs\":\n",
        "    return 1 #drugs are involved\n",
        "  if row['DrugUse_Drv1'] != \"Drugs\" or row['DrugUse_Drv2'] != \"Drugs\":\n",
        "    return 0 #drugs are not involved\n",
        "\n",
        "#helper function that contains the logic for whether or not alch was involved in an accident\n",
        "def label_alchol(row):\n",
        "  if row['AlcoholUse_Drv1'] == \"Alcohol\" or row['AlcoholUse_Drv2'] == \"Alcohol\":\n",
        "    return 1 #drugs are involved\n",
        "  if row['AlcoholUse_Drv1'] != \"Alcohol\" or row['AlcoholUse_Drv2'] != \"Alcohol\":\n",
        "    return 0 #drugs are not involved\n",
        "\n",
        "#function to call helper functions and implement drugs / alch invovled logic\n",
        "def apply_drug_alchol_label(input_data):\n",
        "  data1 = input_data['drugs_involved'] = input_data.apply (lambda row: label_drugs(row), axis=1)\n",
        "  data1 = input_data['alcohol_involved'] = input_data.apply (lambda row: label_alchol(row), axis=1)\n",
        "  "
      ],
      "metadata": {
        "id": "WJP5b1hLSU9Q"
      },
      "execution_count": 470,
      "outputs": []
    },
    {
      "cell_type": "code",
      "source": [
        "#helper function to label whther or not a car was involed in an accident\n",
        "def label_car(row):\n",
        "  if row['Unittype_One'] == \"Driver\" or row['Unittype_Two'] == \"Driver\":\n",
        "    return 1 #car was involved\n",
        "  if row['Unittype_One'] != \"Driver\" or row['Unittype_Two'] != \"Driver\":\n",
        "    return 0 #car was not involved\n",
        "\n",
        "def label_cyclist(row):\n",
        "  if row['Unittype_One'] == \"Pedalcyclist\" or row['Unittype_Two'] == \"Pedalcyclist\":\n",
        "    return 1 #bike was involved\n",
        "  if row['Unittype_One'] != \"Pedalcyclist\" or row['Unittype_Two'] != \"Pedalcyclist\":\n",
        "    return 0 #bike was not involved\n",
        "\n",
        "def label_pedestrian(row):\n",
        "  if row['Unittype_One'] == \"Pedestrian\" or row['Unittype_Two'] == \"Pedestrian\":\n",
        "    return 1 #Pedestrian was involved\n",
        "  if row['Unittype_One'] != \"Pedestrian\" or row['Unittype_Two'] != \"Pedestrian\":\n",
        "    return 0 #Pedestrian was not involved\n",
        "\n",
        "def label_driverless(row):\n",
        "  if row['Unittype_One'] == \"Driverless\" or row['Unittype_Two'] == \"Driverless\":\n",
        "    return 1 #no driver was involved\n",
        "  if row['Unittype_One'] != \"Driverless\" or row['Unittype_Two'] != \"Driverless\":\n",
        "    return 0 #no driver was involed\n",
        "\n",
        "#applying the above functions in one nice format \n",
        "def apply_unit_type_labels(input_data):\n",
        "  data1 = input_data['Car_Involved'] = input_data.apply (lambda row: label_car(row), axis=1)\n",
        "  data1 = input_data['Pedalcyclist_Involved'] = input_data.apply (lambda row: label_cyclist(row), axis=1)\n",
        "  data1 = input_data['Pedestrian_Involved'] = input_data.apply (lambda row: label_pedestrian(row), axis=1)\n",
        "  data1 = input_data['Driverless'] = input_data.apply (lambda row: label_driverless(row), axis=1)"
      ],
      "metadata": {
        "id": "09HZMtG9P0HD"
      },
      "execution_count": 596,
      "outputs": []
    },
    {
      "cell_type": "code",
      "source": [
        "#this function drops bad columns in light conditions, violations and collisionmanner\n",
        "def drop_useless_rows(input_data):\n",
        "  data1 = input_data[input_data['Lightcondition'].str.contains(\"51\")==False]\n",
        "  data2 = data1[data1['Lightcondition'].str.contains(\"Unknown 51\")==False]\n",
        "  data3 = data2[data2['Violation1_Drv1'].str.contains(\"108\")==False]\n",
        "  data4 = data3[data3['Violation1_Drv1'].str.contains(\"109\")==False]\n",
        "  data5 = data4[data4['Violation1_Drv1'].str.contains(\"49\")==False]\n",
        "  data6 = data5[data5['Collisionmanner'].str.contains(\"10\")==False]\n",
        "  return data6"
      ],
      "metadata": {
        "id": "Cb5mlCD8Sc9z"
      },
      "execution_count": 471,
      "outputs": []
    },
    {
      "cell_type": "code",
      "source": [
        "#this function removes outlier driving ages in the data_set and then calculates the median age between the two drivers and creates a new column\n",
        "def age_manipulation(input_data):\n",
        "  data = input_data.drop(input_data.index[input_data['Age_Drv1'] >= 100], inplace=False)\n",
        "  data1 = data.drop(data.index[data['Age_Drv2'] >= 100], inplace=False)\n",
        "  data1['median_age'] = (data1['Age_Drv1'] + data1['Age_Drv2']) / 2\n",
        "  return data1\n"
      ],
      "metadata": {
        "id": "nK0OXH-5SjVx"
      },
      "execution_count": 472,
      "outputs": []
    },
    {
      "cell_type": "code",
      "source": [
        "#function to call all the cleaning methods at once\n",
        "def clean_dataset(input_data):\n",
        "  input_data_rows_dropped = drop_useless_rows(input_data)\n",
        "  age_manipulated_data = age_manipulation(input_data_rows_dropped)\n",
        "  return age_manipulated_data"
      ],
      "metadata": {
        "id": "708ULQ3ySk85"
      },
      "execution_count": 473,
      "outputs": []
    },
    {
      "cell_type": "code",
      "source": [
        "#drops additional columns, use after calling the age manipulation function\n",
        "def drop_more_cols(data):\n",
        "  return_data = data.drop(labels = ['AlcoholUse_Drv1', 'AlcoholUse_Drv2', 'DrugUse_Drv1', 'DrugUse_Drv2'], axis = 1)\n",
        "  return return_data"
      ],
      "metadata": {
        "id": "64K5rY3LSo3S"
      },
      "execution_count": 474,
      "outputs": []
    },
    {
      "cell_type": "code",
      "source": [
        "#converts datetime column into a categorical variable for catboost\n",
        "def time(x):\n",
        "    x=pd.to_datetime(x,format='%Y-%m-%d %H:%M:%S')\n",
        "    if pd.to_datetime('03:00:00') < x <= pd.to_datetime('11:00:00'):\n",
        "        return 'Early'\n",
        "    elif pd.to_datetime('11:00:00') < x <= pd.to_datetime('17:00:00'):\n",
        "        return 'Mid-day'\n",
        "    return 'Late'"
      ],
      "metadata": {
        "id": "43FLZnsaSvyy"
      },
      "execution_count": 475,
      "outputs": []
    },
    {
      "cell_type": "code",
      "source": [
        "#function to use as a metric scorer\n",
        "def metric_scoring(classifier, x_test_data, y_test_data):\n",
        "  y_true = y_test_data\n",
        "  y_pred = classifier.predict(x_test_data)\n",
        "  precision = precision_score(y_true, y_pred)\n",
        "  recall = recall_score(y_true, y_pred)\n",
        "  accuracy = accuracy_score(y_true, y_pred)\n",
        "  f1 = f1_score(y_true, y_pred)\n",
        "\n",
        "  metric_data = {\n",
        "      'Precision' : precision,\n",
        "      'Recall' : recall,\n",
        "      'Accuracy': accuracy,\n",
        "      'F1 Score': f1\n",
        "  }\n",
        "  return metric_data"
      ],
      "metadata": {
        "id": "X7BxZKtLSwWA"
      },
      "execution_count": 476,
      "outputs": []
    },
    {
      "cell_type": "markdown",
      "source": [
        "### Cleaning our Initial Dataframe. This section takes in a 'dirty' dataframe and outputs an input dataframe as predictors and labels as our target."
      ],
      "metadata": {
        "id": "LC159Z01S6OV"
      }
    },
    {
      "cell_type": "code",
      "source": [
        "#enables nice plots\n",
        "from google.colab import output\n",
        "output.enable_custom_widget_manager()"
      ],
      "metadata": {
        "id": "fQp32N4oitJR"
      },
      "execution_count": 703,
      "outputs": []
    },
    {
      "cell_type": "code",
      "source": [
        "df = pd.read_csv(\"traffic_data.2.csv\")"
      ],
      "metadata": {
        "id": "QRQG0oaYTBfT"
      },
      "execution_count": 704,
      "outputs": []
    },
    {
      "cell_type": "code",
      "source": [
        "#the encode function simply creates our binary labels for fatal or non fatal accidents\n",
        "encode_fatal_accidents(df)\n",
        "\n",
        "#setting our clean dataset equal to our cleaned and encoded dataframe\n",
        "clean_dat = clean_dataset(df)\n",
        "\n",
        "#dropping useless cols within the clean dataset\n",
        "clean_dat2_all = drop_useless_cols(clean_dat)\n",
        "\n",
        "#applying drug and alchol labels\n",
        "apply_unit_type_labels(clean_dat2_all)\n",
        "apply_drug_alchol_label(clean_dat2_all)\n",
        "\n",
        "#dropping more cols\n",
        "clean_dat2_all = drop_more_cols(clean_dat2_all)"
      ],
      "metadata": {
        "id": "_OK6xaXJTl41"
      },
      "execution_count": 705,
      "outputs": []
    },
    {
      "cell_type": "code",
      "source": [
        "clean_dat2_all['DateTime'] = pd.to_datetime(clean_dat2_all['DateTime'], infer_datetime_format=True)"
      ],
      "metadata": {
        "id": "d1ttMP20UhyX"
      },
      "execution_count": 706,
      "outputs": []
    },
    {
      "cell_type": "code",
      "source": [
        "bins = ['00:00:00', '03:00:00', '11:00:00', '17:00:00', '23:59:59']\n",
        "labels = ['Late', 'Early', 'Mid-Day', 'Late']\n",
        "\n",
        "# convert to timedelta\n",
        "s = pd.to_timedelta(pd.to_datetime(df['DateTime']).dt.time.astype(str))\n",
        "clean_dat2_all['time_feature'] = pd.cut(s, bins=pd.to_timedelta(bins), labels=labels, ordered=False)"
      ],
      "metadata": {
        "id": "W-QUC95zVheA"
      },
      "execution_count": 707,
      "outputs": []
    },
    {
      "cell_type": "code",
      "source": [
        "# define bins and labels for time analysis \n",
        "bins = ['00:00:00', '01:00:00' ,'06:00:00', '11:00:00', '17:00:00', '23:00:00', '23:59:59']\n",
        "labels = ['Night', 'Early Morning','Morning', 'Noon', 'Evening','Night']\n",
        "\n",
        "# convert to timedelta\n",
        "s = pd.to_timedelta(pd.to_datetime(clean_dat2_all['DateTime']).dt.time.astype(str))\n",
        "clean_dat2_all['time_analysis'] = pd.cut(s, bins=pd.to_timedelta(bins), labels=labels, ordered=False)\n",
        "clean_dat2_all.dropna()"
      ],
      "metadata": {
        "colab": {
          "base_uri": "https://localhost:8080/",
          "height": 823
        },
        "id": "0N4qRQb6g8jO",
        "outputId": "85a5f993-e888-40f3-c1cd-d26a5baafdb3"
      },
      "execution_count": 708,
      "outputs": [
        {
          "output_type": "execute_result",
          "data": {
            "text/plain": [
              "                 DateTime     StreetName                    CrossStreet  \\\n",
              "1     2012-01-10 14:55:00  Mcclintock Dr  State Route 202 Exit 8 A-Ramp   \n",
              "2     2012-01-10 15:43:00      Priest Dr                      Darrow Dr   \n",
              "3     2012-01-10 16:04:00    Baseline Rd                       Price Rd   \n",
              "5     2012-01-10 18:45:00    Broadway Rd                      Dorsey Ln   \n",
              "6     2012-01-10 20:04:00      Priest Dr                         3rd St   \n",
              "...                   ...            ...                            ...   \n",
              "39910 2020-12-31 05:08:00  University Dr                       Perry Ln   \n",
              "39911 2020-12-31 14:22:00       Rural Rd                      Elliot Rd   \n",
              "39912 2020-12-31 17:13:00    Broadway Rd                        55th St   \n",
              "39914 2020-12-31 18:13:00       Rural Rd                   Lakeshore Dr   \n",
              "39916 2021-01-01 04:18:00       Rural Rd                Rio Salado Pkwy   \n",
              "\n",
              "                           JunctionRelation  \\\n",
              "1      Intersection Related Non Interchange   \n",
              "2                      Not Junction Related   \n",
              "3          Intersection Related Interchange   \n",
              "5                      Not Junction Related   \n",
              "6              Intersection Non Interchange   \n",
              "...                                     ...   \n",
              "39910                     Driveway Or Alley   \n",
              "39911                Intersection 4 Way 202   \n",
              "39912                Intersection 4 Way 202   \n",
              "39914                     Driveway Or Alley   \n",
              "39916                  Not Junction Related   \n",
              "\n",
              "                                   Collisionmanner Lightcondition Weather  \\\n",
              "1                                         Rear End       Daylight   Clear   \n",
              "2                         Sideswipe Same Direction       Daylight   Clear   \n",
              "3                                         Rear End       Daylight   Clear   \n",
              "5      ANGLE (Front To Side)(Other Than Left Turn)       Daylight   Clear   \n",
              "6      ANGLE (Front To Side)(Other Than Left Turn)       Daylight   Clear   \n",
              "...                                            ...            ...     ...   \n",
              "39910                                     Rear End   Dark Lighted   Clear   \n",
              "39911               Angle - Other Than Left Turn 2       Daylight   Clear   \n",
              "39912                                    Left Turn       Daylight  Cloudy   \n",
              "39914                                       U Turn       Daylight  Cloudy   \n",
              "39916                                     Rear End   Dark Lighted   Clear   \n",
              "\n",
              "      SurfaceCondition Unittype_One Traveldirection_One  ... Fatal_Non_Fatal  \\\n",
              "1                  Dry       Driver               North  ...               0   \n",
              "2                  Dry       Driver               South  ...               0   \n",
              "3                  Dry       Driver                East  ...               0   \n",
              "5                  Dry       Driver           Northwest  ...               0   \n",
              "6                  Dry       Driver           Northeast  ...               0   \n",
              "...                ...          ...                 ...  ...             ...   \n",
              "39910              Dry       Driver                East  ...               0   \n",
              "39911              Dry       Driver                West  ...               0   \n",
              "39912              Dry       Driver                West  ...               0   \n",
              "39914              Dry       Driver               North  ...               0   \n",
              "39916              Dry       Driver               North  ...               0   \n",
              "\n",
              "      median_age Car_Involved Pedalcyclist_Involved Pedestrian_Involved  \\\n",
              "1           23.5            1                     0                   0   \n",
              "2           37.5            1                     0                   0   \n",
              "3           52.5            1                     0                   0   \n",
              "5           52.0            1                     0                   0   \n",
              "6           29.5            1                     0                   0   \n",
              "...          ...          ...                   ...                 ...   \n",
              "39910       23.0            1                     0                   0   \n",
              "39911       50.5            1                     0                   0   \n",
              "39912       44.0            1                     0                   0   \n",
              "39914       41.5            1                     0                   0   \n",
              "39916       49.5            1                     0                   0   \n",
              "\n",
              "      Driverless  drugs_involved  alcohol_involved  time_feature  \\\n",
              "1              0               0                 0       Mid-Day   \n",
              "2              0               0                 0       Mid-Day   \n",
              "3              0               0                 0       Mid-Day   \n",
              "5              0               0                 0          Late   \n",
              "6              0               0                 0          Late   \n",
              "...          ...             ...               ...           ...   \n",
              "39910          0               0                 0         Early   \n",
              "39911          0               0                 0       Mid-Day   \n",
              "39912          0               0                 0          Late   \n",
              "39914          0               0                 0          Late   \n",
              "39916          0               0                 0         Early   \n",
              "\n",
              "       time_analysis  \n",
              "1               Noon  \n",
              "2               Noon  \n",
              "3               Noon  \n",
              "5            Evening  \n",
              "6            Evening  \n",
              "...              ...  \n",
              "39910  Early Morning  \n",
              "39911           Noon  \n",
              "39912        Evening  \n",
              "39914        Evening  \n",
              "39916  Early Morning  \n",
              "\n",
              "[32340 rows x 26 columns]"
            ],
            "text/html": [
              "\n",
              "  <div id=\"df-085c7610-0fff-4910-bedf-b5c2055d4770\">\n",
              "    <div class=\"colab-df-container\">\n",
              "      <div>\n",
              "<style scoped>\n",
              "    .dataframe tbody tr th:only-of-type {\n",
              "        vertical-align: middle;\n",
              "    }\n",
              "\n",
              "    .dataframe tbody tr th {\n",
              "        vertical-align: top;\n",
              "    }\n",
              "\n",
              "    .dataframe thead th {\n",
              "        text-align: right;\n",
              "    }\n",
              "</style>\n",
              "<table border=\"1\" class=\"dataframe\">\n",
              "  <thead>\n",
              "    <tr style=\"text-align: right;\">\n",
              "      <th></th>\n",
              "      <th>DateTime</th>\n",
              "      <th>StreetName</th>\n",
              "      <th>CrossStreet</th>\n",
              "      <th>JunctionRelation</th>\n",
              "      <th>Collisionmanner</th>\n",
              "      <th>Lightcondition</th>\n",
              "      <th>Weather</th>\n",
              "      <th>SurfaceCondition</th>\n",
              "      <th>Unittype_One</th>\n",
              "      <th>Traveldirection_One</th>\n",
              "      <th>...</th>\n",
              "      <th>Fatal_Non_Fatal</th>\n",
              "      <th>median_age</th>\n",
              "      <th>Car_Involved</th>\n",
              "      <th>Pedalcyclist_Involved</th>\n",
              "      <th>Pedestrian_Involved</th>\n",
              "      <th>Driverless</th>\n",
              "      <th>drugs_involved</th>\n",
              "      <th>alcohol_involved</th>\n",
              "      <th>time_feature</th>\n",
              "      <th>time_analysis</th>\n",
              "    </tr>\n",
              "  </thead>\n",
              "  <tbody>\n",
              "    <tr>\n",
              "      <th>1</th>\n",
              "      <td>2012-01-10 14:55:00</td>\n",
              "      <td>Mcclintock Dr</td>\n",
              "      <td>State Route 202 Exit 8 A-Ramp</td>\n",
              "      <td>Intersection Related Non Interchange</td>\n",
              "      <td>Rear End</td>\n",
              "      <td>Daylight</td>\n",
              "      <td>Clear</td>\n",
              "      <td>Dry</td>\n",
              "      <td>Driver</td>\n",
              "      <td>North</td>\n",
              "      <td>...</td>\n",
              "      <td>0</td>\n",
              "      <td>23.5</td>\n",
              "      <td>1</td>\n",
              "      <td>0</td>\n",
              "      <td>0</td>\n",
              "      <td>0</td>\n",
              "      <td>0</td>\n",
              "      <td>0</td>\n",
              "      <td>Mid-Day</td>\n",
              "      <td>Noon</td>\n",
              "    </tr>\n",
              "    <tr>\n",
              "      <th>2</th>\n",
              "      <td>2012-01-10 15:43:00</td>\n",
              "      <td>Priest Dr</td>\n",
              "      <td>Darrow Dr</td>\n",
              "      <td>Not Junction Related</td>\n",
              "      <td>Sideswipe Same Direction</td>\n",
              "      <td>Daylight</td>\n",
              "      <td>Clear</td>\n",
              "      <td>Dry</td>\n",
              "      <td>Driver</td>\n",
              "      <td>South</td>\n",
              "      <td>...</td>\n",
              "      <td>0</td>\n",
              "      <td>37.5</td>\n",
              "      <td>1</td>\n",
              "      <td>0</td>\n",
              "      <td>0</td>\n",
              "      <td>0</td>\n",
              "      <td>0</td>\n",
              "      <td>0</td>\n",
              "      <td>Mid-Day</td>\n",
              "      <td>Noon</td>\n",
              "    </tr>\n",
              "    <tr>\n",
              "      <th>3</th>\n",
              "      <td>2012-01-10 16:04:00</td>\n",
              "      <td>Baseline Rd</td>\n",
              "      <td>Price Rd</td>\n",
              "      <td>Intersection Related Interchange</td>\n",
              "      <td>Rear End</td>\n",
              "      <td>Daylight</td>\n",
              "      <td>Clear</td>\n",
              "      <td>Dry</td>\n",
              "      <td>Driver</td>\n",
              "      <td>East</td>\n",
              "      <td>...</td>\n",
              "      <td>0</td>\n",
              "      <td>52.5</td>\n",
              "      <td>1</td>\n",
              "      <td>0</td>\n",
              "      <td>0</td>\n",
              "      <td>0</td>\n",
              "      <td>0</td>\n",
              "      <td>0</td>\n",
              "      <td>Mid-Day</td>\n",
              "      <td>Noon</td>\n",
              "    </tr>\n",
              "    <tr>\n",
              "      <th>5</th>\n",
              "      <td>2012-01-10 18:45:00</td>\n",
              "      <td>Broadway Rd</td>\n",
              "      <td>Dorsey Ln</td>\n",
              "      <td>Not Junction Related</td>\n",
              "      <td>ANGLE (Front To Side)(Other Than Left Turn)</td>\n",
              "      <td>Daylight</td>\n",
              "      <td>Clear</td>\n",
              "      <td>Dry</td>\n",
              "      <td>Driver</td>\n",
              "      <td>Northwest</td>\n",
              "      <td>...</td>\n",
              "      <td>0</td>\n",
              "      <td>52.0</td>\n",
              "      <td>1</td>\n",
              "      <td>0</td>\n",
              "      <td>0</td>\n",
              "      <td>0</td>\n",
              "      <td>0</td>\n",
              "      <td>0</td>\n",
              "      <td>Late</td>\n",
              "      <td>Evening</td>\n",
              "    </tr>\n",
              "    <tr>\n",
              "      <th>6</th>\n",
              "      <td>2012-01-10 20:04:00</td>\n",
              "      <td>Priest Dr</td>\n",
              "      <td>3rd St</td>\n",
              "      <td>Intersection Non Interchange</td>\n",
              "      <td>ANGLE (Front To Side)(Other Than Left Turn)</td>\n",
              "      <td>Daylight</td>\n",
              "      <td>Clear</td>\n",
              "      <td>Dry</td>\n",
              "      <td>Driver</td>\n",
              "      <td>Northeast</td>\n",
              "      <td>...</td>\n",
              "      <td>0</td>\n",
              "      <td>29.5</td>\n",
              "      <td>1</td>\n",
              "      <td>0</td>\n",
              "      <td>0</td>\n",
              "      <td>0</td>\n",
              "      <td>0</td>\n",
              "      <td>0</td>\n",
              "      <td>Late</td>\n",
              "      <td>Evening</td>\n",
              "    </tr>\n",
              "    <tr>\n",
              "      <th>...</th>\n",
              "      <td>...</td>\n",
              "      <td>...</td>\n",
              "      <td>...</td>\n",
              "      <td>...</td>\n",
              "      <td>...</td>\n",
              "      <td>...</td>\n",
              "      <td>...</td>\n",
              "      <td>...</td>\n",
              "      <td>...</td>\n",
              "      <td>...</td>\n",
              "      <td>...</td>\n",
              "      <td>...</td>\n",
              "      <td>...</td>\n",
              "      <td>...</td>\n",
              "      <td>...</td>\n",
              "      <td>...</td>\n",
              "      <td>...</td>\n",
              "      <td>...</td>\n",
              "      <td>...</td>\n",
              "      <td>...</td>\n",
              "      <td>...</td>\n",
              "    </tr>\n",
              "    <tr>\n",
              "      <th>39910</th>\n",
              "      <td>2020-12-31 05:08:00</td>\n",
              "      <td>University Dr</td>\n",
              "      <td>Perry Ln</td>\n",
              "      <td>Driveway Or Alley</td>\n",
              "      <td>Rear End</td>\n",
              "      <td>Dark Lighted</td>\n",
              "      <td>Clear</td>\n",
              "      <td>Dry</td>\n",
              "      <td>Driver</td>\n",
              "      <td>East</td>\n",
              "      <td>...</td>\n",
              "      <td>0</td>\n",
              "      <td>23.0</td>\n",
              "      <td>1</td>\n",
              "      <td>0</td>\n",
              "      <td>0</td>\n",
              "      <td>0</td>\n",
              "      <td>0</td>\n",
              "      <td>0</td>\n",
              "      <td>Early</td>\n",
              "      <td>Early Morning</td>\n",
              "    </tr>\n",
              "    <tr>\n",
              "      <th>39911</th>\n",
              "      <td>2020-12-31 14:22:00</td>\n",
              "      <td>Rural Rd</td>\n",
              "      <td>Elliot Rd</td>\n",
              "      <td>Intersection 4 Way 202</td>\n",
              "      <td>Angle - Other Than Left Turn 2</td>\n",
              "      <td>Daylight</td>\n",
              "      <td>Clear</td>\n",
              "      <td>Dry</td>\n",
              "      <td>Driver</td>\n",
              "      <td>West</td>\n",
              "      <td>...</td>\n",
              "      <td>0</td>\n",
              "      <td>50.5</td>\n",
              "      <td>1</td>\n",
              "      <td>0</td>\n",
              "      <td>0</td>\n",
              "      <td>0</td>\n",
              "      <td>0</td>\n",
              "      <td>0</td>\n",
              "      <td>Mid-Day</td>\n",
              "      <td>Noon</td>\n",
              "    </tr>\n",
              "    <tr>\n",
              "      <th>39912</th>\n",
              "      <td>2020-12-31 17:13:00</td>\n",
              "      <td>Broadway Rd</td>\n",
              "      <td>55th St</td>\n",
              "      <td>Intersection 4 Way 202</td>\n",
              "      <td>Left Turn</td>\n",
              "      <td>Daylight</td>\n",
              "      <td>Cloudy</td>\n",
              "      <td>Dry</td>\n",
              "      <td>Driver</td>\n",
              "      <td>West</td>\n",
              "      <td>...</td>\n",
              "      <td>0</td>\n",
              "      <td>44.0</td>\n",
              "      <td>1</td>\n",
              "      <td>0</td>\n",
              "      <td>0</td>\n",
              "      <td>0</td>\n",
              "      <td>0</td>\n",
              "      <td>0</td>\n",
              "      <td>Late</td>\n",
              "      <td>Evening</td>\n",
              "    </tr>\n",
              "    <tr>\n",
              "      <th>39914</th>\n",
              "      <td>2020-12-31 18:13:00</td>\n",
              "      <td>Rural Rd</td>\n",
              "      <td>Lakeshore Dr</td>\n",
              "      <td>Driveway Or Alley</td>\n",
              "      <td>U Turn</td>\n",
              "      <td>Daylight</td>\n",
              "      <td>Cloudy</td>\n",
              "      <td>Dry</td>\n",
              "      <td>Driver</td>\n",
              "      <td>North</td>\n",
              "      <td>...</td>\n",
              "      <td>0</td>\n",
              "      <td>41.5</td>\n",
              "      <td>1</td>\n",
              "      <td>0</td>\n",
              "      <td>0</td>\n",
              "      <td>0</td>\n",
              "      <td>0</td>\n",
              "      <td>0</td>\n",
              "      <td>Late</td>\n",
              "      <td>Evening</td>\n",
              "    </tr>\n",
              "    <tr>\n",
              "      <th>39916</th>\n",
              "      <td>2021-01-01 04:18:00</td>\n",
              "      <td>Rural Rd</td>\n",
              "      <td>Rio Salado Pkwy</td>\n",
              "      <td>Not Junction Related</td>\n",
              "      <td>Rear End</td>\n",
              "      <td>Dark Lighted</td>\n",
              "      <td>Clear</td>\n",
              "      <td>Dry</td>\n",
              "      <td>Driver</td>\n",
              "      <td>North</td>\n",
              "      <td>...</td>\n",
              "      <td>0</td>\n",
              "      <td>49.5</td>\n",
              "      <td>1</td>\n",
              "      <td>0</td>\n",
              "      <td>0</td>\n",
              "      <td>0</td>\n",
              "      <td>0</td>\n",
              "      <td>0</td>\n",
              "      <td>Early</td>\n",
              "      <td>Early Morning</td>\n",
              "    </tr>\n",
              "  </tbody>\n",
              "</table>\n",
              "<p>32340 rows × 26 columns</p>\n",
              "</div>\n",
              "      <button class=\"colab-df-convert\" onclick=\"convertToInteractive('df-085c7610-0fff-4910-bedf-b5c2055d4770')\"\n",
              "              title=\"Convert this dataframe to an interactive table.\"\n",
              "              style=\"display:none;\">\n",
              "        \n",
              "  <svg xmlns=\"http://www.w3.org/2000/svg\" height=\"24px\"viewBox=\"0 0 24 24\"\n",
              "       width=\"24px\">\n",
              "    <path d=\"M0 0h24v24H0V0z\" fill=\"none\"/>\n",
              "    <path d=\"M18.56 5.44l.94 2.06.94-2.06 2.06-.94-2.06-.94-.94-2.06-.94 2.06-2.06.94zm-11 1L8.5 8.5l.94-2.06 2.06-.94-2.06-.94L8.5 2.5l-.94 2.06-2.06.94zm10 10l.94 2.06.94-2.06 2.06-.94-2.06-.94-.94-2.06-.94 2.06-2.06.94z\"/><path d=\"M17.41 7.96l-1.37-1.37c-.4-.4-.92-.59-1.43-.59-.52 0-1.04.2-1.43.59L10.3 9.45l-7.72 7.72c-.78.78-.78 2.05 0 2.83L4 21.41c.39.39.9.59 1.41.59.51 0 1.02-.2 1.41-.59l7.78-7.78 2.81-2.81c.8-.78.8-2.07 0-2.86zM5.41 20L4 18.59l7.72-7.72 1.47 1.35L5.41 20z\"/>\n",
              "  </svg>\n",
              "      </button>\n",
              "      \n",
              "  <style>\n",
              "    .colab-df-container {\n",
              "      display:flex;\n",
              "      flex-wrap:wrap;\n",
              "      gap: 12px;\n",
              "    }\n",
              "\n",
              "    .colab-df-convert {\n",
              "      background-color: #E8F0FE;\n",
              "      border: none;\n",
              "      border-radius: 50%;\n",
              "      cursor: pointer;\n",
              "      display: none;\n",
              "      fill: #1967D2;\n",
              "      height: 32px;\n",
              "      padding: 0 0 0 0;\n",
              "      width: 32px;\n",
              "    }\n",
              "\n",
              "    .colab-df-convert:hover {\n",
              "      background-color: #E2EBFA;\n",
              "      box-shadow: 0px 1px 2px rgba(60, 64, 67, 0.3), 0px 1px 3px 1px rgba(60, 64, 67, 0.15);\n",
              "      fill: #174EA6;\n",
              "    }\n",
              "\n",
              "    [theme=dark] .colab-df-convert {\n",
              "      background-color: #3B4455;\n",
              "      fill: #D2E3FC;\n",
              "    }\n",
              "\n",
              "    [theme=dark] .colab-df-convert:hover {\n",
              "      background-color: #434B5C;\n",
              "      box-shadow: 0px 1px 3px 1px rgba(0, 0, 0, 0.15);\n",
              "      filter: drop-shadow(0px 1px 2px rgba(0, 0, 0, 0.3));\n",
              "      fill: #FFFFFF;\n",
              "    }\n",
              "  </style>\n",
              "\n",
              "      <script>\n",
              "        const buttonEl =\n",
              "          document.querySelector('#df-085c7610-0fff-4910-bedf-b5c2055d4770 button.colab-df-convert');\n",
              "        buttonEl.style.display =\n",
              "          google.colab.kernel.accessAllowed ? 'block' : 'none';\n",
              "\n",
              "        async function convertToInteractive(key) {\n",
              "          const element = document.querySelector('#df-085c7610-0fff-4910-bedf-b5c2055d4770');\n",
              "          const dataTable =\n",
              "            await google.colab.kernel.invokeFunction('convertToInteractive',\n",
              "                                                     [key], {});\n",
              "          if (!dataTable) return;\n",
              "\n",
              "          const docLinkHtml = 'Like what you see? Visit the ' +\n",
              "            '<a target=\"_blank\" href=https://colab.research.google.com/notebooks/data_table.ipynb>data table notebook</a>'\n",
              "            + ' to learn more about interactive tables.';\n",
              "          element.innerHTML = '';\n",
              "          dataTable['output_type'] = 'display_data';\n",
              "          await google.colab.output.renderOutput(dataTable, element);\n",
              "          const docLink = document.createElement('div');\n",
              "          docLink.innerHTML = docLinkHtml;\n",
              "          element.appendChild(docLink);\n",
              "        }\n",
              "      </script>\n",
              "    </div>\n",
              "  </div>\n",
              "  "
            ]
          },
          "metadata": {},
          "execution_count": 708
        }
      ]
    },
    {
      "cell_type": "code",
      "source": [
        "#having our initial input vector of all values into one dataframe\n",
        "input_vector = clean_dat2_all.drop(labels = ['Fatal_Non_Fatal', 'DateTime', 'time_feature', 'Unittype_One', 'Unittype_Two'], axis = 1)\n",
        "\n",
        "\n",
        "#we then load the data into to different dataframes one with our input vector and the other with train/test labels\n",
        "X = input_vector\n",
        "y = clean_dat2_all['Fatal_Non_Fatal']"
      ],
      "metadata": {
        "id": "V0wpy_LuS77N"
      },
      "execution_count": 709,
      "outputs": []
    },
    {
      "cell_type": "code",
      "source": [
        "X['time_analysis'] = X['time_analysis'].astype('object')\n",
        "X['drugs_involved'] = X['drugs_involved'].astype('int')\n",
        "X['alcohol_involved'] = X['alcohol_involved'].astype('int')"
      ],
      "metadata": {
        "id": "grO2hT-XYV6e"
      },
      "execution_count": 710,
      "outputs": []
    },
    {
      "cell_type": "markdown",
      "source": [
        "### With the dataset cleaned and new feature created, we will now begin the first baseline model with the new feature"
      ],
      "metadata": {
        "id": "hVItbMEkWyxi"
      }
    },
    {
      "cell_type": "code",
      "source": [
        "x_train_cat, x_test_cat, y_train_cat, y_test_cat = train_test_split(X, y, test_size = .20)\n",
        "categorical_features_indices = np.where(x_train_cat.dtypes != float)[0]"
      ],
      "metadata": {
        "id": "B35CwJ-SWUx-"
      },
      "execution_count": 499,
      "outputs": []
    },
    {
      "cell_type": "code",
      "source": [
        "catBoost1 = CatBoostClassifier(cat_features = categorical_features_indices)\n",
        "\n",
        "catBoost1.fit(\n",
        "    x_train_cat, y_train_cat, plot=True)"
      ],
      "metadata": {
        "id": "vMvT8ErlW8QM"
      },
      "execution_count": null,
      "outputs": []
    },
    {
      "cell_type": "code",
      "source": [
        "metric_scoring(catBoost1, x_test_cat, y_test_cat)"
      ],
      "metadata": {
        "colab": {
          "base_uri": "https://localhost:8080/"
        },
        "id": "GHr9sQcrao9Q",
        "outputId": "581cce98-e56b-4ca4-b7f5-9f4d46504e7e"
      },
      "execution_count": 504,
      "outputs": [
        {
          "output_type": "execute_result",
          "data": {
            "text/plain": [
              "{'Accuracy': 0.9970624613481757,\n",
              " 'F1 Score': 0.0,\n",
              " 'Precision': 0.0,\n",
              " 'Recall': 0.0}"
            ]
          },
          "metadata": {},
          "execution_count": 504
        }
      ]
    },
    {
      "cell_type": "code",
      "source": [
        "ConfusionMatrixDisplay.from_estimator(catBoost1, x_test_cat, y_test_cat)"
      ],
      "metadata": {
        "colab": {
          "base_uri": "https://localhost:8080/",
          "height": 296
        },
        "id": "fnsEBd4rXg31",
        "outputId": "9656e5e0-0d35-4363-8610-bc05ee614eb7"
      },
      "execution_count": 505,
      "outputs": [
        {
          "output_type": "execute_result",
          "data": {
            "text/plain": [
              "<sklearn.metrics._plot.confusion_matrix.ConfusionMatrixDisplay at 0x7f64770ed890>"
            ]
          },
          "metadata": {},
          "execution_count": 505
        },
        {
          "output_type": "display_data",
          "data": {
            "text/plain": [
              "<Figure size 432x288 with 2 Axes>"
            ],
            "image/png": "[encoded data removed]"
          },
          "metadata": {
            "needs_background": "light"
          }
        }
      ]
    },
    {
      "cell_type": "code",
      "source": [
        "cat_features_1 = catBoost1.feature_importances_\n",
        "plt.barh(x_test_cat.columns, sorted(catBoost1.feature_importances_))\n",
        "figure(figsize=(40, 20), dpi=500)"
      ],
      "metadata": {
        "colab": {
          "base_uri": "https://localhost:8080/",
          "height": 299
        },
        "id": "9IOYvcaTaFk9",
        "outputId": "4e503bcc-4dc0-4b46-f5cf-63db3e51aaa1"
      },
      "execution_count": 506,
      "outputs": [
        {
          "output_type": "execute_result",
          "data": {
            "text/plain": [
              "<Figure size 20000x10000 with 0 Axes>"
            ]
          },
          "metadata": {},
          "execution_count": 506
        },
        {
          "output_type": "display_data",
          "data": {
            "text/plain": [
              "<Figure size 432x288 with 1 Axes>"
            ],
            "image/png": "[encoded data removed]"
          },
          "metadata": {
            "needs_background": "light"
          }
        },
        {
          "output_type": "display_data",
          "data": {
            "text/plain": [
              "<Figure size 20000x10000 with 0 Axes>"
            ]
          },
          "metadata": {}
        }
      ]
    },
    {
      "cell_type": "markdown",
      "source": [
        "### Iteration 2 Increasing positive scale rate to match minority to majority class ratio"
      ],
      "metadata": {
        "id": "wFig3EFaawKO"
      }
    },
    {
      "cell_type": "code",
      "source": [
        "x_train_cat, x_test_cat, y_train_cat, y_test_cat = train_test_split(X, y, test_size = .20)\n",
        "categorical_features_indices = np.where(x_train_cat.dtypes != float)[0]"
      ],
      "metadata": {
        "id": "fH7FKz3BavMr"
      },
      "execution_count": null,
      "outputs": []
    },
    {
      "cell_type": "code",
      "source": [
        "catBoost2 = CatBoostClassifier(cat_features = categorical_features_indices, scale_pos_weight= 400)\n",
        "\n",
        "catBoost2.fit(\n",
        "    x_train_cat, y_train_cat, plot=True)"
      ],
      "metadata": {
        "id": "ia2JJV07igE3"
      },
      "execution_count": null,
      "outputs": []
    },
    {
      "cell_type": "code",
      "source": [
        "metric_scoring(catBoost2, x_test_cat, y_test_cat)"
      ],
      "metadata": {
        "colab": {
          "base_uri": "https://localhost:8080/"
        },
        "id": "t9w2Oj5WixjJ",
        "outputId": "5193ac90-5812-4e88-ffc7-a210cc9db9ec"
      },
      "execution_count": null,
      "outputs": [
        {
          "output_type": "execute_result",
          "data": {
            "text/plain": [
              "{'Accuracy': 0.9965986394557823,\n",
              " 'F1 Score': 0.35294117647058826,\n",
              " 'Precision': 0.375,\n",
              " 'Recall': 0.3333333333333333}"
            ]
          },
          "metadata": {},
          "execution_count": 124
        }
      ]
    },
    {
      "cell_type": "code",
      "source": [
        "RocCurveDisplay.from_estimator(catBoost2, x_test_cat, y_test_cat)"
      ],
      "metadata": {
        "colab": {
          "base_uri": "https://localhost:8080/",
          "height": 296
        },
        "id": "XXzTeHoLj4aR",
        "outputId": "1850fa48-f43a-43d7-e522-4c5dac465ccf"
      },
      "execution_count": null,
      "outputs": [
        {
          "output_type": "execute_result",
          "data": {
            "text/plain": [
              "<sklearn.metrics._plot.roc_curve.RocCurveDisplay at 0x7f06352a53d0>"
            ]
          },
          "metadata": {},
          "execution_count": 126
        },
        {
          "output_type": "display_data",
          "data": {
            "text/plain": [
              "<Figure size 432x288 with 1 Axes>"
            ],
            "image/png": "[encoded data removed]"
          },
          "metadata": {
            "needs_background": "light"
          }
        }
      ]
    },
    {
      "cell_type": "code",
      "source": [
        "ConfusionMatrixDisplay.from_estimator(catBoost2, x_test_cat, y_test_cat)"
      ],
      "metadata": {
        "colab": {
          "base_uri": "https://localhost:8080/",
          "height": 296
        },
        "id": "iFQ24M0yjQ1T",
        "outputId": "d2f042fb-a93d-43b3-9e61-43019d2a292d"
      },
      "execution_count": null,
      "outputs": [
        {
          "output_type": "execute_result",
          "data": {
            "text/plain": [
              "<sklearn.metrics._plot.confusion_matrix.ConfusionMatrixDisplay at 0x7f06354c34d0>"
            ]
          },
          "metadata": {},
          "execution_count": 125
        },
        {
          "output_type": "display_data",
          "data": {
            "text/plain": [
              "<Figure size 432x288 with 2 Axes>"
            ],
            "image/png": "[encoded data removed]"
          },
          "metadata": {
            "needs_background": "light"
          }
        }
      ]
    },
    {
      "cell_type": "markdown",
      "source": [
        "###Iteration 3 utilizing same class scale, but utilizing a bit of smote to oversample"
      ],
      "metadata": {
        "id": "6ZtxxfQHja9J"
      }
    },
    {
      "cell_type": "code",
      "source": [
        "x_train_cat, x_test_cat, y_train_cat, y_test_cat = train_test_split(X, y, test_size = .20)\n",
        "categorical_features_indices = np.where(x_train_cat.dtypes != float)[0]\n",
        "\n",
        "catBoost3 = CatBoostClassifier(cat_features = categorical_features_indices, scale_pos_weight=(1500))\n",
        "\n",
        "smote = SMOTENC(categorical_features_indices, sampling_strategy=(.10))"
      ],
      "metadata": {
        "id": "B04ULNbFjhD1"
      },
      "execution_count": 138,
      "outputs": []
    },
    {
      "cell_type": "code",
      "source": [
        "#creating oversampled smote classes\n",
        "x_train_cat_res, y_train_cat_res = smote.fit_resample(x_train_cat, y_train_cat)"
      ],
      "metadata": {
        "id": "XuP94Og_kG5z"
      },
      "execution_count": 139,
      "outputs": []
    },
    {
      "cell_type": "code",
      "source": [
        "y_train_cat_res.value_counts()"
      ],
      "metadata": {
        "colab": {
          "base_uri": "https://localhost:8080/"
        },
        "id": "F9UC3yEvkMvz",
        "outputId": "d1915794-19f5-45b4-a557-76c836ae2ac2"
      },
      "execution_count": 140,
      "outputs": [
        {
          "output_type": "execute_result",
          "data": {
            "text/plain": [
              "0    25811\n",
              "1     2581\n",
              "Name: Fatal_Non_Fatal, dtype: int64"
            ]
          },
          "metadata": {},
          "execution_count": 140
        }
      ]
    },
    {
      "cell_type": "code",
      "source": [
        "#fitting smote classes\n",
        "catBoost3.fit(\n",
        "    x_train_cat_res, y_train_cat_res, plot=True)"
      ],
      "metadata": {
        "id": "N249Z1wcjys6"
      },
      "execution_count": null,
      "outputs": []
    },
    {
      "cell_type": "code",
      "source": [
        "ConfusionMatrixDisplay.from_estimator(catBoost3, x_test_cat, y_test_cat)"
      ],
      "metadata": {
        "colab": {
          "base_uri": "https://localhost:8080/",
          "height": 296
        },
        "id": "vMtFH62DkU2Z",
        "outputId": "7bb49d6e-f3fd-40b8-bccc-b8f27e8322b3"
      },
      "execution_count": 142,
      "outputs": [
        {
          "output_type": "execute_result",
          "data": {
            "text/plain": [
              "<sklearn.metrics._plot.confusion_matrix.ConfusionMatrixDisplay at 0x7f648a568290>"
            ]
          },
          "metadata": {},
          "execution_count": 142
        },
        {
          "output_type": "display_data",
          "data": {
            "text/plain": [
              "<Figure size 432x288 with 2 Axes>"
            ],
            "image/png": "[encoded data removed]"
          },
          "metadata": {
            "needs_background": "light"
          }
        }
      ]
    },
    {
      "cell_type": "code",
      "source": [
        "metric_scoring(catBoost3, x_test_cat,y_test_cat)"
      ],
      "metadata": {
        "colab": {
          "base_uri": "https://localhost:8080/"
        },
        "id": "p2MLjhF5kx3V",
        "outputId": "5bea7a57-fbbe-4c0c-89d4-948144f47044"
      },
      "execution_count": 143,
      "outputs": [
        {
          "output_type": "execute_result",
          "data": {
            "text/plain": [
              "{'Accuracy': 0.8883735312306741,\n",
              " 'F1 Score': 0.02956989247311828,\n",
              " 'Precision': 0.015130674002751032,\n",
              " 'Recall': 0.6470588235294118}"
            ]
          },
          "metadata": {},
          "execution_count": 143
        }
      ]
    },
    {
      "cell_type": "code",
      "source": [
        "RocCurveDisplay.from_estimator(catBoost3, x_test_cat, y_test_cat)"
      ],
      "metadata": {
        "colab": {
          "base_uri": "https://localhost:8080/",
          "height": 296
        },
        "id": "2asQ9IlGlQJX",
        "outputId": "78317d4d-f650-4635-b678-19ff83bcf23a"
      },
      "execution_count": 144,
      "outputs": [
        {
          "output_type": "execute_result",
          "data": {
            "text/plain": [
              "<sklearn.metrics._plot.roc_curve.RocCurveDisplay at 0x7f648a82cc90>"
            ]
          },
          "metadata": {},
          "execution_count": 144
        },
        {
          "output_type": "display_data",
          "data": {
            "text/plain": [
              "<Figure size 432x288 with 1 Axes>"
            ],
            "image/png": "[encoded data removed]"
          },
          "metadata": {
            "needs_background": "light"
          }
        }
      ]
    },
    {
      "cell_type": "markdown",
      "source": [
        "## Iteration 4 Using Same model as above but with optimal hyperparameters"
      ],
      "metadata": {
        "id": "jlgCjfDhtIpn"
      }
    },
    {
      "cell_type": "code",
      "source": [
        "x_train_cat, x_test_cat, y_train_cat, y_test_cat = train_test_split(X, y, test_size = .20)\n",
        "categorical_features_indices = np.where(x_train_cat.dtypes != float)[0]\n",
        "\n",
        "catboost4 = CatBoostClassifier(cat_features=categorical_features_indices, scale_pos_weight=1500, \n",
        "                               depth = 10, l2_leaf_reg = 7, learning_rate = 0.1)\n",
        "\n",
        "smote = SMOTENC(categorical_features_indices, sampling_strategy=(.10))"
      ],
      "metadata": {
        "id": "NNEG2dhUtMVn"
      },
      "execution_count": null,
      "outputs": []
    },
    {
      "cell_type": "code",
      "source": [
        "#artifical classes\n",
        "x_train_cat_res, y_train_cat_res = smote.fit_resample(x_train_cat, y_train_cat)"
      ],
      "metadata": {
        "id": "-Za4JAsutYdb"
      },
      "execution_count": null,
      "outputs": []
    },
    {
      "cell_type": "code",
      "source": [
        "#fitting smote classes\n",
        "catboost4.fit(\n",
        "    x_train_cat_res, y_train_cat_res, plot=True)"
      ],
      "metadata": {
        "id": "QaQLlJMytal9"
      },
      "execution_count": null,
      "outputs": []
    },
    {
      "cell_type": "code",
      "source": [
        "ConfusionMatrixDisplay.from_estimator(catboost4, x_test_cat, y_test_cat)"
      ],
      "metadata": {
        "colab": {
          "base_uri": "https://localhost:8080/",
          "height": 296
        },
        "id": "15V9QV2_te7o",
        "outputId": "d4947f08-ec63-414e-a011-08c611a90e7a"
      },
      "execution_count": null,
      "outputs": [
        {
          "output_type": "execute_result",
          "data": {
            "text/plain": [
              "<sklearn.metrics._plot.confusion_matrix.ConfusionMatrixDisplay at 0x7f0631949ed0>"
            ]
          },
          "metadata": {},
          "execution_count": 223
        },
        {
          "output_type": "display_data",
          "data": {
            "text/plain": [
              "<Figure size 432x288 with 2 Axes>"
            ],
            "image/png": "[encoded data removed]"
          },
          "metadata": {
            "needs_background": "light"
          }
        }
      ]
    },
    {
      "cell_type": "code",
      "source": [
        "metric_scoring(catboost4, x_test_cat,y_test_cat)"
      ],
      "metadata": {
        "colab": {
          "base_uri": "https://localhost:8080/"
        },
        "id": "fZcaLjoWtiR7",
        "outputId": "e95cfd4d-8471-4d3e-caef-2a405fe237fa"
      },
      "execution_count": null,
      "outputs": [
        {
          "output_type": "execute_result",
          "data": {
            "text/plain": [
              "{'Accuracy': 0.8999690785405071,\n",
              " 'F1 Score': 0.03863298662704309,\n",
              " 'Precision': 0.019908116385911178,\n",
              " 'Recall': 0.65}"
            ]
          },
          "metadata": {},
          "execution_count": 224
        }
      ]
    },
    {
      "cell_type": "markdown",
      "source": [
        "## Optimal Hyperparameters ended up decreasing performance, so we will instead try to Cross validate the third model"
      ],
      "metadata": {
        "id": "nIfdamRovjyx"
      }
    },
    {
      "cell_type": "code",
      "source": [
        "categorical_features_indices = np.where(X.dtypes != float)[0]"
      ],
      "metadata": {
        "id": "5ZhBYzh5Idyy"
      },
      "execution_count": 27,
      "outputs": []
    },
    {
      "cell_type": "code",
      "source": [
        "#SMOTE w/ cross fold leads to overfitting on recall\n",
        "smote = SMOTENC(categorical_features_indices, sampling_strategy=(.10))\n",
        "\n",
        "X_res, y_res = smote.fit_resample(X, y)"
      ],
      "metadata": {
        "id": "M1ejS0P7x9Hh"
      },
      "execution_count": 28,
      "outputs": []
    },
    {
      "cell_type": "code",
      "source": [
        "from sklearn.metrics import make_scorer, accuracy_score, precision_score, recall_score, f1_score\n",
        "from sklearn.model_selection import StratifiedKFold\n",
        "from sklearn.model_selection import cross_validate\n",
        "from sklearn.model_selection import cross_val_predict\n",
        "from sklearn.metrics import confusion_matrix\n",
        "\n",
        "scoring = {'accuracy' : make_scorer(accuracy_score), \n",
        "           'precision' : make_scorer(precision_score),\n",
        "           'recall' : make_scorer(recall_score), \n",
        "           'f1_score' : make_scorer(f1_score)}\n",
        "\n",
        "stratKFold = StratifiedKFold(n_splits=5)\n",
        "model= CatBoostClassifier(cat_features = categorical_features_indices, scale_pos_weight=(1500))\n",
        "\n",
        "results = cross_validate(estimator=model,\n",
        "                                          X=X,\n",
        "                                          y=y,\n",
        "                                          cv=stratKFold,\n",
        "                                          scoring=scoring)"
      ],
      "metadata": {
        "id": "ytWNxn_dvqUW"
      },
      "execution_count": null,
      "outputs": []
    },
    {
      "cell_type": "code",
      "source": [
        "display(results)"
      ],
      "metadata": {
        "colab": {
          "base_uri": "https://localhost:8080/",
          "height": 136
        },
        "id": "M2UCB0X7zNai",
        "outputId": "9694447a-d844-482f-c757-bc96374288f2"
      },
      "execution_count": 33,
      "outputs": [
        {
          "output_type": "display_data",
          "data": {
            "text/plain": [
              "{'fit_time': array([ 93.67005277, 105.03599882,  91.10375905,  89.74690509,\n",
              "         89.90470028]),\n",
              " 'score_time': array([0.28943849, 0.08636642, 0.08739328, 0.17564297, 0.10582685]),\n",
              " 'test_accuracy': array([0.99690785, 0.99737168, 0.99427953, 0.99474335, 0.99768089]),\n",
              " 'test_f1_score': array([0.23076923, 0.26086957, 0.13953488, 0.10526316, 0.28571429]),\n",
              " 'test_precision': array([0.27272727, 0.375     , 0.11111111, 0.09090909, 0.6       ]),\n",
              " 'test_recall': array([0.2   , 0.2   , 0.1875, 0.125 , 0.1875])}"
            ]
          },
          "metadata": {}
        }
      ]
    },
    {
      "cell_type": "markdown",
      "source": [
        "### Iteration 6, undersamle majority class, run model again"
      ],
      "metadata": {
        "id": "azs0ihZtPyiK"
      }
    },
    {
      "cell_type": "code",
      "source": [
        "#undersample class\n",
        "categorical_features_indices = np.where(X.dtypes != float)[0]\n",
        "rs = RandomUnderSampler()\n",
        "x_under, y_under = rs.fit_resample(X, y)"
      ],
      "metadata": {
        "id": "lu8CPFtiRbpB"
      },
      "execution_count": 560,
      "outputs": []
    },
    {
      "cell_type": "code",
      "source": [
        "scoring = {'accuracy' : make_scorer(accuracy_score), \n",
        "           'precision' : make_scorer(precision_score),\n",
        "           'recall' : make_scorer(recall_score), \n",
        "           'f1_score' : make_scorer(f1_score)}\n",
        "\n",
        "stratKFold = StratifiedKFold(n_splits=5)\n",
        "model= CatBoostClassifier(cat_features = categorical_features_indices)\n",
        "\n",
        "results = cross_validate(estimator=model,\n",
        "                                          X=x_under,\n",
        "                                          y=y_under,\n",
        "                                          cv=stratKFold,\n",
        "                                          scoring=scoring)"
      ],
      "metadata": {
        "id": "lRIWrJsUP_Im"
      },
      "execution_count": null,
      "outputs": []
    },
    {
      "cell_type": "code",
      "source": [
        "display(results)"
      ],
      "metadata": {
        "colab": {
          "base_uri": "https://localhost:8080/",
          "height": 119
        },
        "id": "filyqWVWSGsJ",
        "outputId": "59c53a68-0ca6-4b77-89e7-20ffbd2909d3"
      },
      "execution_count": 42,
      "outputs": [
        {
          "output_type": "display_data",
          "data": {
            "text/plain": [
              "{'fit_time': array([18.12573719, 12.71800375,  8.98953342,  8.55307961,  9.01791263]),\n",
              " 'score_time': array([0.00949287, 0.00546765, 0.00616813, 0.00660396, 0.00543308]),\n",
              " 'test_accuracy': array([0.71875   , 0.83870968, 0.83870968, 0.83870968, 0.77419355]),\n",
              " 'test_f1_score': array([0.66666667, 0.84848485, 0.8       , 0.82758621, 0.75862069]),\n",
              " 'test_precision': array([0.81818182, 0.77777778, 1.        , 0.92307692, 0.84615385]),\n",
              " 'test_recall': array([0.5625    , 0.93333333, 0.66666667, 0.75      , 0.6875    ])}"
            ]
          },
          "metadata": {}
        }
      ]
    },
    {
      "cell_type": "code",
      "source": [
        "#making predictions\n",
        "y_pred_under = cross_val_predict(estimator=model,\n",
        "                                          X=x_under,\n",
        "                                          y=y_under,\n",
        "                                          cv=stratKFold\n",
        "                                          )"
      ],
      "metadata": {
        "id": "84xoi1CTSXc6"
      },
      "execution_count": null,
      "outputs": []
    },
    {
      "cell_type": "code",
      "source": [
        "confusion_matrix(y_under, y_pred_under)"
      ],
      "metadata": {
        "colab": {
          "base_uri": "https://localhost:8080/"
        },
        "id": "FwWdNV6cSlY1",
        "outputId": "920e2777-1cff-4a3a-a291-186dc17ce927"
      },
      "execution_count": 46,
      "outputs": [
        {
          "output_type": "execute_result",
          "data": {
            "text/plain": [
              "array([[69,  9],\n",
              "       [22, 56]])"
            ]
          },
          "metadata": {},
          "execution_count": 46
        }
      ]
    },
    {
      "cell_type": "markdown",
      "source": [
        "### Iteration 7, adding train test split to the model above (As of Now best fit model)"
      ],
      "metadata": {
        "id": "HLIORU6FP1PS"
      }
    },
    {
      "cell_type": "code",
      "source": [
        "#train test split\n",
        "x_train, x_test, y_train, y_test = train_test_split(X, y, test_size = 0.2)"
      ],
      "metadata": {
        "id": "23kZQyHKP3uv"
      },
      "execution_count": 658,
      "outputs": []
    },
    {
      "cell_type": "code",
      "source": [
        "#undersample class\n",
        "rs = RandomUnderSampler()\n",
        "x_under_train, y_under_train = rs.fit_resample(X = x_train, y = y_train)"
      ],
      "metadata": {
        "id": "e_5kar9IT5UZ"
      },
      "execution_count": 659,
      "outputs": []
    },
    {
      "cell_type": "code",
      "source": [
        "#fitting model\n",
        "categorical_features_indices = np.where(X.dtypes != float)[0]\n",
        "\n",
        "scoring = {'accuracy' : make_scorer(accuracy_score), \n",
        "           'precision' : make_scorer(precision_score),\n",
        "           'recall' : make_scorer(recall_score), \n",
        "           'f1_score' : make_scorer(f1_score)}\n",
        "\n",
        "stratKFold = StratifiedKFold(n_splits=5)\n",
        "model= CatBoostClassifier(cat_features = categorical_features_indices, scale_pos_weight=1.10)\n",
        "\n",
        "results = cross_validate(estimator=model,\n",
        "                                          X=x_under_train,\n",
        "                                          y=y_under_train,\n",
        "                                          cv=stratKFold,\n",
        "                                          scoring=scoring)"
      ],
      "metadata": {
        "id": "H-lCkFOLUBig"
      },
      "execution_count": null,
      "outputs": []
    },
    {
      "cell_type": "code",
      "source": [
        "display(results)"
      ],
      "metadata": {
        "colab": {
          "base_uri": "https://localhost:8080/",
          "height": 119
        },
        "id": "NvAc_B9_VIDD",
        "outputId": "1c84dc61-62a7-486d-cc43-99e29dc84801"
      },
      "execution_count": 661,
      "outputs": [
        {
          "output_type": "display_data",
          "data": {
            "text/plain": [
              "{'fit_time': array([9.16647291, 8.59604263, 9.84881783, 8.58690071, 8.93741059]),\n",
              " 'score_time': array([0.00603604, 0.00593472, 0.00575113, 0.00610304, 0.00580883]),\n",
              " 'test_accuracy': array([0.92592593, 0.77777778, 0.96153846, 0.73076923, 0.88461538]),\n",
              " 'test_f1_score': array([0.92307692, 0.76923077, 0.96      , 0.72      , 0.88888889]),\n",
              " 'test_precision': array([0.92307692, 0.83333333, 1.        , 0.75      , 0.85714286]),\n",
              " 'test_recall': array([0.92307692, 0.71428571, 0.92307692, 0.69230769, 0.92307692])}"
            ]
          },
          "metadata": {}
        }
      ]
    },
    {
      "cell_type": "code",
      "source": [
        "#fitting the model\n",
        "model_fitted = model.fit(x_under_train, y_under_train)"
      ],
      "metadata": {
        "id": "3hjN1_CeVlKT"
      },
      "execution_count": null,
      "outputs": []
    },
    {
      "cell_type": "code",
      "source": [
        "ConfusionMatrixDisplay.from_estimator(model_fitted, x_test, y_test)"
      ],
      "metadata": {
        "id": "kzKs2teZVJet"
      },
      "execution_count": null,
      "outputs": []
    },
    {
      "cell_type": "code",
      "source": [
        "RocCurveDisplay.from_estimator(model_fitted, x_test, y_test)"
      ],
      "metadata": {
        "colab": {
          "base_uri": "https://localhost:8080/",
          "height": 296
        },
        "id": "Y4mV0_sBjvC_",
        "outputId": "3e99b138-9baf-4574-d7c3-915768216198"
      },
      "execution_count": 664,
      "outputs": [
        {
          "output_type": "execute_result",
          "data": {
            "text/plain": [
              "<sklearn.metrics._plot.roc_curve.RocCurveDisplay at 0x7f6475777150>"
            ]
          },
          "metadata": {},
          "execution_count": 664
        },
        {
          "output_type": "display_data",
          "data": {
            "text/plain": [
              "<Figure size 432x288 with 1 Axes>"
            ],
            "image/png": "[encoded data removed]"
          },
          "metadata": {
            "needs_background": "light"
          }
        }
      ]
    },
    {
      "cell_type": "code",
      "source": [
        "metric_scoring(model_fitted, x_test, y_test)"
      ],
      "metadata": {
        "colab": {
          "base_uri": "https://localhost:8080/"
        },
        "id": "w4f8zujGV0Od",
        "outputId": "3eaa37d5-0ad4-4da8-b6ab-58498cd2f43b"
      },
      "execution_count": 665,
      "outputs": [
        {
          "output_type": "execute_result",
          "data": {
            "text/plain": [
              "{'Accuracy': 0.8803339517625232,\n",
              " 'F1 Score': 0.025188916876574305,\n",
              " 'Precision': 0.01278772378516624,\n",
              " 'Recall': 0.8333333333333334}"
            ]
          },
          "metadata": {},
          "execution_count": 665
        }
      ]
    },
    {
      "cell_type": "markdown",
      "source": [
        "### Iteration 8 Using Random Over, then under sampling "
      ],
      "metadata": {
        "id": "QxpEJNSaqbun"
      }
    },
    {
      "cell_type": "code",
      "source": [
        "from imblearn.over_sampling import RandomOverSampler\n",
        "\n",
        "#train test split\n",
        "x_train, x_test, y_train, y_test = train_test_split(X, y, test_size = 0.2)\n"
      ],
      "metadata": {
        "id": "sXUPaIdvqhEo"
      },
      "execution_count": 337,
      "outputs": []
    },
    {
      "cell_type": "code",
      "source": [
        "#undersample class\n",
        "rs = RandomUnderSampler()\n",
        "x_under_train, y_under_train = rs.fit_resample(X = x_train, y = y_train)"
      ],
      "metadata": {
        "id": "wrPgdGy-rB6i"
      },
      "execution_count": 338,
      "outputs": []
    },
    {
      "cell_type": "code",
      "source": [
        "y_under_train.value_counts()"
      ],
      "metadata": {
        "colab": {
          "base_uri": "https://localhost:8080/"
        },
        "id": "ITRhKRWJrnr4",
        "outputId": "fd8ef8ae-39d0-402c-c37a-cd7230785233"
      },
      "execution_count": 339,
      "outputs": [
        {
          "output_type": "execute_result",
          "data": {
            "text/plain": [
              "0    62\n",
              "1    62\n",
              "Name: Fatal_Non_Fatal, dtype: int64"
            ]
          },
          "metadata": {},
          "execution_count": 339
        }
      ]
    },
    {
      "cell_type": "code",
      "source": [
        "#fitting model\n",
        "categorical_features_indices = np.where(X.dtypes != float)[0]\n",
        "\n",
        "scoring = {'accuracy' : make_scorer(accuracy_score), \n",
        "           'precision' : make_scorer(precision_score),\n",
        "           'recall' : make_scorer(recall_score), \n",
        "           'f1_score' : make_scorer(f1_score)}\n",
        "\n",
        "stratKFold = StratifiedKFold(n_splits=5)\n",
        "model= CatBoostClassifier(cat_features = categorical_features_indices)\n",
        "\n",
        "results = cross_validate(estimator=model,\n",
        "                                          X=x_under_train,\n",
        "                                          y=y_under_train,\n",
        "                                          cv=stratKFold,\n",
        "                                          scoring=scoring)"
      ],
      "metadata": {
        "id": "nGxU91T4rG3k"
      },
      "execution_count": null,
      "outputs": []
    },
    {
      "cell_type": "code",
      "source": [
        "display(results)"
      ],
      "metadata": {
        "colab": {
          "base_uri": "https://localhost:8080/",
          "height": 119
        },
        "id": "WUl3zmBjrIlE",
        "outputId": "bc3d5e3a-f988-41a7-ee4e-7c208e8eac3e"
      },
      "execution_count": 313,
      "outputs": [
        {
          "output_type": "display_data",
          "data": {
            "text/plain": [
              "{'fit_time': array([20.76758957, 16.94022036, 17.4535656 , 17.83868337, 19.68367219]),\n",
              " 'score_time': array([0.01147938, 0.01143718, 0.01260829, 0.00997019, 0.0351882 ]),\n",
              " 'test_accuracy': array([1.        , 0.99806202, 1.        , 0.99224806, 0.99612403]),\n",
              " 'test_f1_score': array([1.        , 0.99806576, 1.        , 0.99230769, 0.996139  ]),\n",
              " 'test_precision': array([1.        , 0.996139  , 1.        , 0.98473282, 0.99230769]),\n",
              " 'test_recall': array([1., 1., 1., 1., 1.])}"
            ]
          },
          "metadata": {}
        }
      ]
    },
    {
      "cell_type": "code",
      "source": [
        "#fitting the model\n",
        "model_fitted = model.fit(x_under_train, y_under_train)"
      ],
      "metadata": {
        "id": "qxue-kb7rKVq"
      },
      "execution_count": null,
      "outputs": []
    },
    {
      "cell_type": "code",
      "source": [
        "ConfusionMatrixDisplay.from_estimator(model_fitted, x_test, y_test)"
      ],
      "metadata": {
        "colab": {
          "base_uri": "https://localhost:8080/",
          "height": 296
        },
        "id": "niT8mvm_rL4r",
        "outputId": "95c84fa2-c02f-47f0-864b-c965a36ed342"
      },
      "execution_count": 341,
      "outputs": [
        {
          "output_type": "execute_result",
          "data": {
            "text/plain": [
              "<sklearn.metrics._plot.confusion_matrix.ConfusionMatrixDisplay at 0x7f6484d6ad10>"
            ]
          },
          "metadata": {},
          "execution_count": 341
        },
        {
          "output_type": "display_data",
          "data": {
            "text/plain": [
              "<Figure size 432x288 with 2 Axes>"
            ],
            "image/png": "[encoded data removed]"
          },
          "metadata": {
            "needs_background": "light"
          }
        }
      ]
    },
    {
      "cell_type": "code",
      "source": [
        "RocCurveDisplay.from_estimator(model_fitted, x_test, y_test)"
      ],
      "metadata": {
        "colab": {
          "base_uri": "https://localhost:8080/",
          "height": 296
        },
        "id": "pe_EsJp4rONh",
        "outputId": "0d3c6b7b-8ab0-4206-cb38-74bd350b1bde"
      },
      "execution_count": 342,
      "outputs": [
        {
          "output_type": "execute_result",
          "data": {
            "text/plain": [
              "<sklearn.metrics._plot.roc_curve.RocCurveDisplay at 0x7f6484b99e10>"
            ]
          },
          "metadata": {},
          "execution_count": 342
        },
        {
          "output_type": "display_data",
          "data": {
            "text/plain": [
              "<Figure size 432x288 with 1 Axes>"
            ],
            "image/png": "[encoded data removed]"
          },
          "metadata": {
            "needs_background": "light"
          }
        }
      ]
    },
    {
      "cell_type": "code",
      "source": [
        "metric_scoring(model_fitted, x_test, y_test)"
      ],
      "metadata": {
        "colab": {
          "base_uri": "https://localhost:8080/"
        },
        "id": "dcE64E_7rQFh",
        "outputId": "033ae754-5d1c-456c-f48c-bdcc0cd82681"
      },
      "execution_count": 343,
      "outputs": [
        {
          "output_type": "execute_result",
          "data": {
            "text/plain": [
              "{'Accuracy': 0.8455473098330241,\n",
              " 'F1 Score': 0.02346041055718475,\n",
              " 'Precision': 0.011916583912611719,\n",
              " 'Recall': 0.75}"
            ]
          },
          "metadata": {},
          "execution_count": 343
        }
      ]
    },
    {
      "cell_type": "markdown",
      "source": [
        "### Iteration 9 Scale Pos Weight, no undersample + CV fold"
      ],
      "metadata": {
        "id": "widCZqb3_C-a"
      }
    },
    {
      "cell_type": "code",
      "source": [
        "#train test split\n",
        "x_train, x_test, y_train, y_test = train_test_split(X, y, test_size = 0.2)"
      ],
      "metadata": {
        "id": "GJkSrkiD_Jqa"
      },
      "execution_count": 545,
      "outputs": []
    },
    {
      "cell_type": "code",
      "source": [
        "y_train_len_pos = sum(y_train == 1)"
      ],
      "metadata": {
        "id": "VpWm1EBn_eGb"
      },
      "execution_count": 542,
      "outputs": []
    },
    {
      "cell_type": "code",
      "source": [
        "y_train_len_neg = len(y_train == 0) - y_train_len_pos"
      ],
      "metadata": {
        "id": "sVTRHO1I_qiy"
      },
      "execution_count": 544,
      "outputs": []
    },
    {
      "cell_type": "code",
      "source": [
        "(y_train_len_neg / y_train_len_pos)"
      ],
      "metadata": {
        "colab": {
          "base_uri": "https://localhost:8080/"
        },
        "id": "xvRdWo5oCR9N",
        "outputId": "8893f6bb-a3d8-4218-e9db-89fd251cbc23"
      },
      "execution_count": 552,
      "outputs": [
        {
          "output_type": "execute_result",
          "data": {
            "text/plain": [
              "416.2903225806452"
            ]
          },
          "metadata": {},
          "execution_count": 552
        }
      ]
    },
    {
      "cell_type": "code",
      "source": [
        "#fitting model\n",
        "categorical_features_indices = np.where(X.dtypes != float)[0]\n",
        "\n",
        "scoring = {'accuracy' : make_scorer(accuracy_score), \n",
        "           'precision' : make_scorer(precision_score),\n",
        "           'recall' : make_scorer(recall_score), \n",
        "           'f1_score' : make_scorer(f1_score)}\n",
        "\n",
        "stratKFold = StratifiedKFold(n_splits=5)\n",
        "model= CatBoostClassifier(cat_features = categorical_features_indices, scale_pos_weight = 1000)\n",
        "\n",
        "results = cross_validate(estimator=model,\n",
        "                                          X=X,\n",
        "                                          y=y,\n",
        "                                          cv=stratKFold,\n",
        "                                          scoring=scoring)"
      ],
      "metadata": {
        "id": "9AR2ZySK_PsH"
      },
      "execution_count": null,
      "outputs": []
    },
    {
      "cell_type": "code",
      "source": [
        "display(results)"
      ],
      "metadata": {
        "colab": {
          "base_uri": "https://localhost:8080/",
          "height": 119
        },
        "id": "br_xXu8BCMlM",
        "outputId": "599f22ad-9860-43ed-e4d1-104df7a61aa5"
      },
      "execution_count": 557,
      "outputs": [
        {
          "output_type": "display_data",
          "data": {
            "text/plain": [
              "{'fit_time': array([87.92940927, 86.82948565, 87.7690146 , 86.64457059, 89.67869329]),\n",
              " 'score_time': array([0.09883189, 0.10545707, 0.09928632, 0.09305501, 0.11800098]),\n",
              " 'test_accuracy': array([0.99489796, 0.99304267, 0.99025974, 0.99319728, 0.99659864]),\n",
              " 'test_f1_score': array([0.15384615, 0.21052632, 0.1369863 , 0.15384615, 0.21428571]),\n",
              " 'test_precision': array([0.125     , 0.14285714, 0.0877193 , 0.11111111, 0.25      ]),\n",
              " 'test_recall': array([0.2   , 0.4   , 0.3125, 0.25  , 0.1875])}"
            ]
          },
          "metadata": {}
        }
      ]
    },
    {
      "cell_type": "code",
      "source": [
        "model_fitted = model.fit(x_train, y_train)"
      ],
      "metadata": {
        "id": "fbI_CoZnAStr"
      },
      "execution_count": null,
      "outputs": []
    },
    {
      "cell_type": "code",
      "source": [
        "ConfusionMatrixDisplay.from_estimator(model_fitted, x_test, y_test)"
      ],
      "metadata": {
        "colab": {
          "base_uri": "https://localhost:8080/",
          "height": 296
        },
        "id": "J95bj3WAAY5w",
        "outputId": "70d4e367-be91-4b6f-82dd-7a445a1dac01"
      },
      "execution_count": 549,
      "outputs": [
        {
          "output_type": "execute_result",
          "data": {
            "text/plain": [
              "<sklearn.metrics._plot.confusion_matrix.ConfusionMatrixDisplay at 0x7f64852018d0>"
            ]
          },
          "metadata": {},
          "execution_count": 549
        },
        {
          "output_type": "display_data",
          "data": {
            "text/plain": [
              "<Figure size 432x288 with 2 Axes>"
            ],
            "image/png": "[encoded data removed]"
          },
          "metadata": {
            "needs_background": "light"
          }
        }
      ]
    },
    {
      "cell_type": "code",
      "source": [
        "metric_scoring(model_fitted, x_test, y_test)"
      ],
      "metadata": {
        "colab": {
          "base_uri": "https://localhost:8080/"
        },
        "id": "vJ25Mq7PAd7J",
        "outputId": "2ee828fc-4faa-44cd-dd2e-4ab88036d131"
      },
      "execution_count": 550,
      "outputs": [
        {
          "output_type": "execute_result",
          "data": {
            "text/plain": [
              "{'Accuracy': 0.9959802102659245,\n",
              " 'F1 Score': 0.13333333333333333,\n",
              " 'Precision': 0.11764705882352941,\n",
              " 'Recall': 0.15384615384615385}"
            ]
          },
          "metadata": {},
          "execution_count": 550
        }
      ]
    },
    {
      "cell_type": "markdown",
      "source": [
        "### Attempting using RF Classifier and SVM once more time but with undersampling or oversampling"
      ],
      "metadata": {
        "id": "khaRjt0dw6Fo"
      }
    },
    {
      "cell_type": "code",
      "source": [
        "#takes in a training dataset and encodes it into a frequency encoding\n",
        "def freq_code(train_data):\n",
        "  #seperating features into categorical and numerical\n",
        "  cat_features_input = train_data.select_dtypes(['object'])\n",
        "  numerical_features_input = train_data.select_dtypes(['int', 'float'])\n",
        "\n",
        "  #encoding cat_features\n",
        "  encdoer = CountEncoder(return_df = True)\n",
        "  cat_features_input_encoded = encdoer.fit_transform(cat_features_input)\n",
        "\n",
        "  #concat df back together\n",
        "  converted_data = pd.concat([numerical_features_input, cat_features_input_encoded], axis =1)\n",
        "\n",
        "  return converted_data"
      ],
      "metadata": {
        "id": "nbSv5cIjw48B"
      },
      "execution_count": 346,
      "outputs": []
    },
    {
      "cell_type": "code",
      "source": [
        "#pipelines\n",
        "from sklearn.pipeline import Pipeline\n",
        "\n",
        "#models for pipelines\n",
        "from sklearn.ensemble import RandomForestClassifier\n",
        "from sklearn.svm import SVC\n",
        "\n",
        "#cat encoders\n",
        "from category_encoders import CountEncoder\n",
        "from category_encoders import SumEncoder"
      ],
      "metadata": {
        "colab": {
          "base_uri": "https://localhost:8080/"
        },
        "id": "lSR8hqrgyHd_",
        "outputId": "71863e15-348b-4f40-d45d-223457f9ae14"
      },
      "execution_count": 348,
      "outputs": [
        {
          "output_type": "stream",
          "name": "stderr",
          "text": [
            "/usr/local/lib/python3.7/dist-packages/statsmodels/tools/_testing.py:19: FutureWarning: pandas.util.testing is deprecated. Use the functions in the public API at pandas.testing instead.\n",
            "  import pandas.util.testing as tm\n"
          ]
        }
      ]
    },
    {
      "cell_type": "code",
      "source": [
        "x_train_freq, x_test_freq, y_train_freq, y_test_freq = train_test_split(X, y, test_size = .20)"
      ],
      "metadata": {
        "id": "EmE_cM2fyrr0"
      },
      "execution_count": 399,
      "outputs": []
    },
    {
      "cell_type": "code",
      "source": [
        "x_train_freq = freq_code(x_train_freq)"
      ],
      "metadata": {
        "id": "P9ALKl8dy8Cm"
      },
      "execution_count": 400,
      "outputs": []
    },
    {
      "cell_type": "code",
      "source": [
        "pipe_rf = Pipeline([('rf_classifier',RandomForestClassifier())])\n",
        "pipe_svm = Pipeline([('svm_classifier',SVC())])"
      ],
      "metadata": {
        "id": "3HBawKvAzCwn"
      },
      "execution_count": 401,
      "outputs": []
    },
    {
      "cell_type": "code",
      "source": [
        "pipelines = [pipe_rf, pipe_svm]\n",
        "\n",
        "for pipe in pipelines: \n",
        "  pipe.fit(x_train_freq, y_train_freq)"
      ],
      "metadata": {
        "id": "sTr9ZDZAzN8s"
      },
      "execution_count": 402,
      "outputs": []
    },
    {
      "cell_type": "code",
      "source": [
        "x_test_freq = freq_code(x_test_freq)"
      ],
      "metadata": {
        "id": "8eCW4r0wzkg6"
      },
      "execution_count": 403,
      "outputs": []
    },
    {
      "cell_type": "code",
      "source": [
        "#rf scoring\n",
        "metric_scoring(pipelines[0],x_test_freq, y_test_freq)"
      ],
      "metadata": {
        "colab": {
          "base_uri": "https://localhost:8080/"
        },
        "id": "7cPY-6ZvzgOA",
        "outputId": "a4702968-08e5-497f-dfdf-23338a5bce0b"
      },
      "execution_count": 404,
      "outputs": [
        {
          "output_type": "stream",
          "name": "stderr",
          "text": [
            "/usr/local/lib/python3.7/dist-packages/sklearn/metrics/_classification.py:1318: UndefinedMetricWarning: Precision is ill-defined and being set to 0.0 due to no predicted samples. Use `zero_division` parameter to control this behavior.\n",
            "  _warn_prf(average, modifier, msg_start, len(result))\n"
          ]
        },
        {
          "output_type": "execute_result",
          "data": {
            "text/plain": [
              "{'Accuracy': 0.9976808905380334,\n",
              " 'F1 Score': 0.0,\n",
              " 'Precision': 0.0,\n",
              " 'Recall': 0.0}"
            ]
          },
          "metadata": {},
          "execution_count": 404
        }
      ]
    },
    {
      "cell_type": "code",
      "source": [
        "#rf scoring\n",
        "metric_scoring(pipelines[1],x_test_freq, y_test_freq)"
      ],
      "metadata": {
        "colab": {
          "base_uri": "https://localhost:8080/"
        },
        "id": "tZLJ78YlzjNU",
        "outputId": "e4ebd8a3-f281-46f3-afc6-1ca9e56a5d71"
      },
      "execution_count": 405,
      "outputs": [
        {
          "output_type": "stream",
          "name": "stderr",
          "text": [
            "/usr/local/lib/python3.7/dist-packages/sklearn/metrics/_classification.py:1318: UndefinedMetricWarning: Precision is ill-defined and being set to 0.0 due to no predicted samples. Use `zero_division` parameter to control this behavior.\n",
            "  _warn_prf(average, modifier, msg_start, len(result))\n"
          ]
        },
        {
          "output_type": "execute_result",
          "data": {
            "text/plain": [
              "{'Accuracy': 0.9976808905380334,\n",
              " 'F1 Score': 0.0,\n",
              " 'Precision': 0.0,\n",
              " 'Recall': 0.0}"
            ]
          },
          "metadata": {},
          "execution_count": 405
        }
      ]
    },
    {
      "cell_type": "code",
      "source": [
        "#undersample class\n",
        "rs = RandomUnderSampler()\n",
        "x_under_train, y_under_train = rs.fit_resample(X = x_train_freq, y = y_train_freq)"
      ],
      "metadata": {
        "id": "Hm8bPr7yz23n"
      },
      "execution_count": 362,
      "outputs": []
    },
    {
      "cell_type": "code",
      "source": [
        "for pipe in pipelines: \n",
        "  pipe.fit(x_under_train, y_under_train)\n"
      ],
      "metadata": {
        "id": "d2jlM0MSz5Ez"
      },
      "execution_count": 363,
      "outputs": []
    },
    {
      "cell_type": "code",
      "source": [
        "metric_scoring(pipelines[0],x_test_freq, y_test_freq)"
      ],
      "metadata": {
        "colab": {
          "base_uri": "https://localhost:8080/"
        },
        "id": "7oJXt6egz9W1",
        "outputId": "b644e2de-a621-4c8c-e947-656d32f84ebc"
      },
      "execution_count": 364,
      "outputs": [
        {
          "output_type": "execute_result",
          "data": {
            "text/plain": [
              "{'Accuracy': 0.0027829313543599257,\n",
              " 'F1 Score': 0.005550416281221091,\n",
              " 'Precision': 0.0027829313543599257,\n",
              " 'Recall': 1.0}"
            ]
          },
          "metadata": {},
          "execution_count": 364
        }
      ]
    },
    {
      "cell_type": "code",
      "source": [
        "metric_scoring(pipelines[1],x_test_freq, y_test_freq)"
      ],
      "metadata": {
        "colab": {
          "base_uri": "https://localhost:8080/"
        },
        "id": "iYQ2zNsE0ELl",
        "outputId": "518da790-bd84-496b-ffb7-e0494256ce10"
      },
      "execution_count": 365,
      "outputs": [
        {
          "output_type": "execute_result",
          "data": {
            "text/plain": [
              "{'Accuracy': 0.0027829313543599257,\n",
              " 'F1 Score': 0.005550416281221091,\n",
              " 'Precision': 0.0027829313543599257,\n",
              " 'Recall': 1.0}"
            ]
          },
          "metadata": {},
          "execution_count": 365
        }
      ]
    },
    {
      "cell_type": "code",
      "source": [
        "ConfusionMatrixDisplay.from_estimator(pipelines[0], x_test_freq, y_test_freq)"
      ],
      "metadata": {
        "colab": {
          "base_uri": "https://localhost:8080/",
          "height": 296
        },
        "id": "NhnX6qZw0HBb",
        "outputId": "8ede2ea8-e91c-4770-efda-afd9d82055ad"
      },
      "execution_count": 366,
      "outputs": [
        {
          "output_type": "execute_result",
          "data": {
            "text/plain": [
              "<sklearn.metrics._plot.confusion_matrix.ConfusionMatrixDisplay at 0x7f647a22f1d0>"
            ]
          },
          "metadata": {},
          "execution_count": 366
        },
        {
          "output_type": "display_data",
          "data": {
            "text/plain": [
              "<Figure size 432x288 with 2 Axes>"
            ],
            "image/png": "[encoded data removed]"
          },
          "metadata": {
            "needs_background": "light"
          }
        }
      ]
    },
    {
      "cell_type": "markdown",
      "source": [
        "### Quick PCA to check dimensionality "
      ],
      "metadata": {
        "id": "Cad-IfTA3MjQ"
      }
    },
    {
      "cell_type": "code",
      "source": [
        "input_vector = clean_dat2_all.drop(labels = ['DateTime', 'time_feature'], axis = 1)"
      ],
      "metadata": {
        "id": "-GUQ7pPD4UQV"
      },
      "execution_count": 515,
      "outputs": []
    },
    {
      "cell_type": "code",
      "source": [
        "test_pca = freq_code(input_vector)"
      ],
      "metadata": {
        "id": "uR0K0dJ-3P1W"
      },
      "execution_count": 516,
      "outputs": []
    },
    {
      "cell_type": "code",
      "source": [
        "test_pca = (test_pca - test_pca.mean()) / (test_pca.std())"
      ],
      "metadata": {
        "id": "X3OCc7DJ60Bj"
      },
      "execution_count": 517,
      "outputs": []
    },
    {
      "cell_type": "code",
      "source": [
        "from sklearn.decomposition import PCA"
      ],
      "metadata": {
        "id": "iHKQ8hB84obG"
      },
      "execution_count": 518,
      "outputs": []
    },
    {
      "cell_type": "code",
      "source": [
        "pca = PCA(n_components=2)\n",
        "pca.fit(test_pca)"
      ],
      "metadata": {
        "colab": {
          "base_uri": "https://localhost:8080/"
        },
        "id": "2ob7ZdWn42tP",
        "outputId": "deeba60c-219d-4818-d7c2-998f67434d6a"
      },
      "execution_count": 519,
      "outputs": [
        {
          "output_type": "execute_result",
          "data": {
            "text/plain": [
              "PCA(n_components=2)"
            ]
          },
          "metadata": {},
          "execution_count": 519
        }
      ]
    },
    {
      "cell_type": "code",
      "source": [
        "reduced = pca.transform(test_pca)"
      ],
      "metadata": {
        "id": "WXkPtDzh464_"
      },
      "execution_count": 520,
      "outputs": []
    },
    {
      "cell_type": "code",
      "source": [
        "sns.scatterplot(x = reduced[:,0], y = reduced[:,1])"
      ],
      "metadata": {
        "colab": {
          "base_uri": "https://localhost:8080/",
          "height": 282
        },
        "id": "ItWCe2XH49o1",
        "outputId": "90794d7f-18f3-4fdb-8002-2fbfad5cfd4c"
      },
      "execution_count": 521,
      "outputs": [
        {
          "output_type": "execute_result",
          "data": {
            "text/plain": [
              "<matplotlib.axes._subplots.AxesSubplot at 0x7f64856f5210>"
            ]
          },
          "metadata": {},
          "execution_count": 521
        },
        {
          "output_type": "display_data",
          "data": {
            "text/plain": [
              "<Figure size 432x288 with 1 Axes>"
            ],
            "image/png": "[encoded data removed]"
          },
          "metadata": {
            "needs_background": "light"
          }
        }
      ]
    },
    {
      "cell_type": "markdown",
      "source": [
        "## Model with Different Time Scaling Feature "
      ],
      "metadata": {
        "id": "Io_kVwQzObyr"
      }
    },
    {
      "cell_type": "code",
      "source": [
        "#train test split\n",
        "x_train, x_test, y_train, y_test = train_test_split(X, y, test_size = 0.2)\n",
        "\n",
        "#undersample class\n",
        "rs = RandomUnderSampler()\n",
        "x_under_train, y_under_train = rs.fit_resample(X = x_train, y = y_train)"
      ],
      "metadata": {
        "id": "RkeLyMFdOcZF"
      },
      "execution_count": null,
      "outputs": []
    },
    {
      "cell_type": "code",
      "source": [
        "#fitting model\n",
        "categorical_features_indices = np.where(X.dtypes != float)[0]\n",
        "\n",
        "scoring = {'accuracy' : make_scorer(accuracy_score), \n",
        "           'precision' : make_scorer(precision_score),\n",
        "           'recall' : make_scorer(recall_score), \n",
        "           'f1_score' : make_scorer(f1_score)}\n",
        "\n",
        "stratKFold = StratifiedKFold(n_splits=5)\n",
        "model= CatBoostClassifier(cat_features = categorical_features_indices, scale_pos_weight= (1.1))\n",
        "\n",
        "results = cross_validate(estimator=model,\n",
        "                                          X=x_under,\n",
        "                                          y=y_under,\n",
        "                                          cv=stratKFold,\n",
        "                                          scoring=scoring)"
      ],
      "metadata": {
        "id": "XdtYI1gROmya"
      },
      "execution_count": null,
      "outputs": []
    },
    {
      "cell_type": "code",
      "source": [
        "display(results)"
      ],
      "metadata": {
        "id": "AEu0nwMsOoR5"
      },
      "execution_count": null,
      "outputs": []
    },
    {
      "cell_type": "code",
      "source": [
        "#fitting the model\n",
        "model_fitted = model.fit(x_under_train, y_under_train)"
      ],
      "metadata": {
        "id": "5HJJj_aAOpzh"
      },
      "execution_count": null,
      "outputs": []
    },
    {
      "cell_type": "code",
      "source": [
        "ConfusionMatrixDisplay.from_estimator(model_fitted, x_test, y_test)"
      ],
      "metadata": {
        "id": "Q8SeY7HQOrIZ"
      },
      "execution_count": null,
      "outputs": []
    },
    {
      "cell_type": "code",
      "source": [
        "RocCurveDisplay.from_estimator(model_fitted, x_test, y_test)"
      ],
      "metadata": {
        "id": "F2zmv9heOsdt"
      },
      "execution_count": null,
      "outputs": []
    },
    {
      "cell_type": "code",
      "source": [
        "metric_scoring(model_fitted, x_test, y_test)"
      ],
      "metadata": {
        "id": "rqgPVsAeOts0"
      },
      "execution_count": null,
      "outputs": []
    }
  ]
}