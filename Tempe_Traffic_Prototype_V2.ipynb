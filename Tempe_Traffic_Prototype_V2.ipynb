{
  "nbformat": 4,
  "nbformat_minor": 0,
  "metadata": {
    "colab": {
      "name": "Tempe_Traffic_Prototype_V2.ipynb",
      "provenance": [],
      "authorship_tag": "ABX9TyNj8v1O2nGP81hbpAEkXMpV",
      "include_colab_link": true
    },
    "kernelspec": {
      "name": "python3",
      "display_name": "Python 3"
    },
    "language_info": {
      "name": "python"
    }
  },
  "cells": [
    {
      "cell_type": "markdown",
      "metadata": {
        "id": "view-in-github",
        "colab_type": "text"
      },
      "source": [
        "<a href=\"https://colab.research.google.com/github/noahruiz416/Tempe_Traffic_Classification/blob/main/Tempe_Traffic_Prototype_V2.ipynb\" target=\"_parent\"><img src=\"https://colab.research.google.com/assets/colab-badge.svg\" alt=\"Open In Colab\"/></a>"
      ]
    },
    {
      "cell_type": "markdown",
      "source": [
        "# This Notebook is the initial prototype for the Tempe Traffic Classification Project. Within this file you will find various sections that conduct exploratory analysis, feature selection, initial models and more. This specific notebook is the second version of the Original Prototype, with substanial changes"
      ],
      "metadata": {
        "id": "da1Catrf-CtQ"
      }
    },
    {
      "cell_type": "code",
      "execution_count": null,
      "metadata": {
        "id": "M7n0AME_-BZ2"
      },
      "outputs": [],
      "source": [
        ""
      ]
    }
  ]
}