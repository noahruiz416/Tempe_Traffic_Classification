{
  "cells": [
    {
      "cell_type": "markdown",
      "metadata": {
        "id": "view-in-github",
        "colab_type": "text"
      },
      "source": [
        "<a href=\"https://colab.research.google.com/github/noahruiz416/Tempe_Traffic_Classification/blob/main/Tempe_Traffic_Prototype_Feature_Engineering_Model_V1.ipynb\" target=\"_parent\"><img src=\"https://colab.research.google.com/assets/colab-badge.svg\" alt=\"Open In Colab\"/></a>"
      ]
    },
    {
      "cell_type": "markdown",
      "metadata": {
        "id": "MNdh2WexOdio"
      },
      "source": [
        "# This notebook will contain the initial feature engineering approaches that will be used. Decisions to transform or change certain varaibles will be explained"
      ]
    },
    {
      "cell_type": "code",
      "execution_count": null,
      "metadata": {
        "id": "5IotTcbuOSf8"
      },
      "outputs": [],
      "source": [
        "import pandas as pd\n",
        "import numpy as np \n",
        "import seaborn as sns"
      ]
    },
    {
      "cell_type": "code",
      "execution_count": null,
      "metadata": {
        "id": "BJHtOumgOcbJ"
      },
      "outputs": [],
      "source": [
        "df = pd.read_csv(\"traffic_data.2.csv\")"
      ]
    },
    {
      "cell_type": "markdown",
      "metadata": {
        "id": "5-YNgcEERsz4"
      },
      "source": [
        "#### Based on Exploratory Analysis, I plan on combining certain features that are very similar. Additionally I may exclude certain variables as well. More in depth reasoning will be included in final report."
      ]
    },
    {
      "cell_type": "code",
      "execution_count": null,
      "metadata": {
        "id": "Wi97HV4HS0Fb"
      },
      "outputs": [],
      "source": [
        "from sklearn.pipeline import Pipeline\n",
        "from sklearn.model_selection import train_test_split\n",
        "from sklearn.model_selection import StratifiedKFold\n",
        "from sklearn.linear_model import LogisticRegressionCV\n",
        "from sklearn.linear_model import LogisticRegression\n",
        "from sklearn.ensemble import RandomForestClassifier\n",
        "from sklearn.svm import SVC"
      ]
    },
    {
      "cell_type": "markdown",
      "metadata": {
        "id": "FrsVnlTZJjP0"
      },
      "source": [
        "#### This first set of functions are to be used as needed, depending on the model being ran"
      ]
    },
    {
      "cell_type": "code",
      "execution_count": null,
      "metadata": {
        "id": "j-dSyytqDmCO"
      },
      "outputs": [],
      "source": [
        "#function to binary encode accidents as fatal or nonfatal\n",
        "def encode_fatal_accidents(data):\n",
        "  Severity = []\n",
        "  for row in data['Injuryseverity']:\n",
        "    if row != \"Fatal\":\n",
        "      Severity.append(0) #nonfatal\n",
        "    if row == \"Fatal\":\n",
        "      Severity.append(1) #fatal\n",
        "  data['Fatal_Non_Fatal'] = Severity\n",
        "\n",
        "#this function turns our categorical variables into dummy variables\n",
        "def nominal_encoding(data):\n",
        "  data = [['StreetName','Collisionmanner', 'Lightcondition', 'Weather', 'SurfaceCondition']] \n",
        "  data_dummies = pd.get_dummies(data)\n",
        "  return data_dummies\n",
        "\n",
        "def drop_useless_cols(data):\n",
        "  return_data = data.drop(labels = ['X', 'Y',\n",
        "                      'Incidentid', 'DateTime', 'Year',\n",
        "                       'Latitude', 'Longitude', 'Totalinjuries',\n",
        "                       'Totalfatalities', 'Injuryseverity', 'Distance', 'OBJECTID', 'Age_Drv1', 'Age_Drv2'], axis = 1)\n",
        "  return return_data"
      ]
    },
    {
      "cell_type": "code",
      "execution_count": null,
      "metadata": {
        "id": "99KvumfLJiHe"
      },
      "outputs": [],
      "source": [
        "#helper function that contains the logic for whether or not drugs were involved in an accident\n",
        "def label_drugs(row):\n",
        "  if row['DrugUse_Drv1'] == \"Drugs\" or row['DrugUse_Drv2'] == \"Drugs\":\n",
        "    return 1 #drugs are involved\n",
        "  if row['DrugUse_Drv1'] != \"Drugs\" or row['DrugUse_Drv2'] != \"Drugs\":\n",
        "    return 0 #drugs are not involved\n",
        "\n",
        "#helper function that contains the logic for whether or not alch was involved in an accident\n",
        "def label_alchol(row):\n",
        "  if row['AlcoholUse_Drv1'] == \"Drugs\" or row['AlcoholUse_Drv2'] == \"Drugs\":\n",
        "    return 1 #drugs are involved\n",
        "  if row['AlcoholUse_Drv1'] != \"Drugs\" or row['AlcoholUse_Drv2'] != \"Drugs\":\n",
        "    return 0 #drugs are not involved\n",
        "\n",
        "def apply_drug_alchol_label(input_data):\n",
        "  data1 = input_data['drugs_involved'] = input_data.apply (lambda row: label_drugs(row), axis=1)\n",
        "  data1 = input_data['alcohol_involved'] = input_data.apply (lambda row: label_alchol(row), axis=1)\n"
      ]
    },
    {
      "cell_type": "markdown",
      "metadata": {
        "id": "tjdozuCTJtpE"
      },
      "source": [
        "#### These functions are a part of basic data cleaning and will be used for all train datasets regardless of the model"
      ]
    },
    {
      "cell_type": "code",
      "execution_count": null,
      "metadata": {
        "id": "ld-CjpzrCbdJ"
      },
      "outputs": [],
      "source": [
        "#this function drops bad columns in light conditions, violations and collisionmanner\n",
        "def drop_useless_rows(input_data):\n",
        "  data1 = input_data[input_data['Lightcondition'].str.contains(\"51\")==False]\n",
        "  data2 = data1[data1['Lightcondition'].str.contains(\"Unknown 51\")==False]\n",
        "  data3 = data2[data2['Violation1_Drv1'].str.contains(\"108\")==False]\n",
        "  data4 = data3[data3['Violation1_Drv1'].str.contains(\"109\")==False]\n",
        "  data5 = data4[data4['Violation1_Drv1'].str.contains(\"49\")==False]\n",
        "  data6 = data5[data5['Collisionmanner'].str.contains(\"10\")==False]\n",
        "  return data6"
      ]
    },
    {
      "cell_type": "code",
      "execution_count": null,
      "metadata": {
        "id": "P_z4br8KDFJ9"
      },
      "outputs": [],
      "source": [
        "#this function removes outlier driving ages in the data_set and then calculates the median age between the two drivers and creates a new column\n",
        "def age_manipulation(input_data):\n",
        "  data = input_data.drop(input_data.index[input_data['Age_Drv1'] >= 100], inplace=False)\n",
        "  data1 = data.drop(data.index[data['Age_Drv2'] >= 100], inplace=False)\n",
        "  data1['median_age'] = (data1['Age_Drv1'] + data1['Age_Drv2']) / 2\n",
        "  return data1\n"
      ]
    },
    {
      "cell_type": "code",
      "execution_count": null,
      "metadata": {
        "id": "BfjbdRK6EUgZ"
      },
      "outputs": [],
      "source": [
        "#function to call all the cleaning methods at once\n",
        "def clean_dataset(input_data):\n",
        "  input_data_rows_dropped = drop_useless_rows(input_data)\n",
        "  age_manipulated_data = age_manipulation(input_data_rows_dropped)\n",
        "  return age_manipulated_data"
      ]
    },
    {
      "cell_type": "code",
      "execution_count": null,
      "metadata": {
        "id": "xqqP8ihTAMdO"
      },
      "outputs": [],
      "source": [
        "#the encode function simply creates our binary labels for fatal or non fatal accidents\n",
        "encode_fatal_accidents(df)\n",
        "clean_dat = clean_dataset(df)\n",
        "clean_dat2_all = drop_useless_cols(clean_dat)\n",
        "apply_drug_alchol_label(clean_dat2_all)\n",
        "clean_dat2_all.dropna(inplace=True)\n",
        "\n",
        "input_vector = clean_dat2_all.drop(labels = ['Fatal_Non_Fatal'], axis = 1)\n",
        "\n",
        "\n",
        "#we then load the data into to different dataframes one with our input vector and the other with train/test labels\n",
        "X = input_vector\n",
        "y = clean_dat2_all['Fatal_Non_Fatal']"
      ]
    },
    {
      "cell_type": "markdown",
      "metadata": {
        "id": "nvGeUytxJ15_"
      },
      "source": [
        "#### With our Dataset clean we can start our modeling, Model V1 Baseline Logistc. The main issue that arises, is that our model  classifies negatives properly but since to severe imbalance it does not classify true positives at all."
      ]
    },
    {
      "cell_type": "code",
      "execution_count": null,
      "metadata": {
        "id": "xgtXDTQoR61U"
      },
      "outputs": [],
      "source": [
        "from statsmodels.discrete.discrete_model import Logit\n",
        "from statsmodels.tools import add_constant\n",
        "\n",
        "X_ohe = pd.get_dummies(X)\n",
        "\n",
        "x1_train, x1_test, y1_train, y1_test = train_test_split(X_ohe, y, random_state=0, test_size = .20)"
      ]
    },
    {
      "cell_type": "code",
      "execution_count": null,
      "metadata": {
        "id": "Sr018RAlvOUo"
      },
      "outputs": [],
      "source": [
        "logit_lasso = LogisticRegressionCV(cv=5, random_state=0, penalty = \"l1\", solver='liblinear').fit(x1_train, y1_train)"
      ]
    },
    {
      "cell_type": "code",
      "execution_count": null,
      "metadata": {
        "id": "7DdqaZq2woM3"
      },
      "outputs": [],
      "source": [
        "coef_table = pd.DataFrame(list(x1_train.columns)).copy()\n",
        "coef_table.insert(len(coef_table.columns),\"Coefs\",logit_lasso.coef_.transpose())"
      ]
    },
    {
      "cell_type": "code",
      "execution_count": null,
      "metadata": {
        "id": "uViBg3R5wsdu"
      },
      "outputs": [],
      "source": [
        "#having a logistc regression model that is OHE with all variables, gives very poor results and almost all coefficients are shrunk to zero \n",
        "coef_table_sorted = coef_table.sort_values(by = 'Coefs', ascending = False)"
      ]
    },
    {
      "cell_type": "code",
      "execution_count": null,
      "metadata": {
        "colab": {
          "base_uri": "https://localhost:8080/",
          "height": 419
        },
        "id": "yKJ2zvzgwYey",
        "outputId": "98a08833-8270-48d9-ecb3-2d4781a8cb9b"
      },
      "outputs": [
        {
          "data": {
            "text/html": [
              "\n",
              "  <div id=\"df-9a2c2532-8cfc-4239-b6ad-36ce6c64b81e\">\n",
              "    <div class=\"colab-df-container\">\n",
              "      <div>\n",
              "<style scoped>\n",
              "    .dataframe tbody tr th:only-of-type {\n",
              "        vertical-align: middle;\n",
              "    }\n",
              "\n",
              "    .dataframe tbody tr th {\n",
              "        vertical-align: top;\n",
              "    }\n",
              "\n",
              "    .dataframe thead th {\n",
              "        text-align: right;\n",
              "    }\n",
              "</style>\n",
              "<table border=\"1\" class=\"dataframe\">\n",
              "  <thead>\n",
              "    <tr style=\"text-align: right;\">\n",
              "      <th></th>\n",
              "      <th>0</th>\n",
              "      <th>Coefs</th>\n",
              "    </tr>\n",
              "  </thead>\n",
              "  <tbody>\n",
              "    <tr>\n",
              "      <th>555</th>\n",
              "      <td>CrossStreet_I-10 Exit 157 A-Ramp</td>\n",
              "      <td>0.000000</td>\n",
              "    </tr>\n",
              "    <tr>\n",
              "      <th>738</th>\n",
              "      <td>CrossStreet_S Juniper St</td>\n",
              "      <td>0.000000</td>\n",
              "    </tr>\n",
              "    <tr>\n",
              "      <th>744</th>\n",
              "      <td>CrossStreet_SR-101 Cardinal Frontage</td>\n",
              "      <td>0.000000</td>\n",
              "    </tr>\n",
              "    <tr>\n",
              "      <th>743</th>\n",
              "      <td>CrossStreet_S Roosevelt St</td>\n",
              "      <td>0.000000</td>\n",
              "    </tr>\n",
              "    <tr>\n",
              "      <th>742</th>\n",
              "      <td>CrossStreet_S Poplar St</td>\n",
              "      <td>0.000000</td>\n",
              "    </tr>\n",
              "    <tr>\n",
              "      <th>...</th>\n",
              "      <td>...</td>\n",
              "      <td>...</td>\n",
              "    </tr>\n",
              "    <tr>\n",
              "      <th>375</th>\n",
              "      <td>CrossStreet_Arizona Grand Pkwy</td>\n",
              "      <td>0.000000</td>\n",
              "    </tr>\n",
              "    <tr>\n",
              "      <th>376</th>\n",
              "      <td>CrossStreet_Arizona Mills</td>\n",
              "      <td>0.000000</td>\n",
              "    </tr>\n",
              "    <tr>\n",
              "      <th>377</th>\n",
              "      <td>CrossStreet_Arizona Mills Access E</td>\n",
              "      <td>0.000000</td>\n",
              "    </tr>\n",
              "    <tr>\n",
              "      <th>378</th>\n",
              "      <td>CrossStreet_Arizona Mills Access N</td>\n",
              "      <td>0.000000</td>\n",
              "    </tr>\n",
              "    <tr>\n",
              "      <th>0</th>\n",
              "      <td>median_age</td>\n",
              "      <td>-0.130467</td>\n",
              "    </tr>\n",
              "  </tbody>\n",
              "</table>\n",
              "<p>1110 rows × 2 columns</p>\n",
              "</div>\n",
              "      <button class=\"colab-df-convert\" onclick=\"convertToInteractive('df-9a2c2532-8cfc-4239-b6ad-36ce6c64b81e')\"\n",
              "              title=\"Convert this dataframe to an interactive table.\"\n",
              "              style=\"display:none;\">\n",
              "        \n",
              "  <svg xmlns=\"http://www.w3.org/2000/svg\" height=\"24px\"viewBox=\"0 0 24 24\"\n",
              "       width=\"24px\">\n",
              "    <path d=\"M0 0h24v24H0V0z\" fill=\"none\"/>\n",
              "    <path d=\"M18.56 5.44l.94 2.06.94-2.06 2.06-.94-2.06-.94-.94-2.06-.94 2.06-2.06.94zm-11 1L8.5 8.5l.94-2.06 2.06-.94-2.06-.94L8.5 2.5l-.94 2.06-2.06.94zm10 10l.94 2.06.94-2.06 2.06-.94-2.06-.94-.94-2.06-.94 2.06-2.06.94z\"/><path d=\"M17.41 7.96l-1.37-1.37c-.4-.4-.92-.59-1.43-.59-.52 0-1.04.2-1.43.59L10.3 9.45l-7.72 7.72c-.78.78-.78 2.05 0 2.83L4 21.41c.39.39.9.59 1.41.59.51 0 1.02-.2 1.41-.59l7.78-7.78 2.81-2.81c.8-.78.8-2.07 0-2.86zM5.41 20L4 18.59l7.72-7.72 1.47 1.35L5.41 20z\"/>\n",
              "  </svg>\n",
              "      </button>\n",
              "      \n",
              "  <style>\n",
              "    .colab-df-container {\n",
              "      display:flex;\n",
              "      flex-wrap:wrap;\n",
              "      gap: 12px;\n",
              "    }\n",
              "\n",
              "    .colab-df-convert {\n",
              "      background-color: #E8F0FE;\n",
              "      border: none;\n",
              "      border-radius: 50%;\n",
              "      cursor: pointer;\n",
              "      display: none;\n",
              "      fill: #1967D2;\n",
              "      height: 32px;\n",
              "      padding: 0 0 0 0;\n",
              "      width: 32px;\n",
              "    }\n",
              "\n",
              "    .colab-df-convert:hover {\n",
              "      background-color: #E2EBFA;\n",
              "      box-shadow: 0px 1px 2px rgba(60, 64, 67, 0.3), 0px 1px 3px 1px rgba(60, 64, 67, 0.15);\n",
              "      fill: #174EA6;\n",
              "    }\n",
              "\n",
              "    [theme=dark] .colab-df-convert {\n",
              "      background-color: #3B4455;\n",
              "      fill: #D2E3FC;\n",
              "    }\n",
              "\n",
              "    [theme=dark] .colab-df-convert:hover {\n",
              "      background-color: #434B5C;\n",
              "      box-shadow: 0px 1px 3px 1px rgba(0, 0, 0, 0.15);\n",
              "      filter: drop-shadow(0px 1px 2px rgba(0, 0, 0, 0.3));\n",
              "      fill: #FFFFFF;\n",
              "    }\n",
              "  </style>\n",
              "\n",
              "      <script>\n",
              "        const buttonEl =\n",
              "          document.querySelector('#df-9a2c2532-8cfc-4239-b6ad-36ce6c64b81e button.colab-df-convert');\n",
              "        buttonEl.style.display =\n",
              "          google.colab.kernel.accessAllowed ? 'block' : 'none';\n",
              "\n",
              "        async function convertToInteractive(key) {\n",
              "          const element = document.querySelector('#df-9a2c2532-8cfc-4239-b6ad-36ce6c64b81e');\n",
              "          const dataTable =\n",
              "            await google.colab.kernel.invokeFunction('convertToInteractive',\n",
              "                                                     [key], {});\n",
              "          if (!dataTable) return;\n",
              "\n",
              "          const docLinkHtml = 'Like what you see? Visit the ' +\n",
              "            '<a target=\"_blank\" href=https://colab.research.google.com/notebooks/data_table.ipynb>data table notebook</a>'\n",
              "            + ' to learn more about interactive tables.';\n",
              "          element.innerHTML = '';\n",
              "          dataTable['output_type'] = 'display_data';\n",
              "          await google.colab.output.renderOutput(dataTable, element);\n",
              "          const docLink = document.createElement('div');\n",
              "          docLink.innerHTML = docLinkHtml;\n",
              "          element.appendChild(docLink);\n",
              "        }\n",
              "      </script>\n",
              "    </div>\n",
              "  </div>\n",
              "  "
            ],
            "text/plain": [
              "                                        0     Coefs\n",
              "555      CrossStreet_I-10 Exit 157 A-Ramp  0.000000\n",
              "738              CrossStreet_S Juniper St  0.000000\n",
              "744  CrossStreet_SR-101 Cardinal Frontage  0.000000\n",
              "743            CrossStreet_S Roosevelt St  0.000000\n",
              "742               CrossStreet_S Poplar St  0.000000\n",
              "..                                    ...       ...\n",
              "375        CrossStreet_Arizona Grand Pkwy  0.000000\n",
              "376             CrossStreet_Arizona Mills  0.000000\n",
              "377    CrossStreet_Arizona Mills Access E  0.000000\n",
              "378    CrossStreet_Arizona Mills Access N  0.000000\n",
              "0                              median_age -0.130467\n",
              "\n",
              "[1110 rows x 2 columns]"
            ]
          },
          "metadata": {},
          "output_type": "display_data"
        }
      ],
      "source": [
        "display(coef_table_sorted)"
      ]
    },
    {
      "cell_type": "code",
      "execution_count": null,
      "metadata": {
        "colab": {
          "base_uri": "https://localhost:8080/"
        },
        "id": "olLAzK1IzfMc",
        "outputId": "eca3adf5-9069-4c23-ea88-93a7453df9e2"
      },
      "outputs": [
        {
          "data": {
            "text/plain": [
              "0.9975696319728417"
            ]
          },
          "execution_count": 29,
          "metadata": {},
          "output_type": "execute_result"
        }
      ],
      "source": [
        "#we have good accuracy performance however, we must also check the confusion matrix for positive classification performance\n",
        "logit_lasso.score(x1_train, y1_train)"
      ]
    },
    {
      "cell_type": "code",
      "execution_count": null,
      "metadata": {
        "colab": {
          "base_uri": "https://localhost:8080/"
        },
        "id": "K_2dFHgx0DZ_",
        "outputId": "51599b3a-e4c4-4de5-caf8-9faaac88976c"
      },
      "outputs": [
        {
          "data": {
            "text/plain": [
              "0.997685542354575"
            ]
          },
          "execution_count": 30,
          "metadata": {},
          "output_type": "execute_result"
        }
      ],
      "source": [
        "logit_lasso.score(x1_test, y1_test)"
      ]
    },
    {
      "cell_type": "code",
      "execution_count": null,
      "metadata": {
        "id": "MnVzKHs91wam"
      },
      "outputs": [],
      "source": [
        "from sklearn.metrics import precision_score\n",
        "from sklearn.metrics import recall_score\n",
        "from sklearn.metrics import RocCurveDisplay\n",
        "from sklearn.metrics import ConfusionMatrixDisplay"
      ]
    },
    {
      "cell_type": "code",
      "execution_count": null,
      "metadata": {
        "colab": {
          "base_uri": "https://localhost:8080/",
          "height": 296
        },
        "id": "PUIkbUkb2NQq",
        "outputId": "26ba3713-c67c-4577-f820-d875fe7927dd"
      },
      "outputs": [
        {
          "data": {
            "text/plain": [
              "<sklearn.metrics._plot.roc_curve.RocCurveDisplay at 0x7f3b366b93d0>"
            ]
          },
          "execution_count": 32,
          "metadata": {},
          "output_type": "execute_result"
        },
        {
          "data": {
            "image/png": "[encoded data removed]",
            "text/plain": [
              "<Figure size 432x288 with 1 Axes>"
            ]
          },
          "metadata": {},
          "output_type": "display_data"
        }
      ],
      "source": [
        "#from this ROC curve we can see that our model performs horribly with true positive rates\n",
        "RocCurveDisplay.from_estimator(logit_lasso, x1_test, y1_test)"
      ]
    },
    {
      "cell_type": "code",
      "execution_count": null,
      "metadata": {
        "colab": {
          "base_uri": "https://localhost:8080/",
          "height": 296
        },
        "id": "HEoT_hTK3ljd",
        "outputId": "586de078-5479-48b3-a37b-9b0e3e7b76bb"
      },
      "outputs": [
        {
          "data": {
            "text/plain": [
              "<sklearn.metrics._plot.confusion_matrix.ConfusionMatrixDisplay at 0x7f3b366b9110>"
            ]
          },
          "execution_count": 33,
          "metadata": {},
          "output_type": "execute_result"
        },
        {
          "data": {
            "image/png": "[encoded data removed]",
            "text/plain": [
              "<Figure size 432x288 with 2 Axes>"
            ]
          },
          "metadata": {},
          "output_type": "display_data"
        }
      ],
      "source": [
        "ConfusionMatrixDisplay.from_estimator(logit_lasso, x1_test, y1_test)"
      ]
    },
    {
      "cell_type": "markdown",
      "metadata": {
        "id": "ugyvsykT4OJ6"
      },
      "source": [
        "input_vector### In order to correct for these issues it may be smart to deal with the large imbalance within the training data. To do so we will use a combination of resampling and imputation to create new positive values. But first we will try two different encoding methods to see if baseline performance improves"
      ]
    },
    {
      "cell_type": "code",
      "execution_count": null,
      "metadata": {
        "id": "gndAH-GbhIcU"
      },
      "outputs": [],
      "source": [
        "X = input_vector\n",
        "y = clean_dat2_all['Fatal_Non_Fatal']\n",
        "\n",
        "x1_train, x1_test, y1_train, y1_test = train_test_split(X, y, random_state=0, test_size = .20)"
      ]
    },
    {
      "cell_type": "code",
      "execution_count": null,
      "metadata": {
        "id": "HhtXoVj3jIGn"
      },
      "outputs": [],
      "source": [
        "from category_encoders import CountEncoder\n",
        "from category_encoders import SumEncoder\n",
        "\n",
        "#train first\n",
        "#splitting cat and numerical features\n",
        "cat_features_input = x1_train.select_dtypes(['object'])\n",
        "numerical_features_input = x1_train.select_dtypes(['int', 'float'])\n",
        "\n",
        "#encoding cat_features\n",
        "encdoer = CountEncoder(return_df = True)\n",
        "cat_features_input_encoded = encdoer.fit_transform(cat_features_input)\n",
        "\n",
        "#concat df back together\n",
        "x1_train = pd.concat([numerical_features_input, cat_features_input_encoded], axis =1)"
      ]
    },
    {
      "cell_type": "code",
      "execution_count": null,
      "metadata": {
        "id": "cBM-0G1LJFCv"
      },
      "outputs": [],
      "source": [
        "#processing test data\n",
        "cat_features_input_test = x1_test.select_dtypes(['object'])\n",
        "numerical_features_input_test = x1_test.select_dtypes(['int', 'float'])\n",
        "\n",
        "#encoding cat_features\n",
        "cat_features_input_encoded_test = encdoer.fit_transform(cat_features_input_test)\n",
        "\n",
        "#concat df back together\n",
        "x1_test = pd.concat([numerical_features_input_test, cat_features_input_encoded_test], axis =1)"
      ]
    },
    {
      "cell_type": "code",
      "execution_count": null,
      "metadata": {
        "id": "L4d4XGSmNRHy"
      },
      "outputs": [],
      "source": [
        "#training whole input vector to check predictions (will use later)\n",
        "cat_features_input_whole = X.select_dtypes(['object'])\n",
        "numerical_features_input_whole = X.select_dtypes(['int', 'float'])\n",
        "\n",
        "#encoding cat_features\n",
        "cat_features_input_encoded_whole = encdoer.fit_transform(cat_features_input_whole)\n",
        "\n",
        "#concat df back together\n",
        "X = pd.concat([numerical_features_input_whole, cat_features_input_encoded_whole], axis =1)"
      ]
    },
    {
      "cell_type": "code",
      "execution_count": null,
      "metadata": {
        "id": "Uhlr5c3YH8ak"
      },
      "outputs": [],
      "source": [
        "#now we will train the same baseline model on the encoded input vector\n",
        "logit_lasso = LogisticRegressionCV(cv=5, random_state=0, penalty = \"l1\", solver='liblinear').fit(x1_train, y1_train)"
      ]
    },
    {
      "cell_type": "code",
      "execution_count": null,
      "metadata": {
        "id": "Chi2kJXKIQ57"
      },
      "outputs": [],
      "source": [
        "coef_table = pd.DataFrame(list(x1_train.columns)).copy()\n",
        "coef_table.insert(len(coef_table.columns),\"Coefs\",logit_lasso.coef_.transpose())"
      ]
    },
    {
      "cell_type": "code",
      "execution_count": null,
      "metadata": {
        "colab": {
          "base_uri": "https://localhost:8080/",
          "height": 359
        },
        "id": "6laGOYiXKM-6",
        "outputId": "51ec9e3f-57d5-44e0-ffad-a9c420bdbb6a"
      },
      "outputs": [
        {
          "data": {
            "text/html": [
              "\n",
              "  <div id=\"df-87dcc1f1-16fd-464e-b568-96241be0c6f3\">\n",
              "    <div class=\"colab-df-container\">\n",
              "      <div>\n",
              "<style scoped>\n",
              "    .dataframe tbody tr th:only-of-type {\n",
              "        vertical-align: middle;\n",
              "    }\n",
              "\n",
              "    .dataframe tbody tr th {\n",
              "        vertical-align: top;\n",
              "    }\n",
              "\n",
              "    .dataframe thead th {\n",
              "        text-align: right;\n",
              "    }\n",
              "</style>\n",
              "<table border=\"1\" class=\"dataframe\">\n",
              "  <thead>\n",
              "    <tr style=\"text-align: right;\">\n",
              "      <th></th>\n",
              "      <th>0</th>\n",
              "      <th>Coefs</th>\n",
              "    </tr>\n",
              "  </thead>\n",
              "  <tbody>\n",
              "    <tr>\n",
              "      <th>1</th>\n",
              "      <td>drugs_involved</td>\n",
              "      <td>1.140401</td>\n",
              "    </tr>\n",
              "    <tr>\n",
              "      <th>0</th>\n",
              "      <td>median_age</td>\n",
              "      <td>0.064393</td>\n",
              "    </tr>\n",
              "    <tr>\n",
              "      <th>3</th>\n",
              "      <td>StreetName</td>\n",
              "      <td>0.000298</td>\n",
              "    </tr>\n",
              "    <tr>\n",
              "      <th>14</th>\n",
              "      <td>Violation1_Drv1</td>\n",
              "      <td>0.000171</td>\n",
              "    </tr>\n",
              "    <tr>\n",
              "      <th>11</th>\n",
              "      <td>Gender_Drv1</td>\n",
              "      <td>0.000139</td>\n",
              "    </tr>\n",
              "    <tr>\n",
              "      <th>12</th>\n",
              "      <td>Traveldirection_One</td>\n",
              "      <td>0.000114</td>\n",
              "    </tr>\n",
              "    <tr>\n",
              "      <th>18</th>\n",
              "      <td>Gender_Drv2</td>\n",
              "      <td>0.000089</td>\n",
              "    </tr>\n",
              "    <tr>\n",
              "      <th>4</th>\n",
              "      <td>CrossStreet</td>\n",
              "      <td>0.000068</td>\n",
              "    </tr>\n",
              "    <tr>\n",
              "      <th>20</th>\n",
              "      <td>Unitaction_Two</td>\n",
              "      <td>0.000039</td>\n",
              "    </tr>\n",
              "    <tr>\n",
              "      <th>19</th>\n",
              "      <td>Traveldirection_Two</td>\n",
              "      <td>0.000026</td>\n",
              "    </tr>\n",
              "  </tbody>\n",
              "</table>\n",
              "</div>\n",
              "      <button class=\"colab-df-convert\" onclick=\"convertToInteractive('df-87dcc1f1-16fd-464e-b568-96241be0c6f3')\"\n",
              "              title=\"Convert this dataframe to an interactive table.\"\n",
              "              style=\"display:none;\">\n",
              "        \n",
              "  <svg xmlns=\"http://www.w3.org/2000/svg\" height=\"24px\"viewBox=\"0 0 24 24\"\n",
              "       width=\"24px\">\n",
              "    <path d=\"M0 0h24v24H0V0z\" fill=\"none\"/>\n",
              "    <path d=\"M18.56 5.44l.94 2.06.94-2.06 2.06-.94-2.06-.94-.94-2.06-.94 2.06-2.06.94zm-11 1L8.5 8.5l.94-2.06 2.06-.94-2.06-.94L8.5 2.5l-.94 2.06-2.06.94zm10 10l.94 2.06.94-2.06 2.06-.94-2.06-.94-.94-2.06-.94 2.06-2.06.94z\"/><path d=\"M17.41 7.96l-1.37-1.37c-.4-.4-.92-.59-1.43-.59-.52 0-1.04.2-1.43.59L10.3 9.45l-7.72 7.72c-.78.78-.78 2.05 0 2.83L4 21.41c.39.39.9.59 1.41.59.51 0 1.02-.2 1.41-.59l7.78-7.78 2.81-2.81c.8-.78.8-2.07 0-2.86zM5.41 20L4 18.59l7.72-7.72 1.47 1.35L5.41 20z\"/>\n",
              "  </svg>\n",
              "      </button>\n",
              "      \n",
              "  <style>\n",
              "    .colab-df-container {\n",
              "      display:flex;\n",
              "      flex-wrap:wrap;\n",
              "      gap: 12px;\n",
              "    }\n",
              "\n",
              "    .colab-df-convert {\n",
              "      background-color: #E8F0FE;\n",
              "      border: none;\n",
              "      border-radius: 50%;\n",
              "      cursor: pointer;\n",
              "      display: none;\n",
              "      fill: #1967D2;\n",
              "      height: 32px;\n",
              "      padding: 0 0 0 0;\n",
              "      width: 32px;\n",
              "    }\n",
              "\n",
              "    .colab-df-convert:hover {\n",
              "      background-color: #E2EBFA;\n",
              "      box-shadow: 0px 1px 2px rgba(60, 64, 67, 0.3), 0px 1px 3px 1px rgba(60, 64, 67, 0.15);\n",
              "      fill: #174EA6;\n",
              "    }\n",
              "\n",
              "    [theme=dark] .colab-df-convert {\n",
              "      background-color: #3B4455;\n",
              "      fill: #D2E3FC;\n",
              "    }\n",
              "\n",
              "    [theme=dark] .colab-df-convert:hover {\n",
              "      background-color: #434B5C;\n",
              "      box-shadow: 0px 1px 3px 1px rgba(0, 0, 0, 0.15);\n",
              "      filter: drop-shadow(0px 1px 2px rgba(0, 0, 0, 0.3));\n",
              "      fill: #FFFFFF;\n",
              "    }\n",
              "  </style>\n",
              "\n",
              "      <script>\n",
              "        const buttonEl =\n",
              "          document.querySelector('#df-87dcc1f1-16fd-464e-b568-96241be0c6f3 button.colab-df-convert');\n",
              "        buttonEl.style.display =\n",
              "          google.colab.kernel.accessAllowed ? 'block' : 'none';\n",
              "\n",
              "        async function convertToInteractive(key) {\n",
              "          const element = document.querySelector('#df-87dcc1f1-16fd-464e-b568-96241be0c6f3');\n",
              "          const dataTable =\n",
              "            await google.colab.kernel.invokeFunction('convertToInteractive',\n",
              "                                                     [key], {});\n",
              "          if (!dataTable) return;\n",
              "\n",
              "          const docLinkHtml = 'Like what you see? Visit the ' +\n",
              "            '<a target=\"_blank\" href=https://colab.research.google.com/notebooks/data_table.ipynb>data table notebook</a>'\n",
              "            + ' to learn more about interactive tables.';\n",
              "          element.innerHTML = '';\n",
              "          dataTable['output_type'] = 'display_data';\n",
              "          await google.colab.output.renderOutput(dataTable, element);\n",
              "          const docLink = document.createElement('div');\n",
              "          docLink.innerHTML = docLinkHtml;\n",
              "          element.appendChild(docLink);\n",
              "        }\n",
              "      </script>\n",
              "    </div>\n",
              "  </div>\n",
              "  "
            ],
            "text/plain": [
              "                      0     Coefs\n",
              "1        drugs_involved  1.140401\n",
              "0            median_age  0.064393\n",
              "3            StreetName  0.000298\n",
              "14      Violation1_Drv1  0.000171\n",
              "11          Gender_Drv1  0.000139\n",
              "12  Traveldirection_One  0.000114\n",
              "18          Gender_Drv2  0.000089\n",
              "4           CrossStreet  0.000068\n",
              "20       Unitaction_Two  0.000039\n",
              "19  Traveldirection_Two  0.000026"
            ]
          },
          "execution_count": 40,
          "metadata": {},
          "output_type": "execute_result"
        }
      ],
      "source": [
        "coef_table.sort_values(by = 'Coefs', ascending = False).head(10)"
      ]
    },
    {
      "cell_type": "code",
      "execution_count": null,
      "metadata": {
        "colab": {
          "base_uri": "https://localhost:8080/",
          "height": 296
        },
        "id": "_UdQ5i0DIWLp",
        "outputId": "c98a5ddf-627c-432d-c064-299dcc481596"
      },
      "outputs": [
        {
          "data": {
            "text/plain": [
              "<sklearn.metrics._plot.roc_curve.RocCurveDisplay at 0x7f3b29e2a7d0>"
            ]
          },
          "execution_count": 41,
          "metadata": {},
          "output_type": "execute_result"
        },
        {
          "data": {
            "image/png": "[encoded data removed]",
            "text/plain": [
              "<Figure size 432x288 with 1 Axes>"
            ]
          },
          "metadata": {},
          "output_type": "display_data"
        }
      ],
      "source": [
        "#performance significantly increases using the frequency encoding method even on the test dataset\n",
        "RocCurveDisplay.from_estimator(logit_lasso, x1_test, y1_test)"
      ]
    },
    {
      "cell_type": "code",
      "execution_count": null,
      "metadata": {
        "colab": {
          "base_uri": "https://localhost:8080/",
          "height": 296
        },
        "id": "5_tkWm8tJvn6",
        "outputId": "296ccfac-86b0-42e6-f235-02a10c08594c"
      },
      "outputs": [
        {
          "data": {
            "text/plain": [
              "<sklearn.metrics._plot.confusion_matrix.ConfusionMatrixDisplay at 0x7f3b366b7410>"
            ]
          },
          "execution_count": 42,
          "metadata": {},
          "output_type": "execute_result"
        },
        {
          "data": {
            "image/png": "[encoded data removed]",
            "text/plain": [
              "<Figure size 432x288 with 2 Axes>"
            ]
          },
          "metadata": {},
          "output_type": "display_data"
        }
      ],
      "source": [
        "ConfusionMatrixDisplay.from_estimator(logit_lasso, x1_test, y1_test)"
      ]
    },
    {
      "cell_type": "code",
      "execution_count": null,
      "metadata": {
        "colab": {
          "base_uri": "https://localhost:8080/"
        },
        "id": "JJhuSBPjJzHp",
        "outputId": "c62e8345-d4b2-48f1-93c4-389a0b1c0d07"
      },
      "outputs": [
        {
          "data": {
            "text/plain": [
              "0.5948156148742478"
            ]
          },
          "execution_count": 43,
          "metadata": {},
          "output_type": "execute_result"
        }
      ],
      "source": [
        "logit_lasso.score(x1_test, y1_test)"
      ]
    },
    {
      "cell_type": "code",
      "execution_count": null,
      "metadata": {
        "id": "OvFVdRs0KtdZ"
      },
      "outputs": [],
      "source": [
        "from sklearn.metrics import recall_score\n",
        "\n",
        "y_true = y\n",
        "y_pred = logit_lasso.predict(X)\n",
        "\n",
        "precision_score_logit = precision_score(y_true, y_pred)\n",
        "recall_score_logit = recall_score(y_true, y_pred)"
      ]
    },
    {
      "cell_type": "code",
      "execution_count": null,
      "metadata": {
        "colab": {
          "base_uri": "https://localhost:8080/"
        },
        "id": "Pee17CcoOrcO",
        "outputId": "de8bd776-60db-4c32-82c8-386dd6b26d52"
      },
      "outputs": [
        {
          "data": {
            "text/plain": [
              "0.05128205128205128"
            ]
          },
          "execution_count": 45,
          "metadata": {},
          "output_type": "execute_result"
        }
      ],
      "source": [
        "#very high amount of false negatives\n",
        "recall_score_logit"
      ]
    },
    {
      "cell_type": "code",
      "execution_count": null,
      "metadata": {
        "colab": {
          "base_uri": "https://localhost:8080/"
        },
        "id": "PW83-L7mPPGM",
        "outputId": "e6bcf198-0284-44ef-f2e0-416ef4a46db0"
      },
      "outputs": [
        {
          "data": {
            "text/plain": [
              "0.8"
            ]
          },
          "execution_count": 46,
          "metadata": {},
          "output_type": "execute_result"
        }
      ],
      "source": [
        "#solid amount of true positives, when compared to baseline \n",
        "precision_score_logit"
      ]
    },
    {
      "cell_type": "markdown",
      "metadata": {
        "id": "Kf0gp14lW03Z"
      },
      "source": [
        "### Now that we have seen a drastic improvement with Count Encoding, we will use this as the preffered method for now. Now we will do the following. \n",
        "\n",
        "1. Establish several pipelines for models to use \n",
        "2. Train and test each model/pipeline \n",
        "3. Choose the best out of the box model\n",
        "4. Fine tune the best out of the box model\n",
        "\n",
        "For now we will iterate through the following models: \n",
        "- Logistic Regression \n",
        "- SVM \n",
        "- Random Forest"
      ]
    },
    {
      "cell_type": "code",
      "execution_count": null,
      "metadata": {
        "colab": {
          "base_uri": "https://localhost:8080/"
        },
        "id": "g6TEuGWbXYeQ",
        "outputId": "1fecfab4-4dbc-4372-cbc8-3ae500290291"
      },
      "outputs": [
        {
          "name": "stdout",
          "output_type": "stream",
          "text": [
            "Warning: No categorical columns found. Calling 'transform' will only return input data.\n",
            "Warning: No categorical columns found. Calling 'transform' will only return input data.\n",
            "Warning: No categorical columns found. Calling 'transform' will only return input data.\n"
          ]
        }
      ],
      "source": [
        "x1_train, x1_test, y1_train, y1_test = train_test_split(X, y, random_state=0, test_size = .20)\n",
        "\n",
        "cat_features_input = x1_train.select_dtypes(['object'])\n",
        "numerical_features_input = x1_train.select_dtypes(['int', 'float'])\n",
        "\n",
        "#encoding cat_features\n",
        "encdoer = CountEncoder(return_df = True)\n",
        "cat_features_input_encoded = encdoer.fit_transform(cat_features_input)\n",
        "\n",
        "#concat df back together\n",
        "x1_train = pd.concat([numerical_features_input, cat_features_input_encoded], axis =1)\n",
        "\n",
        "#processing test data\n",
        "cat_features_input_test = x1_test.select_dtypes(['object'])\n",
        "numerical_features_input_test = x1_test.select_dtypes(['int', 'float'])\n",
        "\n",
        "#encoding cat_features\n",
        "cat_features_input_encoded_test = encdoer.fit_transform(cat_features_input_test)\n",
        "\n",
        "#concat df back together\n",
        "x1_test = pd.concat([numerical_features_input_test, cat_features_input_encoded_test], axis =1)\n",
        "\n",
        "#training whole input vector to check predictions (will use later)\n",
        "cat_features_input_whole = X.select_dtypes(['object'])\n",
        "numerical_features_input_whole = X.select_dtypes(['int', 'float'])\n",
        "\n",
        "#encoding cat_features\n",
        "cat_features_input_encoded_whole = encdoer.fit_transform(cat_features_input_whole)\n",
        "\n",
        "#concat df back together\n",
        "X = pd.concat([numerical_features_input_whole, cat_features_input_encoded_whole], axis =1)"
      ]
    },
    {
      "cell_type": "code",
      "execution_count": null,
      "metadata": {
        "id": "4uu2QCYaYHJ8"
      },
      "outputs": [],
      "source": [
        "pipeline_randomforest= Pipeline([('rf_classifier',RandomForestClassifier())])\n",
        "pipeline_svc= Pipeline([('svm_classifier',SVC())])\n",
        "pipeline_logistic= Pipeline([('lr_classifier',LogisticRegression(random_state=0))])\n",
        "\n",
        "pipelines = [pipeline_randomforest, pipeline_svc, pipeline_logistic]"
      ]
    },
    {
      "cell_type": "code",
      "execution_count": null,
      "metadata": {
        "colab": {
          "base_uri": "https://localhost:8080/"
        },
        "id": "HoilWpYZYWJF",
        "outputId": "f31c176a-e500-4dc1-9ee9-33593bf38d1d"
      },
      "outputs": [
        {
          "name": "stderr",
          "output_type": "stream",
          "text": [
            "/usr/local/lib/python3.7/dist-packages/sklearn/linear_model/_logistic.py:818: ConvergenceWarning: lbfgs failed to converge (status=1):\n",
            "STOP: TOTAL NO. of ITERATIONS REACHED LIMIT.\n",
            "\n",
            "Increase the number of iterations (max_iter) or scale the data as shown in:\n",
            "    https://scikit-learn.org/stable/modules/preprocessing.html\n",
            "Please also refer to the documentation for alternative solver options:\n",
            "    https://scikit-learn.org/stable/modules/linear_model.html#logistic-regression\n",
            "  extra_warning_msg=_LOGISTIC_SOLVER_CONVERGENCE_MSG,\n"
          ]
        }
      ],
      "source": [
        "for pipe in pipelines:\n",
        "\tpipe.fit(x1_train, y1_train)"
      ]
    },
    {
      "cell_type": "code",
      "execution_count": null,
      "metadata": {
        "id": "JsvgVw4rZQXn"
      },
      "outputs": [],
      "source": [
        "pred_rf = pipelines[0].predict(x1_test)\n",
        "pred_scv = pipelines[1].predict(X)\n",
        "pred_logit = pipelines[2].predict(X)"
      ]
    },
    {
      "cell_type": "code",
      "execution_count": null,
      "metadata": {
        "colab": {
          "base_uri": "https://localhost:8080/",
          "height": 296
        },
        "id": "TXxHoQSBbxlW",
        "outputId": "4a436e24-0163-4159-f88c-06fd8ef3f982"
      },
      "outputs": [
        {
          "data": {
            "text/plain": [
              "<sklearn.metrics._plot.confusion_matrix.ConfusionMatrixDisplay at 0x7f3b365e3310>"
            ]
          },
          "execution_count": 51,
          "metadata": {},
          "output_type": "execute_result"
        },
        {
          "data": {
            "image/png": "[encoded data removed]",
            "text/plain": [
              "<Figure size 432x288 with 2 Axes>"
            ]
          },
          "metadata": {},
          "output_type": "display_data"
        }
      ],
      "source": [
        "ConfusionMatrixDisplay.from_estimator(pipelines[0], x1_test, y1_test)"
      ]
    },
    {
      "cell_type": "code",
      "execution_count": null,
      "metadata": {
        "colab": {
          "base_uri": "https://localhost:8080/",
          "height": 296
        },
        "id": "ocsxfuOfd1pN",
        "outputId": "99b9b5a9-e391-403d-b0b7-d2c616237ef8"
      },
      "outputs": [
        {
          "data": {
            "text/plain": [
              "<sklearn.metrics._plot.roc_curve.RocCurveDisplay at 0x7f3b36663e90>"
            ]
          },
          "execution_count": 52,
          "metadata": {},
          "output_type": "execute_result"
        },
        {
          "data": {
            "image/png": "[encoded data removed]",
            "text/plain": [
              "<Figure size 432x288 with 1 Axes>"
            ]
          },
          "metadata": {},
          "output_type": "display_data"
        }
      ],
      "source": [
        "RocCurveDisplay.from_estimator(pipelines[0], x1_test, y1_test)"
      ]
    },
    {
      "cell_type": "code",
      "execution_count": null,
      "metadata": {
        "colab": {
          "base_uri": "https://localhost:8080/",
          "height": 296
        },
        "id": "ZsazD_KdeNdZ",
        "outputId": "eb780e4d-8d94-4ea6-b4f7-a7ff5fd74913"
      },
      "outputs": [
        {
          "data": {
            "text/plain": [
              "<sklearn.metrics._plot.roc_curve.RocCurveDisplay at 0x7f3b29d6bed0>"
            ]
          },
          "execution_count": 53,
          "metadata": {},
          "output_type": "execute_result"
        },
        {
          "data": {
            "image/png": "[encoded data removed]",
            "text/plain": [
              "<Figure size 432x288 with 1 Axes>"
            ]
          },
          "metadata": {},
          "output_type": "display_data"
        }
      ],
      "source": [
        "RocCurveDisplay.from_estimator(pipelines[1], x1_test, y1_test)"
      ]
    },
    {
      "cell_type": "code",
      "execution_count": null,
      "metadata": {
        "colab": {
          "base_uri": "https://localhost:8080/",
          "height": 296
        },
        "id": "Of8FjT7qePYB",
        "outputId": "4c568630-75bc-49b1-dcbe-2f8603d45abf"
      },
      "outputs": [
        {
          "data": {
            "text/plain": [
              "<sklearn.metrics._plot.roc_curve.RocCurveDisplay at 0x7f3b26fa43d0>"
            ]
          },
          "execution_count": 54,
          "metadata": {},
          "output_type": "execute_result"
        },
        {
          "data": {
            "image/png": "[encoded data removed]",
            "text/plain": [
              "<Figure size 432x288 with 1 Axes>"
            ]
          },
          "metadata": {},
          "output_type": "display_data"
        }
      ],
      "source": [
        "RocCurveDisplay.from_estimator(pipelines[2], x1_test, y1_test)"
      ]
    },
    {
      "cell_type": "code",
      "execution_count": null,
      "metadata": {
        "colab": {
          "base_uri": "https://localhost:8080/"
        },
        "id": "Idn8UaRab7PQ",
        "outputId": "a7f773de-e644-4396-a05b-71bb2234f8d1"
      },
      "outputs": [
        {
          "name": "stderr",
          "output_type": "stream",
          "text": [
            "/usr/local/lib/python3.7/dist-packages/sklearn/metrics/_classification.py:1318: UndefinedMetricWarning: Precision is ill-defined and being set to 0.0 due to no predicted samples. Use `zero_division` parameter to control this behavior.\n",
            "  _warn_prf(average, modifier, msg_start, len(result))\n"
          ]
        },
        {
          "data": {
            "text/plain": [
              "0.0"
            ]
          },
          "execution_count": 55,
          "metadata": {},
          "output_type": "execute_result"
        }
      ],
      "source": [
        "precision_score(y,pred_scv)"
      ]
    },
    {
      "cell_type": "code",
      "execution_count": null,
      "metadata": {
        "colab": {
          "base_uri": "https://localhost:8080/"
        },
        "id": "6xvhxZW0b_o-",
        "outputId": "a006916d-9c41-4343-82ed-b4b1f7887bba"
      },
      "outputs": [
        {
          "data": {
            "text/plain": [
              "0.5454545454545454"
            ]
          },
          "execution_count": 56,
          "metadata": {},
          "output_type": "execute_result"
        }
      ],
      "source": [
        "precision_score(y,pred_logit)"
      ]
    },
    {
      "cell_type": "markdown",
      "metadata": {
        "id": "MFtamLkRee7N"
      },
      "source": [
        "#### From here it is clear that the Logistic and RF models work the best out of the box, still though due to the high imbalance in the dataset, it may be smart to use various resamping and augemntation methods which we will try now. Additionally we will try using the novel CatBoost Method, to test out of the box performance"
      ]
    },
    {
      "cell_type": "code",
      "execution_count": null,
      "metadata": {
        "colab": {
          "base_uri": "https://localhost:8080/"
        },
        "id": "YO_uViXAesvD",
        "outputId": "efe1bcd8-91ce-4786-e541-0c9a132d1c70"
      },
      "outputs": [
        {
          "name": "stdout",
          "output_type": "stream",
          "text": [
            "Warning: No categorical columns found. Calling 'transform' will only return input data.\n",
            "Warning: No categorical columns found. Calling 'transform' will only return input data.\n",
            "Warning: No categorical columns found. Calling 'transform' will only return input data.\n"
          ]
        }
      ],
      "source": [
        "x1_train, x1_test, y1_train, y1_test = train_test_split(X, y, random_state=0, test_size = .20)\n",
        "\n",
        "cat_features_input = x1_train.select_dtypes(['object'])\n",
        "numerical_features_input = x1_train.select_dtypes(['int', 'float'])\n",
        "\n",
        "#encoding cat_features\n",
        "encdoer = CountEncoder(return_df = True)\n",
        "cat_features_input_encoded = encdoer.fit_transform(cat_features_input)\n",
        "\n",
        "#concat df back together\n",
        "x1_train = pd.concat([numerical_features_input, cat_features_input_encoded], axis =1)\n",
        "\n",
        "#processing test data\n",
        "cat_features_input_test = x1_test.select_dtypes(['object'])\n",
        "numerical_features_input_test = x1_test.select_dtypes(['int', 'float'])\n",
        "\n",
        "#encoding cat_features\n",
        "cat_features_input_encoded_test = encdoer.fit_transform(cat_features_input_test)\n",
        "\n",
        "#concat df back together\n",
        "x1_test = pd.concat([numerical_features_input_test, cat_features_input_encoded_test], axis =1)\n",
        "\n",
        "#training whole input vector to check predictions (will use later)\n",
        "cat_features_input_whole = X.select_dtypes(['object'])\n",
        "numerical_features_input_whole = X.select_dtypes(['int', 'float'])\n",
        "\n",
        "#encoding cat_features\n",
        "cat_features_input_encoded_whole = encdoer.fit_transform(cat_features_input_whole)\n",
        "\n",
        "#concat df back together\n",
        "X = pd.concat([numerical_features_input_whole, cat_features_input_encoded_whole], axis =1)"
      ]
    },
    {
      "cell_type": "code",
      "execution_count": null,
      "metadata": {
        "colab": {
          "base_uri": "https://localhost:8080/",
          "height": 282
        },
        "id": "lRfLZmnW0Gwo",
        "outputId": "f00414b9-b18f-462c-c20d-015a44d5c892"
      },
      "outputs": [
        {
          "data": {
            "text/plain": [
              "<matplotlib.axes._subplots.AxesSubplot at 0x7f3b29cfe050>"
            ]
          },
          "execution_count": 58,
          "metadata": {},
          "output_type": "execute_result"
        },
        {
          "data": {
            "image/png": "[encoded data removed]",
            "text/plain": [
              "<Figure size 432x288 with 1 Axes>"
            ]
          },
          "metadata": {},
          "output_type": "display_data"
        }
      ],
      "source": [
        "#seeing if any interesting patterns can be deduced by PCA\n",
        "from sklearn.decomposition import PCA\n",
        "from sklearn.preprocessing import scale\n",
        "pca = PCA(n_components=2, svd_solver='full')\n",
        "\n",
        "X_stnd = scale(X)\n",
        "\n",
        "pca.fit(X_stnd)\n",
        "reduced = pca.transform(X_stnd)\n",
        "\n",
        "#Interstingly enough clusters do exist within the dataset, despite the low variability between principal components\n",
        "sns.scatterplot(x = reduced[:, 0], y = reduced[:, 1])"
      ]
    },
    {
      "cell_type": "code",
      "execution_count": null,
      "metadata": {
        "colab": {
          "base_uri": "https://localhost:8080/",
          "height": 793
        },
        "id": "pyb38hyk3a5S",
        "outputId": "d8fa2f93-10e0-4ba1-f5f5-ebd0ec574e80"
      },
      "outputs": [
        {
          "data": {
            "text/html": [
              "\n",
              "  <div id=\"df-5c23cf93-0bae-4f07-861c-e5efe4d98be2\">\n",
              "    <div class=\"colab-df-container\">\n",
              "      <div>\n",
              "<style scoped>\n",
              "    .dataframe tbody tr th:only-of-type {\n",
              "        vertical-align: middle;\n",
              "    }\n",
              "\n",
              "    .dataframe tbody tr th {\n",
              "        vertical-align: top;\n",
              "    }\n",
              "\n",
              "    .dataframe thead th {\n",
              "        text-align: right;\n",
              "    }\n",
              "</style>\n",
              "<table border=\"1\" class=\"dataframe\">\n",
              "  <thead>\n",
              "    <tr style=\"text-align: right;\">\n",
              "      <th></th>\n",
              "      <th>PC1</th>\n",
              "      <th>PC2</th>\n",
              "    </tr>\n",
              "  </thead>\n",
              "  <tbody>\n",
              "    <tr>\n",
              "      <th>Unitaction_Two</th>\n",
              "      <td>1.564512e-01</td>\n",
              "      <td>2.909245e-02</td>\n",
              "    </tr>\n",
              "    <tr>\n",
              "      <th>median_age</th>\n",
              "      <td>1.251693e-01</td>\n",
              "      <td>-3.149609e-02</td>\n",
              "    </tr>\n",
              "    <tr>\n",
              "      <th>DrugUse_Drv1</th>\n",
              "      <td>1.210435e-01</td>\n",
              "      <td>-9.504170e-01</td>\n",
              "    </tr>\n",
              "    <tr>\n",
              "      <th>Gender_Drv2</th>\n",
              "      <td>6.627420e-02</td>\n",
              "      <td>5.692594e-02</td>\n",
              "    </tr>\n",
              "    <tr>\n",
              "      <th>CrossStreet</th>\n",
              "      <td>5.663692e-02</td>\n",
              "      <td>3.280685e-02</td>\n",
              "    </tr>\n",
              "    <tr>\n",
              "      <th>AlcoholUse_Drv1</th>\n",
              "      <td>3.803358e-02</td>\n",
              "      <td>-2.080118e-01</td>\n",
              "    </tr>\n",
              "    <tr>\n",
              "      <th>Gender_Drv1</th>\n",
              "      <td>2.975561e-02</td>\n",
              "      <td>6.217377e-02</td>\n",
              "    </tr>\n",
              "    <tr>\n",
              "      <th>alcohol_involved</th>\n",
              "      <td>1.615761e-16</td>\n",
              "      <td>3.953374e-17</td>\n",
              "    </tr>\n",
              "    <tr>\n",
              "      <th>DrugUse_Drv2</th>\n",
              "      <td>-3.020810e-03</td>\n",
              "      <td>-2.452091e-01</td>\n",
              "    </tr>\n",
              "    <tr>\n",
              "      <th>SurfaceCondition</th>\n",
              "      <td>-5.863303e-02</td>\n",
              "      <td>1.760002e-02</td>\n",
              "    </tr>\n",
              "    <tr>\n",
              "      <th>Weather</th>\n",
              "      <td>-5.994408e-02</td>\n",
              "      <td>1.111013e-02</td>\n",
              "    </tr>\n",
              "    <tr>\n",
              "      <th>Lightcondition</th>\n",
              "      <td>-6.278084e-02</td>\n",
              "      <td>-1.327129e-01</td>\n",
              "    </tr>\n",
              "    <tr>\n",
              "      <th>AlcoholUse_Drv2</th>\n",
              "      <td>-7.620927e-02</td>\n",
              "      <td>-5.892712e-02</td>\n",
              "    </tr>\n",
              "    <tr>\n",
              "      <th>drugs_involved</th>\n",
              "      <td>-1.166248e-01</td>\n",
              "      <td>9.819045e-01</td>\n",
              "    </tr>\n",
              "    <tr>\n",
              "      <th>Unittype_Two</th>\n",
              "      <td>-2.137334e-01</td>\n",
              "      <td>-2.003543e-02</td>\n",
              "    </tr>\n",
              "    <tr>\n",
              "      <th>JunctionRelation</th>\n",
              "      <td>-2.163182e-01</td>\n",
              "      <td>-2.248422e-02</td>\n",
              "    </tr>\n",
              "    <tr>\n",
              "      <th>Traveldirection_Two</th>\n",
              "      <td>-2.270181e-01</td>\n",
              "      <td>-1.477769e-02</td>\n",
              "    </tr>\n",
              "    <tr>\n",
              "      <th>StreetName</th>\n",
              "      <td>-2.374250e-01</td>\n",
              "      <td>-2.162250e-02</td>\n",
              "    </tr>\n",
              "    <tr>\n",
              "      <th>Unittype_One</th>\n",
              "      <td>-2.589693e-01</td>\n",
              "      <td>-6.567236e-02</td>\n",
              "    </tr>\n",
              "    <tr>\n",
              "      <th>Violation1_Drv2</th>\n",
              "      <td>-3.360668e-01</td>\n",
              "      <td>-1.649993e-02</td>\n",
              "    </tr>\n",
              "    <tr>\n",
              "      <th>Traveldirection_One</th>\n",
              "      <td>-3.615956e-01</td>\n",
              "      <td>-1.613573e-02</td>\n",
              "    </tr>\n",
              "    <tr>\n",
              "      <th>Unitaction_One</th>\n",
              "      <td>-6.466194e-01</td>\n",
              "      <td>-5.706362e-02</td>\n",
              "    </tr>\n",
              "    <tr>\n",
              "      <th>Violation1_Drv1</th>\n",
              "      <td>-6.521999e-01</td>\n",
              "      <td>-7.041408e-02</td>\n",
              "    </tr>\n",
              "    <tr>\n",
              "      <th>Collisionmanner</th>\n",
              "      <td>-8.174941e-01</td>\n",
              "      <td>-1.084636e-01</td>\n",
              "    </tr>\n",
              "  </tbody>\n",
              "</table>\n",
              "</div>\n",
              "      <button class=\"colab-df-convert\" onclick=\"convertToInteractive('df-5c23cf93-0bae-4f07-861c-e5efe4d98be2')\"\n",
              "              title=\"Convert this dataframe to an interactive table.\"\n",
              "              style=\"display:none;\">\n",
              "        \n",
              "  <svg xmlns=\"http://www.w3.org/2000/svg\" height=\"24px\"viewBox=\"0 0 24 24\"\n",
              "       width=\"24px\">\n",
              "    <path d=\"M0 0h24v24H0V0z\" fill=\"none\"/>\n",
              "    <path d=\"M18.56 5.44l.94 2.06.94-2.06 2.06-.94-2.06-.94-.94-2.06-.94 2.06-2.06.94zm-11 1L8.5 8.5l.94-2.06 2.06-.94-2.06-.94L8.5 2.5l-.94 2.06-2.06.94zm10 10l.94 2.06.94-2.06 2.06-.94-2.06-.94-.94-2.06-.94 2.06-2.06.94z\"/><path d=\"M17.41 7.96l-1.37-1.37c-.4-.4-.92-.59-1.43-.59-.52 0-1.04.2-1.43.59L10.3 9.45l-7.72 7.72c-.78.78-.78 2.05 0 2.83L4 21.41c.39.39.9.59 1.41.59.51 0 1.02-.2 1.41-.59l7.78-7.78 2.81-2.81c.8-.78.8-2.07 0-2.86zM5.41 20L4 18.59l7.72-7.72 1.47 1.35L5.41 20z\"/>\n",
              "  </svg>\n",
              "      </button>\n",
              "      \n",
              "  <style>\n",
              "    .colab-df-container {\n",
              "      display:flex;\n",
              "      flex-wrap:wrap;\n",
              "      gap: 12px;\n",
              "    }\n",
              "\n",
              "    .colab-df-convert {\n",
              "      background-color: #E8F0FE;\n",
              "      border: none;\n",
              "      border-radius: 50%;\n",
              "      cursor: pointer;\n",
              "      display: none;\n",
              "      fill: #1967D2;\n",
              "      height: 32px;\n",
              "      padding: 0 0 0 0;\n",
              "      width: 32px;\n",
              "    }\n",
              "\n",
              "    .colab-df-convert:hover {\n",
              "      background-color: #E2EBFA;\n",
              "      box-shadow: 0px 1px 2px rgba(60, 64, 67, 0.3), 0px 1px 3px 1px rgba(60, 64, 67, 0.15);\n",
              "      fill: #174EA6;\n",
              "    }\n",
              "\n",
              "    [theme=dark] .colab-df-convert {\n",
              "      background-color: #3B4455;\n",
              "      fill: #D2E3FC;\n",
              "    }\n",
              "\n",
              "    [theme=dark] .colab-df-convert:hover {\n",
              "      background-color: #434B5C;\n",
              "      box-shadow: 0px 1px 3px 1px rgba(0, 0, 0, 0.15);\n",
              "      filter: drop-shadow(0px 1px 2px rgba(0, 0, 0, 0.3));\n",
              "      fill: #FFFFFF;\n",
              "    }\n",
              "  </style>\n",
              "\n",
              "      <script>\n",
              "        const buttonEl =\n",
              "          document.querySelector('#df-5c23cf93-0bae-4f07-861c-e5efe4d98be2 button.colab-df-convert');\n",
              "        buttonEl.style.display =\n",
              "          google.colab.kernel.accessAllowed ? 'block' : 'none';\n",
              "\n",
              "        async function convertToInteractive(key) {\n",
              "          const element = document.querySelector('#df-5c23cf93-0bae-4f07-861c-e5efe4d98be2');\n",
              "          const dataTable =\n",
              "            await google.colab.kernel.invokeFunction('convertToInteractive',\n",
              "                                                     [key], {});\n",
              "          if (!dataTable) return;\n",
              "\n",
              "          const docLinkHtml = 'Like what you see? Visit the ' +\n",
              "            '<a target=\"_blank\" href=https://colab.research.google.com/notebooks/data_table.ipynb>data table notebook</a>'\n",
              "            + ' to learn more about interactive tables.';\n",
              "          element.innerHTML = '';\n",
              "          dataTable['output_type'] = 'display_data';\n",
              "          await google.colab.output.renderOutput(dataTable, element);\n",
              "          const docLink = document.createElement('div');\n",
              "          docLink.innerHTML = docLinkHtml;\n",
              "          element.appendChild(docLink);\n",
              "        }\n",
              "      </script>\n",
              "    </div>\n",
              "  </div>\n",
              "  "
            ],
            "text/plain": [
              "                              PC1           PC2\n",
              "Unitaction_Two       1.564512e-01  2.909245e-02\n",
              "median_age           1.251693e-01 -3.149609e-02\n",
              "DrugUse_Drv1         1.210435e-01 -9.504170e-01\n",
              "Gender_Drv2          6.627420e-02  5.692594e-02\n",
              "CrossStreet          5.663692e-02  3.280685e-02\n",
              "AlcoholUse_Drv1      3.803358e-02 -2.080118e-01\n",
              "Gender_Drv1          2.975561e-02  6.217377e-02\n",
              "alcohol_involved     1.615761e-16  3.953374e-17\n",
              "DrugUse_Drv2        -3.020810e-03 -2.452091e-01\n",
              "SurfaceCondition    -5.863303e-02  1.760002e-02\n",
              "Weather             -5.994408e-02  1.111013e-02\n",
              "Lightcondition      -6.278084e-02 -1.327129e-01\n",
              "AlcoholUse_Drv2     -7.620927e-02 -5.892712e-02\n",
              "drugs_involved      -1.166248e-01  9.819045e-01\n",
              "Unittype_Two        -2.137334e-01 -2.003543e-02\n",
              "JunctionRelation    -2.163182e-01 -2.248422e-02\n",
              "Traveldirection_Two -2.270181e-01 -1.477769e-02\n",
              "StreetName          -2.374250e-01 -2.162250e-02\n",
              "Unittype_One        -2.589693e-01 -6.567236e-02\n",
              "Violation1_Drv2     -3.360668e-01 -1.649993e-02\n",
              "Traveldirection_One -3.615956e-01 -1.613573e-02\n",
              "Unitaction_One      -6.466194e-01 -5.706362e-02\n",
              "Violation1_Drv1     -6.521999e-01 -7.041408e-02\n",
              "Collisionmanner     -8.174941e-01 -1.084636e-01"
            ]
          },
          "execution_count": 59,
          "metadata": {},
          "output_type": "execute_result"
        }
      ],
      "source": [
        "loadings = pca.components_.T * np.sqrt(pca.explained_variance_)\n",
        "\n",
        "loading_matrix = pd.DataFrame(loadings, columns=['PC1', 'PC2'], index=X.columns)\n",
        "loading_matrix.sort_values(by = 'PC1', ascending = False)"
      ]
    },
    {
      "cell_type": "code",
      "execution_count": null,
      "metadata": {
        "colab": {
          "base_uri": "https://localhost:8080/"
        },
        "id": "dz11suvs4JeO",
        "outputId": "123ae38f-77ae-4281-8197-60d48b7453f3"
      },
      "outputs": [
        {
          "name": "stdout",
          "output_type": "stream",
          "text": [
            "Looking in indexes: https://pypi.org/simple, https://us-python.pkg.dev/colab-wheels/public/simple/\n",
            "Requirement already satisfied: catboost in /usr/local/lib/python3.7/dist-packages (1.0.6)\n",
            "Requirement already satisfied: pandas>=0.24.0 in /usr/local/lib/python3.7/dist-packages (from catboost) (1.3.5)\n",
            "Requirement already satisfied: graphviz in /usr/local/lib/python3.7/dist-packages (from catboost) (0.10.1)\n",
            "Requirement already satisfied: matplotlib in /usr/local/lib/python3.7/dist-packages (from catboost) (3.2.2)\n",
            "Requirement already satisfied: six in /usr/local/lib/python3.7/dist-packages (from catboost) (1.15.0)\n",
            "Requirement already satisfied: scipy in /usr/local/lib/python3.7/dist-packages (from catboost) (1.7.3)\n",
            "Requirement already satisfied: numpy>=1.16.0 in /usr/local/lib/python3.7/dist-packages (from catboost) (1.21.6)\n",
            "Requirement already satisfied: plotly in /usr/local/lib/python3.7/dist-packages (from catboost) (5.5.0)\n",
            "Requirement already satisfied: pytz>=2017.3 in /usr/local/lib/python3.7/dist-packages (from pandas>=0.24.0->catboost) (2022.1)\n",
            "Requirement already satisfied: python-dateutil>=2.7.3 in /usr/local/lib/python3.7/dist-packages (from pandas>=0.24.0->catboost) (2.8.2)\n",
            "Requirement already satisfied: kiwisolver>=1.0.1 in /usr/local/lib/python3.7/dist-packages (from matplotlib->catboost) (1.4.3)\n",
            "Requirement already satisfied: cycler>=0.10 in /usr/local/lib/python3.7/dist-packages (from matplotlib->catboost) (0.11.0)\n",
            "Requirement already satisfied: pyparsing!=2.0.4,!=2.1.2,!=2.1.6,>=2.0.1 in /usr/local/lib/python3.7/dist-packages (from matplotlib->catboost) (3.0.9)\n",
            "Requirement already satisfied: typing-extensions in /usr/local/lib/python3.7/dist-packages (from kiwisolver>=1.0.1->matplotlib->catboost) (4.1.1)\n",
            "Requirement already satisfied: tenacity>=6.2.0 in /usr/local/lib/python3.7/dist-packages (from plotly->catboost) (8.0.1)\n"
          ]
        }
      ],
      "source": [
        "#catboost time \n",
        "!pip install catboost\n",
        "\n",
        "x1_train, x1_test, y1_train, y1_test = train_test_split(input_vector, y, random_state=0, test_size = .20)\n"
      ]
    },
    {
      "cell_type": "code",
      "execution_count": null,
      "metadata": {
        "id": "64hlpdTq93W_"
      },
      "outputs": [],
      "source": [
        "cat_features_input = x1_train.select_dtypes(['object']).columns"
      ]
    },
    {
      "cell_type": "code",
      "execution_count": null,
      "metadata": {
        "colab": {
          "base_uri": "https://localhost:8080/",
          "height": 1000,
          "referenced_widgets": [
            "2873f8bc591c48a18b2adacb0e5e4714"
          ]
        },
        "id": "-HwNzhmF8mlU",
        "outputId": "bcddd96d-6e9a-4cf7-8226-628d692789ec"
      },
      "outputs": [
        {
          "data": {
            "application/vnd.jupyter.widget-view+json": {
              "model_id": "2873f8bc591c48a18b2adacb0e5e4714",
              "version_major": 2,
              "version_minor": 0
            },
            "text/plain": [
              "MetricVisualizer(layout=Layout(align_self='stretch', height='500px'))"
            ]
          },
          "metadata": {},
          "output_type": "display_data"
        },
        {
          "name": "stdout",
          "output_type": "stream",
          "text": [
            "Learning rate set to 0.041359\n",
            "0:\tlearn: 0.5759000\ttotal: 102ms\tremaining: 1m 42s\n",
            "1:\tlearn: 0.4746421\ttotal: 170ms\tremaining: 1m 24s\n",
            "2:\tlearn: 0.3952125\ttotal: 193ms\tremaining: 1m 4s\n",
            "3:\tlearn: 0.3297284\ttotal: 210ms\tremaining: 52.4s\n",
            "4:\tlearn: 0.2740999\ttotal: 321ms\tremaining: 1m 3s\n",
            "5:\tlearn: 0.2278524\ttotal: 395ms\tremaining: 1m 5s\n",
            "6:\tlearn: 0.1924427\ttotal: 438ms\tremaining: 1m 2s\n",
            "7:\tlearn: 0.1635516\ttotal: 488ms\tremaining: 1m\n",
            "8:\tlearn: 0.1398560\ttotal: 552ms\tremaining: 1m\n",
            "9:\tlearn: 0.1201802\ttotal: 662ms\tremaining: 1m 5s\n",
            "10:\tlearn: 0.1027492\ttotal: 789ms\tremaining: 1m 10s\n",
            "11:\tlearn: 0.0897090\ttotal: 825ms\tremaining: 1m 7s\n",
            "12:\tlearn: 0.0784464\ttotal: 898ms\tremaining: 1m 8s\n",
            "13:\tlearn: 0.0688290\ttotal: 1.01s\tremaining: 1m 11s\n",
            "14:\tlearn: 0.0603469\ttotal: 1.13s\tremaining: 1m 13s\n",
            "15:\tlearn: 0.0538405\ttotal: 1.22s\tremaining: 1m 14s\n",
            "16:\tlearn: 0.0487598\ttotal: 1.23s\tremaining: 1m 11s\n",
            "17:\tlearn: 0.0444562\ttotal: 1.26s\tremaining: 1m 8s\n",
            "18:\tlearn: 0.0401220\ttotal: 1.35s\tremaining: 1m 9s\n",
            "19:\tlearn: 0.0360188\ttotal: 1.45s\tremaining: 1m 10s\n",
            "20:\tlearn: 0.0328865\ttotal: 1.54s\tremaining: 1m 11s\n",
            "21:\tlearn: 0.0301974\ttotal: 1.64s\tremaining: 1m 12s\n",
            "22:\tlearn: 0.0283895\ttotal: 1.69s\tremaining: 1m 11s\n",
            "23:\tlearn: 0.0262801\ttotal: 1.79s\tremaining: 1m 12s\n",
            "24:\tlearn: 0.0246362\ttotal: 1.89s\tremaining: 1m 13s\n",
            "25:\tlearn: 0.0231383\ttotal: 2.07s\tremaining: 1m 17s\n",
            "26:\tlearn: 0.0218711\ttotal: 2.23s\tremaining: 1m 20s\n",
            "27:\tlearn: 0.0209323\ttotal: 2.34s\tremaining: 1m 21s\n",
            "28:\tlearn: 0.0200923\ttotal: 2.45s\tremaining: 1m 22s\n",
            "29:\tlearn: 0.0193776\ttotal: 2.55s\tremaining: 1m 22s\n",
            "30:\tlearn: 0.0186759\ttotal: 2.64s\tremaining: 1m 22s\n",
            "31:\tlearn: 0.0181006\ttotal: 2.71s\tremaining: 1m 22s\n",
            "32:\tlearn: 0.0174846\ttotal: 2.84s\tremaining: 1m 23s\n",
            "33:\tlearn: 0.0170675\ttotal: 2.94s\tremaining: 1m 23s\n",
            "34:\tlearn: 0.0166937\ttotal: 3.04s\tremaining: 1m 23s\n",
            "35:\tlearn: 0.0162154\ttotal: 3.19s\tremaining: 1m 25s\n",
            "36:\tlearn: 0.0158344\ttotal: 3.41s\tremaining: 1m 28s\n",
            "37:\tlearn: 0.0155695\ttotal: 3.58s\tremaining: 1m 30s\n",
            "38:\tlearn: 0.0152174\ttotal: 3.78s\tremaining: 1m 33s\n",
            "39:\tlearn: 0.0149125\ttotal: 3.98s\tremaining: 1m 35s\n",
            "40:\tlearn: 0.0146363\ttotal: 4.16s\tremaining: 1m 37s\n",
            "41:\tlearn: 0.0143418\ttotal: 4.33s\tremaining: 1m 38s\n",
            "42:\tlearn: 0.0141767\ttotal: 4.54s\tremaining: 1m 41s\n",
            "43:\tlearn: 0.0139213\ttotal: 4.77s\tremaining: 1m 43s\n",
            "44:\tlearn: 0.0136935\ttotal: 5.03s\tremaining: 1m 46s\n",
            "45:\tlearn: 0.0135881\ttotal: 5.2s\tremaining: 1m 47s\n",
            "46:\tlearn: 0.0134298\ttotal: 5.39s\tremaining: 1m 49s\n",
            "47:\tlearn: 0.0133448\ttotal: 5.7s\tremaining: 1m 53s\n",
            "48:\tlearn: 0.0132605\ttotal: 5.89s\tremaining: 1m 54s\n",
            "49:\tlearn: 0.0131854\ttotal: 6.12s\tremaining: 1m 56s\n",
            "50:\tlearn: 0.0131173\ttotal: 6.29s\tremaining: 1m 57s\n",
            "51:\tlearn: 0.0129411\ttotal: 6.45s\tremaining: 1m 57s\n",
            "52:\tlearn: 0.0128878\ttotal: 6.65s\tremaining: 1m 58s\n",
            "53:\tlearn: 0.0127807\ttotal: 6.9s\tremaining: 2m\n",
            "54:\tlearn: 0.0126904\ttotal: 7.1s\tremaining: 2m 2s\n",
            "55:\tlearn: 0.0125932\ttotal: 7.28s\tremaining: 2m 2s\n",
            "56:\tlearn: 0.0125162\ttotal: 7.47s\tremaining: 2m 3s\n",
            "57:\tlearn: 0.0124378\ttotal: 7.67s\tremaining: 2m 4s\n",
            "58:\tlearn: 0.0123647\ttotal: 7.87s\tremaining: 2m 5s\n",
            "59:\tlearn: 0.0123279\ttotal: 8.09s\tremaining: 2m 6s\n",
            "60:\tlearn: 0.0122652\ttotal: 8.31s\tremaining: 2m 7s\n",
            "61:\tlearn: 0.0122060\ttotal: 8.49s\tremaining: 2m 8s\n",
            "62:\tlearn: 0.0121451\ttotal: 8.66s\tremaining: 2m 8s\n",
            "63:\tlearn: 0.0120654\ttotal: 8.84s\tremaining: 2m 9s\n",
            "64:\tlearn: 0.0120031\ttotal: 9.07s\tremaining: 2m 10s\n",
            "65:\tlearn: 0.0119070\ttotal: 9.25s\tremaining: 2m 10s\n",
            "66:\tlearn: 0.0118577\ttotal: 9.42s\tremaining: 2m 11s\n",
            "67:\tlearn: 0.0118398\ttotal: 9.6s\tremaining: 2m 11s\n",
            "68:\tlearn: 0.0117877\ttotal: 9.78s\tremaining: 2m 11s\n",
            "69:\tlearn: 0.0117224\ttotal: 10s\tremaining: 2m 13s\n",
            "70:\tlearn: 0.0116843\ttotal: 10.3s\tremaining: 2m 14s\n",
            "71:\tlearn: 0.0116681\ttotal: 10.5s\tremaining: 2m 14s\n",
            "72:\tlearn: 0.0116358\ttotal: 10.6s\tremaining: 2m 15s\n",
            "73:\tlearn: 0.0116157\ttotal: 10.9s\tremaining: 2m 16s\n",
            "74:\tlearn: 0.0115328\ttotal: 11.2s\tremaining: 2m 17s\n",
            "75:\tlearn: 0.0114640\ttotal: 11.3s\tremaining: 2m 17s\n",
            "76:\tlearn: 0.0114417\ttotal: 11.6s\tremaining: 2m 18s\n",
            "77:\tlearn: 0.0114108\ttotal: 11.8s\tremaining: 2m 19s\n",
            "78:\tlearn: 0.0113937\ttotal: 12s\tremaining: 2m 19s\n",
            "79:\tlearn: 0.0113371\ttotal: 12.1s\tremaining: 2m 19s\n",
            "80:\tlearn: 0.0113225\ttotal: 12.3s\tremaining: 2m 19s\n",
            "81:\tlearn: 0.0113205\ttotal: 12.4s\tremaining: 2m 19s\n",
            "82:\tlearn: 0.0112529\ttotal: 12.6s\tremaining: 2m 19s\n",
            "83:\tlearn: 0.0111912\ttotal: 12.8s\tremaining: 2m 19s\n",
            "84:\tlearn: 0.0111413\ttotal: 13s\tremaining: 2m 20s\n",
            "85:\tlearn: 0.0111021\ttotal: 13.2s\tremaining: 2m 20s\n",
            "86:\tlearn: 0.0110859\ttotal: 13.4s\tremaining: 2m 20s\n",
            "87:\tlearn: 0.0110783\ttotal: 13.5s\tremaining: 2m 19s\n",
            "88:\tlearn: 0.0110736\ttotal: 13.6s\tremaining: 2m 19s\n",
            "89:\tlearn: 0.0110542\ttotal: 13.8s\tremaining: 2m 19s\n",
            "90:\tlearn: 0.0110424\ttotal: 14s\tremaining: 2m 19s\n",
            "91:\tlearn: 0.0110132\ttotal: 14.2s\tremaining: 2m 19s\n",
            "92:\tlearn: 0.0109943\ttotal: 14.4s\tremaining: 2m 20s\n",
            "93:\tlearn: 0.0109930\ttotal: 14.5s\tremaining: 2m 19s\n",
            "94:\tlearn: 0.0109431\ttotal: 14.7s\tremaining: 2m 19s\n",
            "95:\tlearn: 0.0109169\ttotal: 14.9s\tremaining: 2m 20s\n",
            "96:\tlearn: 0.0109147\ttotal: 15s\tremaining: 2m 19s\n",
            "97:\tlearn: 0.0108990\ttotal: 15.2s\tremaining: 2m 20s\n",
            "98:\tlearn: 0.0108481\ttotal: 15.4s\tremaining: 2m 20s\n",
            "99:\tlearn: 0.0107920\ttotal: 15.6s\tremaining: 2m 20s\n",
            "100:\tlearn: 0.0107647\ttotal: 15.8s\tremaining: 2m 20s\n",
            "101:\tlearn: 0.0107536\ttotal: 16s\tremaining: 2m 20s\n",
            "102:\tlearn: 0.0107408\ttotal: 16.2s\tremaining: 2m 21s\n",
            "103:\tlearn: 0.0107274\ttotal: 16.5s\tremaining: 2m 22s\n",
            "104:\tlearn: 0.0107172\ttotal: 16.7s\tremaining: 2m 22s\n",
            "105:\tlearn: 0.0106972\ttotal: 17s\tremaining: 2m 23s\n",
            "106:\tlearn: 0.0106823\ttotal: 17.2s\tremaining: 2m 23s\n",
            "107:\tlearn: 0.0106615\ttotal: 17.5s\tremaining: 2m 24s\n",
            "108:\tlearn: 0.0106420\ttotal: 17.7s\tremaining: 2m 24s\n",
            "109:\tlearn: 0.0106205\ttotal: 17.9s\tremaining: 2m 25s\n",
            "110:\tlearn: 0.0106051\ttotal: 18.1s\tremaining: 2m 25s\n",
            "111:\tlearn: 0.0105940\ttotal: 18.4s\tremaining: 2m 26s\n",
            "112:\tlearn: 0.0105802\ttotal: 18.7s\tremaining: 2m 26s\n",
            "113:\tlearn: 0.0105625\ttotal: 18.9s\tremaining: 2m 26s\n",
            "114:\tlearn: 0.0105561\ttotal: 19.1s\tremaining: 2m 27s\n",
            "115:\tlearn: 0.0105397\ttotal: 19.3s\tremaining: 2m 27s\n",
            "116:\tlearn: 0.0105314\ttotal: 19.6s\tremaining: 2m 27s\n",
            "117:\tlearn: 0.0105222\ttotal: 19.7s\tremaining: 2m 27s\n",
            "118:\tlearn: 0.0105117\ttotal: 20s\tremaining: 2m 28s\n",
            "119:\tlearn: 0.0104919\ttotal: 20.2s\tremaining: 2m 28s\n",
            "120:\tlearn: 0.0104755\ttotal: 20.4s\tremaining: 2m 28s\n",
            "121:\tlearn: 0.0104416\ttotal: 20.6s\tremaining: 2m 28s\n",
            "122:\tlearn: 0.0104402\ttotal: 20.7s\tremaining: 2m 27s\n",
            "123:\tlearn: 0.0104263\ttotal: 21s\tremaining: 2m 28s\n",
            "124:\tlearn: 0.0104037\ttotal: 21.3s\tremaining: 2m 29s\n",
            "125:\tlearn: 0.0103860\ttotal: 21.6s\tremaining: 2m 29s\n",
            "126:\tlearn: 0.0103730\ttotal: 21.8s\tremaining: 2m 30s\n",
            "127:\tlearn: 0.0103714\ttotal: 22s\tremaining: 2m 30s\n",
            "128:\tlearn: 0.0103577\ttotal: 22.2s\tremaining: 2m 29s\n",
            "129:\tlearn: 0.0103572\ttotal: 22.4s\tremaining: 2m 29s\n",
            "130:\tlearn: 0.0103436\ttotal: 22.6s\tremaining: 2m 29s\n",
            "131:\tlearn: 0.0103313\ttotal: 22.8s\tremaining: 2m 29s\n",
            "132:\tlearn: 0.0103119\ttotal: 23s\tremaining: 2m 29s\n",
            "133:\tlearn: 0.0102892\ttotal: 23.2s\tremaining: 2m 29s\n",
            "134:\tlearn: 0.0102578\ttotal: 23.4s\tremaining: 2m 29s\n",
            "135:\tlearn: 0.0102575\ttotal: 23.5s\tremaining: 2m 29s\n",
            "136:\tlearn: 0.0102500\ttotal: 23.6s\tremaining: 2m 28s\n",
            "137:\tlearn: 0.0102488\ttotal: 23.7s\tremaining: 2m 28s\n",
            "138:\tlearn: 0.0102323\ttotal: 23.9s\tremaining: 2m 28s\n",
            "139:\tlearn: 0.0102211\ttotal: 24.1s\tremaining: 2m 28s\n",
            "140:\tlearn: 0.0101735\ttotal: 24.3s\tremaining: 2m 27s\n",
            "141:\tlearn: 0.0101311\ttotal: 24.5s\tremaining: 2m 27s\n",
            "142:\tlearn: 0.0101224\ttotal: 24.6s\tremaining: 2m 27s\n",
            "143:\tlearn: 0.0101078\ttotal: 24.8s\tremaining: 2m 27s\n",
            "144:\tlearn: 0.0101040\ttotal: 25s\tremaining: 2m 27s\n",
            "145:\tlearn: 0.0100891\ttotal: 25.2s\tremaining: 2m 27s\n",
            "146:\tlearn: 0.0100776\ttotal: 25.5s\tremaining: 2m 28s\n",
            "147:\tlearn: 0.0100755\ttotal: 25.7s\tremaining: 2m 27s\n",
            "148:\tlearn: 0.0100541\ttotal: 25.9s\tremaining: 2m 27s\n",
            "149:\tlearn: 0.0100324\ttotal: 26.2s\tremaining: 2m 28s\n",
            "150:\tlearn: 0.0100318\ttotal: 26.3s\tremaining: 2m 27s\n",
            "151:\tlearn: 0.0100315\ttotal: 26.4s\tremaining: 2m 27s\n",
            "152:\tlearn: 0.0100313\ttotal: 26.6s\tremaining: 2m 27s\n",
            "153:\tlearn: 0.0100311\ttotal: 26.7s\tremaining: 2m 26s\n",
            "154:\tlearn: 0.0100145\ttotal: 27s\tremaining: 2m 27s\n",
            "155:\tlearn: 0.0099941\ttotal: 27.2s\tremaining: 2m 27s\n",
            "156:\tlearn: 0.0099816\ttotal: 27.4s\tremaining: 2m 27s\n",
            "157:\tlearn: 0.0099735\ttotal: 27.6s\tremaining: 2m 27s\n",
            "158:\tlearn: 0.0099726\ttotal: 27.7s\tremaining: 2m 26s\n",
            "159:\tlearn: 0.0099707\ttotal: 27.8s\tremaining: 2m 25s\n",
            "160:\tlearn: 0.0099472\ttotal: 28s\tremaining: 2m 26s\n",
            "161:\tlearn: 0.0099454\ttotal: 28.2s\tremaining: 2m 25s\n",
            "162:\tlearn: 0.0099452\ttotal: 28.3s\tremaining: 2m 25s\n",
            "163:\tlearn: 0.0099300\ttotal: 28.5s\tremaining: 2m 25s\n",
            "164:\tlearn: 0.0099211\ttotal: 28.8s\tremaining: 2m 25s\n",
            "165:\tlearn: 0.0099034\ttotal: 29s\tremaining: 2m 25s\n",
            "166:\tlearn: 0.0098997\ttotal: 29.1s\tremaining: 2m 25s\n",
            "167:\tlearn: 0.0098854\ttotal: 29.3s\tremaining: 2m 25s\n",
            "168:\tlearn: 0.0098553\ttotal: 29.6s\tremaining: 2m 25s\n",
            "169:\tlearn: 0.0098380\ttotal: 30s\tremaining: 2m 26s\n",
            "170:\tlearn: 0.0098311\ttotal: 30.3s\tremaining: 2m 26s\n",
            "171:\tlearn: 0.0098223\ttotal: 30.4s\tremaining: 2m 26s\n",
            "172:\tlearn: 0.0098029\ttotal: 30.7s\tremaining: 2m 26s\n",
            "173:\tlearn: 0.0098027\ttotal: 30.8s\tremaining: 2m 26s\n",
            "174:\tlearn: 0.0097973\ttotal: 31s\tremaining: 2m 26s\n",
            "175:\tlearn: 0.0097775\ttotal: 31.2s\tremaining: 2m 26s\n",
            "176:\tlearn: 0.0097432\ttotal: 31.4s\tremaining: 2m 26s\n",
            "177:\tlearn: 0.0097270\ttotal: 31.6s\tremaining: 2m 26s\n",
            "178:\tlearn: 0.0097183\ttotal: 31.8s\tremaining: 2m 25s\n",
            "179:\tlearn: 0.0096577\ttotal: 32s\tremaining: 2m 25s\n",
            "180:\tlearn: 0.0096258\ttotal: 32.2s\tremaining: 2m 25s\n",
            "181:\tlearn: 0.0096126\ttotal: 32.4s\tremaining: 2m 25s\n",
            "182:\tlearn: 0.0095784\ttotal: 32.6s\tremaining: 2m 25s\n",
            "183:\tlearn: 0.0095721\ttotal: 32.8s\tremaining: 2m 25s\n",
            "184:\tlearn: 0.0095682\ttotal: 33s\tremaining: 2m 25s\n",
            "185:\tlearn: 0.0095607\ttotal: 33.1s\tremaining: 2m 25s\n",
            "186:\tlearn: 0.0095501\ttotal: 33.4s\tremaining: 2m 25s\n",
            "187:\tlearn: 0.0095486\ttotal: 33.5s\tremaining: 2m 24s\n",
            "188:\tlearn: 0.0095453\ttotal: 33.6s\tremaining: 2m 24s\n",
            "189:\tlearn: 0.0095391\ttotal: 33.7s\tremaining: 2m 23s\n",
            "190:\tlearn: 0.0095107\ttotal: 33.9s\tremaining: 2m 23s\n",
            "191:\tlearn: 0.0094939\ttotal: 34.1s\tremaining: 2m 23s\n",
            "192:\tlearn: 0.0094907\ttotal: 34.4s\tremaining: 2m 23s\n",
            "193:\tlearn: 0.0094566\ttotal: 34.6s\tremaining: 2m 23s\n",
            "194:\tlearn: 0.0094558\ttotal: 34.7s\tremaining: 2m 23s\n",
            "195:\tlearn: 0.0094516\ttotal: 35s\tremaining: 2m 23s\n",
            "196:\tlearn: 0.0094403\ttotal: 35.2s\tremaining: 2m 23s\n",
            "197:\tlearn: 0.0094199\ttotal: 35.4s\tremaining: 2m 23s\n",
            "198:\tlearn: 0.0094119\ttotal: 35.5s\tremaining: 2m 23s\n",
            "199:\tlearn: 0.0093962\ttotal: 35.7s\tremaining: 2m 22s\n",
            "200:\tlearn: 0.0093933\ttotal: 35.8s\tremaining: 2m 22s\n",
            "201:\tlearn: 0.0093793\ttotal: 36s\tremaining: 2m 22s\n",
            "202:\tlearn: 0.0093780\ttotal: 36.1s\tremaining: 2m 21s\n",
            "203:\tlearn: 0.0093706\ttotal: 36.4s\tremaining: 2m 22s\n",
            "204:\tlearn: 0.0093565\ttotal: 36.6s\tremaining: 2m 21s\n",
            "205:\tlearn: 0.0093525\ttotal: 36.8s\tremaining: 2m 21s\n",
            "206:\tlearn: 0.0093513\ttotal: 36.8s\tremaining: 2m 21s\n",
            "207:\tlearn: 0.0093453\ttotal: 37s\tremaining: 2m 20s\n",
            "208:\tlearn: 0.0093257\ttotal: 37.2s\tremaining: 2m 20s\n",
            "209:\tlearn: 0.0093181\ttotal: 37.4s\tremaining: 2m 20s\n",
            "210:\tlearn: 0.0093060\ttotal: 37.6s\tremaining: 2m 20s\n",
            "211:\tlearn: 0.0093048\ttotal: 37.7s\tremaining: 2m 20s\n",
            "212:\tlearn: 0.0092881\ttotal: 37.9s\tremaining: 2m 20s\n",
            "213:\tlearn: 0.0092820\ttotal: 38.1s\tremaining: 2m 19s\n",
            "214:\tlearn: 0.0092755\ttotal: 38.3s\tremaining: 2m 19s\n",
            "215:\tlearn: 0.0092676\ttotal: 38.5s\tremaining: 2m 19s\n",
            "216:\tlearn: 0.0092568\ttotal: 38.7s\tremaining: 2m 19s\n",
            "217:\tlearn: 0.0092465\ttotal: 38.9s\tremaining: 2m 19s\n",
            "218:\tlearn: 0.0092424\ttotal: 39.1s\tremaining: 2m 19s\n",
            "219:\tlearn: 0.0092385\ttotal: 39.3s\tremaining: 2m 19s\n",
            "220:\tlearn: 0.0092141\ttotal: 39.5s\tremaining: 2m 19s\n",
            "221:\tlearn: 0.0092072\ttotal: 39.6s\tremaining: 2m 18s\n",
            "222:\tlearn: 0.0091909\ttotal: 39.8s\tremaining: 2m 18s\n",
            "223:\tlearn: 0.0091592\ttotal: 40s\tremaining: 2m 18s\n",
            "224:\tlearn: 0.0091432\ttotal: 40.2s\tremaining: 2m 18s\n",
            "225:\tlearn: 0.0091376\ttotal: 40.5s\tremaining: 2m 18s\n",
            "226:\tlearn: 0.0091195\ttotal: 40.7s\tremaining: 2m 18s\n",
            "227:\tlearn: 0.0091120\ttotal: 40.9s\tremaining: 2m 18s\n",
            "228:\tlearn: 0.0091097\ttotal: 41.1s\tremaining: 2m 18s\n",
            "229:\tlearn: 0.0090864\ttotal: 41.2s\tremaining: 2m 18s\n",
            "230:\tlearn: 0.0090744\ttotal: 41.4s\tremaining: 2m 17s\n",
            "231:\tlearn: 0.0090557\ttotal: 41.5s\tremaining: 2m 17s\n",
            "232:\tlearn: 0.0090473\ttotal: 41.6s\tremaining: 2m 17s\n",
            "233:\tlearn: 0.0090196\ttotal: 41.7s\tremaining: 2m 16s\n",
            "234:\tlearn: 0.0089971\ttotal: 41.8s\tremaining: 2m 16s\n",
            "235:\tlearn: 0.0089860\ttotal: 41.9s\tremaining: 2m 15s\n",
            "236:\tlearn: 0.0089673\ttotal: 42s\tremaining: 2m 15s\n",
            "237:\tlearn: 0.0089663\ttotal: 42.1s\tremaining: 2m 14s\n",
            "238:\tlearn: 0.0089480\ttotal: 42.1s\tremaining: 2m 14s\n",
            "239:\tlearn: 0.0089263\ttotal: 42.2s\tremaining: 2m 13s\n",
            "240:\tlearn: 0.0089260\ttotal: 42.3s\tremaining: 2m 13s\n",
            "241:\tlearn: 0.0089168\ttotal: 42.4s\tremaining: 2m 12s\n",
            "242:\tlearn: 0.0089134\ttotal: 42.5s\tremaining: 2m 12s\n",
            "243:\tlearn: 0.0089081\ttotal: 42.6s\tremaining: 2m 11s\n",
            "244:\tlearn: 0.0088997\ttotal: 42.7s\tremaining: 2m 11s\n",
            "245:\tlearn: 0.0088893\ttotal: 42.8s\tremaining: 2m 11s\n",
            "246:\tlearn: 0.0088808\ttotal: 42.9s\tremaining: 2m 10s\n",
            "247:\tlearn: 0.0088643\ttotal: 43s\tremaining: 2m 10s\n",
            "248:\tlearn: 0.0088350\ttotal: 43.1s\tremaining: 2m 9s\n",
            "249:\tlearn: 0.0088271\ttotal: 43.2s\tremaining: 2m 9s\n",
            "250:\tlearn: 0.0088150\ttotal: 43.3s\tremaining: 2m 9s\n",
            "251:\tlearn: 0.0088104\ttotal: 43.4s\tremaining: 2m 8s\n",
            "252:\tlearn: 0.0087987\ttotal: 43.4s\tremaining: 2m 8s\n",
            "253:\tlearn: 0.0087918\ttotal: 43.6s\tremaining: 2m 7s\n",
            "254:\tlearn: 0.0087846\ttotal: 43.7s\tremaining: 2m 7s\n",
            "255:\tlearn: 0.0087780\ttotal: 43.8s\tremaining: 2m 7s\n",
            "256:\tlearn: 0.0087601\ttotal: 43.9s\tremaining: 2m 6s\n",
            "257:\tlearn: 0.0087520\ttotal: 44s\tremaining: 2m 6s\n",
            "258:\tlearn: 0.0087517\ttotal: 44s\tremaining: 2m 5s\n",
            "259:\tlearn: 0.0087435\ttotal: 44.1s\tremaining: 2m 5s\n",
            "260:\tlearn: 0.0087387\ttotal: 44.2s\tremaining: 2m 5s\n",
            "261:\tlearn: 0.0087308\ttotal: 44.3s\tremaining: 2m 4s\n",
            "262:\tlearn: 0.0087224\ttotal: 44.4s\tremaining: 2m 4s\n",
            "263:\tlearn: 0.0087182\ttotal: 44.5s\tremaining: 2m 3s\n",
            "264:\tlearn: 0.0087120\ttotal: 44.6s\tremaining: 2m 3s\n",
            "265:\tlearn: 0.0087085\ttotal: 44.7s\tremaining: 2m 3s\n",
            "266:\tlearn: 0.0087015\ttotal: 44.7s\tremaining: 2m 2s\n",
            "267:\tlearn: 0.0086966\ttotal: 44.8s\tremaining: 2m 2s\n",
            "268:\tlearn: 0.0086885\ttotal: 44.9s\tremaining: 2m 2s\n",
            "269:\tlearn: 0.0086709\ttotal: 45s\tremaining: 2m 1s\n",
            "270:\tlearn: 0.0086531\ttotal: 45.1s\tremaining: 2m 1s\n",
            "271:\tlearn: 0.0086409\ttotal: 45.2s\tremaining: 2m 1s\n",
            "272:\tlearn: 0.0086363\ttotal: 45.3s\tremaining: 2m\n",
            "273:\tlearn: 0.0086202\ttotal: 45.4s\tremaining: 2m\n",
            "274:\tlearn: 0.0086128\ttotal: 45.5s\tremaining: 1m 59s\n",
            "275:\tlearn: 0.0086124\ttotal: 45.6s\tremaining: 1m 59s\n",
            "276:\tlearn: 0.0086109\ttotal: 45.7s\tremaining: 1m 59s\n",
            "277:\tlearn: 0.0085950\ttotal: 45.8s\tremaining: 1m 58s\n",
            "278:\tlearn: 0.0085907\ttotal: 45.9s\tremaining: 1m 58s\n",
            "279:\tlearn: 0.0085856\ttotal: 46s\tremaining: 1m 58s\n",
            "280:\tlearn: 0.0085729\ttotal: 46.1s\tremaining: 1m 57s\n",
            "281:\tlearn: 0.0085710\ttotal: 46.2s\tremaining: 1m 57s\n",
            "282:\tlearn: 0.0085676\ttotal: 46.2s\tremaining: 1m 57s\n",
            "283:\tlearn: 0.0085592\ttotal: 46.3s\tremaining: 1m 56s\n",
            "284:\tlearn: 0.0085523\ttotal: 46.4s\tremaining: 1m 56s\n",
            "285:\tlearn: 0.0085383\ttotal: 46.5s\tremaining: 1m 56s\n",
            "286:\tlearn: 0.0085255\ttotal: 46.7s\tremaining: 1m 56s\n",
            "287:\tlearn: 0.0085224\ttotal: 46.9s\tremaining: 1m 55s\n",
            "288:\tlearn: 0.0085134\ttotal: 47.1s\tremaining: 1m 55s\n",
            "289:\tlearn: 0.0085005\ttotal: 47.2s\tremaining: 1m 55s\n",
            "290:\tlearn: 0.0084900\ttotal: 47.4s\tremaining: 1m 55s\n",
            "291:\tlearn: 0.0084863\ttotal: 47.6s\tremaining: 1m 55s\n",
            "292:\tlearn: 0.0084743\ttotal: 47.8s\tremaining: 1m 55s\n",
            "293:\tlearn: 0.0084736\ttotal: 48s\tremaining: 1m 55s\n",
            "294:\tlearn: 0.0084707\ttotal: 48.1s\tremaining: 1m 55s\n",
            "295:\tlearn: 0.0084705\ttotal: 48.2s\tremaining: 1m 54s\n",
            "296:\tlearn: 0.0084699\ttotal: 48.3s\tremaining: 1m 54s\n",
            "297:\tlearn: 0.0084671\ttotal: 48.4s\tremaining: 1m 54s\n",
            "298:\tlearn: 0.0084430\ttotal: 48.5s\tremaining: 1m 53s\n",
            "299:\tlearn: 0.0084383\ttotal: 48.6s\tremaining: 1m 53s\n",
            "300:\tlearn: 0.0084344\ttotal: 48.7s\tremaining: 1m 53s\n",
            "301:\tlearn: 0.0084285\ttotal: 48.8s\tremaining: 1m 52s\n",
            "302:\tlearn: 0.0084217\ttotal: 48.9s\tremaining: 1m 52s\n",
            "303:\tlearn: 0.0084190\ttotal: 49s\tremaining: 1m 52s\n",
            "304:\tlearn: 0.0084080\ttotal: 49.1s\tremaining: 1m 51s\n",
            "305:\tlearn: 0.0084043\ttotal: 49.2s\tremaining: 1m 51s\n",
            "306:\tlearn: 0.0083933\ttotal: 49.3s\tremaining: 1m 51s\n",
            "307:\tlearn: 0.0083903\ttotal: 49.4s\tremaining: 1m 50s\n",
            "308:\tlearn: 0.0083800\ttotal: 49.4s\tremaining: 1m 50s\n",
            "309:\tlearn: 0.0083673\ttotal: 49.5s\tremaining: 1m 50s\n",
            "310:\tlearn: 0.0083630\ttotal: 49.7s\tremaining: 1m 50s\n",
            "311:\tlearn: 0.0083619\ttotal: 49.7s\tremaining: 1m 49s\n",
            "312:\tlearn: 0.0083575\ttotal: 49.8s\tremaining: 1m 49s\n",
            "313:\tlearn: 0.0083521\ttotal: 49.9s\tremaining: 1m 49s\n",
            "314:\tlearn: 0.0083305\ttotal: 50.1s\tremaining: 1m 48s\n",
            "315:\tlearn: 0.0083169\ttotal: 50.1s\tremaining: 1m 48s\n",
            "316:\tlearn: 0.0083128\ttotal: 50.2s\tremaining: 1m 48s\n",
            "317:\tlearn: 0.0082918\ttotal: 50.3s\tremaining: 1m 47s\n",
            "318:\tlearn: 0.0082839\ttotal: 50.4s\tremaining: 1m 47s\n",
            "319:\tlearn: 0.0082805\ttotal: 50.5s\tremaining: 1m 47s\n",
            "320:\tlearn: 0.0082778\ttotal: 50.7s\tremaining: 1m 47s\n",
            "321:\tlearn: 0.0082731\ttotal: 50.7s\tremaining: 1m 46s\n",
            "322:\tlearn: 0.0082679\ttotal: 50.8s\tremaining: 1m 46s\n",
            "323:\tlearn: 0.0082661\ttotal: 50.9s\tremaining: 1m 46s\n",
            "324:\tlearn: 0.0082621\ttotal: 51.1s\tremaining: 1m 46s\n",
            "325:\tlearn: 0.0082583\ttotal: 51.2s\tremaining: 1m 45s\n",
            "326:\tlearn: 0.0082402\ttotal: 51.3s\tremaining: 1m 45s\n",
            "327:\tlearn: 0.0082369\ttotal: 51.4s\tremaining: 1m 45s\n",
            "328:\tlearn: 0.0082336\ttotal: 51.5s\tremaining: 1m 44s\n",
            "329:\tlearn: 0.0082226\ttotal: 51.5s\tremaining: 1m 44s\n",
            "330:\tlearn: 0.0082203\ttotal: 51.6s\tremaining: 1m 44s\n",
            "331:\tlearn: 0.0082172\ttotal: 51.8s\tremaining: 1m 44s\n",
            "332:\tlearn: 0.0082129\ttotal: 51.8s\tremaining: 1m 43s\n",
            "333:\tlearn: 0.0082027\ttotal: 51.9s\tremaining: 1m 43s\n",
            "334:\tlearn: 0.0081981\ttotal: 52s\tremaining: 1m 43s\n",
            "335:\tlearn: 0.0081942\ttotal: 52.1s\tremaining: 1m 43s\n",
            "336:\tlearn: 0.0081903\ttotal: 52.2s\tremaining: 1m 42s\n",
            "337:\tlearn: 0.0081866\ttotal: 52.3s\tremaining: 1m 42s\n",
            "338:\tlearn: 0.0081831\ttotal: 52.4s\tremaining: 1m 42s\n",
            "339:\tlearn: 0.0081736\ttotal: 52.5s\tremaining: 1m 41s\n",
            "340:\tlearn: 0.0081595\ttotal: 52.6s\tremaining: 1m 41s\n",
            "341:\tlearn: 0.0081548\ttotal: 52.7s\tremaining: 1m 41s\n",
            "342:\tlearn: 0.0081543\ttotal: 52.8s\tremaining: 1m 41s\n",
            "343:\tlearn: 0.0081488\ttotal: 52.9s\tremaining: 1m 40s\n",
            "344:\tlearn: 0.0081427\ttotal: 53s\tremaining: 1m 40s\n",
            "345:\tlearn: 0.0081243\ttotal: 53.1s\tremaining: 1m 40s\n",
            "346:\tlearn: 0.0081172\ttotal: 53.2s\tremaining: 1m 40s\n",
            "347:\tlearn: 0.0080965\ttotal: 53.3s\tremaining: 1m 39s\n",
            "348:\tlearn: 0.0080745\ttotal: 53.3s\tremaining: 1m 39s\n",
            "349:\tlearn: 0.0080579\ttotal: 53.4s\tremaining: 1m 39s\n",
            "350:\tlearn: 0.0080425\ttotal: 53.5s\tremaining: 1m 38s\n",
            "351:\tlearn: 0.0080361\ttotal: 53.6s\tremaining: 1m 38s\n",
            "352:\tlearn: 0.0080247\ttotal: 53.7s\tremaining: 1m 38s\n",
            "353:\tlearn: 0.0080117\ttotal: 53.8s\tremaining: 1m 38s\n",
            "354:\tlearn: 0.0080038\ttotal: 53.9s\tremaining: 1m 37s\n",
            "355:\tlearn: 0.0079962\ttotal: 54s\tremaining: 1m 37s\n",
            "356:\tlearn: 0.0079840\ttotal: 54.1s\tremaining: 1m 37s\n",
            "357:\tlearn: 0.0079813\ttotal: 54.2s\tremaining: 1m 37s\n",
            "358:\tlearn: 0.0079753\ttotal: 54.2s\tremaining: 1m 36s\n",
            "359:\tlearn: 0.0079738\ttotal: 54.3s\tremaining: 1m 36s\n",
            "360:\tlearn: 0.0079622\ttotal: 54.4s\tremaining: 1m 36s\n",
            "361:\tlearn: 0.0079512\ttotal: 54.5s\tremaining: 1m 36s\n",
            "362:\tlearn: 0.0079329\ttotal: 54.6s\tremaining: 1m 35s\n",
            "363:\tlearn: 0.0079273\ttotal: 54.7s\tremaining: 1m 35s\n",
            "364:\tlearn: 0.0079088\ttotal: 54.8s\tremaining: 1m 35s\n",
            "365:\tlearn: 0.0078986\ttotal: 54.9s\tremaining: 1m 35s\n",
            "366:\tlearn: 0.0078876\ttotal: 55s\tremaining: 1m 34s\n",
            "367:\tlearn: 0.0078830\ttotal: 55.1s\tremaining: 1m 34s\n",
            "368:\tlearn: 0.0078644\ttotal: 55.2s\tremaining: 1m 34s\n",
            "369:\tlearn: 0.0078548\ttotal: 55.3s\tremaining: 1m 34s\n",
            "370:\tlearn: 0.0078511\ttotal: 55.4s\tremaining: 1m 33s\n",
            "371:\tlearn: 0.0078410\ttotal: 55.4s\tremaining: 1m 33s\n",
            "372:\tlearn: 0.0078358\ttotal: 55.5s\tremaining: 1m 33s\n",
            "373:\tlearn: 0.0078315\ttotal: 55.6s\tremaining: 1m 33s\n",
            "374:\tlearn: 0.0078267\ttotal: 55.7s\tremaining: 1m 32s\n",
            "375:\tlearn: 0.0078244\ttotal: 55.8s\tremaining: 1m 32s\n",
            "376:\tlearn: 0.0078229\ttotal: 55.9s\tremaining: 1m 32s\n",
            "377:\tlearn: 0.0078138\ttotal: 56s\tremaining: 1m 32s\n",
            "378:\tlearn: 0.0078126\ttotal: 56.1s\tremaining: 1m 31s\n",
            "379:\tlearn: 0.0078102\ttotal: 56.2s\tremaining: 1m 31s\n",
            "380:\tlearn: 0.0078015\ttotal: 56.3s\tremaining: 1m 31s\n",
            "381:\tlearn: 0.0077992\ttotal: 56.4s\tremaining: 1m 31s\n",
            "382:\tlearn: 0.0077897\ttotal: 56.5s\tremaining: 1m 30s\n",
            "383:\tlearn: 0.0077852\ttotal: 56.5s\tremaining: 1m 30s\n",
            "384:\tlearn: 0.0077687\ttotal: 56.7s\tremaining: 1m 30s\n",
            "385:\tlearn: 0.0077676\ttotal: 57s\tremaining: 1m 30s\n",
            "386:\tlearn: 0.0077633\ttotal: 57.2s\tremaining: 1m 30s\n",
            "387:\tlearn: 0.0077466\ttotal: 57.4s\tremaining: 1m 30s\n",
            "388:\tlearn: 0.0077364\ttotal: 57.6s\tremaining: 1m 30s\n",
            "389:\tlearn: 0.0077343\ttotal: 57.7s\tremaining: 1m 30s\n",
            "390:\tlearn: 0.0077187\ttotal: 58s\tremaining: 1m 30s\n",
            "391:\tlearn: 0.0077098\ttotal: 58.3s\tremaining: 1m 30s\n",
            "392:\tlearn: 0.0076948\ttotal: 58.5s\tremaining: 1m 30s\n",
            "393:\tlearn: 0.0076927\ttotal: 58.8s\tremaining: 1m 30s\n",
            "394:\tlearn: 0.0076830\ttotal: 59.1s\tremaining: 1m 30s\n",
            "395:\tlearn: 0.0076733\ttotal: 59.3s\tremaining: 1m 30s\n",
            "396:\tlearn: 0.0076712\ttotal: 59.6s\tremaining: 1m 30s\n",
            "397:\tlearn: 0.0076674\ttotal: 59.7s\tremaining: 1m 30s\n",
            "398:\tlearn: 0.0076581\ttotal: 59.7s\tremaining: 1m 29s\n",
            "399:\tlearn: 0.0076567\ttotal: 59.9s\tremaining: 1m 29s\n",
            "400:\tlearn: 0.0076456\ttotal: 1m\tremaining: 1m 29s\n",
            "401:\tlearn: 0.0076363\ttotal: 1m\tremaining: 1m 29s\n",
            "402:\tlearn: 0.0076349\ttotal: 1m\tremaining: 1m 29s\n",
            "403:\tlearn: 0.0076312\ttotal: 1m\tremaining: 1m 29s\n",
            "404:\tlearn: 0.0076277\ttotal: 1m\tremaining: 1m 29s\n",
            "405:\tlearn: 0.0076266\ttotal: 1m\tremaining: 1m 29s\n",
            "406:\tlearn: 0.0076166\ttotal: 1m 1s\tremaining: 1m 29s\n",
            "407:\tlearn: 0.0076048\ttotal: 1m 1s\tremaining: 1m 29s\n",
            "408:\tlearn: 0.0076029\ttotal: 1m 1s\tremaining: 1m 28s\n",
            "409:\tlearn: 0.0076010\ttotal: 1m 1s\tremaining: 1m 28s\n",
            "410:\tlearn: 0.0075968\ttotal: 1m 1s\tremaining: 1m 28s\n",
            "411:\tlearn: 0.0075940\ttotal: 1m 1s\tremaining: 1m 28s\n",
            "412:\tlearn: 0.0075851\ttotal: 1m 2s\tremaining: 1m 28s\n",
            "413:\tlearn: 0.0075817\ttotal: 1m 2s\tremaining: 1m 28s\n",
            "414:\tlearn: 0.0075798\ttotal: 1m 2s\tremaining: 1m 28s\n",
            "415:\tlearn: 0.0075713\ttotal: 1m 2s\tremaining: 1m 28s\n",
            "416:\tlearn: 0.0075674\ttotal: 1m 2s\tremaining: 1m 27s\n",
            "417:\tlearn: 0.0075636\ttotal: 1m 3s\tremaining: 1m 27s\n",
            "418:\tlearn: 0.0075555\ttotal: 1m 3s\tremaining: 1m 27s\n",
            "419:\tlearn: 0.0075523\ttotal: 1m 3s\tremaining: 1m 27s\n",
            "420:\tlearn: 0.0075488\ttotal: 1m 3s\tremaining: 1m 27s\n",
            "421:\tlearn: 0.0075479\ttotal: 1m 3s\tremaining: 1m 27s\n",
            "422:\tlearn: 0.0075333\ttotal: 1m 3s\tremaining: 1m 27s\n",
            "423:\tlearn: 0.0075301\ttotal: 1m 4s\tremaining: 1m 27s\n",
            "424:\tlearn: 0.0075293\ttotal: 1m 4s\tremaining: 1m 27s\n",
            "425:\tlearn: 0.0075279\ttotal: 1m 4s\tremaining: 1m 27s\n",
            "426:\tlearn: 0.0075273\ttotal: 1m 4s\tremaining: 1m 27s\n",
            "427:\tlearn: 0.0075267\ttotal: 1m 5s\tremaining: 1m 26s\n",
            "428:\tlearn: 0.0075259\ttotal: 1m 5s\tremaining: 1m 26s\n",
            "429:\tlearn: 0.0075242\ttotal: 1m 5s\tremaining: 1m 26s\n",
            "430:\tlearn: 0.0075227\ttotal: 1m 5s\tremaining: 1m 26s\n",
            "431:\tlearn: 0.0075196\ttotal: 1m 5s\tremaining: 1m 26s\n",
            "432:\tlearn: 0.0075120\ttotal: 1m 6s\tremaining: 1m 26s\n",
            "433:\tlearn: 0.0075115\ttotal: 1m 6s\tremaining: 1m 26s\n",
            "434:\tlearn: 0.0075108\ttotal: 1m 6s\tremaining: 1m 26s\n",
            "435:\tlearn: 0.0075034\ttotal: 1m 6s\tremaining: 1m 26s\n",
            "436:\tlearn: 0.0074988\ttotal: 1m 6s\tremaining: 1m 26s\n",
            "437:\tlearn: 0.0074882\ttotal: 1m 6s\tremaining: 1m 25s\n",
            "438:\tlearn: 0.0074876\ttotal: 1m 7s\tremaining: 1m 25s\n",
            "439:\tlearn: 0.0074805\ttotal: 1m 7s\tremaining: 1m 25s\n",
            "440:\tlearn: 0.0074776\ttotal: 1m 7s\tremaining: 1m 25s\n",
            "441:\tlearn: 0.0074708\ttotal: 1m 7s\tremaining: 1m 25s\n",
            "442:\tlearn: 0.0074678\ttotal: 1m 7s\tremaining: 1m 25s\n",
            "443:\tlearn: 0.0074673\ttotal: 1m 7s\tremaining: 1m 25s\n",
            "444:\tlearn: 0.0074663\ttotal: 1m 8s\tremaining: 1m 25s\n",
            "445:\tlearn: 0.0074651\ttotal: 1m 8s\tremaining: 1m 24s\n",
            "446:\tlearn: 0.0074623\ttotal: 1m 8s\tremaining: 1m 24s\n",
            "447:\tlearn: 0.0074616\ttotal: 1m 8s\tremaining: 1m 24s\n",
            "448:\tlearn: 0.0074602\ttotal: 1m 8s\tremaining: 1m 24s\n",
            "449:\tlearn: 0.0074591\ttotal: 1m 9s\tremaining: 1m 24s\n",
            "450:\tlearn: 0.0074540\ttotal: 1m 9s\tremaining: 1m 24s\n",
            "451:\tlearn: 0.0074492\ttotal: 1m 9s\tremaining: 1m 24s\n",
            "452:\tlearn: 0.0074464\ttotal: 1m 9s\tremaining: 1m 24s\n",
            "453:\tlearn: 0.0074396\ttotal: 1m 10s\tremaining: 1m 24s\n",
            "454:\tlearn: 0.0074382\ttotal: 1m 10s\tremaining: 1m 24s\n",
            "455:\tlearn: 0.0074369\ttotal: 1m 10s\tremaining: 1m 23s\n",
            "456:\tlearn: 0.0074293\ttotal: 1m 10s\tremaining: 1m 23s\n",
            "457:\tlearn: 0.0074073\ttotal: 1m 10s\tremaining: 1m 23s\n",
            "458:\tlearn: 0.0074048\ttotal: 1m 10s\tremaining: 1m 23s\n",
            "459:\tlearn: 0.0074036\ttotal: 1m 11s\tremaining: 1m 23s\n",
            "460:\tlearn: 0.0074029\ttotal: 1m 11s\tremaining: 1m 23s\n",
            "461:\tlearn: 0.0074018\ttotal: 1m 11s\tremaining: 1m 23s\n",
            "462:\tlearn: 0.0073955\ttotal: 1m 11s\tremaining: 1m 23s\n",
            "463:\tlearn: 0.0073929\ttotal: 1m 11s\tremaining: 1m 23s\n",
            "464:\tlearn: 0.0073916\ttotal: 1m 12s\tremaining: 1m 22s\n",
            "465:\tlearn: 0.0073906\ttotal: 1m 12s\tremaining: 1m 22s\n",
            "466:\tlearn: 0.0073894\ttotal: 1m 12s\tremaining: 1m 22s\n",
            "467:\tlearn: 0.0073885\ttotal: 1m 12s\tremaining: 1m 22s\n",
            "468:\tlearn: 0.0073865\ttotal: 1m 12s\tremaining: 1m 22s\n",
            "469:\tlearn: 0.0073856\ttotal: 1m 12s\tremaining: 1m 21s\n",
            "470:\tlearn: 0.0073781\ttotal: 1m 12s\tremaining: 1m 21s\n",
            "471:\tlearn: 0.0073682\ttotal: 1m 12s\tremaining: 1m 21s\n",
            "472:\tlearn: 0.0073612\ttotal: 1m 12s\tremaining: 1m 21s\n",
            "473:\tlearn: 0.0073606\ttotal: 1m 13s\tremaining: 1m 21s\n",
            "474:\tlearn: 0.0073562\ttotal: 1m 13s\tremaining: 1m 20s\n",
            "475:\tlearn: 0.0073502\ttotal: 1m 13s\tremaining: 1m 20s\n",
            "476:\tlearn: 0.0073495\ttotal: 1m 13s\tremaining: 1m 20s\n",
            "477:\tlearn: 0.0073453\ttotal: 1m 13s\tremaining: 1m 20s\n",
            "478:\tlearn: 0.0073427\ttotal: 1m 13s\tremaining: 1m 19s\n",
            "479:\tlearn: 0.0073418\ttotal: 1m 13s\tremaining: 1m 19s\n",
            "480:\tlearn: 0.0073384\ttotal: 1m 13s\tremaining: 1m 19s\n",
            "481:\tlearn: 0.0073365\ttotal: 1m 13s\tremaining: 1m 19s\n",
            "482:\tlearn: 0.0073354\ttotal: 1m 13s\tremaining: 1m 19s\n",
            "483:\tlearn: 0.0073293\ttotal: 1m 13s\tremaining: 1m 18s\n",
            "484:\tlearn: 0.0073285\ttotal: 1m 14s\tremaining: 1m 18s\n",
            "485:\tlearn: 0.0073274\ttotal: 1m 14s\tremaining: 1m 18s\n",
            "486:\tlearn: 0.0073209\ttotal: 1m 14s\tremaining: 1m 18s\n",
            "487:\tlearn: 0.0073207\ttotal: 1m 14s\tremaining: 1m 18s\n",
            "488:\tlearn: 0.0073191\ttotal: 1m 14s\tremaining: 1m 17s\n",
            "489:\tlearn: 0.0073128\ttotal: 1m 14s\tremaining: 1m 17s\n",
            "490:\tlearn: 0.0073059\ttotal: 1m 14s\tremaining: 1m 17s\n",
            "491:\tlearn: 0.0073002\ttotal: 1m 14s\tremaining: 1m 17s\n",
            "492:\tlearn: 0.0072892\ttotal: 1m 15s\tremaining: 1m 17s\n",
            "493:\tlearn: 0.0072867\ttotal: 1m 15s\tremaining: 1m 17s\n",
            "494:\tlearn: 0.0072856\ttotal: 1m 15s\tremaining: 1m 16s\n",
            "495:\tlearn: 0.0072805\ttotal: 1m 15s\tremaining: 1m 16s\n",
            "496:\tlearn: 0.0072713\ttotal: 1m 15s\tremaining: 1m 16s\n",
            "497:\tlearn: 0.0072690\ttotal: 1m 16s\tremaining: 1m 16s\n",
            "498:\tlearn: 0.0072666\ttotal: 1m 16s\tremaining: 1m 16s\n",
            "499:\tlearn: 0.0072619\ttotal: 1m 16s\tremaining: 1m 16s\n",
            "500:\tlearn: 0.0072460\ttotal: 1m 16s\tremaining: 1m 16s\n",
            "501:\tlearn: 0.0072358\ttotal: 1m 17s\tremaining: 1m 16s\n",
            "502:\tlearn: 0.0072351\ttotal: 1m 17s\tremaining: 1m 16s\n",
            "503:\tlearn: 0.0072294\ttotal: 1m 17s\tremaining: 1m 16s\n",
            "504:\tlearn: 0.0072286\ttotal: 1m 17s\tremaining: 1m 16s\n",
            "505:\tlearn: 0.0072192\ttotal: 1m 17s\tremaining: 1m 15s\n",
            "506:\tlearn: 0.0072145\ttotal: 1m 18s\tremaining: 1m 15s\n",
            "507:\tlearn: 0.0072134\ttotal: 1m 18s\tremaining: 1m 15s\n",
            "508:\tlearn: 0.0072113\ttotal: 1m 18s\tremaining: 1m 15s\n",
            "509:\tlearn: 0.0072025\ttotal: 1m 18s\tremaining: 1m 15s\n",
            "510:\tlearn: 0.0072006\ttotal: 1m 18s\tremaining: 1m 15s\n",
            "511:\tlearn: 0.0071971\ttotal: 1m 18s\tremaining: 1m 15s\n",
            "512:\tlearn: 0.0071968\ttotal: 1m 19s\tremaining: 1m 15s\n",
            "513:\tlearn: 0.0071876\ttotal: 1m 19s\tremaining: 1m 15s\n",
            "514:\tlearn: 0.0071786\ttotal: 1m 19s\tremaining: 1m 14s\n",
            "515:\tlearn: 0.0071739\ttotal: 1m 19s\tremaining: 1m 14s\n",
            "516:\tlearn: 0.0071732\ttotal: 1m 20s\tremaining: 1m 14s\n",
            "517:\tlearn: 0.0071729\ttotal: 1m 20s\tremaining: 1m 14s\n",
            "518:\tlearn: 0.0071725\ttotal: 1m 20s\tremaining: 1m 14s\n",
            "519:\tlearn: 0.0071722\ttotal: 1m 20s\tremaining: 1m 14s\n",
            "520:\tlearn: 0.0071638\ttotal: 1m 20s\tremaining: 1m 14s\n",
            "521:\tlearn: 0.0071521\ttotal: 1m 21s\tremaining: 1m 14s\n",
            "522:\tlearn: 0.0071427\ttotal: 1m 21s\tremaining: 1m 14s\n",
            "523:\tlearn: 0.0071266\ttotal: 1m 21s\tremaining: 1m 13s\n",
            "524:\tlearn: 0.0071186\ttotal: 1m 21s\tremaining: 1m 13s\n",
            "525:\tlearn: 0.0071084\ttotal: 1m 21s\tremaining: 1m 13s\n",
            "526:\tlearn: 0.0071078\ttotal: 1m 22s\tremaining: 1m 13s\n",
            "527:\tlearn: 0.0071045\ttotal: 1m 22s\tremaining: 1m 13s\n",
            "528:\tlearn: 0.0070896\ttotal: 1m 22s\tremaining: 1m 13s\n",
            "529:\tlearn: 0.0070678\ttotal: 1m 22s\tremaining: 1m 13s\n",
            "530:\tlearn: 0.0070596\ttotal: 1m 23s\tremaining: 1m 13s\n",
            "531:\tlearn: 0.0070513\ttotal: 1m 23s\tremaining: 1m 13s\n",
            "532:\tlearn: 0.0070440\ttotal: 1m 23s\tremaining: 1m 13s\n",
            "533:\tlearn: 0.0070392\ttotal: 1m 23s\tremaining: 1m 13s\n",
            "534:\tlearn: 0.0070353\ttotal: 1m 24s\tremaining: 1m 13s\n",
            "535:\tlearn: 0.0070286\ttotal: 1m 24s\tremaining: 1m 12s\n",
            "536:\tlearn: 0.0070224\ttotal: 1m 24s\tremaining: 1m 12s\n",
            "537:\tlearn: 0.0070176\ttotal: 1m 24s\tremaining: 1m 12s\n",
            "538:\tlearn: 0.0070117\ttotal: 1m 24s\tremaining: 1m 12s\n",
            "539:\tlearn: 0.0070020\ttotal: 1m 25s\tremaining: 1m 12s\n",
            "540:\tlearn: 0.0069966\ttotal: 1m 25s\tremaining: 1m 12s\n",
            "541:\tlearn: 0.0069914\ttotal: 1m 25s\tremaining: 1m 12s\n",
            "542:\tlearn: 0.0069891\ttotal: 1m 25s\tremaining: 1m 12s\n",
            "543:\tlearn: 0.0069842\ttotal: 1m 26s\tremaining: 1m 12s\n",
            "544:\tlearn: 0.0069778\ttotal: 1m 26s\tremaining: 1m 11s\n",
            "545:\tlearn: 0.0069778\ttotal: 1m 26s\tremaining: 1m 11s\n",
            "546:\tlearn: 0.0069699\ttotal: 1m 26s\tremaining: 1m 11s\n",
            "547:\tlearn: 0.0069537\ttotal: 1m 26s\tremaining: 1m 11s\n",
            "548:\tlearn: 0.0069496\ttotal: 1m 27s\tremaining: 1m 11s\n",
            "549:\tlearn: 0.0069421\ttotal: 1m 27s\tremaining: 1m 11s\n",
            "550:\tlearn: 0.0069345\ttotal: 1m 27s\tremaining: 1m 11s\n",
            "551:\tlearn: 0.0069290\ttotal: 1m 27s\tremaining: 1m 11s\n",
            "552:\tlearn: 0.0069287\ttotal: 1m 27s\tremaining: 1m 10s\n",
            "553:\tlearn: 0.0069257\ttotal: 1m 27s\tremaining: 1m 10s\n",
            "554:\tlearn: 0.0069234\ttotal: 1m 28s\tremaining: 1m 10s\n",
            "555:\tlearn: 0.0069210\ttotal: 1m 28s\tremaining: 1m 10s\n",
            "556:\tlearn: 0.0069173\ttotal: 1m 28s\tremaining: 1m 10s\n",
            "557:\tlearn: 0.0069100\ttotal: 1m 28s\tremaining: 1m 10s\n",
            "558:\tlearn: 0.0069047\ttotal: 1m 29s\tremaining: 1m 10s\n",
            "559:\tlearn: 0.0068774\ttotal: 1m 29s\tremaining: 1m 10s\n",
            "560:\tlearn: 0.0068773\ttotal: 1m 29s\tremaining: 1m 10s\n",
            "561:\tlearn: 0.0068747\ttotal: 1m 29s\tremaining: 1m 9s\n",
            "562:\tlearn: 0.0068730\ttotal: 1m 29s\tremaining: 1m 9s\n",
            "563:\tlearn: 0.0068725\ttotal: 1m 30s\tremaining: 1m 9s\n",
            "564:\tlearn: 0.0068700\ttotal: 1m 30s\tremaining: 1m 9s\n",
            "565:\tlearn: 0.0068632\ttotal: 1m 30s\tremaining: 1m 9s\n",
            "566:\tlearn: 0.0068611\ttotal: 1m 30s\tremaining: 1m 9s\n",
            "567:\tlearn: 0.0068575\ttotal: 1m 30s\tremaining: 1m 9s\n",
            "568:\tlearn: 0.0068222\ttotal: 1m 31s\tremaining: 1m 9s\n",
            "569:\tlearn: 0.0068144\ttotal: 1m 31s\tremaining: 1m 8s\n",
            "570:\tlearn: 0.0068111\ttotal: 1m 31s\tremaining: 1m 8s\n",
            "571:\tlearn: 0.0068047\ttotal: 1m 31s\tremaining: 1m 8s\n",
            "572:\tlearn: 0.0068008\ttotal: 1m 31s\tremaining: 1m 8s\n",
            "573:\tlearn: 0.0067952\ttotal: 1m 32s\tremaining: 1m 8s\n",
            "574:\tlearn: 0.0067932\ttotal: 1m 32s\tremaining: 1m 8s\n",
            "575:\tlearn: 0.0067860\ttotal: 1m 32s\tremaining: 1m 8s\n",
            "576:\tlearn: 0.0067814\ttotal: 1m 32s\tremaining: 1m 8s\n",
            "577:\tlearn: 0.0067784\ttotal: 1m 33s\tremaining: 1m 8s\n",
            "578:\tlearn: 0.0067721\ttotal: 1m 33s\tremaining: 1m 8s\n",
            "579:\tlearn: 0.0067573\ttotal: 1m 33s\tremaining: 1m 7s\n",
            "580:\tlearn: 0.0067384\ttotal: 1m 34s\tremaining: 1m 7s\n",
            "581:\tlearn: 0.0067313\ttotal: 1m 34s\tremaining: 1m 7s\n",
            "582:\tlearn: 0.0066986\ttotal: 1m 34s\tremaining: 1m 7s\n",
            "583:\tlearn: 0.0066892\ttotal: 1m 34s\tremaining: 1m 7s\n",
            "584:\tlearn: 0.0066437\ttotal: 1m 34s\tremaining: 1m 7s\n",
            "585:\tlearn: 0.0066373\ttotal: 1m 35s\tremaining: 1m 7s\n",
            "586:\tlearn: 0.0066328\ttotal: 1m 35s\tremaining: 1m 7s\n",
            "587:\tlearn: 0.0066214\ttotal: 1m 35s\tremaining: 1m 7s\n",
            "588:\tlearn: 0.0065947\ttotal: 1m 36s\tremaining: 1m 7s\n",
            "589:\tlearn: 0.0065809\ttotal: 1m 36s\tremaining: 1m 6s\n",
            "590:\tlearn: 0.0065496\ttotal: 1m 36s\tremaining: 1m 6s\n",
            "591:\tlearn: 0.0065246\ttotal: 1m 36s\tremaining: 1m 6s\n",
            "592:\tlearn: 0.0064960\ttotal: 1m 37s\tremaining: 1m 6s\n",
            "593:\tlearn: 0.0064749\ttotal: 1m 37s\tremaining: 1m 6s\n",
            "594:\tlearn: 0.0064694\ttotal: 1m 37s\tremaining: 1m 6s\n",
            "595:\tlearn: 0.0064587\ttotal: 1m 38s\tremaining: 1m 6s\n",
            "596:\tlearn: 0.0064386\ttotal: 1m 38s\tremaining: 1m 6s\n",
            "597:\tlearn: 0.0064084\ttotal: 1m 38s\tremaining: 1m 6s\n",
            "598:\tlearn: 0.0064008\ttotal: 1m 38s\tremaining: 1m 6s\n",
            "599:\tlearn: 0.0063815\ttotal: 1m 38s\tremaining: 1m 5s\n",
            "600:\tlearn: 0.0063812\ttotal: 1m 38s\tremaining: 1m 5s\n",
            "601:\tlearn: 0.0063615\ttotal: 1m 39s\tremaining: 1m 5s\n",
            "602:\tlearn: 0.0063562\ttotal: 1m 39s\tremaining: 1m 5s\n",
            "603:\tlearn: 0.0063364\ttotal: 1m 39s\tremaining: 1m 5s\n",
            "604:\tlearn: 0.0063288\ttotal: 1m 39s\tremaining: 1m 4s\n",
            "605:\tlearn: 0.0063104\ttotal: 1m 39s\tremaining: 1m 4s\n",
            "606:\tlearn: 0.0063065\ttotal: 1m 39s\tremaining: 1m 4s\n",
            "607:\tlearn: 0.0062963\ttotal: 1m 39s\tremaining: 1m 4s\n",
            "608:\tlearn: 0.0062890\ttotal: 1m 39s\tremaining: 1m 4s\n",
            "609:\tlearn: 0.0062853\ttotal: 1m 39s\tremaining: 1m 3s\n",
            "610:\tlearn: 0.0062811\ttotal: 1m 39s\tremaining: 1m 3s\n",
            "611:\tlearn: 0.0062714\ttotal: 1m 39s\tremaining: 1m 3s\n",
            "612:\tlearn: 0.0062610\ttotal: 1m 40s\tremaining: 1m 3s\n",
            "613:\tlearn: 0.0062545\ttotal: 1m 40s\tremaining: 1m 2s\n",
            "614:\tlearn: 0.0062525\ttotal: 1m 40s\tremaining: 1m 2s\n",
            "615:\tlearn: 0.0062524\ttotal: 1m 40s\tremaining: 1m 2s\n",
            "616:\tlearn: 0.0062423\ttotal: 1m 40s\tremaining: 1m 2s\n",
            "617:\tlearn: 0.0062383\ttotal: 1m 40s\tremaining: 1m 2s\n",
            "618:\tlearn: 0.0062199\ttotal: 1m 40s\tremaining: 1m 1s\n",
            "619:\tlearn: 0.0062138\ttotal: 1m 40s\tremaining: 1m 1s\n",
            "620:\tlearn: 0.0062059\ttotal: 1m 40s\tremaining: 1m 1s\n",
            "621:\tlearn: 0.0061988\ttotal: 1m 40s\tremaining: 1m 1s\n",
            "622:\tlearn: 0.0061728\ttotal: 1m 41s\tremaining: 1m 1s\n",
            "623:\tlearn: 0.0061636\ttotal: 1m 41s\tremaining: 1m 1s\n",
            "624:\tlearn: 0.0061582\ttotal: 1m 41s\tremaining: 1m\n",
            "625:\tlearn: 0.0061526\ttotal: 1m 41s\tremaining: 1m\n",
            "626:\tlearn: 0.0061369\ttotal: 1m 41s\tremaining: 1m\n",
            "627:\tlearn: 0.0061363\ttotal: 1m 41s\tremaining: 1m\n",
            "628:\tlearn: 0.0061125\ttotal: 1m 41s\tremaining: 1m\n",
            "629:\tlearn: 0.0061098\ttotal: 1m 41s\tremaining: 59.8s\n",
            "630:\tlearn: 0.0061093\ttotal: 1m 41s\tremaining: 59.6s\n",
            "631:\tlearn: 0.0061042\ttotal: 1m 42s\tremaining: 59.4s\n",
            "632:\tlearn: 0.0060952\ttotal: 1m 42s\tremaining: 59.2s\n",
            "633:\tlearn: 0.0060864\ttotal: 1m 42s\tremaining: 59s\n",
            "634:\tlearn: 0.0060638\ttotal: 1m 42s\tremaining: 58.8s\n",
            "635:\tlearn: 0.0060615\ttotal: 1m 42s\tremaining: 58.6s\n",
            "636:\tlearn: 0.0060354\ttotal: 1m 42s\tremaining: 58.4s\n",
            "637:\tlearn: 0.0060226\ttotal: 1m 42s\tremaining: 58.2s\n",
            "638:\tlearn: 0.0060217\ttotal: 1m 42s\tremaining: 58s\n",
            "639:\tlearn: 0.0060183\ttotal: 1m 42s\tremaining: 57.8s\n",
            "640:\tlearn: 0.0060011\ttotal: 1m 42s\tremaining: 57.6s\n",
            "641:\tlearn: 0.0059997\ttotal: 1m 43s\tremaining: 57.5s\n",
            "642:\tlearn: 0.0059795\ttotal: 1m 43s\tremaining: 57.3s\n",
            "643:\tlearn: 0.0059726\ttotal: 1m 43s\tremaining: 57.1s\n",
            "644:\tlearn: 0.0059721\ttotal: 1m 43s\tremaining: 56.9s\n",
            "645:\tlearn: 0.0059674\ttotal: 1m 43s\tremaining: 56.7s\n",
            "646:\tlearn: 0.0059669\ttotal: 1m 43s\tremaining: 56.5s\n",
            "647:\tlearn: 0.0059641\ttotal: 1m 43s\tremaining: 56.3s\n",
            "648:\tlearn: 0.0059422\ttotal: 1m 43s\tremaining: 56.1s\n",
            "649:\tlearn: 0.0059402\ttotal: 1m 43s\tremaining: 55.9s\n",
            "650:\tlearn: 0.0059378\ttotal: 1m 43s\tremaining: 55.7s\n",
            "651:\tlearn: 0.0059295\ttotal: 1m 44s\tremaining: 55.5s\n",
            "652:\tlearn: 0.0059252\ttotal: 1m 44s\tremaining: 55.4s\n",
            "653:\tlearn: 0.0059022\ttotal: 1m 44s\tremaining: 55.2s\n",
            "654:\tlearn: 0.0059010\ttotal: 1m 44s\tremaining: 55s\n",
            "655:\tlearn: 0.0058932\ttotal: 1m 44s\tremaining: 54.8s\n",
            "656:\tlearn: 0.0058859\ttotal: 1m 44s\tremaining: 54.6s\n",
            "657:\tlearn: 0.0058852\ttotal: 1m 44s\tremaining: 54.4s\n",
            "658:\tlearn: 0.0058804\ttotal: 1m 44s\tremaining: 54.2s\n",
            "659:\tlearn: 0.0058783\ttotal: 1m 44s\tremaining: 54s\n",
            "660:\tlearn: 0.0058755\ttotal: 1m 44s\tremaining: 53.8s\n",
            "661:\tlearn: 0.0058751\ttotal: 1m 45s\tremaining: 53.6s\n",
            "662:\tlearn: 0.0058725\ttotal: 1m 45s\tremaining: 53.4s\n",
            "663:\tlearn: 0.0058647\ttotal: 1m 45s\tremaining: 53.3s\n",
            "664:\tlearn: 0.0058612\ttotal: 1m 45s\tremaining: 53.1s\n",
            "665:\tlearn: 0.0058582\ttotal: 1m 45s\tremaining: 52.9s\n",
            "666:\tlearn: 0.0058578\ttotal: 1m 45s\tremaining: 52.7s\n",
            "667:\tlearn: 0.0058528\ttotal: 1m 45s\tremaining: 52.5s\n",
            "668:\tlearn: 0.0058327\ttotal: 1m 45s\tremaining: 52.3s\n",
            "669:\tlearn: 0.0058276\ttotal: 1m 45s\tremaining: 52.1s\n",
            "670:\tlearn: 0.0058259\ttotal: 1m 45s\tremaining: 52s\n",
            "671:\tlearn: 0.0058070\ttotal: 1m 46s\tremaining: 51.8s\n",
            "672:\tlearn: 0.0058014\ttotal: 1m 46s\tremaining: 51.6s\n",
            "673:\tlearn: 0.0057938\ttotal: 1m 46s\tremaining: 51.4s\n",
            "674:\tlearn: 0.0057927\ttotal: 1m 46s\tremaining: 51.2s\n",
            "675:\tlearn: 0.0057890\ttotal: 1m 46s\tremaining: 51s\n",
            "676:\tlearn: 0.0057813\ttotal: 1m 46s\tremaining: 50.9s\n",
            "677:\tlearn: 0.0057775\ttotal: 1m 46s\tremaining: 50.7s\n",
            "678:\tlearn: 0.0057722\ttotal: 1m 46s\tremaining: 50.5s\n",
            "679:\tlearn: 0.0057702\ttotal: 1m 46s\tremaining: 50.3s\n",
            "680:\tlearn: 0.0057666\ttotal: 1m 46s\tremaining: 50.1s\n",
            "681:\tlearn: 0.0057586\ttotal: 1m 47s\tremaining: 49.9s\n",
            "682:\tlearn: 0.0057577\ttotal: 1m 47s\tremaining: 49.8s\n",
            "683:\tlearn: 0.0057451\ttotal: 1m 47s\tremaining: 49.6s\n",
            "684:\tlearn: 0.0057433\ttotal: 1m 47s\tremaining: 49.4s\n",
            "685:\tlearn: 0.0057366\ttotal: 1m 47s\tremaining: 49.2s\n",
            "686:\tlearn: 0.0057296\ttotal: 1m 47s\tremaining: 49s\n",
            "687:\tlearn: 0.0057149\ttotal: 1m 47s\tremaining: 48.8s\n",
            "688:\tlearn: 0.0057128\ttotal: 1m 47s\tremaining: 48.7s\n",
            "689:\tlearn: 0.0057072\ttotal: 1m 47s\tremaining: 48.5s\n",
            "690:\tlearn: 0.0057016\ttotal: 1m 47s\tremaining: 48.3s\n",
            "691:\tlearn: 0.0056890\ttotal: 1m 48s\tremaining: 48.1s\n",
            "692:\tlearn: 0.0056882\ttotal: 1m 48s\tremaining: 47.9s\n",
            "693:\tlearn: 0.0056866\ttotal: 1m 48s\tremaining: 47.7s\n",
            "694:\tlearn: 0.0056840\ttotal: 1m 48s\tremaining: 47.6s\n",
            "695:\tlearn: 0.0056469\ttotal: 1m 48s\tremaining: 47.4s\n",
            "696:\tlearn: 0.0056444\ttotal: 1m 48s\tremaining: 47.2s\n",
            "697:\tlearn: 0.0056437\ttotal: 1m 48s\tremaining: 47s\n",
            "698:\tlearn: 0.0056434\ttotal: 1m 48s\tremaining: 46.8s\n",
            "699:\tlearn: 0.0056300\ttotal: 1m 48s\tremaining: 46.7s\n",
            "700:\tlearn: 0.0056257\ttotal: 1m 48s\tremaining: 46.5s\n",
            "701:\tlearn: 0.0056254\ttotal: 1m 49s\tremaining: 46.3s\n",
            "702:\tlearn: 0.0056211\ttotal: 1m 49s\tremaining: 46.1s\n",
            "703:\tlearn: 0.0056174\ttotal: 1m 49s\tremaining: 45.9s\n",
            "704:\tlearn: 0.0056158\ttotal: 1m 49s\tremaining: 45.8s\n",
            "705:\tlearn: 0.0056092\ttotal: 1m 49s\tremaining: 45.6s\n",
            "706:\tlearn: 0.0056072\ttotal: 1m 49s\tremaining: 45.4s\n",
            "707:\tlearn: 0.0056057\ttotal: 1m 49s\tremaining: 45.2s\n",
            "708:\tlearn: 0.0056054\ttotal: 1m 49s\tremaining: 45s\n",
            "709:\tlearn: 0.0055788\ttotal: 1m 49s\tremaining: 44.9s\n",
            "710:\tlearn: 0.0055736\ttotal: 1m 49s\tremaining: 44.7s\n",
            "711:\tlearn: 0.0055646\ttotal: 1m 50s\tremaining: 44.5s\n",
            "712:\tlearn: 0.0055493\ttotal: 1m 50s\tremaining: 44.3s\n",
            "713:\tlearn: 0.0055322\ttotal: 1m 50s\tremaining: 44.2s\n",
            "714:\tlearn: 0.0055229\ttotal: 1m 50s\tremaining: 44s\n",
            "715:\tlearn: 0.0055190\ttotal: 1m 50s\tremaining: 43.8s\n",
            "716:\tlearn: 0.0055127\ttotal: 1m 50s\tremaining: 43.6s\n",
            "717:\tlearn: 0.0054890\ttotal: 1m 50s\tremaining: 43.5s\n",
            "718:\tlearn: 0.0054773\ttotal: 1m 50s\tremaining: 43.3s\n",
            "719:\tlearn: 0.0054717\ttotal: 1m 50s\tremaining: 43.1s\n",
            "720:\tlearn: 0.0054634\ttotal: 1m 50s\tremaining: 42.9s\n",
            "721:\tlearn: 0.0054555\ttotal: 1m 51s\tremaining: 42.8s\n",
            "722:\tlearn: 0.0054344\ttotal: 1m 51s\tremaining: 42.6s\n",
            "723:\tlearn: 0.0054192\ttotal: 1m 51s\tremaining: 42.4s\n",
            "724:\tlearn: 0.0054160\ttotal: 1m 51s\tremaining: 42.2s\n",
            "725:\tlearn: 0.0054121\ttotal: 1m 51s\tremaining: 42.1s\n",
            "726:\tlearn: 0.0054091\ttotal: 1m 51s\tremaining: 41.9s\n",
            "727:\tlearn: 0.0054071\ttotal: 1m 51s\tremaining: 41.7s\n",
            "728:\tlearn: 0.0054057\ttotal: 1m 51s\tremaining: 41.5s\n",
            "729:\tlearn: 0.0053884\ttotal: 1m 51s\tremaining: 41.4s\n",
            "730:\tlearn: 0.0053792\ttotal: 1m 51s\tremaining: 41.2s\n",
            "731:\tlearn: 0.0053670\ttotal: 1m 52s\tremaining: 41s\n",
            "732:\tlearn: 0.0053649\ttotal: 1m 52s\tremaining: 40.8s\n",
            "733:\tlearn: 0.0053588\ttotal: 1m 52s\tremaining: 40.7s\n",
            "734:\tlearn: 0.0053533\ttotal: 1m 52s\tremaining: 40.5s\n",
            "735:\tlearn: 0.0053466\ttotal: 1m 52s\tremaining: 40.3s\n",
            "736:\tlearn: 0.0053441\ttotal: 1m 52s\tremaining: 40.2s\n",
            "737:\tlearn: 0.0053403\ttotal: 1m 52s\tremaining: 40s\n",
            "738:\tlearn: 0.0053376\ttotal: 1m 52s\tremaining: 39.8s\n",
            "739:\tlearn: 0.0053346\ttotal: 1m 52s\tremaining: 39.6s\n",
            "740:\tlearn: 0.0053343\ttotal: 1m 52s\tremaining: 39.5s\n",
            "741:\tlearn: 0.0053306\ttotal: 1m 53s\tremaining: 39.3s\n",
            "742:\tlearn: 0.0053270\ttotal: 1m 53s\tremaining: 39.1s\n",
            "743:\tlearn: 0.0053210\ttotal: 1m 53s\tremaining: 38.9s\n",
            "744:\tlearn: 0.0053137\ttotal: 1m 53s\tremaining: 38.8s\n",
            "745:\tlearn: 0.0053114\ttotal: 1m 53s\tremaining: 38.6s\n",
            "746:\tlearn: 0.0053092\ttotal: 1m 53s\tremaining: 38.5s\n",
            "747:\tlearn: 0.0053052\ttotal: 1m 53s\tremaining: 38.3s\n",
            "748:\tlearn: 0.0053024\ttotal: 1m 53s\tremaining: 38.1s\n",
            "749:\tlearn: 0.0053011\ttotal: 1m 53s\tremaining: 37.9s\n",
            "750:\tlearn: 0.0052997\ttotal: 1m 53s\tremaining: 37.8s\n",
            "751:\tlearn: 0.0052967\ttotal: 1m 54s\tremaining: 37.6s\n",
            "752:\tlearn: 0.0052775\ttotal: 1m 54s\tremaining: 37.4s\n",
            "753:\tlearn: 0.0052750\ttotal: 1m 54s\tremaining: 37.3s\n",
            "754:\tlearn: 0.0052736\ttotal: 1m 54s\tremaining: 37.1s\n",
            "755:\tlearn: 0.0052708\ttotal: 1m 54s\tremaining: 36.9s\n",
            "756:\tlearn: 0.0052695\ttotal: 1m 54s\tremaining: 36.8s\n",
            "757:\tlearn: 0.0052631\ttotal: 1m 54s\tremaining: 36.6s\n",
            "758:\tlearn: 0.0052597\ttotal: 1m 54s\tremaining: 36.4s\n",
            "759:\tlearn: 0.0052585\ttotal: 1m 54s\tremaining: 36.3s\n",
            "760:\tlearn: 0.0052567\ttotal: 1m 54s\tremaining: 36.1s\n",
            "761:\tlearn: 0.0052547\ttotal: 1m 55s\tremaining: 35.9s\n",
            "762:\tlearn: 0.0052538\ttotal: 1m 55s\tremaining: 35.8s\n",
            "763:\tlearn: 0.0052526\ttotal: 1m 55s\tremaining: 35.6s\n",
            "764:\tlearn: 0.0052473\ttotal: 1m 55s\tremaining: 35.4s\n",
            "765:\tlearn: 0.0052458\ttotal: 1m 55s\tremaining: 35.2s\n",
            "766:\tlearn: 0.0052440\ttotal: 1m 55s\tremaining: 35.1s\n",
            "767:\tlearn: 0.0052430\ttotal: 1m 55s\tremaining: 34.9s\n",
            "768:\tlearn: 0.0052371\ttotal: 1m 55s\tremaining: 34.8s\n",
            "769:\tlearn: 0.0052310\ttotal: 1m 55s\tremaining: 34.6s\n",
            "770:\tlearn: 0.0052293\ttotal: 1m 55s\tremaining: 34.4s\n",
            "771:\tlearn: 0.0052277\ttotal: 1m 55s\tremaining: 34.3s\n",
            "772:\tlearn: 0.0052220\ttotal: 1m 56s\tremaining: 34.1s\n",
            "773:\tlearn: 0.0052135\ttotal: 1m 56s\tremaining: 33.9s\n",
            "774:\tlearn: 0.0052107\ttotal: 1m 56s\tremaining: 33.8s\n",
            "775:\tlearn: 0.0052098\ttotal: 1m 56s\tremaining: 33.6s\n",
            "776:\tlearn: 0.0052088\ttotal: 1m 56s\tremaining: 33.4s\n",
            "777:\tlearn: 0.0052030\ttotal: 1m 56s\tremaining: 33.3s\n",
            "778:\tlearn: 0.0052027\ttotal: 1m 56s\tremaining: 33.1s\n",
            "779:\tlearn: 0.0051882\ttotal: 1m 56s\tremaining: 32.9s\n",
            "780:\tlearn: 0.0051877\ttotal: 1m 56s\tremaining: 32.8s\n",
            "781:\tlearn: 0.0051699\ttotal: 1m 56s\tremaining: 32.6s\n",
            "782:\tlearn: 0.0051651\ttotal: 1m 57s\tremaining: 32.4s\n",
            "783:\tlearn: 0.0051627\ttotal: 1m 57s\tremaining: 32.3s\n",
            "784:\tlearn: 0.0051572\ttotal: 1m 57s\tremaining: 32.1s\n",
            "785:\tlearn: 0.0051569\ttotal: 1m 57s\tremaining: 31.9s\n",
            "786:\tlearn: 0.0051498\ttotal: 1m 57s\tremaining: 31.8s\n",
            "787:\tlearn: 0.0051427\ttotal: 1m 57s\tremaining: 31.6s\n",
            "788:\tlearn: 0.0051393\ttotal: 1m 57s\tremaining: 31.5s\n",
            "789:\tlearn: 0.0051384\ttotal: 1m 57s\tremaining: 31.3s\n",
            "790:\tlearn: 0.0051374\ttotal: 1m 57s\tremaining: 31.1s\n",
            "791:\tlearn: 0.0051365\ttotal: 1m 57s\tremaining: 31s\n",
            "792:\tlearn: 0.0051303\ttotal: 1m 58s\tremaining: 30.8s\n",
            "793:\tlearn: 0.0051294\ttotal: 1m 58s\tremaining: 30.6s\n",
            "794:\tlearn: 0.0051254\ttotal: 1m 58s\tremaining: 30.5s\n",
            "795:\tlearn: 0.0051237\ttotal: 1m 58s\tremaining: 30.3s\n",
            "796:\tlearn: 0.0051221\ttotal: 1m 58s\tremaining: 30.1s\n",
            "797:\tlearn: 0.0051213\ttotal: 1m 58s\tremaining: 30s\n",
            "798:\tlearn: 0.0051075\ttotal: 1m 58s\tremaining: 29.8s\n",
            "799:\tlearn: 0.0050945\ttotal: 1m 58s\tremaining: 29.7s\n",
            "800:\tlearn: 0.0050936\ttotal: 1m 58s\tremaining: 29.5s\n",
            "801:\tlearn: 0.0050881\ttotal: 1m 58s\tremaining: 29.4s\n",
            "802:\tlearn: 0.0050828\ttotal: 1m 59s\tremaining: 29.2s\n",
            "803:\tlearn: 0.0050811\ttotal: 1m 59s\tremaining: 29s\n",
            "804:\tlearn: 0.0050795\ttotal: 1m 59s\tremaining: 28.9s\n",
            "805:\tlearn: 0.0050793\ttotal: 1m 59s\tremaining: 28.7s\n",
            "806:\tlearn: 0.0050779\ttotal: 1m 59s\tremaining: 28.6s\n",
            "807:\tlearn: 0.0050728\ttotal: 1m 59s\tremaining: 28.4s\n",
            "808:\tlearn: 0.0050702\ttotal: 1m 59s\tremaining: 28.2s\n",
            "809:\tlearn: 0.0050699\ttotal: 1m 59s\tremaining: 28.1s\n",
            "810:\tlearn: 0.0050662\ttotal: 1m 59s\tremaining: 27.9s\n",
            "811:\tlearn: 0.0050632\ttotal: 1m 59s\tremaining: 27.8s\n",
            "812:\tlearn: 0.0050627\ttotal: 2m\tremaining: 27.6s\n",
            "813:\tlearn: 0.0050616\ttotal: 2m\tremaining: 27.4s\n",
            "814:\tlearn: 0.0050611\ttotal: 2m\tremaining: 27.3s\n",
            "815:\tlearn: 0.0050544\ttotal: 2m\tremaining: 27.1s\n",
            "816:\tlearn: 0.0050485\ttotal: 2m\tremaining: 27s\n",
            "817:\tlearn: 0.0050482\ttotal: 2m\tremaining: 26.8s\n",
            "818:\tlearn: 0.0050474\ttotal: 2m\tremaining: 26.6s\n",
            "819:\tlearn: 0.0050471\ttotal: 2m\tremaining: 26.5s\n",
            "820:\tlearn: 0.0050431\ttotal: 2m\tremaining: 26.3s\n",
            "821:\tlearn: 0.0050352\ttotal: 2m\tremaining: 26.2s\n",
            "822:\tlearn: 0.0050289\ttotal: 2m 1s\tremaining: 26s\n",
            "823:\tlearn: 0.0050274\ttotal: 2m 1s\tremaining: 25.9s\n",
            "824:\tlearn: 0.0050272\ttotal: 2m 1s\tremaining: 25.7s\n",
            "825:\tlearn: 0.0050264\ttotal: 2m 1s\tremaining: 25.5s\n",
            "826:\tlearn: 0.0050257\ttotal: 2m 1s\tremaining: 25.4s\n",
            "827:\tlearn: 0.0050251\ttotal: 2m 1s\tremaining: 25.2s\n",
            "828:\tlearn: 0.0050199\ttotal: 2m 1s\tremaining: 25.1s\n",
            "829:\tlearn: 0.0050055\ttotal: 2m 1s\tremaining: 24.9s\n",
            "830:\tlearn: 0.0050041\ttotal: 2m 1s\tremaining: 24.8s\n",
            "831:\tlearn: 0.0049996\ttotal: 2m 1s\tremaining: 24.6s\n",
            "832:\tlearn: 0.0049945\ttotal: 2m 2s\tremaining: 24.5s\n",
            "833:\tlearn: 0.0049886\ttotal: 2m 2s\tremaining: 24.3s\n",
            "834:\tlearn: 0.0049801\ttotal: 2m 2s\tremaining: 24.1s\n",
            "835:\tlearn: 0.0049750\ttotal: 2m 2s\tremaining: 24s\n",
            "836:\tlearn: 0.0049685\ttotal: 2m 2s\tremaining: 23.8s\n",
            "837:\tlearn: 0.0049672\ttotal: 2m 2s\tremaining: 23.7s\n",
            "838:\tlearn: 0.0049668\ttotal: 2m 2s\tremaining: 23.5s\n",
            "839:\tlearn: 0.0049568\ttotal: 2m 2s\tremaining: 23.4s\n",
            "840:\tlearn: 0.0049561\ttotal: 2m 2s\tremaining: 23.2s\n",
            "841:\tlearn: 0.0049501\ttotal: 2m 2s\tremaining: 23.1s\n",
            "842:\tlearn: 0.0049451\ttotal: 2m 2s\tremaining: 22.9s\n",
            "843:\tlearn: 0.0049446\ttotal: 2m 3s\tremaining: 22.8s\n",
            "844:\tlearn: 0.0049386\ttotal: 2m 3s\tremaining: 22.6s\n",
            "845:\tlearn: 0.0049233\ttotal: 2m 3s\tremaining: 22.4s\n",
            "846:\tlearn: 0.0049162\ttotal: 2m 3s\tremaining: 22.3s\n",
            "847:\tlearn: 0.0049089\ttotal: 2m 3s\tremaining: 22.1s\n",
            "848:\tlearn: 0.0049026\ttotal: 2m 3s\tremaining: 22s\n",
            "849:\tlearn: 0.0048990\ttotal: 2m 3s\tremaining: 21.8s\n",
            "850:\tlearn: 0.0048987\ttotal: 2m 3s\tremaining: 21.7s\n",
            "851:\tlearn: 0.0048982\ttotal: 2m 3s\tremaining: 21.5s\n",
            "852:\tlearn: 0.0048976\ttotal: 2m 3s\tremaining: 21.4s\n",
            "853:\tlearn: 0.0048833\ttotal: 2m 4s\tremaining: 21.2s\n",
            "854:\tlearn: 0.0048828\ttotal: 2m 4s\tremaining: 21.1s\n",
            "855:\tlearn: 0.0048823\ttotal: 2m 4s\tremaining: 20.9s\n",
            "856:\tlearn: 0.0048820\ttotal: 2m 4s\tremaining: 20.7s\n",
            "857:\tlearn: 0.0048801\ttotal: 2m 4s\tremaining: 20.6s\n",
            "858:\tlearn: 0.0048750\ttotal: 2m 4s\tremaining: 20.4s\n",
            "859:\tlearn: 0.0048729\ttotal: 2m 4s\tremaining: 20.3s\n",
            "860:\tlearn: 0.0048600\ttotal: 2m 4s\tremaining: 20.1s\n",
            "861:\tlearn: 0.0048487\ttotal: 2m 4s\tremaining: 20s\n",
            "862:\tlearn: 0.0048450\ttotal: 2m 4s\tremaining: 19.8s\n",
            "863:\tlearn: 0.0048416\ttotal: 2m 5s\tremaining: 19.7s\n",
            "864:\tlearn: 0.0048408\ttotal: 2m 5s\tremaining: 19.5s\n",
            "865:\tlearn: 0.0048405\ttotal: 2m 5s\tremaining: 19.4s\n",
            "866:\tlearn: 0.0048402\ttotal: 2m 5s\tremaining: 19.2s\n",
            "867:\tlearn: 0.0048397\ttotal: 2m 5s\tremaining: 19.1s\n",
            "868:\tlearn: 0.0048392\ttotal: 2m 5s\tremaining: 18.9s\n",
            "869:\tlearn: 0.0048385\ttotal: 2m 5s\tremaining: 18.8s\n",
            "870:\tlearn: 0.0048367\ttotal: 2m 5s\tremaining: 18.6s\n",
            "871:\tlearn: 0.0048360\ttotal: 2m 5s\tremaining: 18.5s\n",
            "872:\tlearn: 0.0048316\ttotal: 2m 6s\tremaining: 18.3s\n",
            "873:\tlearn: 0.0048312\ttotal: 2m 6s\tremaining: 18.2s\n",
            "874:\tlearn: 0.0048308\ttotal: 2m 6s\tremaining: 18s\n",
            "875:\tlearn: 0.0048266\ttotal: 2m 6s\tremaining: 17.9s\n",
            "876:\tlearn: 0.0048219\ttotal: 2m 6s\tremaining: 17.7s\n",
            "877:\tlearn: 0.0048198\ttotal: 2m 6s\tremaining: 17.6s\n",
            "878:\tlearn: 0.0048170\ttotal: 2m 6s\tremaining: 17.4s\n",
            "879:\tlearn: 0.0048166\ttotal: 2m 6s\tremaining: 17.3s\n",
            "880:\tlearn: 0.0048105\ttotal: 2m 6s\tremaining: 17.1s\n",
            "881:\tlearn: 0.0048094\ttotal: 2m 6s\tremaining: 17s\n",
            "882:\tlearn: 0.0048064\ttotal: 2m 7s\tremaining: 16.8s\n",
            "883:\tlearn: 0.0048043\ttotal: 2m 7s\tremaining: 16.7s\n",
            "884:\tlearn: 0.0048013\ttotal: 2m 7s\tremaining: 16.5s\n",
            "885:\tlearn: 0.0047884\ttotal: 2m 7s\tremaining: 16.4s\n",
            "886:\tlearn: 0.0047880\ttotal: 2m 7s\tremaining: 16.2s\n",
            "887:\tlearn: 0.0047878\ttotal: 2m 7s\tremaining: 16.1s\n",
            "888:\tlearn: 0.0047858\ttotal: 2m 7s\tremaining: 15.9s\n",
            "889:\tlearn: 0.0047855\ttotal: 2m 7s\tremaining: 15.8s\n",
            "890:\tlearn: 0.0047811\ttotal: 2m 7s\tremaining: 15.6s\n",
            "891:\tlearn: 0.0047808\ttotal: 2m 7s\tremaining: 15.5s\n",
            "892:\tlearn: 0.0047803\ttotal: 2m 8s\tremaining: 15.3s\n",
            "893:\tlearn: 0.0047737\ttotal: 2m 8s\tremaining: 15.2s\n",
            "894:\tlearn: 0.0047706\ttotal: 2m 8s\tremaining: 15s\n",
            "895:\tlearn: 0.0047701\ttotal: 2m 8s\tremaining: 14.9s\n",
            "896:\tlearn: 0.0047696\ttotal: 2m 8s\tremaining: 14.7s\n",
            "897:\tlearn: 0.0047691\ttotal: 2m 8s\tremaining: 14.6s\n",
            "898:\tlearn: 0.0047681\ttotal: 2m 8s\tremaining: 14.4s\n",
            "899:\tlearn: 0.0047678\ttotal: 2m 8s\tremaining: 14.3s\n",
            "900:\tlearn: 0.0047559\ttotal: 2m 8s\tremaining: 14.2s\n",
            "901:\tlearn: 0.0047540\ttotal: 2m 8s\tremaining: 14s\n",
            "902:\tlearn: 0.0047537\ttotal: 2m 8s\tremaining: 13.9s\n",
            "903:\tlearn: 0.0047519\ttotal: 2m 9s\tremaining: 13.7s\n",
            "904:\tlearn: 0.0047450\ttotal: 2m 9s\tremaining: 13.6s\n",
            "905:\tlearn: 0.0047420\ttotal: 2m 9s\tremaining: 13.4s\n",
            "906:\tlearn: 0.0047402\ttotal: 2m 9s\tremaining: 13.3s\n",
            "907:\tlearn: 0.0047358\ttotal: 2m 9s\tremaining: 13.1s\n",
            "908:\tlearn: 0.0047356\ttotal: 2m 9s\tremaining: 13s\n",
            "909:\tlearn: 0.0047352\ttotal: 2m 9s\tremaining: 12.8s\n",
            "910:\tlearn: 0.0047328\ttotal: 2m 9s\tremaining: 12.7s\n",
            "911:\tlearn: 0.0047324\ttotal: 2m 9s\tremaining: 12.5s\n",
            "912:\tlearn: 0.0047283\ttotal: 2m 9s\tremaining: 12.4s\n",
            "913:\tlearn: 0.0047268\ttotal: 2m 10s\tremaining: 12.2s\n",
            "914:\tlearn: 0.0047266\ttotal: 2m 10s\tremaining: 12.1s\n",
            "915:\tlearn: 0.0047249\ttotal: 2m 10s\tremaining: 11.9s\n",
            "916:\tlearn: 0.0047237\ttotal: 2m 10s\tremaining: 11.8s\n",
            "917:\tlearn: 0.0047198\ttotal: 2m 10s\tremaining: 11.7s\n",
            "918:\tlearn: 0.0047162\ttotal: 2m 10s\tremaining: 11.5s\n",
            "919:\tlearn: 0.0047118\ttotal: 2m 10s\tremaining: 11.4s\n",
            "920:\tlearn: 0.0047053\ttotal: 2m 10s\tremaining: 11.2s\n",
            "921:\tlearn: 0.0047043\ttotal: 2m 10s\tremaining: 11.1s\n",
            "922:\tlearn: 0.0047040\ttotal: 2m 10s\tremaining: 10.9s\n",
            "923:\tlearn: 0.0046993\ttotal: 2m 11s\tremaining: 10.8s\n",
            "924:\tlearn: 0.0046977\ttotal: 2m 11s\tremaining: 10.6s\n",
            "925:\tlearn: 0.0046965\ttotal: 2m 11s\tremaining: 10.5s\n",
            "926:\tlearn: 0.0046963\ttotal: 2m 11s\tremaining: 10.3s\n",
            "927:\tlearn: 0.0046927\ttotal: 2m 11s\tremaining: 10.2s\n",
            "928:\tlearn: 0.0046906\ttotal: 2m 11s\tremaining: 10.1s\n",
            "929:\tlearn: 0.0046857\ttotal: 2m 11s\tremaining: 9.91s\n",
            "930:\tlearn: 0.0046759\ttotal: 2m 11s\tremaining: 9.77s\n",
            "931:\tlearn: 0.0046747\ttotal: 2m 11s\tremaining: 9.62s\n",
            "932:\tlearn: 0.0046703\ttotal: 2m 11s\tremaining: 9.48s\n",
            "933:\tlearn: 0.0046698\ttotal: 2m 12s\tremaining: 9.33s\n",
            "934:\tlearn: 0.0046682\ttotal: 2m 12s\tremaining: 9.19s\n",
            "935:\tlearn: 0.0046580\ttotal: 2m 12s\tremaining: 9.04s\n",
            "936:\tlearn: 0.0046558\ttotal: 2m 12s\tremaining: 8.9s\n",
            "937:\tlearn: 0.0046543\ttotal: 2m 12s\tremaining: 8.76s\n",
            "938:\tlearn: 0.0046521\ttotal: 2m 12s\tremaining: 8.61s\n",
            "939:\tlearn: 0.0046504\ttotal: 2m 12s\tremaining: 8.47s\n",
            "940:\tlearn: 0.0046406\ttotal: 2m 12s\tremaining: 8.32s\n",
            "941:\tlearn: 0.0046397\ttotal: 2m 12s\tremaining: 8.18s\n",
            "942:\tlearn: 0.0046393\ttotal: 2m 12s\tremaining: 8.03s\n",
            "943:\tlearn: 0.0046298\ttotal: 2m 13s\tremaining: 7.89s\n",
            "944:\tlearn: 0.0046286\ttotal: 2m 13s\tremaining: 7.75s\n",
            "945:\tlearn: 0.0046246\ttotal: 2m 13s\tremaining: 7.61s\n",
            "946:\tlearn: 0.0046233\ttotal: 2m 13s\tremaining: 7.46s\n",
            "947:\tlearn: 0.0046203\ttotal: 2m 13s\tremaining: 7.32s\n",
            "948:\tlearn: 0.0046182\ttotal: 2m 13s\tremaining: 7.18s\n",
            "949:\tlearn: 0.0046154\ttotal: 2m 13s\tremaining: 7.04s\n",
            "950:\tlearn: 0.0046140\ttotal: 2m 13s\tremaining: 6.89s\n",
            "951:\tlearn: 0.0046054\ttotal: 2m 13s\tremaining: 6.75s\n",
            "952:\tlearn: 0.0045918\ttotal: 2m 13s\tremaining: 6.61s\n",
            "953:\tlearn: 0.0045777\ttotal: 2m 14s\tremaining: 6.46s\n",
            "954:\tlearn: 0.0045728\ttotal: 2m 14s\tremaining: 6.32s\n",
            "955:\tlearn: 0.0045698\ttotal: 2m 14s\tremaining: 6.18s\n",
            "956:\tlearn: 0.0045632\ttotal: 2m 14s\tremaining: 6.04s\n",
            "957:\tlearn: 0.0045596\ttotal: 2m 14s\tremaining: 5.89s\n",
            "958:\tlearn: 0.0045585\ttotal: 2m 14s\tremaining: 5.75s\n",
            "959:\tlearn: 0.0045574\ttotal: 2m 14s\tremaining: 5.61s\n",
            "960:\tlearn: 0.0045548\ttotal: 2m 14s\tremaining: 5.47s\n",
            "961:\tlearn: 0.0045524\ttotal: 2m 14s\tremaining: 5.33s\n",
            "962:\tlearn: 0.0045510\ttotal: 2m 14s\tremaining: 5.18s\n",
            "963:\tlearn: 0.0045451\ttotal: 2m 15s\tremaining: 5.04s\n",
            "964:\tlearn: 0.0045414\ttotal: 2m 15s\tremaining: 4.9s\n",
            "965:\tlearn: 0.0045380\ttotal: 2m 15s\tremaining: 4.76s\n",
            "966:\tlearn: 0.0045378\ttotal: 2m 15s\tremaining: 4.62s\n",
            "967:\tlearn: 0.0045352\ttotal: 2m 15s\tremaining: 4.47s\n",
            "968:\tlearn: 0.0045338\ttotal: 2m 15s\tremaining: 4.33s\n",
            "969:\tlearn: 0.0045315\ttotal: 2m 15s\tremaining: 4.19s\n",
            "970:\tlearn: 0.0045279\ttotal: 2m 15s\tremaining: 4.05s\n",
            "971:\tlearn: 0.0045250\ttotal: 2m 15s\tremaining: 3.91s\n",
            "972:\tlearn: 0.0045227\ttotal: 2m 15s\tremaining: 3.77s\n",
            "973:\tlearn: 0.0045207\ttotal: 2m 16s\tremaining: 3.63s\n",
            "974:\tlearn: 0.0045145\ttotal: 2m 16s\tremaining: 3.49s\n",
            "975:\tlearn: 0.0045027\ttotal: 2m 16s\tremaining: 3.35s\n",
            "976:\tlearn: 0.0045008\ttotal: 2m 16s\tremaining: 3.21s\n",
            "977:\tlearn: 0.0044998\ttotal: 2m 16s\tremaining: 3.07s\n",
            "978:\tlearn: 0.0044976\ttotal: 2m 16s\tremaining: 2.93s\n",
            "979:\tlearn: 0.0044954\ttotal: 2m 16s\tremaining: 2.79s\n",
            "980:\tlearn: 0.0044939\ttotal: 2m 16s\tremaining: 2.65s\n",
            "981:\tlearn: 0.0044919\ttotal: 2m 17s\tremaining: 2.52s\n",
            "982:\tlearn: 0.0044873\ttotal: 2m 17s\tremaining: 2.38s\n",
            "983:\tlearn: 0.0044840\ttotal: 2m 17s\tremaining: 2.24s\n",
            "984:\tlearn: 0.0044810\ttotal: 2m 17s\tremaining: 2.1s\n",
            "985:\tlearn: 0.0044787\ttotal: 2m 17s\tremaining: 1.96s\n",
            "986:\tlearn: 0.0044760\ttotal: 2m 18s\tremaining: 1.82s\n",
            "987:\tlearn: 0.0044746\ttotal: 2m 18s\tremaining: 1.68s\n",
            "988:\tlearn: 0.0044695\ttotal: 2m 18s\tremaining: 1.54s\n",
            "989:\tlearn: 0.0044633\ttotal: 2m 18s\tremaining: 1.4s\n",
            "990:\tlearn: 0.0044612\ttotal: 2m 18s\tremaining: 1.26s\n",
            "991:\tlearn: 0.0044557\ttotal: 2m 18s\tremaining: 1.12s\n",
            "992:\tlearn: 0.0044504\ttotal: 2m 18s\tremaining: 977ms\n",
            "993:\tlearn: 0.0044473\ttotal: 2m 18s\tremaining: 837ms\n",
            "994:\tlearn: 0.0044464\ttotal: 2m 18s\tremaining: 698ms\n",
            "995:\tlearn: 0.0044416\ttotal: 2m 18s\tremaining: 558ms\n",
            "996:\tlearn: 0.0044408\ttotal: 2m 19s\tremaining: 418ms\n",
            "997:\tlearn: 0.0044394\ttotal: 2m 19s\tremaining: 279ms\n",
            "998:\tlearn: 0.0044353\ttotal: 2m 19s\tremaining: 139ms\n",
            "999:\tlearn: 0.0044287\ttotal: 2m 19s\tremaining: 0us\n"
          ]
        },
        {
          "data": {
            "text/plain": [
              "<catboost.core.CatBoostClassifier at 0x7f3b26eb1810>"
            ]
          },
          "execution_count": 62,
          "metadata": {},
          "output_type": "execute_result"
        }
      ],
      "source": [
        "from catboost import CatBoostClassifier, Pool, metrics, cv\n",
        "catBoost = CatBoostClassifier()\n",
        "categorical_features_indices = np.where(x1_train.dtypes != float)[0]\n",
        "\n",
        "\n",
        "catBoost.fit(\n",
        "    x1_train, y1_train, cat_features=categorical_features_indices, \n",
        "    plot=True)"
      ]
    },
    {
      "cell_type": "code",
      "execution_count": null,
      "metadata": {
        "id": "Qh5DTd7L9kqL"
      },
      "outputs": [],
      "source": [
        "pred_cat = catBoost.predict(x1_test)\n",
        "y_true = y1_test"
      ]
    },
    {
      "cell_type": "code",
      "execution_count": null,
      "metadata": {
        "colab": {
          "base_uri": "https://localhost:8080/"
        },
        "id": "CBeQvRGs_y4Y",
        "outputId": "887cb0d9-c433-40e8-d37b-c991f985ac8f"
      },
      "outputs": [
        {
          "data": {
            "text/plain": [
              "1.0"
            ]
          },
          "execution_count": 64,
          "metadata": {},
          "output_type": "execute_result"
        }
      ],
      "source": [
        "precision_score(y_true,pred_cat)"
      ]
    },
    {
      "cell_type": "code",
      "execution_count": null,
      "metadata": {
        "colab": {
          "base_uri": "https://localhost:8080/",
          "height": 296
        },
        "id": "p9kOtPhYAL1o",
        "outputId": "7518bd53-8dc2-4067-80f6-824638f181ac"
      },
      "outputs": [
        {
          "data": {
            "text/plain": [
              "<sklearn.metrics._plot.roc_curve.RocCurveDisplay at 0x7f3b124967d0>"
            ]
          },
          "execution_count": 65,
          "metadata": {},
          "output_type": "execute_result"
        },
        {
          "data": {
            "image/png": "[encoded data removed]",
            "text/plain": [
              "<Figure size 432x288 with 1 Axes>"
            ]
          },
          "metadata": {},
          "output_type": "display_data"
        }
      ],
      "source": [
        "RocCurveDisplay.from_estimator(catBoost, x1_test, y1_test)"
      ]
    },
    {
      "cell_type": "code",
      "execution_count": null,
      "metadata": {
        "colab": {
          "base_uri": "https://localhost:8080/",
          "height": 296
        },
        "id": "ioOtpc-i_8m6",
        "outputId": "68fbaaff-0646-4225-fd74-909758be325a"
      },
      "outputs": [
        {
          "data": {
            "text/plain": [
              "<sklearn.metrics._plot.confusion_matrix.ConfusionMatrixDisplay at 0x7f3b36777250>"
            ]
          },
          "execution_count": 66,
          "metadata": {},
          "output_type": "execute_result"
        },
        {
          "data": {
            "image/png": "[encoded data removed]",
            "text/plain": [
              "<Figure size 432x288 with 2 Axes>"
            ]
          },
          "metadata": {},
          "output_type": "display_data"
        }
      ],
      "source": [
        "ConfusionMatrixDisplay.from_estimator(catBoost, x1_test, y1_test)"
      ]
    },
    {
      "cell_type": "code",
      "execution_count": null,
      "metadata": {
        "colab": {
          "base_uri": "https://localhost:8080/"
        },
        "id": "zMb14sDmAIRp",
        "outputId": "c5038e69-9467-4cb2-b018-0b02f4f946a8"
      },
      "outputs": [
        {
          "name": "stdout",
          "output_type": "stream",
          "text": [
            "median_age: 26.216281660671832\n",
            "CrossStreet: 8.709239170096659\n",
            "Collisionmanner: 8.32488921212434\n",
            "Violation1_Drv1: 7.33582316141425\n",
            "Traveldirection_Two: 5.57688163755857\n",
            "Unittype_One: 5.439695910172745\n",
            "Unitaction_Two: 5.418635254408912\n",
            "Unitaction_One: 4.944118421452197\n",
            "Traveldirection_One: 4.730356949771582\n",
            "StreetName: 4.229753457706172\n",
            "JunctionRelation: 3.0899087797769287\n",
            "Gender_Drv2: 2.8529624785112757\n",
            "AlcoholUse_Drv1: 2.511013111903276\n",
            "Lightcondition: 2.4774319093067847\n",
            "Violation1_Drv2: 1.7089310779177485\n",
            "AlcoholUse_Drv2: 1.3211165730673518\n",
            "Weather: 1.2072659833679114\n",
            "Unittype_Two: 1.1323524974287988\n",
            "DrugUse_Drv2: 0.9300924668495678\n",
            "drugs_involved: 0.9167868304636209\n",
            "Gender_Drv1: 0.36925871402626087\n",
            "SurfaceCondition: 0.3129915398715199\n",
            "DrugUse_Drv1: 0.2442132021316107\n",
            "alcohol_involved: 0.0\n"
          ]
        }
      ],
      "source": [
        "feature_importances = catBoost.get_feature_importance()\n",
        "feature_names = x1_train.columns\n",
        "for score, name in sorted(zip(feature_importances, feature_names), reverse=True):\n",
        "    print('{}: {}'.format(name, score))"
      ]
    },
    {
      "cell_type": "code",
      "execution_count": null,
      "metadata": {
        "id": "PlXb4o4fD_LA"
      },
      "outputs": [],
      "source": [
        "##Random Over and UnderSampling with SMOTE, then apply Each Previous Algo we iterated through \n",
        "x1_train, x1_test, y1_train, y1_test = train_test_split(X, y, random_state=0, test_size = .20)"
      ]
    },
    {
      "cell_type": "code",
      "execution_count": null,
      "metadata": {
        "colab": {
          "base_uri": "https://localhost:8080/"
        },
        "id": "kO_ktFdKFufF",
        "outputId": "c0a8d5a4-1246-4a16-e84c-2148b06a61d4"
      },
      "outputs": [
        {
          "name": "stdout",
          "output_type": "stream",
          "text": [
            "Looking in indexes: https://pypi.org/simple, https://us-python.pkg.dev/colab-wheels/public/simple/\n",
            "Requirement already satisfied: imblearn in /usr/local/lib/python3.7/dist-packages (0.0)\n",
            "Requirement already satisfied: imbalanced-learn in /usr/local/lib/python3.7/dist-packages (from imblearn) (0.8.1)\n",
            "Requirement already satisfied: numpy>=1.13.3 in /usr/local/lib/python3.7/dist-packages (from imbalanced-learn->imblearn) (1.21.6)\n",
            "Requirement already satisfied: joblib>=0.11 in /usr/local/lib/python3.7/dist-packages (from imbalanced-learn->imblearn) (1.1.0)\n",
            "Requirement already satisfied: scipy>=0.19.1 in /usr/local/lib/python3.7/dist-packages (from imbalanced-learn->imblearn) (1.7.3)\n",
            "Requirement already satisfied: scikit-learn>=0.24 in /usr/local/lib/python3.7/dist-packages (from imbalanced-learn->imblearn) (1.0.2)\n",
            "Requirement already satisfied: threadpoolctl>=2.0.0 in /usr/local/lib/python3.7/dist-packages (from scikit-learn>=0.24->imbalanced-learn->imblearn) (3.1.0)\n"
          ]
        }
      ],
      "source": [
        "pip install imblearn"
      ]
    },
    {
      "cell_type": "code",
      "execution_count": null,
      "metadata": {
        "colab": {
          "base_uri": "https://localhost:8080/"
        },
        "id": "RQr6LSiqF7tx",
        "outputId": "8c73a8a8-02e5-4cc7-8439-a6d64f1a3ccf"
      },
      "outputs": [
        {
          "name": "stdout",
          "output_type": "stream",
          "text": [
            "After Undersampling, the shape of train_X: (126, 24)\n",
            "After Undersampling, the shape of train_y: (126,) \n",
            "\n",
            "After Undersampling, counts of label '1': 63\n",
            "After Undersampling, counts of label '0': 63\n"
          ]
        }
      ],
      "source": [
        "from imblearn.under_sampling import NearMiss\n",
        "nr = NearMiss()\n",
        "  \n",
        "X_train_miss, y_train_miss = nr.fit_resample(x1_train, y1_train.ravel())\n",
        "  \n",
        "print('After Undersampling, the shape of train_X: {}'.format(X_train_miss.shape))\n",
        "print('After Undersampling, the shape of train_y: {} \\n'.format(y_train_miss.shape))\n",
        "  \n",
        "print(\"After Undersampling, counts of label '1': {}\".format(sum(y_train_miss == 1)))\n",
        "print(\"After Undersampling, counts of label '0': {}\".format(sum(y_train_miss == 0)))"
      ]
    },
    {
      "cell_type": "code",
      "execution_count": null,
      "metadata": {
        "colab": {
          "base_uri": "https://localhost:8080/"
        },
        "id": "4qqBqXVqGF3j",
        "outputId": "c3339dfd-0518-4d7b-8cff-5aa492ba6d10"
      },
      "outputs": [
        {
          "name": "stderr",
          "output_type": "stream",
          "text": [
            "/usr/local/lib/python3.7/dist-packages/sklearn/linear_model/_logistic.py:818: ConvergenceWarning: lbfgs failed to converge (status=1):\n",
            "STOP: TOTAL NO. of ITERATIONS REACHED LIMIT.\n",
            "\n",
            "Increase the number of iterations (max_iter) or scale the data as shown in:\n",
            "    https://scikit-learn.org/stable/modules/preprocessing.html\n",
            "Please also refer to the documentation for alternative solver options:\n",
            "    https://scikit-learn.org/stable/modules/linear_model.html#logistic-regression\n",
            "  extra_warning_msg=_LOGISTIC_SOLVER_CONVERGENCE_MSG,\n"
          ]
        }
      ],
      "source": [
        "#training models with old pipelines \n",
        "for pipe in pipelines:\n",
        "\tpipe.fit(X_train_miss, y_train_miss)"
      ]
    },
    {
      "cell_type": "code",
      "execution_count": null,
      "metadata": {
        "colab": {
          "base_uri": "https://localhost:8080/",
          "height": 296
        },
        "id": "XD-dB04JGh1q",
        "outputId": "367a5ee9-8fc1-4c39-c31c-f7261a94fa9b"
      },
      "outputs": [
        {
          "data": {
            "text/plain": [
              "<sklearn.metrics._plot.confusion_matrix.ConfusionMatrixDisplay at 0x7f3b12348510>"
            ]
          },
          "execution_count": 72,
          "metadata": {},
          "output_type": "execute_result"
        },
        {
          "data": {
            "image/png": "[encoded data removed]",
            "text/plain": [
              "<Figure size 432x288 with 2 Axes>"
            ]
          },
          "metadata": {},
          "output_type": "display_data"
        }
      ],
      "source": [
        "ConfusionMatrixDisplay.from_estimator(pipelines[0], x1_test, y1_test)"
      ]
    },
    {
      "cell_type": "code",
      "execution_count": null,
      "metadata": {
        "colab": {
          "base_uri": "https://localhost:8080/",
          "height": 296
        },
        "id": "RygHJvD-Gnq2",
        "outputId": "7b4da687-f4f8-4a14-a8e2-cf3adf111284"
      },
      "outputs": [
        {
          "data": {
            "text/plain": [
              "<sklearn.metrics._plot.roc_curve.RocCurveDisplay at 0x7f3b0fea0450>"
            ]
          },
          "execution_count": 73,
          "metadata": {},
          "output_type": "execute_result"
        },
        {
          "data": {
            "image/png": "[encoded data removed]",
            "text/plain": [
              "<Figure size 432x288 with 1 Axes>"
            ]
          },
          "metadata": {},
          "output_type": "display_data"
        }
      ],
      "source": [
        "RocCurveDisplay.from_estimator(pipelines[0], x1_test, y1_test)"
      ]
    },
    {
      "cell_type": "code",
      "execution_count": null,
      "metadata": {
        "colab": {
          "base_uri": "https://localhost:8080/",
          "height": 296
        },
        "id": "-FsiKIZzGn_E",
        "outputId": "80974fd5-03e7-47ab-93c9-08584a403cc8"
      },
      "outputs": [
        {
          "data": {
            "text/plain": [
              "<sklearn.metrics._plot.confusion_matrix.ConfusionMatrixDisplay at 0x7f3b0fea0790>"
            ]
          },
          "execution_count": 74,
          "metadata": {},
          "output_type": "execute_result"
        },
        {
          "data": {
            "image/png": "[encoded data removed]",
            "text/plain": [
              "<Figure size 432x288 with 2 Axes>"
            ]
          },
          "metadata": {},
          "output_type": "display_data"
        }
      ],
      "source": [
        "ConfusionMatrixDisplay.from_estimator(pipelines[1], x1_test, y1_test)"
      ]
    },
    {
      "cell_type": "code",
      "execution_count": null,
      "metadata": {
        "colab": {
          "base_uri": "https://localhost:8080/",
          "height": 296
        },
        "id": "lmIQGnwIGr7D",
        "outputId": "e379798e-aa3a-44bc-a9aa-69333438de3b"
      },
      "outputs": [
        {
          "data": {
            "text/plain": [
              "<sklearn.metrics._plot.roc_curve.RocCurveDisplay at 0x7f3b0fdac3d0>"
            ]
          },
          "execution_count": 75,
          "metadata": {},
          "output_type": "execute_result"
        },
        {
          "data": {
            "image/png": "[encoded data removed]",
            "text/plain": [
              "<Figure size 432x288 with 1 Axes>"
            ]
          },
          "metadata": {},
          "output_type": "display_data"
        }
      ],
      "source": [
        "RocCurveDisplay.from_estimator(pipelines[1], x1_test, y1_test)"
      ]
    },
    {
      "cell_type": "code",
      "execution_count": null,
      "metadata": {
        "colab": {
          "base_uri": "https://localhost:8080/",
          "height": 296
        },
        "id": "GtVpWO7lGuEy",
        "outputId": "c91e9d8b-9bd8-46d5-8f4c-08798bcde85e"
      },
      "outputs": [
        {
          "data": {
            "text/plain": [
              "<sklearn.metrics._plot.confusion_matrix.ConfusionMatrixDisplay at 0x7f3b0fd9f5d0>"
            ]
          },
          "execution_count": 76,
          "metadata": {},
          "output_type": "execute_result"
        },
        {
          "data": {
            "image/png": "[encoded data removed]",
            "text/plain": [
              "<Figure size 432x288 with 2 Axes>"
            ]
          },
          "metadata": {},
          "output_type": "display_data"
        }
      ],
      "source": [
        "ConfusionMatrixDisplay.from_estimator(pipelines[2], x1_test, y1_test)"
      ]
    },
    {
      "cell_type": "code",
      "execution_count": null,
      "metadata": {
        "colab": {
          "base_uri": "https://localhost:8080/",
          "height": 296
        },
        "id": "3mL81vmBGw1C",
        "outputId": "28ffe241-386d-4308-88bf-a3b54426f18a"
      },
      "outputs": [
        {
          "data": {
            "text/plain": [
              "<sklearn.metrics._plot.roc_curve.RocCurveDisplay at 0x7f3b0fd76910>"
            ]
          },
          "execution_count": 77,
          "metadata": {},
          "output_type": "execute_result"
        },
        {
          "data": {
            "image/png": "[encoded data removed]",
            "text/plain": [
              "<Figure size 432x288 with 1 Axes>"
            ]
          },
          "metadata": {},
          "output_type": "display_data"
        }
      ],
      "source": [
        "RocCurveDisplay.from_estimator(pipelines[2], x1_test, y1_test)"
      ]
    },
    {
      "cell_type": "code",
      "execution_count": null,
      "metadata": {
        "colab": {
          "base_uri": "https://localhost:8080/"
        },
        "id": "tQGbcrV3G0cv",
        "outputId": "599177ca-131e-4633-f44e-90bfcbd20401"
      },
      "outputs": [
        {
          "name": "stdout",
          "output_type": "stream",
          "text": [
            "After OverSampling, the shape of train_X: (51718, 24)\n",
            "After OverSampling, the shape of train_y: (51718,) \n",
            "\n",
            "After OverSampling, counts of label '1': 25859\n",
            "After OverSampling, counts of label '0': 25859\n"
          ]
        }
      ],
      "source": [
        "#SMOTE time\n",
        "from imblearn.over_sampling import SMOTE\n",
        "sm = SMOTE(random_state = 2)\n",
        "\n",
        "x2_train, x2_test, y2_train, y2_test = train_test_split(X, y, random_state=0, test_size = .20)\n",
        "X_train_smote, y_train_smote = sm.fit_resample(x2_train, y2_train.ravel())\n",
        "  \n",
        "print('After OverSampling, the shape of train_X: {}'.format(X_train_smote.shape))\n",
        "print('After OverSampling, the shape of train_y: {} \\n'.format(y_train_smote.shape))\n",
        "  \n",
        "print(\"After OverSampling, counts of label '1': {}\".format(sum(y_train_smote == 1)))\n",
        "print(\"After OverSampling, counts of label '0': {}\".format(sum(y_train_smote == 0)))"
      ]
    },
    {
      "cell_type": "code",
      "execution_count": null,
      "metadata": {
        "colab": {
          "background_save": true
        },
        "id": "xIm5bAwwHCGB",
        "outputId": "ef51a35c-dea9-49df-ef5d-746e6e081b72"
      },
      "outputs": [
        {
          "name": "stderr",
          "output_type": "stream",
          "text": [
            "/usr/local/lib/python3.7/dist-packages/sklearn/linear_model/_logistic.py:818: ConvergenceWarning: lbfgs failed to converge (status=1):\n",
            "STOP: TOTAL NO. of ITERATIONS REACHED LIMIT.\n",
            "\n",
            "Increase the number of iterations (max_iter) or scale the data as shown in:\n",
            "    https://scikit-learn.org/stable/modules/preprocessing.html\n",
            "Please also refer to the documentation for alternative solver options:\n",
            "    https://scikit-learn.org/stable/modules/linear_model.html#logistic-regression\n",
            "  extra_warning_msg=_LOGISTIC_SOLVER_CONVERGENCE_MSG,\n"
          ]
        }
      ],
      "source": [
        "for pipe in pipelines:\n",
        "\tpipe.fit(X_train_smote, y_train_smote)"
      ]
    },
    {
      "cell_type": "code",
      "execution_count": null,
      "metadata": {
        "colab": {
          "background_save": true
        },
        "id": "Uz3bS_JnIihZ",
        "outputId": "539eacce-6bae-4bf8-bf54-bdaaf56b4b1d"
      },
      "outputs": [
        {
          "data": {
            "text/plain": [
              "<sklearn.metrics._plot.confusion_matrix.ConfusionMatrixDisplay at 0x7f3b0fc3a250>"
            ]
          },
          "execution_count": 80,
          "metadata": {},
          "output_type": "execute_result"
        },
        {
          "data": {
            "image/png": "[encoded data removed]",
            "text/plain": [
              "<Figure size 432x288 with 2 Axes>"
            ]
          },
          "metadata": {},
          "output_type": "display_data"
        }
      ],
      "source": [
        "ConfusionMatrixDisplay.from_estimator(pipelines[0], x1_test, y1_test)"
      ]
    },
    {
      "cell_type": "code",
      "execution_count": null,
      "metadata": {
        "colab": {
          "background_save": true
        },
        "id": "1mA8eIz7IolH",
        "outputId": "74662fb6-eb9d-470f-8c7f-f7fadfbafe54"
      },
      "outputs": [
        {
          "data": {
            "text/plain": [
              "<sklearn.metrics._plot.confusion_matrix.ConfusionMatrixDisplay at 0x7f3b0fbc1050>"
            ]
          },
          "execution_count": 81,
          "metadata": {},
          "output_type": "execute_result"
        },
        {
          "data": {
            "image/png": "[encoded data removed]",
            "text/plain": [
              "<Figure size 432x288 with 2 Axes>"
            ]
          },
          "metadata": {},
          "output_type": "display_data"
        }
      ],
      "source": [
        "ConfusionMatrixDisplay.from_estimator(pipelines[1], x1_test, y1_test)"
      ]
    },
    {
      "cell_type": "code",
      "execution_count": null,
      "metadata": {
        "colab": {
          "background_save": true
        },
        "id": "vB3V2CvQJDfL",
        "outputId": "7b06f48c-bd51-49ce-c647-17142c421c9f"
      },
      "outputs": [
        {
          "data": {
            "text/plain": [
              "<sklearn.metrics._plot.confusion_matrix.ConfusionMatrixDisplay at 0x7f3b0fadfa50>"
            ]
          },
          "execution_count": 82,
          "metadata": {},
          "output_type": "execute_result"
        },
        {
          "data": {
            "image/png": "[encoded data removed]",
            "text/plain": [
              "<Figure size 432x288 with 2 Axes>"
            ]
          },
          "metadata": {},
          "output_type": "display_data"
        }
      ],
      "source": [
        "ConfusionMatrixDisplay.from_estimator(pipelines[2], x1_test, y1_test)"
      ]
    },
    {
      "cell_type": "code",
      "execution_count": null,
      "metadata": {
        "colab": {
          "background_save": true
        },
        "id": "GJe6bVB4JLtW",
        "outputId": "d8dd7bef-81c3-445c-e849-f226ba937491"
      },
      "outputs": [
        {
          "data": {
            "text/plain": [
              "<sklearn.metrics._plot.roc_curve.RocCurveDisplay at 0x7f3b0fa3e990>"
            ]
          },
          "execution_count": 83,
          "metadata": {},
          "output_type": "execute_result"
        },
        {
          "data": {
            "image/png": "[encoded data removed]",
            "text/plain": [
              "<Figure size 432x288 with 1 Axes>"
            ]
          },
          "metadata": {},
          "output_type": "display_data"
        }
      ],
      "source": [
        "RocCurveDisplay.from_estimator(pipelines[0], x1_test, y1_test)"
      ]
    },
    {
      "cell_type": "code",
      "execution_count": null,
      "metadata": {
        "colab": {
          "background_save": true
        },
        "id": "Z5o7307GJOCD",
        "outputId": "a8bdc61a-c761-44a1-eaee-81f4705cc535"
      },
      "outputs": [
        {
          "data": {
            "text/plain": [
              "<sklearn.metrics._plot.roc_curve.RocCurveDisplay at 0x7f3b0fccc6d0>"
            ]
          },
          "execution_count": 84,
          "metadata": {},
          "output_type": "execute_result"
        },
        {
          "data": {
            "image/png": "[encoded data removed]",
            "text/plain": [
              "<Figure size 432x288 with 1 Axes>"
            ]
          },
          "metadata": {},
          "output_type": "display_data"
        }
      ],
      "source": [
        "RocCurveDisplay.from_estimator(pipelines[1], x1_test, y1_test)"
      ]
    },
    {
      "cell_type": "code",
      "execution_count": null,
      "metadata": {
        "colab": {
          "background_save": true
        },
        "id": "9t5JmS6UJRMz",
        "outputId": "1921857f-f4ef-4803-d194-fd31c7b64771"
      },
      "outputs": [
        {
          "data": {
            "text/plain": [
              "<sklearn.metrics._plot.roc_curve.RocCurveDisplay at 0x7f3b0fa22510>"
            ]
          },
          "execution_count": 85,
          "metadata": {},
          "output_type": "execute_result"
        },
        {
          "data": {
            "image/png": "[encoded data removed]",
            "text/plain": [
              "<Figure size 432x288 with 1 Axes>"
            ]
          },
          "metadata": {},
          "output_type": "display_data"
        }
      ],
      "source": [
        "RocCurveDisplay.from_estimator(pipelines[2], x1_test, y1_test)"
      ]
    },
    {
      "cell_type": "code",
      "execution_count": null,
      "metadata": {
        "id": "s2zu1qemLqbn"
      },
      "outputs": [],
      "source": [
        "#Using SMOTE + Lasso Logistic Regression \n",
        "logit_lasso = LogisticRegressionCV(cv=5, random_state=0, penalty = \"l1\", solver='liblinear', max_iter=1000).fit(X_train_smote, y_train_smote)"
      ]
    },
    {
      "cell_type": "code",
      "execution_count": null,
      "metadata": {
        "id": "nYmfzYBfNFol"
      },
      "outputs": [],
      "source": [
        "ConfusionMatrixDisplay.from_estimator(logit_lasso, x1_test, y1_test)"
      ]
    },
    {
      "cell_type": "code",
      "execution_count": null,
      "metadata": {
        "id": "MCRbrilxNTP6"
      },
      "outputs": [],
      "source": [
        "RocCurveDisplay.from_estimator(logit_lasso, x1_test, y1_test)"
      ]
    }
  ],
  "metadata": {
    "colab": {
      "collapsed_sections": [],
      "name": "Tempe_Traffic_Prototype_Feature_Engineering_Model_V1.ipynb",
      "provenance": [],
      "authorship_tag": "ABX9TyP7cDS4kIzn/zmc33f0CaiD",
      "include_colab_link": true
    },
    "kernelspec": {
      "display_name": "Python 3",
      "name": "python3"
    },
    "language_info": {
      "name": "python"
    },
    "widgets": {
      "application/vnd.jupyter.widget-state+json": {
        "2873f8bc591c48a18b2adacb0e5e4714": {
          "model_module": "catboost-widget",
          "model_module_version": "^1.0.0",
          "model_name": "CatboostWidgetModel",
          "state": {
            "_dom_classes": [],
            "_model_module": "catboost-widget",
            "_model_module_version": "^1.0.0",
            "_model_name": "CatboostWidgetModel",
            "_view_count": null,
            "_view_module": "catboost-widget",
            "_view_module_version": "^1.0.0",
            "_view_name": "CatboostWidgetView",
            "data": {
              "catboost_info": {
                "content": {
                  "data": {
                    "iterations": [
                      {
                        "iteration": 0,
                        "learn": [
                          0.5759000004
                        ],
                        "passed_time": 0.1024065071,
                        "remaining_time": 102.3041006
                      },
                      {
                        "iteration": 1,
                        "learn": [
                          0.4746421321
                        ],
                        "passed_time": 0.1701818839,
                        "remaining_time": 84.92076008
                      },
                      {
                        "iteration": 2,
                        "learn": [
                          0.3952124734
                        ],
                        "passed_time": 0.1927368287,
                        "remaining_time": 64.05287273
                      },
                      {
                        "iteration": 3,
                        "learn": [
                          0.3297283846
                        ],
                        "passed_time": 0.2103359104,
                        "remaining_time": 52.37364168
                      },
                      {
                        "iteration": 4,
                        "learn": [
                          0.2740999375
                        ],
                        "passed_time": 0.3205163949,
                        "remaining_time": 63.78276259
                      },
                      {
                        "iteration": 5,
                        "learn": [
                          0.2278523869
                        ],
                        "passed_time": 0.3954390492,
                        "remaining_time": 65.51106915
                      },
                      {
                        "iteration": 6,
                        "learn": [
                          0.1924426659
                        ],
                        "passed_time": 0.4376920647,
                        "remaining_time": 62.08974575
                      },
                      {
                        "iteration": 7,
                        "learn": [
                          0.1635516024
                        ],
                        "passed_time": 0.4882595344,
                        "remaining_time": 60.54418227
                      },
                      {
                        "iteration": 8,
                        "learn": [
                          0.1398560444
                        ],
                        "passed_time": 0.5516760227,
                        "remaining_time": 60.74565983
                      },
                      {
                        "iteration": 9,
                        "learn": [
                          0.1201801526
                        ],
                        "passed_time": 0.6622521344,
                        "remaining_time": 65.5629613
                      },
                      {
                        "iteration": 10,
                        "learn": [
                          0.1027491588
                        ],
                        "passed_time": 0.7891327044,
                        "remaining_time": 70.95020406
                      },
                      {
                        "iteration": 11,
                        "learn": [
                          0.08970904614
                        ],
                        "passed_time": 0.8252778945,
                        "remaining_time": 67.94787998
                      },
                      {
                        "iteration": 12,
                        "learn": [
                          0.07844637965
                        ],
                        "passed_time": 0.8977589433,
                        "remaining_time": 68.16062131
                      },
                      {
                        "iteration": 13,
                        "learn": [
                          0.06882897204
                        ],
                        "passed_time": 1.012252451,
                        "remaining_time": 71.29149402
                      },
                      {
                        "iteration": 14,
                        "learn": [
                          0.06034693879
                        ],
                        "passed_time": 1.125910151,
                        "remaining_time": 73.93476656
                      },
                      {
                        "iteration": 15,
                        "learn": [
                          0.05384050942
                        ],
                        "passed_time": 1.216354356,
                        "remaining_time": 74.80579288
                      },
                      {
                        "iteration": 16,
                        "learn": [
                          0.0487598376
                        ],
                        "passed_time": 1.23186382,
                        "remaining_time": 71.23071382
                      },
                      {
                        "iteration": 17,
                        "learn": [
                          0.04445615516
                        ],
                        "passed_time": 1.259182882,
                        "remaining_time": 68.69542168
                      },
                      {
                        "iteration": 18,
                        "learn": [
                          0.04012200115
                        ],
                        "passed_time": 1.34756492,
                        "remaining_time": 69.57690457
                      },
                      {
                        "iteration": 19,
                        "learn": [
                          0.03601880212
                        ],
                        "passed_time": 1.446346727,
                        "remaining_time": 70.87098964
                      },
                      {
                        "iteration": 20,
                        "learn": [
                          0.03288652601
                        ],
                        "passed_time": 1.537867413,
                        "remaining_time": 71.69391416
                      },
                      {
                        "iteration": 21,
                        "learn": [
                          0.03019739375
                        ],
                        "passed_time": 1.637817848,
                        "remaining_time": 72.80844797
                      },
                      {
                        "iteration": 22,
                        "learn": [
                          0.02838951658
                        ],
                        "passed_time": 1.691030626,
                        "remaining_time": 71.83204006
                      },
                      {
                        "iteration": 23,
                        "learn": [
                          0.02628005912
                        ],
                        "passed_time": 1.792333075,
                        "remaining_time": 72.88821172
                      },
                      {
                        "iteration": 24,
                        "learn": [
                          0.02463615709
                        ],
                        "passed_time": 1.892880432,
                        "remaining_time": 73.82233686
                      },
                      {
                        "iteration": 25,
                        "learn": [
                          0.02313829218
                        ],
                        "passed_time": 2.068358039,
                        "remaining_time": 77.48387422
                      },
                      {
                        "iteration": 26,
                        "learn": [
                          0.02187107408
                        ],
                        "passed_time": 2.230285547,
                        "remaining_time": 80.37288285
                      },
                      {
                        "iteration": 27,
                        "learn": [
                          0.02093231811
                        ],
                        "passed_time": 2.342241539,
                        "remaining_time": 81.30924198
                      },
                      {
                        "iteration": 28,
                        "learn": [
                          0.02009233338
                        ],
                        "passed_time": 2.452278031,
                        "remaining_time": 82.10903338
                      },
                      {
                        "iteration": 29,
                        "learn": [
                          0.0193775568
                        ],
                        "passed_time": 2.546575398,
                        "remaining_time": 82.33927121
                      },
                      {
                        "iteration": 30,
                        "learn": [
                          0.01867592442
                        ],
                        "passed_time": 2.643764491,
                        "remaining_time": 82.63896101
                      },
                      {
                        "iteration": 31,
                        "learn": [
                          0.01810063553
                        ],
                        "passed_time": 2.714571548,
                        "remaining_time": 82.11578932
                      },
                      {
                        "iteration": 32,
                        "learn": [
                          0.01748457972
                        ],
                        "passed_time": 2.837640052,
                        "remaining_time": 83.15145244
                      },
                      {
                        "iteration": 33,
                        "learn": [
                          0.01706751293
                        ],
                        "passed_time": 2.945940704,
                        "remaining_time": 83.69937413
                      },
                      {
                        "iteration": 34,
                        "learn": [
                          0.0166937023
                        ],
                        "passed_time": 3.036373519,
                        "remaining_time": 83.71715559
                      },
                      {
                        "iteration": 35,
                        "learn": [
                          0.01621543725
                        ],
                        "passed_time": 3.19316716,
                        "remaining_time": 85.50592063
                      },
                      {
                        "iteration": 36,
                        "learn": [
                          0.0158344059
                        ],
                        "passed_time": 3.411755757,
                        "remaining_time": 88.7978593
                      },
                      {
                        "iteration": 37,
                        "learn": [
                          0.01556954507
                        ],
                        "passed_time": 3.585642981,
                        "remaining_time": 90.77338285
                      },
                      {
                        "iteration": 38,
                        "learn": [
                          0.01521737087
                        ],
                        "passed_time": 3.780686514,
                        "remaining_time": 93.15999332
                      },
                      {
                        "iteration": 39,
                        "learn": [
                          0.0149124993
                        ],
                        "passed_time": 3.976474635,
                        "remaining_time": 95.43539123
                      },
                      {
                        "iteration": 40,
                        "learn": [
                          0.01463632551
                        ],
                        "passed_time": 4.157543809,
                        "remaining_time": 97.24596372
                      },
                      {
                        "iteration": 41,
                        "learn": [
                          0.01434180151
                        ],
                        "passed_time": 4.335675025,
                        "remaining_time": 98.89468271
                      },
                      {
                        "iteration": 42,
                        "learn": [
                          0.01417668204
                        ],
                        "passed_time": 4.54334855,
                        "remaining_time": 101.1159201
                      },
                      {
                        "iteration": 43,
                        "learn": [
                          0.01392130364
                        ],
                        "passed_time": 4.770784567,
                        "remaining_time": 103.6561374
                      },
                      {
                        "iteration": 44,
                        "learn": [
                          0.01369352017
                        ],
                        "passed_time": 5.027186062,
                        "remaining_time": 106.6880598
                      },
                      {
                        "iteration": 45,
                        "learn": [
                          0.01358812745
                        ],
                        "passed_time": 5.199089776,
                        "remaining_time": 107.824601
                      },
                      {
                        "iteration": 46,
                        "learn": [
                          0.01342976386
                        ],
                        "passed_time": 5.386159802,
                        "remaining_time": 109.2129849
                      },
                      {
                        "iteration": 47,
                        "learn": [
                          0.01334484505
                        ],
                        "passed_time": 5.702702501,
                        "remaining_time": 113.1035996
                      },
                      {
                        "iteration": 48,
                        "learn": [
                          0.01326051697
                        ],
                        "passed_time": 5.894690657,
                        "remaining_time": 114.4051187
                      },
                      {
                        "iteration": 49,
                        "learn": [
                          0.01318537759
                        ],
                        "passed_time": 6.116048401,
                        "remaining_time": 116.2049196
                      },
                      {
                        "iteration": 50,
                        "learn": [
                          0.01311730592
                        ],
                        "passed_time": 6.291006545,
                        "remaining_time": 117.062063
                      },
                      {
                        "iteration": 51,
                        "learn": [
                          0.01294105207
                        ],
                        "passed_time": 6.452432316,
                        "remaining_time": 117.6328045
                      },
                      {
                        "iteration": 52,
                        "learn": [
                          0.01288782491
                        ],
                        "passed_time": 6.646048087,
                        "remaining_time": 118.7510856
                      },
                      {
                        "iteration": 53,
                        "learn": [
                          0.01278071001
                        ],
                        "passed_time": 6.896009588,
                        "remaining_time": 120.8078717
                      },
                      {
                        "iteration": 54,
                        "learn": [
                          0.0126903775
                        ],
                        "passed_time": 7.102965557,
                        "remaining_time": 122.0418627
                      },
                      {
                        "iteration": 55,
                        "learn": [
                          0.01259321725
                        ],
                        "passed_time": 7.281974846,
                        "remaining_time": 122.7532903
                      },
                      {
                        "iteration": 56,
                        "learn": [
                          0.01251624968
                        ],
                        "passed_time": 7.471962191,
                        "remaining_time": 123.6150938
                      },
                      {
                        "iteration": 57,
                        "learn": [
                          0.01243776298
                        ],
                        "passed_time": 7.674861552,
                        "remaining_time": 124.6503376
                      },
                      {
                        "iteration": 58,
                        "learn": [
                          0.01236470811
                        ],
                        "passed_time": 7.8674144,
                        "remaining_time": 125.4785924
                      },
                      {
                        "iteration": 59,
                        "learn": [
                          0.01232793591
                        ],
                        "passed_time": 8.085650839,
                        "remaining_time": 126.6751965
                      },
                      {
                        "iteration": 60,
                        "learn": [
                          0.01226520642
                        ],
                        "passed_time": 8.313965769,
                        "remaining_time": 127.980555
                      },
                      {
                        "iteration": 61,
                        "learn": [
                          0.01220596883
                        ],
                        "passed_time": 8.491842992,
                        "remaining_time": 128.4733666
                      },
                      {
                        "iteration": 62,
                        "learn": [
                          0.01214505745
                        ],
                        "passed_time": 8.66117941,
                        "remaining_time": 128.8178588
                      },
                      {
                        "iteration": 63,
                        "learn": [
                          0.01206542064
                        ],
                        "passed_time": 8.843902222,
                        "remaining_time": 129.34207
                      },
                      {
                        "iteration": 64,
                        "learn": [
                          0.01200307969
                        ],
                        "passed_time": 9.06691954,
                        "remaining_time": 130.4241503
                      },
                      {
                        "iteration": 65,
                        "learn": [
                          0.011906963
                        ],
                        "passed_time": 9.250033358,
                        "remaining_time": 130.9019872
                      },
                      {
                        "iteration": 66,
                        "learn": [
                          0.01185769613
                        ],
                        "passed_time": 9.416762109,
                        "remaining_time": 131.1319261
                      },
                      {
                        "iteration": 67,
                        "learn": [
                          0.01183980645
                        ],
                        "passed_time": 9.595556462,
                        "remaining_time": 131.515568
                      },
                      {
                        "iteration": 68,
                        "learn": [
                          0.01178768216
                        ],
                        "passed_time": 9.775166519,
                        "remaining_time": 131.8939135
                      },
                      {
                        "iteration": 69,
                        "learn": [
                          0.01172236542
                        ],
                        "passed_time": 10.02890684,
                        "remaining_time": 133.2411908
                      },
                      {
                        "iteration": 70,
                        "learn": [
                          0.01168434872
                        ],
                        "passed_time": 10.26996371,
                        "remaining_time": 134.3774125
                      },
                      {
                        "iteration": 71,
                        "learn": [
                          0.01166807477
                        ],
                        "passed_time": 10.46344371,
                        "remaining_time": 134.8621634
                      },
                      {
                        "iteration": 72,
                        "learn": [
                          0.01163581788
                        ],
                        "passed_time": 10.63127965,
                        "remaining_time": 135.0026881
                      },
                      {
                        "iteration": 73,
                        "learn": [
                          0.01161569635
                        ],
                        "passed_time": 10.90348867,
                        "remaining_time": 136.4409528
                      },
                      {
                        "iteration": 74,
                        "learn": [
                          0.01153277658
                        ],
                        "passed_time": 11.16951788,
                        "remaining_time": 137.7573872
                      },
                      {
                        "iteration": 75,
                        "learn": [
                          0.01146401172
                        ],
                        "passed_time": 11.32327017,
                        "remaining_time": 137.6671268
                      },
                      {
                        "iteration": 76,
                        "learn": [
                          0.0114416919
                        ],
                        "passed_time": 11.55504713,
                        "remaining_time": 138.5105
                      },
                      {
                        "iteration": 77,
                        "learn": [
                          0.01141077639
                        ],
                        "passed_time": 11.76616701,
                        "remaining_time": 139.0821279
                      },
                      {
                        "iteration": 78,
                        "learn": [
                          0.01139369789
                        ],
                        "passed_time": 11.9653178,
                        "remaining_time": 139.4944012
                      },
                      {
                        "iteration": 79,
                        "learn": [
                          0.01133712423
                        ],
                        "passed_time": 12.14506495,
                        "remaining_time": 139.668247
                      },
                      {
                        "iteration": 80,
                        "learn": [
                          0.01132245729
                        ],
                        "passed_time": 12.31952374,
                        "remaining_time": 139.7733619
                      },
                      {
                        "iteration": 81,
                        "learn": [
                          0.0113205375
                        ],
                        "passed_time": 12.44234407,
                        "remaining_time": 139.2935592
                      },
                      {
                        "iteration": 82,
                        "learn": [
                          0.01125287002
                        ],
                        "passed_time": 12.60796689,
                        "remaining_time": 139.2952486
                      },
                      {
                        "iteration": 83,
                        "learn": [
                          0.01119117687
                        ],
                        "passed_time": 12.79063947,
                        "remaining_time": 139.4788781
                      },
                      {
                        "iteration": 84,
                        "learn": [
                          0.01114132731
                        ],
                        "passed_time": 13.00983124,
                        "remaining_time": 140.0470068
                      },
                      {
                        "iteration": 85,
                        "learn": [
                          0.01110214073
                        ],
                        "passed_time": 13.19039532,
                        "remaining_time": 140.1862944
                      },
                      {
                        "iteration": 86,
                        "learn": [
                          0.011085857
                        ],
                        "passed_time": 13.35969771,
                        "remaining_time": 140.200046
                      },
                      {
                        "iteration": 87,
                        "learn": [
                          0.01107834564
                        ],
                        "passed_time": 13.50589197,
                        "remaining_time": 139.9701531
                      },
                      {
                        "iteration": 88,
                        "learn": [
                          0.01107355016
                        ],
                        "passed_time": 13.62910953,
                        "remaining_time": 139.5069526
                      },
                      {
                        "iteration": 89,
                        "learn": [
                          0.01105417823
                        ],
                        "passed_time": 13.78809945,
                        "remaining_time": 139.4130055
                      },
                      {
                        "iteration": 90,
                        "learn": [
                          0.01104242291
                        ],
                        "passed_time": 13.98596895,
                        "remaining_time": 139.7059976
                      },
                      {
                        "iteration": 91,
                        "learn": [
                          0.01101316379
                        ],
                        "passed_time": 14.1614715,
                        "remaining_time": 139.7675665
                      },
                      {
                        "iteration": 92,
                        "learn": [
                          0.01099425134
                        ],
                        "passed_time": 14.40238465,
                        "remaining_time": 140.4619664
                      },
                      {
                        "iteration": 93,
                        "learn": [
                          0.01099299217
                        ],
                        "passed_time": 14.49772734,
                        "remaining_time": 139.7334145
                      },
                      {
                        "iteration": 94,
                        "learn": [
                          0.01094313149
                        ],
                        "passed_time": 14.68352166,
                        "remaining_time": 139.8798642
                      },
                      {
                        "iteration": 95,
                        "learn": [
                          0.01091685298
                        ],
                        "passed_time": 14.91190488,
                        "remaining_time": 140.4204376
                      },
                      {
                        "iteration": 96,
                        "learn": [
                          0.0109146592
                        ],
                        "passed_time": 15.01181611,
                        "remaining_time": 139.7491747
                      },
                      {
                        "iteration": 97,
                        "learn": [
                          0.01089896758
                        ],
                        "passed_time": 15.21884428,
                        "remaining_time": 140.0754851
                      },
                      {
                        "iteration": 98,
                        "learn": [
                          0.01084813632
                        ],
                        "passed_time": 15.40771424,
                        "remaining_time": 140.2257629
                      },
                      {
                        "iteration": 99,
                        "learn": [
                          0.01079196971
                        ],
                        "passed_time": 15.60929047,
                        "remaining_time": 140.4836142
                      },
                      {
                        "iteration": 100,
                        "learn": [
                          0.01076467686
                        ],
                        "passed_time": 15.78913112,
                        "remaining_time": 140.5388998
                      },
                      {
                        "iteration": 101,
                        "learn": [
                          0.01075355687
                        ],
                        "passed_time": 15.99481534,
                        "remaining_time": 140.8170997
                      },
                      {
                        "iteration": 102,
                        "learn": [
                          0.01074076233
                        ],
                        "passed_time": 16.24473317,
                        "remaining_time": 141.4711228
                      },
                      {
                        "iteration": 103,
                        "learn": [
                          0.01072743403
                        ],
                        "passed_time": 16.49393139,
                        "remaining_time": 142.1015628
                      },
                      {
                        "iteration": 104,
                        "learn": [
                          0.01071717235
                        ],
                        "passed_time": 16.7250466,
                        "remaining_time": 142.5611115
                      },
                      {
                        "iteration": 105,
                        "learn": [
                          0.01069724937
                        ],
                        "passed_time": 16.96644847,
                        "remaining_time": 143.0943861
                      },
                      {
                        "iteration": 106,
                        "learn": [
                          0.01068232243
                        ],
                        "passed_time": 17.23594232,
                        "remaining_time": 143.8476308
                      },
                      {
                        "iteration": 107,
                        "learn": [
                          0.01066150696
                        ],
                        "passed_time": 17.51483823,
                        "remaining_time": 144.6595898
                      },
                      {
                        "iteration": 108,
                        "learn": [
                          0.0106419535
                        ],
                        "passed_time": 17.70790032,
                        "remaining_time": 144.7499007
                      },
                      {
                        "iteration": 109,
                        "learn": [
                          0.01062046621
                        ],
                        "passed_time": 17.92142084,
                        "remaining_time": 145.0005868
                      },
                      {
                        "iteration": 110,
                        "learn": [
                          0.0106051186
                        ],
                        "passed_time": 18.13602113,
                        "remaining_time": 145.2515566
                      },
                      {
                        "iteration": 111,
                        "learn": [
                          0.01059403029
                        ],
                        "passed_time": 18.4477491,
                        "remaining_time": 146.2642964
                      },
                      {
                        "iteration": 112,
                        "learn": [
                          0.0105802052
                        ],
                        "passed_time": 18.66931561,
                        "remaining_time": 146.5458668
                      },
                      {
                        "iteration": 113,
                        "learn": [
                          0.01056253643
                        ],
                        "passed_time": 18.85106047,
                        "remaining_time": 146.5091191
                      },
                      {
                        "iteration": 114,
                        "learn": [
                          0.01055613961
                        ],
                        "passed_time": 19.10521486,
                        "remaining_time": 147.0270882
                      },
                      {
                        "iteration": 115,
                        "learn": [
                          0.0105396519
                        ],
                        "passed_time": 19.34818257,
                        "remaining_time": 147.4464947
                      },
                      {
                        "iteration": 116,
                        "learn": [
                          0.01053137428
                        ],
                        "passed_time": 19.57524826,
                        "remaining_time": 147.7345659
                      },
                      {
                        "iteration": 117,
                        "learn": [
                          0.0105221594
                        ],
                        "passed_time": 19.74671285,
                        "remaining_time": 147.5983113
                      },
                      {
                        "iteration": 118,
                        "learn": [
                          0.01051172148
                        ],
                        "passed_time": 20.01868539,
                        "remaining_time": 148.2055616
                      },
                      {
                        "iteration": 119,
                        "learn": [
                          0.01049194658
                        ],
                        "passed_time": 20.24814986,
                        "remaining_time": 148.4864323
                      },
                      {
                        "iteration": 120,
                        "learn": [
                          0.01047547365
                        ],
                        "passed_time": 20.37823542,
                        "remaining_time": 148.0369333
                      },
                      {
                        "iteration": 121,
                        "learn": [
                          0.01044162516
                        ],
                        "passed_time": 20.59656507,
                        "remaining_time": 148.2277388
                      },
                      {
                        "iteration": 122,
                        "learn": [
                          0.01044020082
                        ],
                        "passed_time": 20.67292153,
                        "remaining_time": 147.3996113
                      },
                      {
                        "iteration": 123,
                        "learn": [
                          0.01042634508
                        ],
                        "passed_time": 21.0484358,
                        "remaining_time": 148.6970142
                      },
                      {
                        "iteration": 124,
                        "learn": [
                          0.01040369957
                        ],
                        "passed_time": 21.2991602,
                        "remaining_time": 149.0941214
                      },
                      {
                        "iteration": 125,
                        "learn": [
                          0.01038595068
                        ],
                        "passed_time": 21.55494329,
                        "remaining_time": 149.5160352
                      },
                      {
                        "iteration": 126,
                        "learn": [
                          0.01037297114
                        ],
                        "passed_time": 21.82191506,
                        "remaining_time": 150.0041877
                      },
                      {
                        "iteration": 127,
                        "learn": [
                          0.01037142735
                        ],
                        "passed_time": 22.0486391,
                        "remaining_time": 150.2063538
                      },
                      {
                        "iteration": 128,
                        "learn": [
                          0.01035771154
                        ],
                        "passed_time": 22.21239014,
                        "remaining_time": 149.9766807
                      },
                      {
                        "iteration": 129,
                        "learn": [
                          0.01035721476
                        ],
                        "passed_time": 22.41320413,
                        "remaining_time": 149.9960584
                      },
                      {
                        "iteration": 130,
                        "learn": [
                          0.01034364824
                        ],
                        "passed_time": 22.6054719,
                        "remaining_time": 149.9553823
                      },
                      {
                        "iteration": 131,
                        "learn": [
                          0.01033126021
                        ],
                        "passed_time": 22.78456339,
                        "remaining_time": 149.8257653
                      },
                      {
                        "iteration": 132,
                        "learn": [
                          0.01031190289
                        ],
                        "passed_time": 22.9526865,
                        "remaining_time": 149.6239038
                      },
                      {
                        "iteration": 133,
                        "learn": [
                          0.01028922155
                        ],
                        "passed_time": 23.18146199,
                        "remaining_time": 149.814523
                      },
                      {
                        "iteration": 134,
                        "learn": [
                          0.01025781985
                        ],
                        "passed_time": 23.38880812,
                        "remaining_time": 149.8616224
                      },
                      {
                        "iteration": 135,
                        "learn": [
                          0.0102574581
                        ],
                        "passed_time": 23.47976837,
                        "remaining_time": 149.1655873
                      },
                      {
                        "iteration": 136,
                        "learn": [
                          0.01024999261
                        ],
                        "passed_time": 23.62621603,
                        "remaining_time": 148.8279156
                      },
                      {
                        "iteration": 137,
                        "learn": [
                          0.01024876772
                        ],
                        "passed_time": 23.73575968,
                        "remaining_time": 148.2624989
                      },
                      {
                        "iteration": 138,
                        "learn": [
                          0.01023228916
                        ],
                        "passed_time": 23.90728881,
                        "remaining_time": 148.0875947
                      },
                      {
                        "iteration": 139,
                        "learn": [
                          0.01022110678
                        ],
                        "passed_time": 24.12728436,
                        "remaining_time": 148.2104611
                      },
                      {
                        "iteration": 140,
                        "learn": [
                          0.01017351555
                        ],
                        "passed_time": 24.28284267,
                        "remaining_time": 147.9358996
                      },
                      {
                        "iteration": 141,
                        "learn": [
                          0.01013112651
                        ],
                        "passed_time": 24.45608154,
                        "remaining_time": 147.7698448
                      },
                      {
                        "iteration": 142,
                        "learn": [
                          0.01012240253
                        ],
                        "passed_time": 24.61329844,
                        "remaining_time": 147.5076697
                      },
                      {
                        "iteration": 143,
                        "learn": [
                          0.01010779345
                        ],
                        "passed_time": 24.81537864,
                        "remaining_time": 147.5136397
                      },
                      {
                        "iteration": 144,
                        "learn": [
                          0.01010403516
                        ],
                        "passed_time": 25.00304565,
                        "remaining_time": 147.4317519
                      },
                      {
                        "iteration": 145,
                        "learn": [
                          0.01008906028
                        ],
                        "passed_time": 25.24899768,
                        "remaining_time": 147.6893426
                      },
                      {
                        "iteration": 146,
                        "learn": [
                          0.01007764464
                        ],
                        "passed_time": 25.5246695,
                        "remaining_time": 148.112538
                      },
                      {
                        "iteration": 147,
                        "learn": [
                          0.01007553637
                        ],
                        "passed_time": 25.69741181,
                        "remaining_time": 147.9337491
                      },
                      {
                        "iteration": 148,
                        "learn": [
                          0.01005412489
                        ],
                        "passed_time": 25.91253125,
                        "remaining_time": 147.9970745
                      },
                      {
                        "iteration": 149,
                        "learn": [
                          0.01003240139
                        ],
                        "passed_time": 26.1934622,
                        "remaining_time": 148.4296191
                      },
                      {
                        "iteration": 150,
                        "learn": [
                          0.01003176601
                        ],
                        "passed_time": 26.31363053,
                        "remaining_time": 147.9488233
                      },
                      {
                        "iteration": 151,
                        "learn": [
                          0.01003152833
                        ],
                        "passed_time": 26.41347793,
                        "remaining_time": 147.3594032
                      },
                      {
                        "iteration": 152,
                        "learn": [
                          0.0100312525
                        ],
                        "passed_time": 26.6262892,
                        "remaining_time": 147.4017448
                      },
                      {
                        "iteration": 153,
                        "learn": [
                          0.01003107147
                        ],
                        "passed_time": 26.72980539,
                        "remaining_time": 146.8403595
                      },
                      {
                        "iteration": 154,
                        "learn": [
                          0.01001449551
                        ],
                        "passed_time": 26.97020615,
                        "remaining_time": 147.0311238
                      },
                      {
                        "iteration": 155,
                        "learn": [
                          0.009994138502
                        ],
                        "passed_time": 27.21037844,
                        "remaining_time": 147.2151244
                      },
                      {
                        "iteration": 156,
                        "learn": [
                          0.00998161328
                        ],
                        "passed_time": 27.39592584,
                        "remaining_time": 147.1004171
                      },
                      {
                        "iteration": 157,
                        "learn": [
                          0.00997346263
                        ],
                        "passed_time": 27.61425606,
                        "remaining_time": 147.1595165
                      },
                      {
                        "iteration": 158,
                        "learn": [
                          0.009972592957
                        ],
                        "passed_time": 27.72966911,
                        "remaining_time": 146.6707656
                      },
                      {
                        "iteration": 159,
                        "learn": [
                          0.009970738973
                        ],
                        "passed_time": 27.80483446,
                        "remaining_time": 145.9753809
                      },
                      {
                        "iteration": 160,
                        "learn": [
                          0.009947181833
                        ],
                        "passed_time": 28.03075994,
                        "remaining_time": 146.0733391
                      },
                      {
                        "iteration": 161,
                        "learn": [
                          0.009945449779
                        ],
                        "passed_time": 28.19378638,
                        "remaining_time": 145.841932
                      },
                      {
                        "iteration": 162,
                        "learn": [
                          0.009945154383
                        ],
                        "passed_time": 28.34348236,
                        "remaining_time": 145.5429125
                      },
                      {
                        "iteration": 163,
                        "learn": [
                          0.009929962882
                        ],
                        "passed_time": 28.54519762,
                        "remaining_time": 145.5108854
                      },
                      {
                        "iteration": 164,
                        "learn": [
                          0.009921120791
                        ],
                        "passed_time": 28.76690536,
                        "remaining_time": 145.5779756
                      },
                      {
                        "iteration": 165,
                        "learn": [
                          0.009903366114
                        ],
                        "passed_time": 28.99298029,
                        "remaining_time": 145.6635275
                      },
                      {
                        "iteration": 166,
                        "learn": [
                          0.009899686402
                        ],
                        "passed_time": 29.10265275,
                        "remaining_time": 145.164729
                      },
                      {
                        "iteration": 167,
                        "learn": [
                          0.009885441386
                        ],
                        "passed_time": 29.29037996,
                        "remaining_time": 145.0571198
                      },
                      {
                        "iteration": 168,
                        "learn": [
                          0.009855341418
                        ],
                        "passed_time": 29.64470007,
                        "remaining_time": 145.7677264
                      },
                      {
                        "iteration": 169,
                        "learn": [
                          0.009838025205
                        ],
                        "passed_time": 29.95898193,
                        "remaining_time": 146.2703236
                      },
                      {
                        "iteration": 170,
                        "learn": [
                          0.009831136582
                        ],
                        "passed_time": 30.26308974,
                        "remaining_time": 146.7140433
                      },
                      {
                        "iteration": 171,
                        "learn": [
                          0.009822261674
                        ],
                        "passed_time": 30.44557167,
                        "remaining_time": 146.5635659
                      },
                      {
                        "iteration": 172,
                        "learn": [
                          0.009802908364
                        ],
                        "passed_time": 30.73681481,
                        "remaining_time": 146.932635
                      },
                      {
                        "iteration": 173,
                        "learn": [
                          0.009802745759
                        ],
                        "passed_time": 30.84072266,
                        "remaining_time": 146.4048098
                      },
                      {
                        "iteration": 174,
                        "learn": [
                          0.0097972827
                        ],
                        "passed_time": 30.97619598,
                        "remaining_time": 146.0306382
                      },
                      {
                        "iteration": 175,
                        "learn": [
                          0.00977751737
                        ],
                        "passed_time": 31.2285439,
                        "remaining_time": 146.2063646
                      },
                      {
                        "iteration": 176,
                        "learn": [
                          0.009743167505
                        ],
                        "passed_time": 31.42579801,
                        "remaining_time": 146.1210834
                      },
                      {
                        "iteration": 177,
                        "learn": [
                          0.009727025152
                        ],
                        "passed_time": 31.63743022,
                        "remaining_time": 146.1009418
                      },
                      {
                        "iteration": 178,
                        "learn": [
                          0.009718333771
                        ],
                        "passed_time": 31.78790557,
                        "remaining_time": 145.7981591
                      },
                      {
                        "iteration": 179,
                        "learn": [
                          0.009657656951
                        ],
                        "passed_time": 31.96892655,
                        "remaining_time": 145.6362209
                      },
                      {
                        "iteration": 180,
                        "learn": [
                          0.009625844271
                        ],
                        "passed_time": 32.20637993,
                        "remaining_time": 145.7294208
                      },
                      {
                        "iteration": 181,
                        "learn": [
                          0.009612565163
                        ],
                        "passed_time": 32.4493977,
                        "remaining_time": 145.8439962
                      },
                      {
                        "iteration": 182,
                        "learn": [
                          0.009578367443
                        ],
                        "passed_time": 32.60431213,
                        "remaining_time": 145.5613279
                      },
                      {
                        "iteration": 183,
                        "learn": [
                          0.009572146536
                        ],
                        "passed_time": 32.7995025,
                        "remaining_time": 145.4586633
                      },
                      {
                        "iteration": 184,
                        "learn": [
                          0.009568227209
                        ],
                        "passed_time": 32.95790525,
                        "remaining_time": 145.192934
                      },
                      {
                        "iteration": 185,
                        "learn": [
                          0.009560674397
                        ],
                        "passed_time": 33.13843364,
                        "remaining_time": 145.0251881
                      },
                      {
                        "iteration": 186,
                        "learn": [
                          0.009550118709
                        ],
                        "passed_time": 33.37670606,
                        "remaining_time": 145.1083531
                      },
                      {
                        "iteration": 187,
                        "learn": [
                          0.009548572968
                        ],
                        "passed_time": 33.46772535,
                        "remaining_time": 144.5520903
                      },
                      {
                        "iteration": 188,
                        "learn": [
                          0.009545266935
                        ],
                        "passed_time": 33.60646775,
                        "remaining_time": 144.2055309
                      },
                      {
                        "iteration": 189,
                        "learn": [
                          0.009539107648
                        ],
                        "passed_time": 33.7152528,
                        "remaining_time": 143.7334461
                      },
                      {
                        "iteration": 190,
                        "learn": [
                          0.009510698427
                        ],
                        "passed_time": 33.93191037,
                        "remaining_time": 143.7220706
                      },
                      {
                        "iteration": 191,
                        "learn": [
                          0.009493864515
                        ],
                        "passed_time": 34.1275198,
                        "remaining_time": 143.6199792
                      },
                      {
                        "iteration": 192,
                        "learn": [
                          0.009490695157
                        ],
                        "passed_time": 34.37259209,
                        "remaining_time": 143.72374
                      },
                      {
                        "iteration": 193,
                        "learn": [
                          0.009456593419
                        ],
                        "passed_time": 34.57386089,
                        "remaining_time": 143.6419169
                      },
                      {
                        "iteration": 194,
                        "learn": [
                          0.009455832399
                        ],
                        "passed_time": 34.67948874,
                        "remaining_time": 143.1640433
                      },
                      {
                        "iteration": 195,
                        "learn": [
                          0.009451615981
                        ],
                        "passed_time": 34.96870195,
                        "remaining_time": 143.4430427
                      },
                      {
                        "iteration": 196,
                        "learn": [
                          0.009440288513
                        ],
                        "passed_time": 35.16831196,
                        "remaining_time": 143.3510381
                      },
                      {
                        "iteration": 197,
                        "learn": [
                          0.009419861416
                        ],
                        "passed_time": 35.36080983,
                        "remaining_time": 143.2291388
                      },
                      {
                        "iteration": 198,
                        "learn": [
                          0.009411925736
                        ],
                        "passed_time": 35.54009083,
                        "remaining_time": 143.0533304
                      },
                      {
                        "iteration": 199,
                        "learn": [
                          0.009396177609
                        ],
                        "passed_time": 35.69813826,
                        "remaining_time": 142.792553
                      },
                      {
                        "iteration": 200,
                        "learn": [
                          0.009393347901
                        ],
                        "passed_time": 35.81616429,
                        "remaining_time": 142.3737078
                      },
                      {
                        "iteration": 201,
                        "learn": [
                          0.009379290458
                        ],
                        "passed_time": 35.99413824,
                        "remaining_time": 142.1946649
                      },
                      {
                        "iteration": 202,
                        "learn": [
                          0.009377969135
                        ],
                        "passed_time": 36.14565437,
                        "remaining_time": 141.9117563
                      },
                      {
                        "iteration": 203,
                        "learn": [
                          0.009370615493
                        ],
                        "passed_time": 36.40905527,
                        "remaining_time": 142.0667059
                      },
                      {
                        "iteration": 204,
                        "learn": [
                          0.009356503435
                        ],
                        "passed_time": 36.5968669,
                        "remaining_time": 141.924435
                      },
                      {
                        "iteration": 205,
                        "learn": [
                          0.009352460547
                        ],
                        "passed_time": 36.78030874,
                        "remaining_time": 141.7648793
                      },
                      {
                        "iteration": 206,
                        "learn": [
                          0.009351254106
                        ],
                        "passed_time": 36.84018088,
                        "remaining_time": 141.1317074
                      },
                      {
                        "iteration": 207,
                        "learn": [
                          0.009345292213
                        ],
                        "passed_time": 36.99079722,
                        "remaining_time": 140.849574
                      },
                      {
                        "iteration": 208,
                        "learn": [
                          0.009325706886
                        ],
                        "passed_time": 37.21113283,
                        "remaining_time": 140.8325649
                      },
                      {
                        "iteration": 209,
                        "learn": [
                          0.00931805646
                        ],
                        "passed_time": 37.39480412,
                        "remaining_time": 140.6756917
                      },
                      {
                        "iteration": 210,
                        "learn": [
                          0.009306019306
                        ],
                        "passed_time": 37.58028638,
                        "remaining_time": 140.5253363
                      },
                      {
                        "iteration": 211,
                        "learn": [
                          0.009304771416
                        ],
                        "passed_time": 37.74896294,
                        "remaining_time": 140.312183
                      },
                      {
                        "iteration": 212,
                        "learn": [
                          0.009288050446
                        ],
                        "passed_time": 37.94223927,
                        "remaining_time": 140.1903395
                      },
                      {
                        "iteration": 213,
                        "learn": [
                          0.009281975852
                        ],
                        "passed_time": 38.09884324,
                        "remaining_time": 139.9331345
                      },
                      {
                        "iteration": 214,
                        "learn": [
                          0.009275480209
                        ],
                        "passed_time": 38.30137984,
                        "remaining_time": 139.8445729
                      },
                      {
                        "iteration": 215,
                        "learn": [
                          0.009267572793
                        ],
                        "passed_time": 38.47735484,
                        "remaining_time": 139.6585472
                      },
                      {
                        "iteration": 216,
                        "learn": [
                          0.009256799302
                        ],
                        "passed_time": 38.66862554,
                        "remaining_time": 139.5278055
                      },
                      {
                        "iteration": 217,
                        "learn": [
                          0.009246531377
                        ],
                        "passed_time": 38.87542614,
                        "remaining_time": 139.4522167
                      },
                      {
                        "iteration": 218,
                        "learn": [
                          0.009242377265
                        ],
                        "passed_time": 39.09039539,
                        "remaining_time": 139.4045607
                      },
                      {
                        "iteration": 219,
                        "learn": [
                          0.009238508495
                        ],
                        "passed_time": 39.28165868,
                        "remaining_time": 139.2713353
                      },
                      {
                        "iteration": 220,
                        "learn": [
                          0.009214096899
                        ],
                        "passed_time": 39.48310693,
                        "remaining_time": 139.1734855
                      },
                      {
                        "iteration": 221,
                        "learn": [
                          0.009207165252
                        ],
                        "passed_time": 39.63331093,
                        "remaining_time": 138.8951167
                      },
                      {
                        "iteration": 222,
                        "learn": [
                          0.009190939071
                        ],
                        "passed_time": 39.81120556,
                        "remaining_time": 138.7143799
                      },
                      {
                        "iteration": 223,
                        "learn": [
                          0.009159150831
                        ],
                        "passed_time": 39.99776849,
                        "remaining_time": 138.563698
                      },
                      {
                        "iteration": 224,
                        "learn": [
                          0.009143209053
                        ],
                        "passed_time": 40.21674925,
                        "remaining_time": 138.5243585
                      },
                      {
                        "iteration": 225,
                        "learn": [
                          0.00913759257
                        ],
                        "passed_time": 40.4520472,
                        "remaining_time": 138.5393121
                      },
                      {
                        "iteration": 226,
                        "learn": [
                          0.009119474606
                        ],
                        "passed_time": 40.67942733,
                        "remaining_time": 138.5250984
                      },
                      {
                        "iteration": 227,
                        "learn": [
                          0.009112011944
                        ],
                        "passed_time": 40.94098646,
                        "remaining_time": 138.6247436
                      },
                      {
                        "iteration": 228,
                        "learn": [
                          0.009109727664
                        ],
                        "passed_time": 41.07190701,
                        "remaining_time": 138.2813987
                      },
                      {
                        "iteration": 229,
                        "learn": [
                          0.00908636755
                        ],
                        "passed_time": 41.23482274,
                        "remaining_time": 138.0470153
                      },
                      {
                        "iteration": 230,
                        "learn": [
                          0.00907437051
                        ],
                        "passed_time": 41.35122029,
                        "remaining_time": 137.6583914
                      },
                      {
                        "iteration": 231,
                        "learn": [
                          0.009055662692
                        ],
                        "passed_time": 41.54984271,
                        "remaining_time": 137.5443069
                      },
                      {
                        "iteration": 232,
                        "learn": [
                          0.009047317228
                        ],
                        "passed_time": 41.63743698,
                        "remaining_time": 137.0640093
                      },
                      {
                        "iteration": 233,
                        "learn": [
                          0.009019564146
                        ],
                        "passed_time": 41.72298162,
                        "remaining_time": 136.5803586
                      },
                      {
                        "iteration": 234,
                        "learn": [
                          0.00899707823
                        ],
                        "passed_time": 41.82058683,
                        "remaining_time": 136.1393571
                      },
                      {
                        "iteration": 235,
                        "learn": [
                          0.008985974236
                        ],
                        "passed_time": 41.90902444,
                        "remaining_time": 135.6715876
                      },
                      {
                        "iteration": 236,
                        "learn": [
                          0.008967312159
                        ],
                        "passed_time": 42.00664958,
                        "remaining_time": 135.2365976
                      },
                      {
                        "iteration": 237,
                        "learn": [
                          0.008966310789
                        ],
                        "passed_time": 42.05728911,
                        "remaining_time": 134.6540097
                      },
                      {
                        "iteration": 238,
                        "learn": [
                          0.00894802695
                        ],
                        "passed_time": 42.14505716,
                        "remaining_time": 134.1940942
                      },
                      {
                        "iteration": 239,
                        "learn": [
                          0.008926277596
                        ],
                        "passed_time": 42.22779359,
                        "remaining_time": 133.7213464
                      },
                      {
                        "iteration": 240,
                        "learn": [
                          0.008926032254
                        ],
                        "passed_time": 42.30284752,
                        "remaining_time": 133.2276401
                      },
                      {
                        "iteration": 241,
                        "learn": [
                          0.008916770181
                        ],
                        "passed_time": 42.39571399,
                        "remaining_time": 132.7931868
                      },
                      {
                        "iteration": 242,
                        "learn": [
                          0.008913366902
                        ],
                        "passed_time": 42.50674746,
                        "remaining_time": 132.4181392
                      },
                      {
                        "iteration": 243,
                        "learn": [
                          0.008908118957
                        ],
                        "passed_time": 42.59463811,
                        "remaining_time": 131.9735509
                      },
                      {
                        "iteration": 244,
                        "learn": [
                          0.008899671689
                        ],
                        "passed_time": 42.67753421,
                        "remaining_time": 131.516483
                      },
                      {
                        "iteration": 245,
                        "learn": [
                          0.008889282479
                        ],
                        "passed_time": 42.78490918,
                        "remaining_time": 131.1374859
                      },
                      {
                        "iteration": 246,
                        "learn": [
                          0.008880753281
                        ],
                        "passed_time": 42.88980119,
                        "remaining_time": 130.7531186
                      },
                      {
                        "iteration": 247,
                        "learn": [
                          0.008864313631
                        ],
                        "passed_time": 42.9792285,
                        "remaining_time": 130.3241122
                      },
                      {
                        "iteration": 248,
                        "learn": [
                          0.008835013663
                        ],
                        "passed_time": 43.08838724,
                        "remaining_time": 129.9573446
                      },
                      {
                        "iteration": 249,
                        "learn": [
                          0.008827148464
                        ],
                        "passed_time": 43.17701688,
                        "remaining_time": 129.5310506
                      },
                      {
                        "iteration": 250,
                        "learn": [
                          0.008815011477
                        ],
                        "passed_time": 43.26046359,
                        "remaining_time": 129.091981
                      },
                      {
                        "iteration": 251,
                        "learn": [
                          0.008810411917
                        ],
                        "passed_time": 43.35848352,
                        "remaining_time": 128.6989908
                      },
                      {
                        "iteration": 252,
                        "learn": [
                          0.008798660731
                        ],
                        "passed_time": 43.44359023,
                        "remaining_time": 128.2702051
                      },
                      {
                        "iteration": 253,
                        "learn": [
                          0.008791760146
                        ],
                        "passed_time": 43.55628693,
                        "remaining_time": 127.9251577
                      },
                      {
                        "iteration": 254,
                        "learn": [
                          0.0087846386
                        ],
                        "passed_time": 43.65784301,
                        "remaining_time": 127.5493845
                      },
                      {
                        "iteration": 255,
                        "learn": [
                          0.008778031453
                        ],
                        "passed_time": 43.75175337,
                        "remaining_time": 127.1535332
                      },
                      {
                        "iteration": 256,
                        "learn": [
                          0.008760116797
                        ],
                        "passed_time": 43.85411136,
                        "remaining_time": 126.7844542
                      },
                      {
                        "iteration": 257,
                        "learn": [
                          0.008752036964
                        ],
                        "passed_time": 43.95459167,
                        "remaining_time": 126.4120427
                      },
                      {
                        "iteration": 258,
                        "learn": [
                          0.008751727349
                        ],
                        "passed_time": 44.0016819,
                        "remaining_time": 125.8889818
                      },
                      {
                        "iteration": 259,
                        "learn": [
                          0.00874348946
                        ],
                        "passed_time": 44.08541201,
                        "remaining_time": 125.4738649
                      },
                      {
                        "iteration": 260,
                        "learn": [
                          0.008738698427
                        ],
                        "passed_time": 44.17115069,
                        "remaining_time": 125.0669746
                      },
                      {
                        "iteration": 261,
                        "learn": [
                          0.008730832104
                        ],
                        "passed_time": 44.27043229,
                        "remaining_time": 124.7006833
                      },
                      {
                        "iteration": 262,
                        "learn": [
                          0.008722390288
                        ],
                        "passed_time": 44.37848035,
                        "remaining_time": 124.3609887
                      },
                      {
                        "iteration": 263,
                        "learn": [
                          0.00871821307
                        ],
                        "passed_time": 44.46342762,
                        "remaining_time": 123.9586467
                      },
                      {
                        "iteration": 264,
                        "learn": [
                          0.008712049555
                        ],
                        "passed_time": 44.56649056,
                        "remaining_time": 123.6089455
                      },
                      {
                        "iteration": 265,
                        "learn": [
                          0.008708482268
                        ],
                        "passed_time": 44.65470511,
                        "remaining_time": 123.2201261
                      },
                      {
                        "iteration": 266,
                        "learn": [
                          0.008701502627
                        ],
                        "passed_time": 44.73773264,
                        "remaining_time": 122.8193185
                      },
                      {
                        "iteration": 267,
                        "learn": [
                          0.008696642262
                        ],
                        "passed_time": 44.83965323,
                        "remaining_time": 122.4724857
                      },
                      {
                        "iteration": 268,
                        "learn": [
                          0.00868847171
                        ],
                        "passed_time": 44.94474636,
                        "remaining_time": 122.1360951
                      },
                      {
                        "iteration": 269,
                        "learn": [
                          0.008670868241
                        ],
                        "passed_time": 45.0275762,
                        "remaining_time": 121.7412245
                      },
                      {
                        "iteration": 270,
                        "learn": [
                          0.008653081336
                        ],
                        "passed_time": 45.11191112,
                        "remaining_time": 121.3527056
                      },
                      {
                        "iteration": 271,
                        "learn": [
                          0.008640947647
                        ],
                        "passed_time": 45.21242318,
                        "remaining_time": 121.0097209
                      },
                      {
                        "iteration": 272,
                        "learn": [
                          0.008636269048
                        ],
                        "passed_time": 45.30689484,
                        "remaining_time": 120.6524269
                      },
                      {
                        "iteration": 273,
                        "learn": [
                          0.008620204503
                        ],
                        "passed_time": 45.38800153,
                        "remaining_time": 120.2616391
                      },
                      {
                        "iteration": 274,
                        "learn": [
                          0.008612786766
                        ],
                        "passed_time": 45.48354256,
                        "remaining_time": 119.9111576
                      },
                      {
                        "iteration": 275,
                        "learn": [
                          0.008612387297
                        ],
                        "passed_time": 45.58672895,
                        "remaining_time": 119.5825788
                      },
                      {
                        "iteration": 276,
                        "learn": [
                          0.008610859941
                        ],
                        "passed_time": 45.67389153,
                        "remaining_time": 119.2138035
                      },
                      {
                        "iteration": 277,
                        "learn": [
                          0.008595011358
                        ],
                        "passed_time": 45.76503715,
                        "remaining_time": 118.8573986
                      },
                      {
                        "iteration": 278,
                        "learn": [
                          0.008590662061
                        ],
                        "passed_time": 45.87230038,
                        "remaining_time": 118.5445469
                      },
                      {
                        "iteration": 279,
                        "learn": [
                          0.008585573308
                        ],
                        "passed_time": 45.9752486,
                        "remaining_time": 118.2220678
                      },
                      {
                        "iteration": 280,
                        "learn": [
                          0.008572860667
                        ],
                        "passed_time": 46.07244099,
                        "remaining_time": 117.8864238
                      },
                      {
                        "iteration": 281,
                        "learn": [
                          0.008570966225
                        ],
                        "passed_time": 46.158515,
                        "remaining_time": 117.5241623
                      },
                      {
                        "iteration": 282,
                        "learn": [
                          0.008567562686
                        ],
                        "passed_time": 46.22936927,
                        "remaining_time": 117.1252925
                      },
                      {
                        "iteration": 283,
                        "learn": [
                          0.008559249772
                        ],
                        "passed_time": 46.33018361,
                        "remaining_time": 116.8042657
                      },
                      {
                        "iteration": 284,
                        "learn": [
                          0.008552325053
                        ],
                        "passed_time": 46.42342803,
                        "remaining_time": 116.4657931
                      },
                      {
                        "iteration": 285,
                        "learn": [
                          0.008538331006
                        ],
                        "passed_time": 46.54776321,
                        "remaining_time": 116.2066536
                      },
                      {
                        "iteration": 286,
                        "learn": [
                          0.008525466574
                        ],
                        "passed_time": 46.712202,
                        "remaining_time": 116.0480837
                      },
                      {
                        "iteration": 287,
                        "learn": [
                          0.00852238652
                        ],
                        "passed_time": 46.87046512,
                        "remaining_time": 115.8742054
                      },
                      {
                        "iteration": 288,
                        "learn": [
                          0.008513415588
                        ],
                        "passed_time": 47.05212385,
                        "remaining_time": 115.7579933
                      },
                      {
                        "iteration": 289,
                        "learn": [
                          0.008500451593
                        ],
                        "passed_time": 47.21774431,
                        "remaining_time": 115.6020637
                      },
                      {
                        "iteration": 290,
                        "learn": [
                          0.008490028836
                        ],
                        "passed_time": 47.39667328,
                        "remaining_time": 115.4784926
                      },
                      {
                        "iteration": 291,
                        "learn": [
                          0.008486318722
                        ],
                        "passed_time": 47.63479989,
                        "remaining_time": 115.4980765
                      },
                      {
                        "iteration": 292,
                        "learn": [
                          0.008474259786
                        ],
                        "passed_time": 47.78907209,
                        "remaining_time": 115.313563
                      },
                      {
                        "iteration": 293,
                        "learn": [
                          0.008473585106
                        ],
                        "passed_time": 47.97607468,
                        "remaining_time": 115.2078528
                      },
                      {
                        "iteration": 294,
                        "learn": [
                          0.008470693638
                        ],
                        "passed_time": 48.13802814,
                        "remaining_time": 115.0417283
                      },
                      {
                        "iteration": 295,
                        "learn": [
                          0.008470530821
                        ],
                        "passed_time": 48.22228736,
                        "remaining_time": 114.6908456
                      },
                      {
                        "iteration": 296,
                        "learn": [
                          0.008469933862
                        ],
                        "passed_time": 48.30298836,
                        "remaining_time": 114.3333361
                      },
                      {
                        "iteration": 297,
                        "learn": [
                          0.008467143983
                        ],
                        "passed_time": 48.39548737,
                        "remaining_time": 114.005477
                      },
                      {
                        "iteration": 298,
                        "learn": [
                          0.008442963501
                        ],
                        "passed_time": 48.49257792,
                        "remaining_time": 113.6899569
                      },
                      {
                        "iteration": 299,
                        "learn": [
                          0.008438259526
                        ],
                        "passed_time": 48.59894545,
                        "remaining_time": 113.3975394
                      },
                      {
                        "iteration": 300,
                        "learn": [
                          0.008434426178
                        ],
                        "passed_time": 48.70139992,
                        "remaining_time": 113.0972709
                      },
                      {
                        "iteration": 301,
                        "learn": [
                          0.008428509165
                        ],
                        "passed_time": 48.79248875,
                        "remaining_time": 112.7720435
                      },
                      {
                        "iteration": 302,
                        "learn": [
                          0.008421747569
                        ],
                        "passed_time": 48.88619495,
                        "remaining_time": 112.4543825
                      },
                      {
                        "iteration": 303,
                        "learn": [
                          0.008419017771
                        ],
                        "passed_time": 48.98595765,
                        "remaining_time": 112.1520609
                      },
                      {
                        "iteration": 304,
                        "learn": [
                          0.008407984631
                        ],
                        "passed_time": 49.08060053,
                        "remaining_time": 111.8394012
                      },
                      {
                        "iteration": 305,
                        "learn": [
                          0.008404308666
                        ],
                        "passed_time": 49.17171006,
                        "remaining_time": 111.5201529
                      },
                      {
                        "iteration": 306,
                        "learn": [
                          0.008393312348
                        ],
                        "passed_time": 49.25963865,
                        "remaining_time": 111.1952104
                      },
                      {
                        "iteration": 307,
                        "learn": [
                          0.008390276785
                        ],
                        "passed_time": 49.35601917,
                        "remaining_time": 110.8907963
                      },
                      {
                        "iteration": 308,
                        "learn": [
                          0.008379980586
                        ],
                        "passed_time": 49.43861878,
                        "remaining_time": 110.5569113
                      },
                      {
                        "iteration": 309,
                        "learn": [
                          0.008367252665
                        ],
                        "passed_time": 49.54493566,
                        "remaining_time": 110.2774374
                      },
                      {
                        "iteration": 310,
                        "learn": [
                          0.008363011122
                        ],
                        "passed_time": 49.6542128,
                        "remaining_time": 110.0056354
                      },
                      {
                        "iteration": 311,
                        "learn": [
                          0.008361929715
                        ],
                        "passed_time": 49.74535879,
                        "remaining_time": 109.6948937
                      },
                      {
                        "iteration": 312,
                        "learn": [
                          0.008357508623
                        ],
                        "passed_time": 49.84073495,
                        "remaining_time": 109.39484
                      },
                      {
                        "iteration": 313,
                        "learn": [
                          0.008352054415
                        ],
                        "passed_time": 49.93963365,
                        "remaining_time": 109.1037856
                      },
                      {
                        "iteration": 314,
                        "learn": [
                          0.008330469672
                        ],
                        "passed_time": 50.06030661,
                        "remaining_time": 108.8613017
                      },
                      {
                        "iteration": 315,
                        "learn": [
                          0.008316875326
                        ],
                        "passed_time": 50.15099687,
                        "remaining_time": 108.5546894
                      },
                      {
                        "iteration": 316,
                        "learn": [
                          0.008312786703
                        ],
                        "passed_time": 50.24427649,
                        "remaining_time": 108.2550184
                      },
                      {
                        "iteration": 317,
                        "learn": [
                          0.008291782845
                        ],
                        "passed_time": 50.34287373,
                        "remaining_time": 107.9680499
                      },
                      {
                        "iteration": 318,
                        "learn": [
                          0.008283851149
                        ],
                        "passed_time": 50.4285708,
                        "remaining_time": 107.6547232
                      },
                      {
                        "iteration": 319,
                        "learn": [
                          0.008280464036
                        ],
                        "passed_time": 50.52124405,
                        "remaining_time": 107.3576436
                      },
                      {
                        "iteration": 320,
                        "learn": [
                          0.008277759873
                        ],
                        "passed_time": 50.65391717,
                        "remaining_time": 107.1464479
                      },
                      {
                        "iteration": 321,
                        "learn": [
                          0.008273149869
                        ],
                        "passed_time": 50.74103928,
                        "remaining_time": 106.839828
                      },
                      {
                        "iteration": 322,
                        "learn": [
                          0.008267892066
                        ],
                        "passed_time": 50.84334006,
                        "remaining_time": 106.5663815
                      },
                      {
                        "iteration": 323,
                        "learn": [
                          0.008266124484
                        ],
                        "passed_time": 50.94075978,
                        "remaining_time": 106.2838074
                      },
                      {
                        "iteration": 324,
                        "learn": [
                          0.0082620641
                        ],
                        "passed_time": 51.05290091,
                        "remaining_time": 106.032948
                      },
                      {
                        "iteration": 325,
                        "learn": [
                          0.008258330051
                        ],
                        "passed_time": 51.17872726,
                        "remaining_time": 105.8112337
                      },
                      {
                        "iteration": 326,
                        "learn": [
                          0.008240248755
                        ],
                        "passed_time": 51.27555701,
                        "remaining_time": 105.5304277
                      },
                      {
                        "iteration": 327,
                        "learn": [
                          0.008236860388
                        ],
                        "passed_time": 51.35785897,
                        "remaining_time": 105.2209794
                      },
                      {
                        "iteration": 328,
                        "learn": [
                          0.008233649257
                        ],
                        "passed_time": 51.45663973,
                        "remaining_time": 104.9465205
                      },
                      {
                        "iteration": 329,
                        "learn": [
                          0.008222637185
                        ],
                        "passed_time": 51.54801004,
                        "remaining_time": 104.658081
                      },
                      {
                        "iteration": 330,
                        "learn": [
                          0.008220265689
                        ],
                        "passed_time": 51.64346837,
                        "remaining_time": 104.3790947
                      },
                      {
                        "iteration": 331,
                        "learn": [
                          0.008217175476
                        ],
                        "passed_time": 51.75246288,
                        "remaining_time": 104.1284494
                      },
                      {
                        "iteration": 332,
                        "learn": [
                          0.00821290812
                        ],
                        "passed_time": 51.83950217,
                        "remaining_time": 103.8346785
                      },
                      {
                        "iteration": 333,
                        "learn": [
                          0.008202730497
                        ],
                        "passed_time": 51.92497469,
                        "remaining_time": 103.5390214
                      },
                      {
                        "iteration": 334,
                        "learn": [
                          0.008198059932
                        ],
                        "passed_time": 52.02717415,
                        "remaining_time": 103.2778233
                      },
                      {
                        "iteration": 335,
                        "learn": [
                          0.008194154126
                        ],
                        "passed_time": 52.12982295,
                        "remaining_time": 103.0184596
                      },
                      {
                        "iteration": 336,
                        "learn": [
                          0.008190345403
                        ],
                        "passed_time": 52.2233001,
                        "remaining_time": 102.7419821
                      },
                      {
                        "iteration": 337,
                        "learn": [
                          0.008186647118
                        ],
                        "passed_time": 52.3328177,
                        "remaining_time": 102.4980039
                      },
                      {
                        "iteration": 338,
                        "learn": [
                          0.008183083693
                        ],
                        "passed_time": 52.41334736,
                        "remaining_time": 102.1982968
                      },
                      {
                        "iteration": 339,
                        "learn": [
                          0.008173644415
                        ],
                        "passed_time": 52.50023027,
                        "remaining_time": 101.9122117
                      },
                      {
                        "iteration": 340,
                        "learn": [
                          0.008159525193
                        ],
                        "passed_time": 52.57963363,
                        "remaining_time": 101.6128404
                      },
                      {
                        "iteration": 341,
                        "learn": [
                          0.008154835772
                        ],
                        "passed_time": 52.69528137,
                        "remaining_time": 101.3844887
                      },
                      {
                        "iteration": 342,
                        "learn": [
                          0.008154258005
                        ],
                        "passed_time": 52.78848492,
                        "remaining_time": 101.1138035
                      },
                      {
                        "iteration": 343,
                        "learn": [
                          0.008148765177
                        ],
                        "passed_time": 52.8820311,
                        "remaining_time": 100.8448035
                      },
                      {
                        "iteration": 344,
                        "learn": [
                          0.00814272133
                        ],
                        "passed_time": 52.97552593,
                        "remaining_time": 100.5767231
                      },
                      {
                        "iteration": 345,
                        "learn": [
                          0.008124292866
                        ],
                        "passed_time": 53.07428844,
                        "remaining_time": 100.3196088
                      },
                      {
                        "iteration": 346,
                        "learn": [
                          0.008117172126
                        ],
                        "passed_time": 53.15650861,
                        "remaining_time": 100.032277
                      },
                      {
                        "iteration": 347,
                        "learn": [
                          0.008096469239
                        ],
                        "passed_time": 53.25837878,
                        "remaining_time": 99.78293955
                      },
                      {
                        "iteration": 348,
                        "learn": [
                          0.008074455623
                        ],
                        "passed_time": 53.34891731,
                        "remaining_time": 99.51330993
                      },
                      {
                        "iteration": 349,
                        "learn": [
                          0.008057865924
                        ],
                        "passed_time": 53.43574096,
                        "remaining_time": 99.23780464
                      },
                      {
                        "iteration": 350,
                        "learn": [
                          0.008042496264
                        ],
                        "passed_time": 53.52397406,
                        "remaining_time": 98.96598054
                      },
                      {
                        "iteration": 351,
                        "learn": [
                          0.008036100828
                        ],
                        "passed_time": 53.60453509,
                        "remaining_time": 98.68107597
                      },
                      {
                        "iteration": 352,
                        "learn": [
                          0.008024730057
                        ],
                        "passed_time": 53.71130896,
                        "remaining_time": 98.44537364
                      },
                      {
                        "iteration": 353,
                        "learn": [
                          0.008011728663
                        ],
                        "passed_time": 53.78723541,
                        "remaining_time": 98.15410755
                      },
                      {
                        "iteration": 354,
                        "learn": [
                          0.008003772532
                        ],
                        "passed_time": 53.88378354,
                        "remaining_time": 97.9015222
                      },
                      {
                        "iteration": 355,
                        "learn": [
                          0.007996218086
                        ],
                        "passed_time": 53.97501707,
                        "remaining_time": 97.64019942
                      },
                      {
                        "iteration": 356,
                        "learn": [
                          0.007983956394
                        ],
                        "passed_time": 54.06836907,
                        "remaining_time": 97.38364513
                      },
                      {
                        "iteration": 357,
                        "learn": [
                          0.007981311991
                        ],
                        "passed_time": 54.16757324,
                        "remaining_time": 97.13849726
                      },
                      {
                        "iteration": 358,
                        "learn": [
                          0.007975261806
                        ],
                        "passed_time": 54.24243488,
                        "remaining_time": 96.85069849
                      },
                      {
                        "iteration": 359,
                        "learn": [
                          0.007973789946
                        ],
                        "passed_time": 54.33642002,
                        "remaining_time": 96.59808003
                      },
                      {
                        "iteration": 360,
                        "learn": [
                          0.007962181137
                        ],
                        "passed_time": 54.42468447,
                        "remaining_time": 96.33621434
                      },
                      {
                        "iteration": 361,
                        "learn": [
                          0.007951230638
                        ],
                        "passed_time": 54.51592175,
                        "remaining_time": 96.08054718
                      },
                      {
                        "iteration": 362,
                        "learn": [
                          0.007932925559
                        ],
                        "passed_time": 54.61687447,
                        "remaining_time": 95.84283482
                      },
                      {
                        "iteration": 363,
                        "learn": [
                          0.007927328645
                        ],
                        "passed_time": 54.72195538,
                        "remaining_time": 95.61308687
                      },
                      {
                        "iteration": 364,
                        "learn": [
                          0.007908794589
                        ],
                        "passed_time": 54.80905173,
                        "remaining_time": 95.35273384
                      },
                      {
                        "iteration": 365,
                        "learn": [
                          0.007898561228
                        ],
                        "passed_time": 54.90976348,
                        "remaining_time": 95.1169127
                      },
                      {
                        "iteration": 366,
                        "learn": [
                          0.007887643017
                        ],
                        "passed_time": 54.99113782,
                        "remaining_time": 94.84847478
                      },
                      {
                        "iteration": 367,
                        "learn": [
                          0.007883044291
                        ],
                        "passed_time": 55.07123088,
                        "remaining_time": 94.57885303
                      },
                      {
                        "iteration": 368,
                        "learn": [
                          0.007864363291
                        ],
                        "passed_time": 55.16914878,
                        "remaining_time": 94.34073951
                      },
                      {
                        "iteration": 369,
                        "learn": [
                          0.007854770849
                        ],
                        "passed_time": 55.26602822,
                        "remaining_time": 94.10161562
                      },
                      {
                        "iteration": 370,
                        "learn": [
                          0.007851131036
                        ],
                        "passed_time": 55.36962039,
                        "remaining_time": 93.87463941
                      },
                      {
                        "iteration": 371,
                        "learn": [
                          0.007840983131
                        ],
                        "passed_time": 55.44573146,
                        "remaining_time": 93.60193375
                      },
                      {
                        "iteration": 372,
                        "learn": [
                          0.007835781423
                        ],
                        "passed_time": 55.52420834,
                        "remaining_time": 93.33425906
                      },
                      {
                        "iteration": 373,
                        "learn": [
                          0.007831542103
                        ],
                        "passed_time": 55.62296409,
                        "remaining_time": 93.10153882
                      },
                      {
                        "iteration": 374,
                        "learn": [
                          0.007826661908
                        ],
                        "passed_time": 55.71038745,
                        "remaining_time": 92.85064574
                      },
                      {
                        "iteration": 375,
                        "learn": [
                          0.007824419226
                        ],
                        "passed_time": 55.82259267,
                        "remaining_time": 92.64174953
                      },
                      {
                        "iteration": 376,
                        "learn": [
                          0.007822939026
                        ],
                        "passed_time": 55.91597817,
                        "remaining_time": 92.40226631
                      },
                      {
                        "iteration": 377,
                        "learn": [
                          0.007813750919
                        ],
                        "passed_time": 56.00595128,
                        "remaining_time": 92.157941
                      },
                      {
                        "iteration": 378,
                        "learn": [
                          0.007812578391
                        ],
                        "passed_time": 56.12001122,
                        "remaining_time": 91.95389701
                      },
                      {
                        "iteration": 379,
                        "learn": [
                          0.007810165671
                        ],
                        "passed_time": 56.19813296,
                        "remaining_time": 91.69169062
                      },
                      {
                        "iteration": 380,
                        "learn": [
                          0.007801547484
                        ],
                        "passed_time": 56.29255796,
                        "remaining_time": 91.45693799
                      },
                      {
                        "iteration": 381,
                        "learn": [
                          0.007799219873
                        ],
                        "passed_time": 56.39621249,
                        "remaining_time": 91.23785163
                      },
                      {
                        "iteration": 382,
                        "learn": [
                          0.007789725857
                        ],
                        "passed_time": 56.47315893,
                        "remaining_time": 90.97634219
                      },
                      {
                        "iteration": 383,
                        "learn": [
                          0.007785153959
                        ],
                        "passed_time": 56.54784503,
                        "remaining_time": 90.71216808
                      },
                      {
                        "iteration": 384,
                        "learn": [
                          0.007768697691
                        ],
                        "passed_time": 56.73067874,
                        "remaining_time": 90.62173357
                      },
                      {
                        "iteration": 385,
                        "learn": [
                          0.007767571538
                        ],
                        "passed_time": 56.96139011,
                        "remaining_time": 90.60697806
                      },
                      {
                        "iteration": 386,
                        "learn": [
                          0.007763268056
                        ],
                        "passed_time": 57.18990973,
                        "remaining_time": 90.58763479
                      },
                      {
                        "iteration": 387,
                        "learn": [
                          0.007746591216
                        ],
                        "passed_time": 57.39750048,
                        "remaining_time": 90.53420179
                      },
                      {
                        "iteration": 388,
                        "learn": [
                          0.007736403526
                        ],
                        "passed_time": 57.58123342,
                        "remaining_time": 90.44250288
                      },
                      {
                        "iteration": 389,
                        "learn": [
                          0.007734251021
                        ],
                        "passed_time": 57.7474091,
                        "remaining_time": 90.32287064
                      },
                      {
                        "iteration": 390,
                        "learn": [
                          0.007718737679
                        ],
                        "passed_time": 57.99697118,
                        "remaining_time": 90.33287838
                      },
                      {
                        "iteration": 391,
                        "learn": [
                          0.007709779248
                        ],
                        "passed_time": 58.25180756,
                        "remaining_time": 90.34974233
                      },
                      {
                        "iteration": 392,
                        "learn": [
                          0.007694836595
                        ],
                        "passed_time": 58.48265164,
                        "remaining_time": 90.32816678
                      },
                      {
                        "iteration": 393,
                        "learn": [
                          0.007692712255
                        ],
                        "passed_time": 58.77755325,
                        "remaining_time": 90.40405398
                      },
                      {
                        "iteration": 394,
                        "learn": [
                          0.007682991895
                        ],
                        "passed_time": 59.05911647,
                        "remaining_time": 90.45763408
                      },
                      {
                        "iteration": 395,
                        "learn": [
                          0.007673300472
                        ],
                        "passed_time": 59.2937568,
                        "remaining_time": 90.4379523
                      },
                      {
                        "iteration": 396,
                        "learn": [
                          0.007671242119
                        ],
                        "passed_time": 59.57052549,
                        "remaining_time": 90.481176
                      },
                      {
                        "iteration": 397,
                        "learn": [
                          0.007667365979
                        ],
                        "passed_time": 59.65131741,
                        "remaining_time": 90.22636453
                      },
                      {
                        "iteration": 398,
                        "learn": [
                          0.007658112531
                        ],
                        "passed_time": 59.7350461,
                        "remaining_time": 89.97684888
                      },
                      {
                        "iteration": 399,
                        "learn": [
                          0.007656716802
                        ],
                        "passed_time": 59.85994738,
                        "remaining_time": 89.78992107
                      },
                      {
                        "iteration": 400,
                        "learn": [
                          0.007645593724
                        ],
                        "passed_time": 60.07973239,
                        "remaining_time": 89.74503667
                      },
                      {
                        "iteration": 401,
                        "learn": [
                          0.007636250992
                        ],
                        "passed_time": 60.29166432,
                        "remaining_time": 89.68760015
                      },
                      {
                        "iteration": 402,
                        "learn": [
                          0.00763485895
                        ],
                        "passed_time": 60.51726854,
                        "remaining_time": 89.64965091
                      },
                      {
                        "iteration": 403,
                        "learn": [
                          0.007631197986
                        ],
                        "passed_time": 60.65621983,
                        "remaining_time": 89.48293817
                      },
                      {
                        "iteration": 404,
                        "learn": [
                          0.007627749446
                        ],
                        "passed_time": 60.73265427,
                        "remaining_time": 89.22451676
                      },
                      {
                        "iteration": 405,
                        "learn": [
                          0.007626605087
                        ],
                        "passed_time": 60.93059225,
                        "remaining_time": 89.14475812
                      },
                      {
                        "iteration": 406,
                        "learn": [
                          0.007616646477
                        ],
                        "passed_time": 61.14842638,
                        "remaining_time": 89.09340748
                      },
                      {
                        "iteration": 407,
                        "learn": [
                          0.007604754797
                        ],
                        "passed_time": 61.34015518,
                        "remaining_time": 89.00336241
                      },
                      {
                        "iteration": 408,
                        "learn": [
                          0.007602945953
                        ],
                        "passed_time": 61.53347146,
                        "remaining_time": 88.91511402
                      },
                      {
                        "iteration": 409,
                        "learn": [
                          0.007600993562
                        ],
                        "passed_time": 61.62751742,
                        "remaining_time": 88.68350067
                      },
                      {
                        "iteration": 410,
                        "learn": [
                          0.007596754546
                        ],
                        "passed_time": 61.70991382,
                        "remaining_time": 88.43586189
                      },
                      {
                        "iteration": 411,
                        "learn": [
                          0.007593983043
                        ],
                        "passed_time": 61.88863999,
                        "remaining_time": 88.32650562
                      },
                      {
                        "iteration": 412,
                        "learn": [
                          0.007585070029
                        ],
                        "passed_time": 62.17507542,
                        "remaining_time": 88.36990138
                      },
                      {
                        "iteration": 413,
                        "learn": [
                          0.007581722561
                        ],
                        "passed_time": 62.4327969,
                        "remaining_time": 88.37106035
                      },
                      {
                        "iteration": 414,
                        "learn": [
                          0.007579832694
                        ],
                        "passed_time": 62.59834236,
                        "remaining_time": 88.24103683
                      },
                      {
                        "iteration": 415,
                        "learn": [
                          0.007571335657
                        ],
                        "passed_time": 62.78254263,
                        "remaining_time": 88.13703101
                      },
                      {
                        "iteration": 416,
                        "learn": [
                          0.007567359763
                        ],
                        "passed_time": 62.91761724,
                        "remaining_time": 87.96395887
                      },
                      {
                        "iteration": 417,
                        "learn": [
                          0.007563625203
                        ],
                        "passed_time": 63.05826651,
                        "remaining_time": 87.79883041
                      },
                      {
                        "iteration": 418,
                        "learn": [
                          0.007555481194
                        ],
                        "passed_time": 63.31048296,
                        "remaining_time": 87.78852172
                      },
                      {
                        "iteration": 419,
                        "learn": [
                          0.007552280817
                        ],
                        "passed_time": 63.45109953,
                        "remaining_time": 87.62294697
                      },
                      {
                        "iteration": 420,
                        "learn": [
                          0.007548766882
                        ],
                        "passed_time": 63.62064953,
                        "remaining_time": 87.49728285
                      },
                      {
                        "iteration": 421,
                        "learn": [
                          0.007547866998
                        ],
                        "passed_time": 63.80547147,
                        "remaining_time": 87.39232822
                      },
                      {
                        "iteration": 422,
                        "learn": [
                          0.007533330145
                        ],
                        "passed_time": 63.99169285,
                        "remaining_time": 87.28890491
                      },
                      {
                        "iteration": 423,
                        "learn": [
                          0.007530101034
                        ],
                        "passed_time": 64.16710854,
                        "remaining_time": 87.1704116
                      },
                      {
                        "iteration": 424,
                        "learn": [
                          0.007529275339
                        ],
                        "passed_time": 64.47176145,
                        "remaining_time": 87.22650078
                      },
                      {
                        "iteration": 425,
                        "learn": [
                          0.00752792824
                        ],
                        "passed_time": 64.66949632,
                        "remaining_time": 87.13683307
                      },
                      {
                        "iteration": 426,
                        "learn": [
                          0.00752731239
                        ],
                        "passed_time": 64.86086928,
                        "remaining_time": 87.03812201
                      },
                      {
                        "iteration": 427,
                        "learn": [
                          0.00752672894
                        ],
                        "passed_time": 65.01154595,
                        "remaining_time": 86.88458945
                      },
                      {
                        "iteration": 428,
                        "learn": [
                          0.00752590968
                        ],
                        "passed_time": 65.19002497,
                        "remaining_time": 86.76807519
                      },
                      {
                        "iteration": 429,
                        "learn": [
                          0.007524246631
                        ],
                        "passed_time": 65.40697274,
                        "remaining_time": 86.70226619
                      },
                      {
                        "iteration": 430,
                        "learn": [
                          0.00752267246
                        ],
                        "passed_time": 65.6302217,
                        "remaining_time": 86.64407458
                      },
                      {
                        "iteration": 431,
                        "learn": [
                          0.007519627349
                        ],
                        "passed_time": 65.86393996,
                        "remaining_time": 86.59888402
                      },
                      {
                        "iteration": 432,
                        "learn": [
                          0.007512026266
                        ],
                        "passed_time": 66.09678679,
                        "remaining_time": 86.55168155
                      },
                      {
                        "iteration": 433,
                        "learn": [
                          0.0075114926
                        ],
                        "passed_time": 66.21805647,
                        "remaining_time": 86.35811051
                      },
                      {
                        "iteration": 434,
                        "learn": [
                          0.007510751288
                        ],
                        "passed_time": 66.44043964,
                        "remaining_time": 86.29620321
                      },
                      {
                        "iteration": 435,
                        "learn": [
                          0.007503408938
                        ],
                        "passed_time": 66.61592556,
                        "remaining_time": 86.17289453
                      },
                      {
                        "iteration": 436,
                        "learn": [
                          0.007498808305
                        ],
                        "passed_time": 66.78894157,
                        "remaining_time": 86.046165
                      },
                      {
                        "iteration": 437,
                        "learn": [
                          0.007488195383
                        ],
                        "passed_time": 66.9656726,
                        "remaining_time": 85.92399088
                      },
                      {
                        "iteration": 438,
                        "learn": [
                          0.00748758576
                        ],
                        "passed_time": 67.17438895,
                        "remaining_time": 85.84244237
                      },
                      {
                        "iteration": 439,
                        "learn": [
                          0.007480491233
                        ],
                        "passed_time": 67.31602983,
                        "remaining_time": 85.67494705
                      },
                      {
                        "iteration": 440,
                        "learn": [
                          0.007477561806
                        ],
                        "passed_time": 67.50883992,
                        "remaining_time": 85.57242974
                      },
                      {
                        "iteration": 441,
                        "learn": [
                          0.007470806047
                        ],
                        "passed_time": 67.66049152,
                        "remaining_time": 85.41754359
                      },
                      {
                        "iteration": 442,
                        "learn": [
                          0.007467776534
                        ],
                        "passed_time": 67.83306902,
                        "remaining_time": 85.28898294
                      },
                      {
                        "iteration": 443,
                        "learn": [
                          0.007467288877
                        ],
                        "passed_time": 67.98890054,
                        "remaining_time": 85.13925383
                      },
                      {
                        "iteration": 444,
                        "learn": [
                          0.007466300172
                        ],
                        "passed_time": 68.23301285,
                        "remaining_time": 85.09960029
                      },
                      {
                        "iteration": 445,
                        "learn": [
                          0.007465132776
                        ],
                        "passed_time": 68.41110863,
                        "remaining_time": 84.97702731
                      },
                      {
                        "iteration": 446,
                        "learn": [
                          0.007462284294
                        ],
                        "passed_time": 68.58909336,
                        "remaining_time": 84.85406852
                      },
                      {
                        "iteration": 447,
                        "learn": [
                          0.007461566252
                        ],
                        "passed_time": 68.76027752,
                        "remaining_time": 84.7224848
                      },
                      {
                        "iteration": 448,
                        "learn": [
                          0.007460161316
                        ],
                        "passed_time": 68.93763044,
                        "remaining_time": 84.59829481
                      },
                      {
                        "iteration": 449,
                        "learn": [
                          0.0074590764
                        ],
                        "passed_time": 69.17846753,
                        "remaining_time": 84.55146031
                      },
                      {
                        "iteration": 450,
                        "learn": [
                          0.007454047724
                        ],
                        "passed_time": 69.43102899,
                        "remaining_time": 84.51803751
                      },
                      {
                        "iteration": 451,
                        "learn": [
                          0.00744921376
                        ],
                        "passed_time": 69.6988294,
                        "remaining_time": 84.5021206
                      },
                      {
                        "iteration": 452,
                        "learn": [
                          0.007446389821
                        ],
                        "passed_time": 69.84500369,
                        "remaining_time": 84.33822741
                      },
                      {
                        "iteration": 453,
                        "learn": [
                          0.007439553145
                        ],
                        "passed_time": 70.0118993,
                        "remaining_time": 84.19933264
                      },
                      {
                        "iteration": 454,
                        "learn": [
                          0.007438207263
                        ],
                        "passed_time": 70.14912876,
                        "remaining_time": 84.02478061
                      },
                      {
                        "iteration": 455,
                        "learn": [
                          0.007436870414
                        ],
                        "passed_time": 70.32692973,
                        "remaining_time": 83.89879336
                      },
                      {
                        "iteration": 456,
                        "learn": [
                          0.007429312847
                        ],
                        "passed_time": 70.49363172,
                        "remaining_time": 83.75939173
                      },
                      {
                        "iteration": 457,
                        "learn": [
                          0.00740734733
                        ],
                        "passed_time": 70.68677358,
                        "remaining_time": 83.65116
                      },
                      {
                        "iteration": 458,
                        "learn": [
                          0.007404807706
                        ],
                        "passed_time": 70.87911955,
                        "remaining_time": 83.54162021
                      },
                      {
                        "iteration": 459,
                        "learn": [
                          0.007403620126
                        ],
                        "passed_time": 71.0925114,
                        "remaining_time": 83.45642643
                      },
                      {
                        "iteration": 460,
                        "learn": [
                          0.00740293756
                        ],
                        "passed_time": 71.23362557,
                        "remaining_time": 83.28616959
                      },
                      {
                        "iteration": 461,
                        "learn": [
                          0.007401827798
                        ],
                        "passed_time": 71.43766746,
                        "remaining_time": 83.18931839
                      },
                      {
                        "iteration": 462,
                        "learn": [
                          0.007395537787
                        ],
                        "passed_time": 71.7253472,
                        "remaining_time": 83.1890096
                      },
                      {
                        "iteration": 463,
                        "learn": [
                          0.007392861376
                        ],
                        "passed_time": 71.87705338,
                        "remaining_time": 83.03038925
                      },
                      {
                        "iteration": 464,
                        "learn": [
                          0.007391625152
                        ],
                        "passed_time": 72.01772121,
                        "remaining_time": 82.85909859
                      },
                      {
                        "iteration": 465,
                        "learn": [
                          0.007390593175
                        ],
                        "passed_time": 72.20488142,
                        "remaining_time": 82.74121605
                      },
                      {
                        "iteration": 466,
                        "learn": [
                          0.007389411404
                        ],
                        "passed_time": 72.33047514,
                        "remaining_time": 82.55276927
                      },
                      {
                        "iteration": 467,
                        "learn": [
                          0.007388538749
                        ],
                        "passed_time": 72.44519244,
                        "remaining_time": 82.3522273
                      },
                      {
                        "iteration": 468,
                        "learn": [
                          0.00738647075
                        ],
                        "passed_time": 72.52799157,
                        "remaining_time": 82.11591369
                      },
                      {
                        "iteration": 469,
                        "learn": [
                          0.007385644038
                        ],
                        "passed_time": 72.63017051,
                        "remaining_time": 81.90210717
                      },
                      {
                        "iteration": 470,
                        "learn": [
                          0.007378149555
                        ],
                        "passed_time": 72.72337108,
                        "remaining_time": 81.67869066
                      },
                      {
                        "iteration": 471,
                        "learn": [
                          0.007368203991
                        ],
                        "passed_time": 72.83690589,
                        "remaining_time": 81.47857269
                      },
                      {
                        "iteration": 472,
                        "learn": [
                          0.007361202196
                        ],
                        "passed_time": 72.91831416,
                        "remaining_time": 81.24302656
                      },
                      {
                        "iteration": 473,
                        "learn": [
                          0.007360615727
                        ],
                        "passed_time": 73.00805565,
                        "remaining_time": 81.01737821
                      },
                      {
                        "iteration": 474,
                        "learn": [
                          0.007356220952
                        ],
                        "passed_time": 73.10892223,
                        "remaining_time": 80.80459826
                      },
                      {
                        "iteration": 475,
                        "learn": [
                          0.007350224637
                        ],
                        "passed_time": 73.19144772,
                        "remaining_time": 80.57209791
                      },
                      {
                        "iteration": 476,
                        "learn": [
                          0.007349526542
                        ],
                        "passed_time": 73.29742283,
                        "remaining_time": 80.3659374
                      },
                      {
                        "iteration": 477,
                        "learn": [
                          0.007345300205
                        ],
                        "passed_time": 73.39536817,
                        "remaining_time": 80.15142716
                      },
                      {
                        "iteration": 478,
                        "learn": [
                          0.0073427115
                        ],
                        "passed_time": 73.46837112,
                        "remaining_time": 79.91027422
                      },
                      {
                        "iteration": 479,
                        "learn": [
                          0.007341830248
                        ],
                        "passed_time": 73.58620341,
                        "remaining_time": 79.71838703
                      },
                      {
                        "iteration": 480,
                        "learn": [
                          0.007338413291
                        ],
                        "passed_time": 73.68557717,
                        "remaining_time": 79.50689096
                      },
                      {
                        "iteration": 481,
                        "learn": [
                          0.007336543709
                        ],
                        "passed_time": 73.805146,
                        "remaining_time": 79.31756354
                      },
                      {
                        "iteration": 482,
                        "learn": [
                          0.00733536707
                        ],
                        "passed_time": 73.89300871,
                        "remaining_time": 79.09458697
                      },
                      {
                        "iteration": 483,
                        "learn": [
                          0.007329252472
                        ],
                        "passed_time": 73.9888001,
                        "remaining_time": 78.8806216
                      },
                      {
                        "iteration": 484,
                        "learn": [
                          0.007328490319
                        ],
                        "passed_time": 74.07593563,
                        "remaining_time": 78.65795227
                      },
                      {
                        "iteration": 485,
                        "learn": [
                          0.007327422078
                        ],
                        "passed_time": 74.16108906,
                        "remaining_time": 78.4337444
                      },
                      {
                        "iteration": 486,
                        "learn": [
                          0.007320925751
                        ],
                        "passed_time": 74.25618795,
                        "remaining_time": 78.22058402
                      },
                      {
                        "iteration": 487,
                        "learn": [
                          0.007320710422
                        ],
                        "passed_time": 74.35418469,
                        "remaining_time": 78.01094787
                      },
                      {
                        "iteration": 488,
                        "learn": [
                          0.007319096349
                        ],
                        "passed_time": 74.45902596,
                        "remaining_time": 77.80892079
                      },
                      {
                        "iteration": 489,
                        "learn": [
                          0.007312815866
                        ],
                        "passed_time": 74.56102466,
                        "remaining_time": 77.60433179
                      },
                      {
                        "iteration": 490,
                        "learn": [
                          0.00730588181
                        ],
                        "passed_time": 74.70994167,
                        "remaining_time": 77.44879901
                      },
                      {
                        "iteration": 491,
                        "learn": [
                          0.007300194145
                        ],
                        "passed_time": 74.90498698,
                        "remaining_time": 77.34092151
                      },
                      {
                        "iteration": 492,
                        "learn": [
                          0.007289195317
                        ],
                        "passed_time": 75.05588252,
                        "remaining_time": 77.18728689
                      },
                      {
                        "iteration": 493,
                        "learn": [
                          0.007286722486
                        ],
                        "passed_time": 75.25514926,
                        "remaining_time": 77.08320956
                      },
                      {
                        "iteration": 494,
                        "learn": [
                          0.007285607183
                        ],
                        "passed_time": 75.46454876,
                        "remaining_time": 76.9890851
                      },
                      {
                        "iteration": 495,
                        "learn": [
                          0.007280528179
                        ],
                        "passed_time": 75.68210623,
                        "remaining_time": 76.90278537
                      },
                      {
                        "iteration": 496,
                        "learn": [
                          0.007271292819
                        ],
                        "passed_time": 75.90913603,
                        "remaining_time": 76.82554411
                      },
                      {
                        "iteration": 497,
                        "learn": [
                          0.00726898895
                        ],
                        "passed_time": 76.13491502,
                        "remaining_time": 76.74644045
                      },
                      {
                        "iteration": 498,
                        "learn": [
                          0.007266554001
                        ],
                        "passed_time": 76.30267228,
                        "remaining_time": 76.60849461
                      },
                      {
                        "iteration": 499,
                        "learn": [
                          0.007261945541
                        ],
                        "passed_time": 76.47592254,
                        "remaining_time": 76.47592254
                      },
                      {
                        "iteration": 500,
                        "learn": [
                          0.007246008876
                        ],
                        "passed_time": 76.63435619,
                        "remaining_time": 76.32843062
                      },
                      {
                        "iteration": 501,
                        "learn": [
                          0.007235753955
                        ],
                        "passed_time": 77.00259482,
                        "remaining_time": 76.38902833
                      },
                      {
                        "iteration": 502,
                        "learn": [
                          0.007235083377
                        ],
                        "passed_time": 77.19858252,
                        "remaining_time": 76.27772468
                      },
                      {
                        "iteration": 503,
                        "learn": [
                          0.00722936804
                        ],
                        "passed_time": 77.40375011,
                        "remaining_time": 76.17511916
                      },
                      {
                        "iteration": 504,
                        "learn": [
                          0.007228578524
                        ],
                        "passed_time": 77.60093126,
                        "remaining_time": 76.06427916
                      },
                      {
                        "iteration": 505,
                        "learn": [
                          0.007219235098
                        ],
                        "passed_time": 77.82000431,
                        "remaining_time": 75.97447061
                      },
                      {
                        "iteration": 506,
                        "learn": [
                          0.007214468382
                        ],
                        "passed_time": 78.04881513,
                        "remaining_time": 75.89362102
                      },
                      {
                        "iteration": 507,
                        "learn": [
                          0.007213399734
                        ],
                        "passed_time": 78.23289971,
                        "remaining_time": 75.76887137
                      },
                      {
                        "iteration": 508,
                        "learn": [
                          0.007211317048
                        ],
                        "passed_time": 78.41183066,
                        "remaining_time": 75.6389172
                      },
                      {
                        "iteration": 509,
                        "learn": [
                          0.007202538088
                        ],
                        "passed_time": 78.56415089,
                        "remaining_time": 75.4832038
                      },
                      {
                        "iteration": 510,
                        "learn": [
                          0.007200577786
                        ],
                        "passed_time": 78.71821253,
                        "remaining_time": 75.32917011
                      },
                      {
                        "iteration": 511,
                        "learn": [
                          0.007197057656
                        ],
                        "passed_time": 78.97286949,
                        "remaining_time": 75.27101623
                      },
                      {
                        "iteration": 512,
                        "learn": [
                          0.007196800057
                        ],
                        "passed_time": 79.17744063,
                        "remaining_time": 75.1645489
                      },
                      {
                        "iteration": 513,
                        "learn": [
                          0.007187619668
                        ],
                        "passed_time": 79.39598878,
                        "remaining_time": 75.07091546
                      },
                      {
                        "iteration": 514,
                        "learn": [
                          0.007178560348
                        ],
                        "passed_time": 79.63702428,
                        "remaining_time": 74.99797432
                      },
                      {
                        "iteration": 515,
                        "learn": [
                          0.007173872917
                        ],
                        "passed_time": 79.84692472,
                        "remaining_time": 74.89517745
                      },
                      {
                        "iteration": 516,
                        "learn": [
                          0.00717322004
                        ],
                        "passed_time": 80.03485147,
                        "remaining_time": 74.77143764
                      },
                      {
                        "iteration": 517,
                        "learn": [
                          0.007172855518
                        ],
                        "passed_time": 80.26340836,
                        "remaining_time": 74.68525643
                      },
                      {
                        "iteration": 518,
                        "learn": [
                          0.007172503429
                        ],
                        "passed_time": 80.43524038,
                        "remaining_time": 74.54595496
                      },
                      {
                        "iteration": 519,
                        "learn": [
                          0.007172163196
                        ],
                        "passed_time": 80.6058971,
                        "remaining_time": 74.40544348
                      },
                      {
                        "iteration": 520,
                        "learn": [
                          0.007163841411
                        ],
                        "passed_time": 80.84423367,
                        "remaining_time": 74.32704017
                      },
                      {
                        "iteration": 521,
                        "learn": [
                          0.007152125771
                        ],
                        "passed_time": 81.02605243,
                        "remaining_time": 74.19627023
                      },
                      {
                        "iteration": 522,
                        "learn": [
                          0.007142688409
                        ],
                        "passed_time": 81.23886623,
                        "remaining_time": 74.09357398
                      },
                      {
                        "iteration": 523,
                        "learn": [
                          0.007126632628
                        ],
                        "passed_time": 81.44840938,
                        "remaining_time": 73.98748639
                      },
                      {
                        "iteration": 524,
                        "learn": [
                          0.007118612089
                        ],
                        "passed_time": 81.72652726,
                        "remaining_time": 73.94304848
                      },
                      {
                        "iteration": 525,
                        "learn": [
                          0.007108370207
                        ],
                        "passed_time": 81.92446138,
                        "remaining_time": 73.8254652
                      },
                      {
                        "iteration": 526,
                        "learn": [
                          0.007107818972
                        ],
                        "passed_time": 82.19659358,
                        "remaining_time": 73.77417223
                      },
                      {
                        "iteration": 527,
                        "learn": [
                          0.007104512863
                        ],
                        "passed_time": 82.44840934,
                        "remaining_time": 73.70388107
                      },
                      {
                        "iteration": 528,
                        "learn": [
                          0.007089639303
                        ],
                        "passed_time": 82.62449862,
                        "remaining_time": 73.56547987
                      },
                      {
                        "iteration": 529,
                        "learn": [
                          0.007067838356
                        ],
                        "passed_time": 82.81015468,
                        "remaining_time": 73.43542019
                      },
                      {
                        "iteration": 530,
                        "learn": [
                          0.007059607884
                        ],
                        "passed_time": 83.02944707,
                        "remaining_time": 73.33486003
                      },
                      {
                        "iteration": 531,
                        "learn": [
                          0.007051266448
                        ],
                        "passed_time": 83.30751661,
                        "remaining_time": 73.28555972
                      },
                      {
                        "iteration": 532,
                        "learn": [
                          0.007044006491
                        ],
                        "passed_time": 83.67014688,
                        "remaining_time": 73.3094908
                      },
                      {
                        "iteration": 533,
                        "learn": [
                          0.007039158012
                        ],
                        "passed_time": 83.89127781,
                        "remaining_time": 73.20849337
                      },
                      {
                        "iteration": 534,
                        "learn": [
                          0.007035349903
                        ],
                        "passed_time": 84.06524243,
                        "remaining_time": 73.06605183
                      },
                      {
                        "iteration": 535,
                        "learn": [
                          0.007028558485
                        ],
                        "passed_time": 84.25690872,
                        "remaining_time": 72.93881651
                      },
                      {
                        "iteration": 536,
                        "learn": [
                          0.007022411833
                        ],
                        "passed_time": 84.43359955,
                        "remaining_time": 72.79842941
                      },
                      {
                        "iteration": 537,
                        "learn": [
                          0.007017598711
                        ],
                        "passed_time": 84.68136298,
                        "remaining_time": 72.71893996
                      },
                      {
                        "iteration": 538,
                        "learn": [
                          0.007011734109
                        ],
                        "passed_time": 84.90800339,
                        "remaining_time": 72.62075986
                      },
                      {
                        "iteration": 539,
                        "learn": [
                          0.007002007698
                        ],
                        "passed_time": 85.06122456,
                        "remaining_time": 72.45956166
                      },
                      {
                        "iteration": 540,
                        "learn": [
                          0.006996599358
                        ],
                        "passed_time": 85.33587083,
                        "remaining_time": 72.40141351
                      },
                      {
                        "iteration": 541,
                        "learn": [
                          0.006991396689
                        ],
                        "passed_time": 85.61151465,
                        "remaining_time": 72.34330943
                      },
                      {
                        "iteration": 542,
                        "learn": [
                          0.006989053631
                        ],
                        "passed_time": 85.81463436,
                        "remaining_time": 72.2233663
                      },
                      {
                        "iteration": 543,
                        "learn": [
                          0.006984159497
                        ],
                        "passed_time": 86.01218335,
                        "remaining_time": 72.09844781
                      },
                      {
                        "iteration": 544,
                        "learn": [
                          0.006977833597
                        ],
                        "passed_time": 86.19153247,
                        "remaining_time": 71.95806839
                      },
                      {
                        "iteration": 545,
                        "learn": [
                          0.00697777832
                        ],
                        "passed_time": 86.35876282,
                        "remaining_time": 71.80746945
                      },
                      {
                        "iteration": 546,
                        "learn": [
                          0.006969897784
                        ],
                        "passed_time": 86.6574826,
                        "remaining_time": 71.76570314
                      },
                      {
                        "iteration": 547,
                        "learn": [
                          0.006953698485
                        ],
                        "passed_time": 86.87710444,
                        "remaining_time": 71.65775768
                      },
                      {
                        "iteration": 548,
                        "learn": [
                          0.006949632857
                        ],
                        "passed_time": 87.05465017,
                        "remaining_time": 71.51484012
                      },
                      {
                        "iteration": 549,
                        "learn": [
                          0.006942056589
                        ],
                        "passed_time": 87.23930549,
                        "remaining_time": 71.37761359
                      },
                      {
                        "iteration": 550,
                        "learn": [
                          0.006934480017
                        ],
                        "passed_time": 87.364238,
                        "remaining_time": 71.19154784
                      },
                      {
                        "iteration": 551,
                        "learn": [
                          0.006928990105
                        ],
                        "passed_time": 87.54825998,
                        "remaining_time": 71.05366028
                      },
                      {
                        "iteration": 552,
                        "learn": [
                          0.006928724543
                        ],
                        "passed_time": 87.78843709,
                        "remaining_time": 70.96099707
                      },
                      {
                        "iteration": 553,
                        "learn": [
                          0.00692568306
                        ],
                        "passed_time": 87.96928658,
                        "remaining_time": 70.82003938
                      },
                      {
                        "iteration": 554,
                        "learn": [
                          0.006923405075
                        ],
                        "passed_time": 88.14750436,
                        "remaining_time": 70.67682782
                      },
                      {
                        "iteration": 555,
                        "learn": [
                          0.006920980487
                        ],
                        "passed_time": 88.32087252,
                        "remaining_time": 70.52961762
                      },
                      {
                        "iteration": 556,
                        "learn": [
                          0.006917251675
                        ],
                        "passed_time": 88.55165216,
                        "remaining_time": 70.4279747
                      },
                      {
                        "iteration": 557,
                        "learn": [
                          0.006909991589
                        ],
                        "passed_time": 88.79333953,
                        "remaining_time": 70.33450909
                      },
                      {
                        "iteration": 558,
                        "learn": [
                          0.006904664918
                        ],
                        "passed_time": 89.04154608,
                        "remaining_time": 70.24565621
                      },
                      {
                        "iteration": 559,
                        "learn": [
                          0.006877384201
                        ],
                        "passed_time": 89.28351695,
                        "remaining_time": 70.15133475
                      },
                      {
                        "iteration": 560,
                        "learn": [
                          0.00687733169
                        ],
                        "passed_time": 89.47208887,
                        "remaining_time": 70.01470056
                      },
                      {
                        "iteration": 561,
                        "learn": [
                          0.006874655996
                        ],
                        "passed_time": 89.64667226,
                        "remaining_time": 69.86697944
                      },
                      {
                        "iteration": 562,
                        "learn": [
                          0.006872955514
                        ],
                        "passed_time": 89.79906433,
                        "remaining_time": 69.70193804
                      },
                      {
                        "iteration": 563,
                        "learn": [
                          0.006872467247
                        ],
                        "passed_time": 90.0488041,
                        "remaining_time": 69.61219608
                      },
                      {
                        "iteration": 564,
                        "learn": [
                          0.006870012187
                        ],
                        "passed_time": 90.23756735,
                        "remaining_time": 69.47494123
                      },
                      {
                        "iteration": 565,
                        "learn": [
                          0.006863168911
                        ],
                        "passed_time": 90.43109503,
                        "remaining_time": 69.34115767
                      },
                      {
                        "iteration": 566,
                        "learn": [
                          0.006861050205
                        ],
                        "passed_time": 90.62121304,
                        "remaining_time": 69.20455951
                      },
                      {
                        "iteration": 567,
                        "learn": [
                          0.006857513574
                        ],
                        "passed_time": 90.85606304,
                        "remaining_time": 69.10179442
                      },
                      {
                        "iteration": 568,
                        "learn": [
                          0.006822179656
                        ],
                        "passed_time": 91.12150735,
                        "remaining_time": 69.02173931
                      },
                      {
                        "iteration": 569,
                        "learn": [
                          0.006814377968
                        ],
                        "passed_time": 91.29431159,
                        "remaining_time": 68.87114734
                      },
                      {
                        "iteration": 570,
                        "learn": [
                          0.006811051819
                        ],
                        "passed_time": 91.45468681,
                        "remaining_time": 68.71113947
                      },
                      {
                        "iteration": 571,
                        "learn": [
                          0.006804654699
                        ],
                        "passed_time": 91.68295242,
                        "remaining_time": 68.60192944
                      },
                      {
                        "iteration": 572,
                        "learn": [
                          0.006800768651
                        ],
                        "passed_time": 91.96912768,
                        "remaining_time": 68.53545815
                      },
                      {
                        "iteration": 573,
                        "learn": [
                          0.006795228469
                        ],
                        "passed_time": 92.24055857,
                        "remaining_time": 68.45727866
                      },
                      {
                        "iteration": 574,
                        "learn": [
                          0.006793221877
                        ],
                        "passed_time": 92.46829046,
                        "remaining_time": 68.34612773
                      },
                      {
                        "iteration": 575,
                        "learn": [
                          0.006786035804
                        ],
                        "passed_time": 92.62864299,
                        "remaining_time": 68.18497331
                      },
                      {
                        "iteration": 576,
                        "learn": [
                          0.006781350089
                        ],
                        "passed_time": 92.97681476,
                        "remaining_time": 68.16151238
                      },
                      {
                        "iteration": 577,
                        "learn": [
                          0.006778435683
                        ],
                        "passed_time": 93.30084093,
                        "remaining_time": 68.11929909
                      },
                      {
                        "iteration": 578,
                        "learn": [
                          0.006772112386
                        ],
                        "passed_time": 93.54223708,
                        "remaining_time": 68.01603076
                      },
                      {
                        "iteration": 579,
                        "learn": [
                          0.006757298925
                        ],
                        "passed_time": 93.80235337,
                        "remaining_time": 67.92584209
                      },
                      {
                        "iteration": 580,
                        "learn": [
                          0.006738359564
                        ],
                        "passed_time": 94.02776355,
                        "remaining_time": 67.81003946
                      },
                      {
                        "iteration": 581,
                        "learn": [
                          0.006731314445
                        ],
                        "passed_time": 94.24509417,
                        "remaining_time": 67.68805732
                      },
                      {
                        "iteration": 582,
                        "learn": [
                          0.006698589082
                        ],
                        "passed_time": 94.57270961,
                        "remaining_time": 67.64463106
                      },
                      {
                        "iteration": 583,
                        "learn": [
                          0.006689181898
                        ],
                        "passed_time": 94.78484045,
                        "remaining_time": 67.51796854
                      },
                      {
                        "iteration": 584,
                        "learn": [
                          0.006643664616
                        ],
                        "passed_time": 94.98340581,
                        "remaining_time": 67.38139044
                      },
                      {
                        "iteration": 585,
                        "learn": [
                          0.006637334364
                        ],
                        "passed_time": 95.20695307,
                        "remaining_time": 67.26225012
                      },
                      {
                        "iteration": 586,
                        "learn": [
                          0.006632793585
                        ],
                        "passed_time": 95.50734962,
                        "remaining_time": 67.1968235
                      },
                      {
                        "iteration": 587,
                        "learn": [
                          0.006621446455
                        ],
                        "passed_time": 95.77981219,
                        "remaining_time": 67.11102487
                      },
                      {
                        "iteration": 588,
                        "learn": [
                          0.006594714103
                        ],
                        "passed_time": 96.09532787,
                        "remaining_time": 67.05463456
                      },
                      {
                        "iteration": 589,
                        "learn": [
                          0.006580907116
                        ],
                        "passed_time": 96.33241832,
                        "remaining_time": 66.94286697
                      },
                      {
                        "iteration": 590,
                        "learn": [
                          0.006549578248
                        ],
                        "passed_time": 96.6002877,
                        "remaining_time": 66.85197575
                      },
                      {
                        "iteration": 591,
                        "learn": [
                          0.006524601792
                        ],
                        "passed_time": 96.80909612,
                        "remaining_time": 66.71978246
                      },
                      {
                        "iteration": 592,
                        "learn": [
                          0.00649596797
                        ],
                        "passed_time": 97.02083409,
                        "remaining_time": 66.58934144
                      },
                      {
                        "iteration": 593,
                        "learn": [
                          0.006474886322
                        ],
                        "passed_time": 97.32760604,
                        "remaining_time": 66.52358258
                      },
                      {
                        "iteration": 594,
                        "learn": [
                          0.006469354066
                        ],
                        "passed_time": 97.5971872,
                        "remaining_time": 66.43169885
                      },
                      {
                        "iteration": 595,
                        "learn": [
                          0.006458675664
                        ],
                        "passed_time": 98.0188131,
                        "remaining_time": 66.4422827
                      },
                      {
                        "iteration": 596,
                        "learn": [
                          0.006438604517
                        ],
                        "passed_time": 98.28610389,
                        "remaining_time": 66.34723596
                      },
                      {
                        "iteration": 597,
                        "learn": [
                          0.006408440423
                        ],
                        "passed_time": 98.46994103,
                        "remaining_time": 66.1955122
                      },
                      {
                        "iteration": 598,
                        "learn": [
                          0.006400780128
                        ],
                        "passed_time": 98.6551456,
                        "remaining_time": 66.04459664
                      },
                      {
                        "iteration": 599,
                        "learn": [
                          0.006381515541
                        ],
                        "passed_time": 98.81508163,
                        "remaining_time": 65.87672109
                      },
                      {
                        "iteration": 600,
                        "learn": [
                          0.006381204104
                        ],
                        "passed_time": 98.91182184,
                        "remaining_time": 65.66691666
                      },
                      {
                        "iteration": 601,
                        "learn": [
                          0.006361494406
                        ],
                        "passed_time": 99.04038154,
                        "remaining_time": 65.47852467
                      },
                      {
                        "iteration": 602,
                        "learn": [
                          0.006356191485
                        ],
                        "passed_time": 99.14235907,
                        "remaining_time": 65.2728301
                      },
                      {
                        "iteration": 603,
                        "learn": [
                          0.006336363419
                        ],
                        "passed_time": 99.25239901,
                        "remaining_time": 65.07276491
                      },
                      {
                        "iteration": 604,
                        "learn": [
                          0.006328818678
                        ],
                        "passed_time": 99.33776051,
                        "remaining_time": 64.85688496
                      },
                      {
                        "iteration": 605,
                        "learn": [
                          0.006310404473
                        ],
                        "passed_time": 99.43648961,
                        "remaining_time": 64.65012691
                      },
                      {
                        "iteration": 606,
                        "learn": [
                          0.006306461271
                        ],
                        "passed_time": 99.52292928,
                        "remaining_time": 64.43576805
                      },
                      {
                        "iteration": 607,
                        "learn": [
                          0.006296283176
                        ],
                        "passed_time": 99.60989506,
                        "remaining_time": 64.22216918
                      },
                      {
                        "iteration": 608,
                        "learn": [
                          0.006289015546
                        ],
                        "passed_time": 99.7048568,
                        "remaining_time": 64.01411988
                      },
                      {
                        "iteration": 609,
                        "learn": [
                          0.006285343719
                        ],
                        "passed_time": 99.79187795,
                        "remaining_time": 63.80136459
                      },
                      {
                        "iteration": 610,
                        "learn": [
                          0.006281086102
                        ],
                        "passed_time": 99.87955499,
                        "remaining_time": 63.58943845
                      },
                      {
                        "iteration": 611,
                        "learn": [
                          0.006271402994
                        ],
                        "passed_time": 99.98375984,
                        "remaining_time": 63.38839676
                      },
                      {
                        "iteration": 612,
                        "learn": [
                          0.006261014642
                        ],
                        "passed_time": 100.1119033,
                        "remaining_time": 63.202784
                      },
                      {
                        "iteration": 613,
                        "learn": [
                          0.006254537776
                        ],
                        "passed_time": 100.2054704,
                        "remaining_time": 62.99562147
                      },
                      {
                        "iteration": 614,
                        "learn": [
                          0.006252526821
                        ],
                        "passed_time": 100.3055581,
                        "remaining_time": 62.79291034
                      },
                      {
                        "iteration": 615,
                        "learn": [
                          0.006252380341
                        ],
                        "passed_time": 100.3870009,
                        "remaining_time": 62.57890965
                      },
                      {
                        "iteration": 616,
                        "learn": [
                          0.006242335609
                        ],
                        "passed_time": 100.4924569,
                        "remaining_time": 62.38024471
                      },
                      {
                        "iteration": 617,
                        "learn": [
                          0.006238334884
                        ],
                        "passed_time": 100.5937998,
                        "remaining_time": 62.17933905
                      },
                      {
                        "iteration": 618,
                        "learn": [
                          0.006219857478
                        ],
                        "passed_time": 100.6837572,
                        "remaining_time": 61.97174718
                      },
                      {
                        "iteration": 619,
                        "learn": [
                          0.006213842944
                        ],
                        "passed_time": 100.7908661,
                        "remaining_time": 61.77504699
                      },
                      {
                        "iteration": 620,
                        "learn": [
                          0.00620585757
                        ],
                        "passed_time": 100.8734572,
                        "remaining_time": 61.56367195
                      },
                      {
                        "iteration": 621,
                        "learn": [
                          0.006198759236
                        ],
                        "passed_time": 100.9706906,
                        "remaining_time": 61.36160942
                      },
                      {
                        "iteration": 622,
                        "learn": [
                          0.006172842109
                        ],
                        "passed_time": 101.1184273,
                        "remaining_time": 61.19044477
                      },
                      {
                        "iteration": 623,
                        "learn": [
                          0.006163554627
                        ],
                        "passed_time": 101.2331174,
                        "remaining_time": 60.99944254
                      },
                      {
                        "iteration": 624,
                        "learn": [
                          0.006158235194
                        ],
                        "passed_time": 101.3485846,
                        "remaining_time": 60.80915074
                      },
                      {
                        "iteration": 625,
                        "learn": [
                          0.006152554385
                        ],
                        "passed_time": 101.4424073,
                        "remaining_time": 60.60616668
                      },
                      {
                        "iteration": 626,
                        "learn": [
                          0.006136942578
                        ],
                        "passed_time": 101.5375756,
                        "remaining_time": 60.40433128
                      },
                      {
                        "iteration": 627,
                        "learn": [
                          0.00613630886
                        ],
                        "passed_time": 101.6499785,
                        "remaining_time": 60.21304461
                      },
                      {
                        "iteration": 628,
                        "learn": [
                          0.00611252585
                        ],
                        "passed_time": 101.7400461,
                        "remaining_time": 60.00883482
                      },
                      {
                        "iteration": 629,
                        "learn": [
                          0.006109842665
                        ],
                        "passed_time": 101.826115,
                        "remaining_time": 59.80263896
                      },
                      {
                        "iteration": 630,
                        "learn": [
                          0.006109255437
                        ],
                        "passed_time": 101.9319872,
                        "remaining_time": 59.60840455
                      },
                      {
                        "iteration": 631,
                        "learn": [
                          0.006104221823
                        ],
                        "passed_time": 102.0306905,
                        "remaining_time": 59.41027546
                      },
                      {
                        "iteration": 632,
                        "learn": [
                          0.006095230466
                        ],
                        "passed_time": 102.1846894,
                        "remaining_time": 59.24451974
                      },
                      {
                        "iteration": 633,
                        "learn": [
                          0.006086374098
                        ],
                        "passed_time": 102.2741661,
                        "remaining_time": 59.04155333
                      },
                      {
                        "iteration": 634,
                        "learn": [
                          0.006063828609
                        ],
                        "passed_time": 102.380384,
                        "remaining_time": 58.84856716
                      },
                      {
                        "iteration": 635,
                        "learn": [
                          0.006061472098
                        ],
                        "passed_time": 102.4751736,
                        "remaining_time": 58.6493132
                      },
                      {
                        "iteration": 636,
                        "learn": [
                          0.006035371693
                        ],
                        "passed_time": 102.5620111,
                        "remaining_time": 58.44585561
                      },
                      {
                        "iteration": 637,
                        "learn": [
                          0.006022580864
                        ],
                        "passed_time": 102.6475666,
                        "remaining_time": 58.24203621
                      },
                      {
                        "iteration": 638,
                        "learn": [
                          0.006021739855
                        ],
                        "passed_time": 102.7382986,
                        "remaining_time": 58.04151139
                      },
                      {
                        "iteration": 639,
                        "learn": [
                          0.0060183266
                        ],
                        "passed_time": 102.8408259,
                        "remaining_time": 57.84796458
                      },
                      {
                        "iteration": 640,
                        "learn": [
                          0.006001090023
                        ],
                        "passed_time": 102.9307708,
                        "remaining_time": 57.64765476
                      },
                      {
                        "iteration": 641,
                        "learn": [
                          0.005999695717
                        ],
                        "passed_time": 103.0287248,
                        "remaining_time": 57.45215496
                      },
                      {
                        "iteration": 642,
                        "learn": [
                          0.00597951034
                        ],
                        "passed_time": 103.179721,
                        "remaining_time": 57.28640806
                      },
                      {
                        "iteration": 643,
                        "learn": [
                          0.005972639597
                        ],
                        "passed_time": 103.2729307,
                        "remaining_time": 57.08876295
                      },
                      {
                        "iteration": 644,
                        "learn": [
                          0.005972127448
                        ],
                        "passed_time": 103.3870093,
                        "remaining_time": 56.90292761
                      },
                      {
                        "iteration": 645,
                        "learn": [
                          0.005967382491
                        ],
                        "passed_time": 103.4974729,
                        "remaining_time": 56.71533345
                      },
                      {
                        "iteration": 646,
                        "learn": [
                          0.005966895454
                        ],
                        "passed_time": 103.5916423,
                        "remaining_time": 56.51908769
                      },
                      {
                        "iteration": 647,
                        "learn": [
                          0.005964148536
                        ],
                        "passed_time": 103.6739936,
                        "remaining_time": 56.31673726
                      },
                      {
                        "iteration": 648,
                        "learn": [
                          0.005942200622
                        ],
                        "passed_time": 103.7684926,
                        "remaining_time": 56.12132653
                      },
                      {
                        "iteration": 649,
                        "learn": [
                          0.005940209114
                        ],
                        "passed_time": 103.8615644,
                        "remaining_time": 55.92545777
                      },
                      {
                        "iteration": 650,
                        "learn": [
                          0.005937750704
                        ],
                        "passed_time": 103.9571053,
                        "remaining_time": 55.73122851
                      },
                      {
                        "iteration": 651,
                        "learn": [
                          0.005929484461
                        ],
                        "passed_time": 104.0567049,
                        "remaining_time": 55.53946828
                      },
                      {
                        "iteration": 652,
                        "learn": [
                          0.005925237181
                        ],
                        "passed_time": 104.1896081,
                        "remaining_time": 55.36568759
                      },
                      {
                        "iteration": 653,
                        "learn": [
                          0.005902241739
                        ],
                        "passed_time": 104.2838698,
                        "remaining_time": 55.17158859
                      },
                      {
                        "iteration": 654,
                        "learn": [
                          0.005900961356
                        ],
                        "passed_time": 104.3893717,
                        "remaining_time": 54.98371484
                      },
                      {
                        "iteration": 655,
                        "learn": [
                          0.005893183633
                        ],
                        "passed_time": 104.4890664,
                        "remaining_time": 54.79304701
                      },
                      {
                        "iteration": 656,
                        "learn": [
                          0.005885938756
                        ],
                        "passed_time": 104.586291,
                        "remaining_time": 54.60136656
                      },
                      {
                        "iteration": 657,
                        "learn": [
                          0.005885180391
                        ],
                        "passed_time": 104.6705219,
                        "remaining_time": 54.40321958
                      },
                      {
                        "iteration": 658,
                        "learn": [
                          0.005880382321
                        ],
                        "passed_time": 104.7601528,
                        "remaining_time": 54.20821261
                      },
                      {
                        "iteration": 659,
                        "learn": [
                          0.005878332815
                        ],
                        "passed_time": 104.8488556,
                        "remaining_time": 54.0130468
                      },
                      {
                        "iteration": 660,
                        "learn": [
                          0.00587553574
                        ],
                        "passed_time": 104.9328045,
                        "remaining_time": 53.81576507
                      },
                      {
                        "iteration": 661,
                        "learn": [
                          0.005875122108
                        ],
                        "passed_time": 105.0432257,
                        "remaining_time": 53.63234184
                      },
                      {
                        "iteration": 662,
                        "learn": [
                          0.005872457341
                        ],
                        "passed_time": 105.1275373,
                        "remaining_time": 53.43586738
                      },
                      {
                        "iteration": 663,
                        "learn": [
                          0.005864653858
                        ],
                        "passed_time": 105.2820988,
                        "remaining_time": 53.2752789
                      },
                      {
                        "iteration": 664,
                        "learn": [
                          0.005861220522
                        ],
                        "passed_time": 105.3787864,
                        "remaining_time": 53.08555403
                      },
                      {
                        "iteration": 665,
                        "learn": [
                          0.005858193127
                        ],
                        "passed_time": 105.4780712,
                        "remaining_time": 52.8974111
                      },
                      {
                        "iteration": 666,
                        "learn": [
                          0.00585780964
                        ],
                        "passed_time": 105.5851346,
                        "remaining_time": 52.71341804
                      },
                      {
                        "iteration": 667,
                        "learn": [
                          0.005852841653
                        ],
                        "passed_time": 105.6819848,
                        "remaining_time": 52.52457925
                      },
                      {
                        "iteration": 668,
                        "learn": [
                          0.005832708131
                        ],
                        "passed_time": 105.7750143,
                        "remaining_time": 52.33412515
                      },
                      {
                        "iteration": 669,
                        "learn": [
                          0.005827636856
                        ],
                        "passed_time": 105.8791585,
                        "remaining_time": 52.1494363
                      },
                      {
                        "iteration": 670,
                        "learn": [
                          0.005825922971
                        ],
                        "passed_time": 105.970792,
                        "remaining_time": 51.9588533
                      },
                      {
                        "iteration": 671,
                        "learn": [
                          0.005806993213
                        ],
                        "passed_time": 106.0657786,
                        "remaining_time": 51.77020145
                      },
                      {
                        "iteration": 672,
                        "learn": [
                          0.005801445918
                        ],
                        "passed_time": 106.16773,
                        "remaining_time": 51.58521203
                      },
                      {
                        "iteration": 673,
                        "learn": [
                          0.005793769629
                        ],
                        "passed_time": 106.2852209,
                        "remaining_time": 51.40798517
                      },
                      {
                        "iteration": 674,
                        "learn": [
                          0.005792678736
                        ],
                        "passed_time": 106.3899754,
                        "remaining_time": 51.22480295
                      },
                      {
                        "iteration": 675,
                        "learn": [
                          0.005789022638
                        ],
                        "passed_time": 106.4796442,
                        "remaining_time": 51.03462237
                      },
                      {
                        "iteration": 676,
                        "learn": [
                          0.005781293008
                        ],
                        "passed_time": 106.5849868,
                        "remaining_time": 50.85221673
                      },
                      {
                        "iteration": 677,
                        "learn": [
                          0.005777455579
                        ],
                        "passed_time": 106.6947853,
                        "remaining_time": 50.67215465
                      },
                      {
                        "iteration": 678,
                        "learn": [
                          0.005772175014
                        ],
                        "passed_time": 106.7773543,
                        "remaining_time": 50.4794267
                      },
                      {
                        "iteration": 679,
                        "learn": [
                          0.005770187329
                        ],
                        "passed_time": 106.876487,
                        "remaining_time": 50.29481743
                      },
                      {
                        "iteration": 680,
                        "learn": [
                          0.005766624109
                        ],
                        "passed_time": 106.9780898,
                        "remaining_time": 50.11161623
                      },
                      {
                        "iteration": 681,
                        "learn": [
                          0.00575861682
                        ],
                        "passed_time": 107.0765565,
                        "remaining_time": 49.92719203
                      },
                      {
                        "iteration": 682,
                        "learn": [
                          0.005757673425
                        ],
                        "passed_time": 107.2066136,
                        "remaining_time": 49.75768155
                      },
                      {
                        "iteration": 683,
                        "learn": [
                          0.005745111429
                        ],
                        "passed_time": 107.3054444,
                        "remaining_time": 49.57386029
                      },
                      {
                        "iteration": 684,
                        "learn": [
                          0.005743299425
                        ],
                        "passed_time": 107.3951896,
                        "remaining_time": 49.38610907
                      },
                      {
                        "iteration": 685,
                        "learn": [
                          0.005736602771
                        ],
                        "passed_time": 107.5096955,
                        "remaining_time": 49.20997723
                      },
                      {
                        "iteration": 686,
                        "learn": [
                          0.005729646098
                        ],
                        "passed_time": 107.600602,
                        "remaining_time": 49.0232728
                      },
                      {
                        "iteration": 687,
                        "learn": [
                          0.00571494678
                        ],
                        "passed_time": 107.6894374,
                        "remaining_time": 48.83590764
                      },
                      {
                        "iteration": 688,
                        "learn": [
                          0.005712777246
                        ],
                        "passed_time": 107.7930672,
                        "remaining_time": 48.65550638
                      },
                      {
                        "iteration": 689,
                        "learn": [
                          0.005707154173
                        ],
                        "passed_time": 107.8833394,
                        "remaining_time": 48.46932638
                      },
                      {
                        "iteration": 690,
                        "learn": [
                          0.005701643043
                        ],
                        "passed_time": 107.9622266,
                        "remaining_time": 48.27833287
                      },
                      {
                        "iteration": 691,
                        "learn": [
                          0.005688967991
                        ],
                        "passed_time": 108.0583165,
                        "remaining_time": 48.09532004
                      },
                      {
                        "iteration": 692,
                        "learn": [
                          0.005688162276
                        ],
                        "passed_time": 108.1532773,
                        "remaining_time": 47.91205791
                      },
                      {
                        "iteration": 693,
                        "learn": [
                          0.005686599006
                        ],
                        "passed_time": 108.2763506,
                        "remaining_time": 47.74144567
                      },
                      {
                        "iteration": 694,
                        "learn": [
                          0.005683953794
                        ],
                        "passed_time": 108.3831242,
                        "remaining_time": 47.56381708
                      },
                      {
                        "iteration": 695,
                        "learn": [
                          0.005646872861
                        ],
                        "passed_time": 108.4894826,
                        "remaining_time": 47.38621081
                      },
                      {
                        "iteration": 696,
                        "learn": [
                          0.005644437052
                        ],
                        "passed_time": 108.5864315,
                        "remaining_time": 47.20471843
                      },
                      {
                        "iteration": 697,
                        "learn": [
                          0.00564370656
                        ],
                        "passed_time": 108.6662368,
                        "remaining_time": 47.01605087
                      },
                      {
                        "iteration": 698,
                        "learn": [
                          0.005643383604
                        ],
                        "passed_time": 108.771262,
                        "remaining_time": 46.8385549
                      },
                      {
                        "iteration": 699,
                        "learn": [
                          0.005630003427
                        ],
                        "passed_time": 108.8589796,
                        "remaining_time": 46.65384839
                      },
                      {
                        "iteration": 700,
                        "learn": [
                          0.005625665047
                        ],
                        "passed_time": 108.9521126,
                        "remaining_time": 46.47172847
                      },
                      {
                        "iteration": 701,
                        "learn": [
                          0.005625364682
                        ],
                        "passed_time": 109.06068,
                        "remaining_time": 46.29641401
                      },
                      {
                        "iteration": 702,
                        "learn": [
                          0.005621123777
                        ],
                        "passed_time": 109.1479869,
                        "remaining_time": 46.1123074
                      },
                      {
                        "iteration": 703,
                        "learn": [
                          0.005617398699
                        ],
                        "passed_time": 109.2547579,
                        "remaining_time": 45.93665957
                      },
                      {
                        "iteration": 704,
                        "learn": [
                          0.005615790813
                        ],
                        "passed_time": 109.3654955,
                        "remaining_time": 45.76286692
                      },
                      {
                        "iteration": 705,
                        "learn": [
                          0.005609179993
                        ],
                        "passed_time": 109.470191,
                        "remaining_time": 45.58673676
                      },
                      {
                        "iteration": 706,
                        "learn": [
                          0.005607238986
                        ],
                        "passed_time": 109.5640263,
                        "remaining_time": 45.40630792
                      },
                      {
                        "iteration": 707,
                        "learn": [
                          0.005605704163
                        ],
                        "passed_time": 109.6566404,
                        "remaining_time": 45.22562006
                      },
                      {
                        "iteration": 708,
                        "learn": [
                          0.005605421976
                        ],
                        "passed_time": 109.7568567,
                        "remaining_time": 45.04830083
                      },
                      {
                        "iteration": 709,
                        "learn": [
                          0.005578824449
                        ],
                        "passed_time": 109.8505281,
                        "remaining_time": 44.86852556
                      },
                      {
                        "iteration": 710,
                        "learn": [
                          0.005573607592
                        ],
                        "passed_time": 109.9551053,
                        "remaining_time": 44.69342536
                      },
                      {
                        "iteration": 711,
                        "learn": [
                          0.00556461386
                        ],
                        "passed_time": 110.0511363,
                        "remaining_time": 44.51506637
                      },
                      {
                        "iteration": 712,
                        "learn": [
                          0.005549324554
                        ],
                        "passed_time": 110.1390398,
                        "remaining_time": 44.33366679
                      },
                      {
                        "iteration": 713,
                        "learn": [
                          0.00553218257
                        ],
                        "passed_time": 110.2426183,
                        "remaining_time": 44.15880789
                      },
                      {
                        "iteration": 714,
                        "learn": [
                          0.005522852137
                        ],
                        "passed_time": 110.3717153,
                        "remaining_time": 43.99432007
                      },
                      {
                        "iteration": 715,
                        "learn": [
                          0.005518952728
                        ],
                        "passed_time": 110.4858723,
                        "remaining_time": 43.82400521
                      },
                      {
                        "iteration": 716,
                        "learn": [
                          0.005512676227
                        ],
                        "passed_time": 110.5839646,
                        "remaining_time": 43.64750623
                      },
                      {
                        "iteration": 717,
                        "learn": [
                          0.005489038889
                        ],
                        "passed_time": 110.6743827,
                        "remaining_time": 43.46821159
                      },
                      {
                        "iteration": 718,
                        "learn": [
                          0.005477329359
                        ],
                        "passed_time": 110.771431,
                        "remaining_time": 43.29175539
                      },
                      {
                        "iteration": 719,
                        "learn": [
                          0.005471652721
                        ],
                        "passed_time": 110.8701867,
                        "remaining_time": 43.11618371
                      },
                      {
                        "iteration": 720,
                        "learn": [
                          0.005463436648
                        ],
                        "passed_time": 110.9556447,
                        "remaining_time": 42.93567943
                      },
                      {
                        "iteration": 721,
                        "learn": [
                          0.005455498805
                        ],
                        "passed_time": 111.0487142,
                        "remaining_time": 42.7583692
                      },
                      {
                        "iteration": 722,
                        "learn": [
                          0.005434363395
                        ],
                        "passed_time": 111.1280885,
                        "remaining_time": 42.57604497
                      },
                      {
                        "iteration": 723,
                        "learn": [
                          0.005419229908
                        ],
                        "passed_time": 111.21616,
                        "remaining_time": 42.39732065
                      },
                      {
                        "iteration": 724,
                        "learn": [
                          0.005416018314
                        ],
                        "passed_time": 111.362401,
                        "remaining_time": 42.24091072
                      },
                      {
                        "iteration": 725,
                        "learn": [
                          0.005412066256
                        ],
                        "passed_time": 111.4352211,
                        "remaining_time": 42.05681899
                      },
                      {
                        "iteration": 726,
                        "learn": [
                          0.005409091017
                        ],
                        "passed_time": 111.543322,
                        "remaining_time": 41.88628184
                      },
                      {
                        "iteration": 727,
                        "learn": [
                          0.005407145993
                        ],
                        "passed_time": 111.6380383,
                        "remaining_time": 41.71091542
                      },
                      {
                        "iteration": 728,
                        "learn": [
                          0.005405684252
                        ],
                        "passed_time": 111.7239663,
                        "remaining_time": 41.53250325
                      },
                      {
                        "iteration": 729,
                        "learn": [
                          0.005388375543
                        ],
                        "passed_time": 111.8281627,
                        "remaining_time": 41.36110128
                      },
                      {
                        "iteration": 730,
                        "learn": [
                          0.005379210862
                        ],
                        "passed_time": 111.9248089,
                        "remaining_time": 41.18710477
                      },
                      {
                        "iteration": 731,
                        "learn": [
                          0.005367014916
                        ],
                        "passed_time": 112.0240269,
                        "remaining_time": 41.01426122
                      },
                      {
                        "iteration": 732,
                        "learn": [
                          0.00536489832
                        ],
                        "passed_time": 112.1203565,
                        "remaining_time": 40.84056644
                      },
                      {
                        "iteration": 733,
                        "learn": [
                          0.005358795646
                        ],
                        "passed_time": 112.2243921,
                        "remaining_time": 40.66987505
                      },
                      {
                        "iteration": 734,
                        "learn": [
                          0.005353309272
                        ],
                        "passed_time": 112.3107063,
                        "remaining_time": 40.49297572
                      },
                      {
                        "iteration": 735,
                        "learn": [
                          0.005346629314
                        ],
                        "passed_time": 112.4499315,
                        "remaining_time": 40.3353015
                      },
                      {
                        "iteration": 736,
                        "learn": [
                          0.005344086573
                        ],
                        "passed_time": 112.5565301,
                        "remaining_time": 40.1660345
                      },
                      {
                        "iteration": 737,
                        "learn": [
                          0.005340272253
                        ],
                        "passed_time": 112.6399509,
                        "remaining_time": 39.98870887
                      },
                      {
                        "iteration": 738,
                        "learn": [
                          0.005337592658
                        ],
                        "passed_time": 112.7486495,
                        "remaining_time": 39.82056498
                      },
                      {
                        "iteration": 739,
                        "learn": [
                          0.005334611173
                        ],
                        "passed_time": 112.8504916,
                        "remaining_time": 39.65017272
                      },
                      {
                        "iteration": 740,
                        "learn": [
                          0.0053343455
                        ],
                        "passed_time": 112.9548303,
                        "remaining_time": 39.48083811
                      },
                      {
                        "iteration": 741,
                        "learn": [
                          0.005330609286
                        ],
                        "passed_time": 113.0323988,
                        "remaining_time": 39.30237047
                      },
                      {
                        "iteration": 742,
                        "learn": [
                          0.005327021413
                        ],
                        "passed_time": 113.1172665,
                        "remaining_time": 39.1266992
                      },
                      {
                        "iteration": 743,
                        "learn": [
                          0.005321017601
                        ],
                        "passed_time": 113.1886772,
                        "remaining_time": 38.94664162
                      },
                      {
                        "iteration": 744,
                        "learn": [
                          0.005313661975
                        ],
                        "passed_time": 113.288512,
                        "remaining_time": 38.77660477
                      },
                      {
                        "iteration": 745,
                        "learn": [
                          0.005311358556
                        ],
                        "passed_time": 113.4019593,
                        "remaining_time": 38.61139097
                      },
                      {
                        "iteration": 746,
                        "learn": [
                          0.00530922717
                        ],
                        "passed_time": 113.5286241,
                        "remaining_time": 38.45079237
                      },
                      {
                        "iteration": 747,
                        "learn": [
                          0.005305185691
                        ],
                        "passed_time": 113.6422421,
                        "remaining_time": 38.28588907
                      },
                      {
                        "iteration": 748,
                        "learn": [
                          0.005302432224
                        ],
                        "passed_time": 113.7402708,
                        "remaining_time": 38.1158985
                      },
                      {
                        "iteration": 749,
                        "learn": [
                          0.005301088115
                        ],
                        "passed_time": 113.8453573,
                        "remaining_time": 37.94845243
                      },
                      {
                        "iteration": 750,
                        "learn": [
                          0.005299707725
                        ],
                        "passed_time": 113.9325839,
                        "remaining_time": 37.77525085
                      },
                      {
                        "iteration": 751,
                        "learn": [
                          0.005296670435
                        ],
                        "passed_time": 114.0228674,
                        "remaining_time": 37.60328606
                      },
                      {
                        "iteration": 752,
                        "learn": [
                          0.005277504811
                        ],
                        "passed_time": 114.1089727,
                        "remaining_time": 37.43016767
                      },
                      {
                        "iteration": 753,
                        "learn": [
                          0.005275038724
                        ],
                        "passed_time": 114.1922517,
                        "remaining_time": 37.25635799
                      },
                      {
                        "iteration": 754,
                        "learn": [
                          0.005273642793
                        ],
                        "passed_time": 114.2869715,
                        "remaining_time": 37.08650069
                      },
                      {
                        "iteration": 755,
                        "learn": [
                          0.00527078892
                        ],
                        "passed_time": 114.3806856,
                        "remaining_time": 36.91651758
                      },
                      {
                        "iteration": 756,
                        "learn": [
                          0.005269490643
                        ],
                        "passed_time": 114.5334016,
                        "remaining_time": 36.76567581
                      },
                      {
                        "iteration": 757,
                        "learn": [
                          0.005263114159
                        ],
                        "passed_time": 114.6479129,
                        "remaining_time": 36.60263182
                      },
                      {
                        "iteration": 758,
                        "learn": [
                          0.005259699017
                        ],
                        "passed_time": 114.7221921,
                        "remaining_time": 36.42694111
                      },
                      {
                        "iteration": 759,
                        "learn": [
                          0.005258536772
                        ],
                        "passed_time": 114.8143447,
                        "remaining_time": 36.25716148
                      },
                      {
                        "iteration": 760,
                        "learn": [
                          0.005256656846
                        ],
                        "passed_time": 114.9070371,
                        "remaining_time": 36.08775541
                      },
                      {
                        "iteration": 761,
                        "learn": [
                          0.005254682152
                        ],
                        "passed_time": 115.0132049,
                        "remaining_time": 35.92275954
                      },
                      {
                        "iteration": 762,
                        "learn": [
                          0.005253756732
                        ],
                        "passed_time": 115.0951702,
                        "remaining_time": 35.75040017
                      },
                      {
                        "iteration": 763,
                        "learn": [
                          0.005252608819
                        ],
                        "passed_time": 115.1920337,
                        "remaining_time": 35.58287952
                      },
                      {
                        "iteration": 764,
                        "learn": [
                          0.00524726906
                        ],
                        "passed_time": 115.2890003,
                        "remaining_time": 35.41557525
                      },
                      {
                        "iteration": 765,
                        "learn": [
                          0.005245756065
                        ],
                        "passed_time": 115.3753578,
                        "remaining_time": 35.24521374
                      },
                      {
                        "iteration": 766,
                        "learn": [
                          0.005243992076
                        ],
                        "passed_time": 115.4670267,
                        "remaining_time": 35.07668478
                      },
                      {
                        "iteration": 767,
                        "learn": [
                          0.005242976474
                        ],
                        "passed_time": 115.6115004,
                        "remaining_time": 34.92430741
                      },
                      {
                        "iteration": 768,
                        "learn": [
                          0.00523709632
                        ],
                        "passed_time": 115.715232,
                        "remaining_time": 34.75971208
                      },
                      {
                        "iteration": 769,
                        "learn": [
                          0.005230969116
                        ],
                        "passed_time": 115.7922536,
                        "remaining_time": 34.58729654
                      },
                      {
                        "iteration": 770,
                        "learn": [
                          0.005229297718
                        ],
                        "passed_time": 115.8824797,
                        "remaining_time": 34.41905039
                      },
                      {
                        "iteration": 771,
                        "learn": [
                          0.005227681894
                        ],
                        "passed_time": 115.9822936,
                        "remaining_time": 34.25383799
                      },
                      {
                        "iteration": 772,
                        "learn": [
                          0.005221963462
                        ],
                        "passed_time": 116.0747879,
                        "remaining_time": 34.08664534
                      },
                      {
                        "iteration": 773,
                        "learn": [
                          0.005213468762
                        ],
                        "passed_time": 116.1682049,
                        "remaining_time": 33.91991511
                      },
                      {
                        "iteration": 774,
                        "learn": [
                          0.005210729667
                        ],
                        "passed_time": 116.2618975,
                        "remaining_time": 33.7534541
                      },
                      {
                        "iteration": 775,
                        "learn": [
                          0.005209848721
                        ],
                        "passed_time": 116.344084,
                        "remaining_time": 33.5838593
                      },
                      {
                        "iteration": 776,
                        "learn": [
                          0.005208759246
                        ],
                        "passed_time": 116.4365978,
                        "remaining_time": 33.41745341
                      },
                      {
                        "iteration": 777,
                        "learn": [
                          0.005203030822
                        ],
                        "passed_time": 116.5660751,
                        "remaining_time": 33.26178493
                      },
                      {
                        "iteration": 778,
                        "learn": [
                          0.005202747387
                        ],
                        "passed_time": 116.6790129,
                        "remaining_time": 33.10149148
                      },
                      {
                        "iteration": 779,
                        "learn": [
                          0.005188223768
                        ],
                        "passed_time": 116.7733938,
                        "remaining_time": 32.93608542
                      },
                      {
                        "iteration": 780,
                        "learn": [
                          0.005187687742
                        ],
                        "passed_time": 116.8687544,
                        "remaining_time": 32.77113601
                      },
                      {
                        "iteration": 781,
                        "learn": [
                          0.005169935373
                        ],
                        "passed_time": 116.9478498,
                        "remaining_time": 32.60183025
                      },
                      {
                        "iteration": 782,
                        "learn": [
                          0.005165142776
                        ],
                        "passed_time": 117.0563905,
                        "remaining_time": 32.44091537
                      },
                      {
                        "iteration": 783,
                        "learn": [
                          0.005162664477
                        ],
                        "passed_time": 117.139054,
                        "remaining_time": 32.27300468
                      },
                      {
                        "iteration": 784,
                        "learn": [
                          0.005157151428
                        ],
                        "passed_time": 117.2329402,
                        "remaining_time": 32.10838488
                      },
                      {
                        "iteration": 785,
                        "learn": [
                          0.005156910295
                        ],
                        "passed_time": 117.3437578,
                        "remaining_time": 31.94855491
                      },
                      {
                        "iteration": 786,
                        "learn": [
                          0.005149756269
                        ],
                        "passed_time": 117.4292621,
                        "remaining_time": 31.78199851
                      },
                      {
                        "iteration": 787,
                        "learn": [
                          0.005142748565
                        ],
                        "passed_time": 117.5250624,
                        "remaining_time": 31.6184178
                      },
                      {
                        "iteration": 788,
                        "learn": [
                          0.005139287153
                        ],
                        "passed_time": 117.6751213,
                        "remaining_time": 31.46951913
                      },
                      {
                        "iteration": 789,
                        "learn": [
                          0.005138419664
                        ],
                        "passed_time": 117.7569235,
                        "remaining_time": 31.30247334
                      },
                      {
                        "iteration": 790,
                        "learn": [
                          0.00513742233
                        ],
                        "passed_time": 117.8384246,
                        "remaining_time": 31.13556352
                      },
                      {
                        "iteration": 791,
                        "learn": [
                          0.005136477095
                        ],
                        "passed_time": 117.9330303,
                        "remaining_time": 30.972311
                      },
                      {
                        "iteration": 792,
                        "learn": [
                          0.005130259521
                        ],
                        "passed_time": 118.0276702,
                        "remaining_time": 30.80924053
                      },
                      {
                        "iteration": 793,
                        "learn": [
                          0.005129373805
                        ],
                        "passed_time": 118.1221916,
                        "remaining_time": 30.64631168
                      },
                      {
                        "iteration": 794,
                        "learn": [
                          0.005125354395
                        ],
                        "passed_time": 118.2073345,
                        "remaining_time": 30.48113657
                      },
                      {
                        "iteration": 795,
                        "learn": [
                          0.005123674472
                        ],
                        "passed_time": 118.2964742,
                        "remaining_time": 30.31718686
                      },
                      {
                        "iteration": 796,
                        "learn": [
                          0.005122077587
                        ],
                        "passed_time": 118.370918,
                        "remaining_time": 30.14968176
                      },
                      {
                        "iteration": 797,
                        "learn": [
                          0.005121273616
                        ],
                        "passed_time": 118.4594564,
                        "remaining_time": 29.98597768
                      },
                      {
                        "iteration": 798,
                        "learn": [
                          0.005107503246
                        ],
                        "passed_time": 118.5549553,
                        "remaining_time": 29.82421279
                      },
                      {
                        "iteration": 799,
                        "learn": [
                          0.005094466331
                        ],
                        "passed_time": 118.7182227,
                        "remaining_time": 29.67955569
                      },
                      {
                        "iteration": 800,
                        "learn": [
                          0.005093589464
                        ],
                        "passed_time": 118.8347062,
                        "remaining_time": 29.52322914
                      },
                      {
                        "iteration": 801,
                        "learn": [
                          0.00508813985
                        ],
                        "passed_time": 118.9447357,
                        "remaining_time": 29.36540856
                      },
                      {
                        "iteration": 802,
                        "learn": [
                          0.005082818967
                        ],
                        "passed_time": 119.0437699,
                        "remaining_time": 29.20500955
                      },
                      {
                        "iteration": 803,
                        "learn": [
                          0.00508108069
                        ],
                        "passed_time": 119.1549797,
                        "remaining_time": 29.04773137
                      },
                      {
                        "iteration": 804,
                        "learn": [
                          0.005079549153
                        ],
                        "passed_time": 119.2359872,
                        "remaining_time": 28.88325156
                      },
                      {
                        "iteration": 805,
                        "learn": [
                          0.005079337302
                        ],
                        "passed_time": 119.3408059,
                        "remaining_time": 28.7247101
                      },
                      {
                        "iteration": 806,
                        "learn": [
                          0.005077869454
                        ],
                        "passed_time": 119.4427057,
                        "remaining_time": 28.56560371
                      },
                      {
                        "iteration": 807,
                        "learn": [
                          0.005072786441
                        ],
                        "passed_time": 119.5418718,
                        "remaining_time": 28.40598935
                      },
                      {
                        "iteration": 808,
                        "learn": [
                          0.005070211293
                        ],
                        "passed_time": 119.6181814,
                        "remaining_time": 28.24112812
                      },
                      {
                        "iteration": 809,
                        "learn": [
                          0.005069941285
                        ],
                        "passed_time": 119.7755383,
                        "remaining_time": 28.09549664
                      },
                      {
                        "iteration": 810,
                        "learn": [
                          0.00506621238
                        ],
                        "passed_time": 119.8731972,
                        "remaining_time": 27.93592387
                      },
                      {
                        "iteration": 811,
                        "learn": [
                          0.005063172092
                        ],
                        "passed_time": 119.9516342,
                        "remaining_time": 27.77205324
                      },
                      {
                        "iteration": 812,
                        "learn": [
                          0.005062713966
                        ],
                        "passed_time": 120.0310176,
                        "remaining_time": 27.60861045
                      },
                      {
                        "iteration": 813,
                        "learn": [
                          0.005061633979
                        ],
                        "passed_time": 120.1178069,
                        "remaining_time": 27.44706643
                      },
                      {
                        "iteration": 814,
                        "learn": [
                          0.005061128691
                        ],
                        "passed_time": 120.2025582,
                        "remaining_time": 27.28524327
                      },
                      {
                        "iteration": 815,
                        "learn": [
                          0.00505440439
                        ],
                        "passed_time": 120.3007341,
                        "remaining_time": 27.12663613
                      },
                      {
                        "iteration": 816,
                        "learn": [
                          0.005048450322
                        ],
                        "passed_time": 120.4013933,
                        "remaining_time": 26.96873314
                      },
                      {
                        "iteration": 817,
                        "learn": [
                          0.005048174538
                        ],
                        "passed_time": 120.4811116,
                        "remaining_time": 26.80631089
                      },
                      {
                        "iteration": 818,
                        "learn": [
                          0.005047362934
                        ],
                        "passed_time": 120.5787246,
                        "remaining_time": 26.64804537
                      },
                      {
                        "iteration": 819,
                        "learn": [
                          0.005047123397
                        ],
                        "passed_time": 120.6673489,
                        "remaining_time": 26.48795463
                      },
                      {
                        "iteration": 820,
                        "learn": [
                          0.005043061968
                        ],
                        "passed_time": 120.8329418,
                        "remaining_time": 26.34481922
                      },
                      {
                        "iteration": 821,
                        "learn": [
                          0.00503523301
                        ],
                        "passed_time": 120.9227801,
                        "remaining_time": 26.18522489
                      },
                      {
                        "iteration": 822,
                        "learn": [
                          0.005028919465
                        ],
                        "passed_time": 121.0185706,
                        "remaining_time": 26.02708018
                      },
                      {
                        "iteration": 823,
                        "learn": [
                          0.005027431614
                        ],
                        "passed_time": 121.1087502,
                        "remaining_time": 25.86788839
                      },
                      {
                        "iteration": 824,
                        "learn": [
                          0.005027197
                        ],
                        "passed_time": 121.1970194,
                        "remaining_time": 25.70845866
                      },
                      {
                        "iteration": 825,
                        "learn": [
                          0.005026425428
                        ],
                        "passed_time": 121.2859769,
                        "remaining_time": 25.54934622
                      },
                      {
                        "iteration": 826,
                        "learn": [
                          0.005025690649
                        ],
                        "passed_time": 121.3840968,
                        "remaining_time": 25.39232012
                      },
                      {
                        "iteration": 827,
                        "learn": [
                          0.005025141714
                        ],
                        "passed_time": 121.4564089,
                        "remaining_time": 25.23007529
                      },
                      {
                        "iteration": 828,
                        "learn": [
                          0.005019926626
                        ],
                        "passed_time": 121.5439292,
                        "remaining_time": 25.07118443
                      },
                      {
                        "iteration": 829,
                        "learn": [
                          0.005005540323
                        ],
                        "passed_time": 121.6425764,
                        "remaining_time": 24.91474456
                      },
                      {
                        "iteration": 830,
                        "learn": [
                          0.005004147872
                        ],
                        "passed_time": 121.7604009,
                        "remaining_time": 24.76234387
                      },
                      {
                        "iteration": 831,
                        "learn": [
                          0.004999611226
                        ],
                        "passed_time": 121.8977481,
                        "remaining_time": 24.61396836
                      },
                      {
                        "iteration": 832,
                        "learn": [
                          0.004994490242
                        ],
                        "passed_time": 122.0123856,
                        "remaining_time": 24.4610665
                      },
                      {
                        "iteration": 833,
                        "learn": [
                          0.004988630247
                        ],
                        "passed_time": 122.1077273,
                        "remaining_time": 24.30441575
                      },
                      {
                        "iteration": 834,
                        "learn": [
                          0.004980118381
                        ],
                        "passed_time": 122.2001847,
                        "remaining_time": 24.14734189
                      },
                      {
                        "iteration": 835,
                        "learn": [
                          0.004975019989
                        ],
                        "passed_time": 122.2948558,
                        "remaining_time": 23.99085687
                      },
                      {
                        "iteration": 836,
                        "learn": [
                          0.004968522204
                        ],
                        "passed_time": 122.3883273,
                        "remaining_time": 23.83428596
                      },
                      {
                        "iteration": 837,
                        "learn": [
                          0.004967156031
                        ],
                        "passed_time": 122.4679738,
                        "remaining_time": 23.67519302
                      },
                      {
                        "iteration": 838,
                        "learn": [
                          0.004966848852
                        ],
                        "passed_time": 122.5448448,
                        "remaining_time": 23.51575686
                      },
                      {
                        "iteration": 839,
                        "learn": [
                          0.00495680596
                        ],
                        "passed_time": 122.6435468,
                        "remaining_time": 23.36067558
                      },
                      {
                        "iteration": 840,
                        "learn": [
                          0.004956104161
                        ],
                        "passed_time": 122.7390292,
                        "remaining_time": 23.20511968
                      },
                      {
                        "iteration": 841,
                        "learn": [
                          0.004950104521
                        ],
                        "passed_time": 122.8966768,
                        "remaining_time": 23.06137166
                      },
                      {
                        "iteration": 842,
                        "learn": [
                          0.004945149669
                        ],
                        "passed_time": 122.9985515,
                        "remaining_time": 22.90720354
                      },
                      {
                        "iteration": 843,
                        "learn": [
                          0.004944561255
                        ],
                        "passed_time": 123.0887856,
                        "remaining_time": 22.75100777
                      },
                      {
                        "iteration": 844,
                        "learn": [
                          0.004938637667
                        ],
                        "passed_time": 123.1897123,
                        "remaining_time": 22.59692948
                      },
                      {
                        "iteration": 845,
                        "learn": [
                          0.004923251062
                        ],
                        "passed_time": 123.2674624,
                        "remaining_time": 22.43875792
                      },
                      {
                        "iteration": 846,
                        "learn": [
                          0.004916195914
                        ],
                        "passed_time": 123.3629628,
                        "remaining_time": 22.28398266
                      },
                      {
                        "iteration": 847,
                        "learn": [
                          0.004908930422
                        ],
                        "passed_time": 123.4912907,
                        "remaining_time": 22.13523135
                      },
                      {
                        "iteration": 848,
                        "learn": [
                          0.004902600424
                        ],
                        "passed_time": 123.5790992,
                        "remaining_time": 21.97932154
                      },
                      {
                        "iteration": 849,
                        "learn": [
                          0.004899042368
                        ],
                        "passed_time": 123.6742581,
                        "remaining_time": 21.82486907
                      },
                      {
                        "iteration": 850,
                        "learn": [
                          0.004898682951
                        ],
                        "passed_time": 123.7540668,
                        "remaining_time": 21.66786834
                      },
                      {
                        "iteration": 851,
                        "learn": [
                          0.004898180112
                        ],
                        "passed_time": 123.8367789,
                        "remaining_time": 21.51155314
                      },
                      {
                        "iteration": 852,
                        "learn": [
                          0.004897625586
                        ],
                        "passed_time": 123.9708139,
                        "remaining_time": 21.36425515
                      },
                      {
                        "iteration": 853,
                        "learn": [
                          0.004883343153
                        ],
                        "passed_time": 124.0628003,
                        "remaining_time": 21.20979959
                      },
                      {
                        "iteration": 854,
                        "learn": [
                          0.004882810783
                        ],
                        "passed_time": 124.1519402,
                        "remaining_time": 21.0550074
                      },
                      {
                        "iteration": 855,
                        "learn": [
                          0.004882301011
                        ],
                        "passed_time": 124.2427415,
                        "remaining_time": 20.90064811
                      },
                      {
                        "iteration": 856,
                        "learn": [
                          0.004882006935
                        ],
                        "passed_time": 124.3254255,
                        "remaining_time": 20.74508268
                      },
                      {
                        "iteration": 857,
                        "learn": [
                          0.004880080874
                        ],
                        "passed_time": 124.4149069,
                        "remaining_time": 20.5908121
                      },
                      {
                        "iteration": 858,
                        "learn": [
                          0.004874975377
                        ],
                        "passed_time": 124.5157342,
                        "remaining_time": 20.43855474
                      },
                      {
                        "iteration": 859,
                        "learn": [
                          0.004872921747
                        ],
                        "passed_time": 124.6090101,
                        "remaining_time": 20.28518769
                      },
                      {
                        "iteration": 860,
                        "learn": [
                          0.00486000658
                        ],
                        "passed_time": 124.7013724,
                        "remaining_time": 20.13181273
                      },
                      {
                        "iteration": 861,
                        "learn": [
                          0.004848702011
                        ],
                        "passed_time": 124.8106466,
                        "remaining_time": 19.9812868
                      },
                      {
                        "iteration": 862,
                        "learn": [
                          0.004844954518
                        ],
                        "passed_time": 124.9667868,
                        "remaining_time": 19.8382964
                      },
                      {
                        "iteration": 863,
                        "learn": [
                          0.004841562055
                        ],
                        "passed_time": 125.0779672,
                        "remaining_time": 19.68819853
                      },
                      {
                        "iteration": 864,
                        "learn": [
                          0.004840751592
                        ],
                        "passed_time": 125.1660931,
                        "remaining_time": 19.53459256
                      },
                      {
                        "iteration": 865,
                        "learn": [
                          0.004840452269
                        ],
                        "passed_time": 125.2461107,
                        "remaining_time": 19.37988319
                      },
                      {
                        "iteration": 866,
                        "learn": [
                          0.004840164576
                        ],
                        "passed_time": 125.3293241,
                        "remaining_time": 19.22583634
                      },
                      {
                        "iteration": 867,
                        "learn": [
                          0.004839673673
                        ],
                        "passed_time": 125.4290807,
                        "remaining_time": 19.07446849
                      },
                      {
                        "iteration": 868,
                        "learn": [
                          0.004839203267
                        ],
                        "passed_time": 125.5147203,
                        "remaining_time": 18.92109132
                      },
                      {
                        "iteration": 869,
                        "learn": [
                          0.004838461547
                        ],
                        "passed_time": 125.6157982,
                        "remaining_time": 18.77017674
                      },
                      {
                        "iteration": 870,
                        "learn": [
                          0.004836709906
                        ],
                        "passed_time": 125.7071831,
                        "remaining_time": 18.61794101
                      },
                      {
                        "iteration": 871,
                        "learn": [
                          0.004836023693
                        ],
                        "passed_time": 125.7902341,
                        "remaining_time": 18.46462152
                      },
                      {
                        "iteration": 872,
                        "learn": [
                          0.004831606619
                        ],
                        "passed_time": 126.0980895,
                        "remaining_time": 18.34416651
                      },
                      {
                        "iteration": 873,
                        "learn": [
                          0.004831175373
                        ],
                        "passed_time": 126.191363,
                        "remaining_time": 18.19234752
                      },
                      {
                        "iteration": 874,
                        "learn": [
                          0.004830761952
                        ],
                        "passed_time": 126.2786514,
                        "remaining_time": 18.03980734
                      },
                      {
                        "iteration": 875,
                        "learn": [
                          0.004826625106
                        ],
                        "passed_time": 126.3841711,
                        "remaining_time": 17.88999683
                      },
                      {
                        "iteration": 876,
                        "learn": [
                          0.004821941321
                        ],
                        "passed_time": 126.4705174,
                        "remaining_time": 17.73759822
                      },
                      {
                        "iteration": 877,
                        "learn": [
                          0.004819780515
                        ],
                        "passed_time": 126.5505073,
                        "remaining_time": 17.58446685
                      },
                      {
                        "iteration": 878,
                        "learn": [
                          0.004817028468
                        ],
                        "passed_time": 126.6524618,
                        "remaining_time": 17.43452545
                      },
                      {
                        "iteration": 879,
                        "learn": [
                          0.00481659876
                        ],
                        "passed_time": 126.7406523,
                        "remaining_time": 17.28281623
                      },
                      {
                        "iteration": 880,
                        "learn": [
                          0.004810504169
                        ],
                        "passed_time": 126.8288122,
                        "remaining_time": 17.13124705
                      },
                      {
                        "iteration": 881,
                        "learn": [
                          0.004809399868
                        ],
                        "passed_time": 126.9216214,
                        "remaining_time": 16.98044368
                      },
                      {
                        "iteration": 882,
                        "learn": [
                          0.004806426451
                        ],
                        "passed_time": 127.0255177,
                        "remaining_time": 16.83124074
                      },
                      {
                        "iteration": 883,
                        "learn": [
                          0.004804298838
                        ],
                        "passed_time": 127.1728503,
                        "remaining_time": 16.68784008
                      },
                      {
                        "iteration": 884,
                        "learn": [
                          0.004801317853
                        ],
                        "passed_time": 127.2738681,
                        "remaining_time": 16.53841224
                      },
                      {
                        "iteration": 885,
                        "learn": [
                          0.004788420721
                        ],
                        "passed_time": 127.3656608,
                        "remaining_time": 16.3879067
                      },
                      {
                        "iteration": 886,
                        "learn": [
                          0.004788045472
                        ],
                        "passed_time": 127.4749061,
                        "remaining_time": 16.23975693
                      },
                      {
                        "iteration": 887,
                        "learn": [
                          0.004787775881
                        ],
                        "passed_time": 127.5535054,
                        "remaining_time": 16.08782951
                      },
                      {
                        "iteration": 888,
                        "learn": [
                          0.004785808851
                        ],
                        "passed_time": 127.6456161,
                        "remaining_time": 15.93775409
                      },
                      {
                        "iteration": 889,
                        "learn": [
                          0.00478545255
                        ],
                        "passed_time": 127.7361338,
                        "remaining_time": 15.78761205
                      },
                      {
                        "iteration": 890,
                        "learn": [
                          0.004781123272
                        ],
                        "passed_time": 127.8203292,
                        "remaining_time": 15.6368304
                      },
                      {
                        "iteration": 891,
                        "learn": [
                          0.004780751962
                        ],
                        "passed_time": 127.9062023,
                        "remaining_time": 15.48640118
                      },
                      {
                        "iteration": 892,
                        "learn": [
                          0.004780259355
                        ],
                        "passed_time": 128.0204103,
                        "remaining_time": 15.33951165
                      },
                      {
                        "iteration": 893,
                        "learn": [
                          0.00477367754
                        ],
                        "passed_time": 128.1258694,
                        "remaining_time": 15.19165789
                      },
                      {
                        "iteration": 894,
                        "learn": [
                          0.0047706145
                        ],
                        "passed_time": 128.26027,
                        "remaining_time": 15.04729425
                      },
                      {
                        "iteration": 895,
                        "learn": [
                          0.004770140855
                        ],
                        "passed_time": 128.3407707,
                        "remaining_time": 14.8966966
                      },
                      {
                        "iteration": 896,
                        "learn": [
                          0.004769596219
                        ],
                        "passed_time": 128.4351241,
                        "remaining_time": 14.74784591
                      },
                      {
                        "iteration": 897,
                        "learn": [
                          0.00476914449
                        ],
                        "passed_time": 128.5175122,
                        "remaining_time": 14.59775751
                      },
                      {
                        "iteration": 898,
                        "learn": [
                          0.004768117625
                        ],
                        "passed_time": 128.6029346,
                        "remaining_time": 14.44816061
                      },
                      {
                        "iteration": 899,
                        "learn": [
                          0.004767772268
                        ],
                        "passed_time": 128.6867069,
                        "remaining_time": 14.29852299
                      },
                      {
                        "iteration": 900,
                        "learn": [
                          0.004755944248
                        ],
                        "passed_time": 128.7863297,
                        "remaining_time": 14.15077319
                      },
                      {
                        "iteration": 901,
                        "learn": [
                          0.004753951591
                        ],
                        "passed_time": 128.8846314,
                        "remaining_time": 14.00298656
                      },
                      {
                        "iteration": 902,
                        "learn": [
                          0.004753726407
                        ],
                        "passed_time": 128.9789494,
                        "remaining_time": 13.8548816
                      },
                      {
                        "iteration": 903,
                        "learn": [
                          0.004751947367
                        ],
                        "passed_time": 129.089575,
                        "remaining_time": 13.70862744
                      },
                      {
                        "iteration": 904,
                        "learn": [
                          0.004744975519
                        ],
                        "passed_time": 129.2300387,
                        "remaining_time": 13.56558417
                      },
                      {
                        "iteration": 905,
                        "learn": [
                          0.004741997921
                        ],
                        "passed_time": 129.3395234,
                        "remaining_time": 13.41933244
                      },
                      {
                        "iteration": 906,
                        "learn": [
                          0.004740210287
                        ],
                        "passed_time": 129.4297995,
                        "remaining_time": 13.27119223
                      },
                      {
                        "iteration": 907,
                        "learn": [
                          0.00473581591
                        ],
                        "passed_time": 129.5163318,
                        "remaining_time": 13.12280014
                      },
                      {
                        "iteration": 908,
                        "learn": [
                          0.004735592828
                        ],
                        "passed_time": 129.6014984,
                        "remaining_time": 12.97440743
                      },
                      {
                        "iteration": 909,
                        "learn": [
                          0.004735180817
                        ],
                        "passed_time": 129.6907333,
                        "remaining_time": 12.82655604
                      },
                      {
                        "iteration": 910,
                        "learn": [
                          0.004732834606
                        ],
                        "passed_time": 129.7766072,
                        "remaining_time": 12.67850499
                      },
                      {
                        "iteration": 911,
                        "learn": [
                          0.004732446248
                        ],
                        "passed_time": 129.8719908,
                        "remaining_time": 12.53150789
                      },
                      {
                        "iteration": 912,
                        "learn": [
                          0.004728329928
                        ],
                        "passed_time": 129.9700175,
                        "remaining_time": 12.38487571
                      },
                      {
                        "iteration": 913,
                        "learn": [
                          0.004726830537
                        ],
                        "passed_time": 130.0631258,
                        "remaining_time": 12.23788711
                      },
                      {
                        "iteration": 914,
                        "learn": [
                          0.004726610194
                        ],
                        "passed_time": 130.1451689,
                        "remaining_time": 12.08998837
                      },
                      {
                        "iteration": 915,
                        "learn": [
                          0.004724942947
                        ],
                        "passed_time": 130.2922187,
                        "remaining_time": 11.94819473
                      },
                      {
                        "iteration": 916,
                        "learn": [
                          0.004723655578
                        ],
                        "passed_time": 130.3859459,
                        "remaining_time": 11.80156326
                      },
                      {
                        "iteration": 917,
                        "learn": [
                          0.004719788216
                        ],
                        "passed_time": 130.4825411,
                        "remaining_time": 11.65530323
                      },
                      {
                        "iteration": 918,
                        "learn": [
                          0.00471622105
                        ],
                        "passed_time": 130.5688834,
                        "remaining_time": 11.50824761
                      },
                      {
                        "iteration": 919,
                        "learn": [
                          0.004711774745
                        ],
                        "passed_time": 130.6710034,
                        "remaining_time": 11.36269594
                      },
                      {
                        "iteration": 920,
                        "learn": [
                          0.004705293408
                        ],
                        "passed_time": 130.778013,
                        "remaining_time": 11.21765801
                      },
                      {
                        "iteration": 921,
                        "learn": [
                          0.004704317997
                        ],
                        "passed_time": 130.8688886,
                        "remaining_time": 11.07133765
                      },
                      {
                        "iteration": 922,
                        "learn": [
                          0.004704035552
                        ],
                        "passed_time": 130.960268,
                        "remaining_time": 10.92517945
                      },
                      {
                        "iteration": 923,
                        "learn": [
                          0.004699255616
                        ],
                        "passed_time": 131.0724767,
                        "remaining_time": 10.78085306
                      },
                      {
                        "iteration": 924,
                        "learn": [
                          0.004697671106
                        ],
                        "passed_time": 131.1588581,
                        "remaining_time": 10.63450201
                      },
                      {
                        "iteration": 925,
                        "learn": [
                          0.004696530373
                        ],
                        "passed_time": 131.2831554,
                        "remaining_time": 10.49131047
                      },
                      {
                        "iteration": 926,
                        "learn": [
                          0.004696260378
                        ],
                        "passed_time": 131.3927106,
                        "remaining_time": 10.34699878
                      },
                      {
                        "iteration": 927,
                        "learn": [
                          0.004692744492
                        ],
                        "passed_time": 131.491768,
                        "remaining_time": 10.20194751
                      },
                      {
                        "iteration": 928,
                        "learn": [
                          0.004690586109
                        ],
                        "passed_time": 131.5808266,
                        "remaining_time": 10.05623109
                      },
                      {
                        "iteration": 929,
                        "learn": [
                          0.004685691951
                        ],
                        "passed_time": 131.674609,
                        "remaining_time": 9.910992078
                      },
                      {
                        "iteration": 930,
                        "learn": [
                          0.004675945442
                        ],
                        "passed_time": 131.7693729,
                        "remaining_time": 9.76593634
                      },
                      {
                        "iteration": 931,
                        "learn": [
                          0.004674726448
                        ],
                        "passed_time": 131.8684505,
                        "remaining_time": 9.621303252
                      },
                      {
                        "iteration": 932,
                        "learn": [
                          0.004670304402
                        ],
                        "passed_time": 131.9612828,
                        "remaining_time": 9.476319344
                      },
                      {
                        "iteration": 933,
                        "learn": [
                          0.004669790072
                        ],
                        "passed_time": 132.0516523,
                        "remaining_time": 9.331273076
                      },
                      {
                        "iteration": 934,
                        "learn": [
                          0.004668178861
                        ],
                        "passed_time": 132.1659618,
                        "remaining_time": 9.188008042
                      },
                      {
                        "iteration": 935,
                        "learn": [
                          0.004658019115
                        ],
                        "passed_time": 132.2680628,
                        "remaining_time": 9.043970109
                      },
                      {
                        "iteration": 936,
                        "learn": [
                          0.004655839652
                        ],
                        "passed_time": 132.4162518,
                        "remaining_time": 8.903120454
                      },
                      {
                        "iteration": 937,
                        "learn": [
                          0.004654266061
                        ],
                        "passed_time": 132.5018992,
                        "remaining_time": 8.758121268
                      },
                      {
                        "iteration": 938,
                        "learn": [
                          0.004652095752
                        ],
                        "passed_time": 132.5787767,
                        "remaining_time": 8.612678787
                      },
                      {
                        "iteration": 939,
                        "learn": [
                          0.004650406239
                        ],
                        "passed_time": 132.6396935,
                        "remaining_time": 8.466363415
                      },
                      {
                        "iteration": 940,
                        "learn": [
                          0.004640625144
                        ],
                        "passed_time": 132.7356487,
                        "remaining_time": 8.322426434
                      },
                      {
                        "iteration": 941,
                        "learn": [
                          0.004639718171
                        ],
                        "passed_time": 132.8281459,
                        "remaining_time": 8.17837841
                      },
                      {
                        "iteration": 942,
                        "learn": [
                          0.004639273275
                        ],
                        "passed_time": 132.9228416,
                        "remaining_time": 8.03457261
                      },
                      {
                        "iteration": 943,
                        "learn": [
                          0.004629848031
                        ],
                        "passed_time": 133.026486,
                        "remaining_time": 7.891401711
                      },
                      {
                        "iteration": 944,
                        "learn": [
                          0.004628571929
                        ],
                        "passed_time": 133.1420311,
                        "remaining_time": 7.749007099
                      },
                      {
                        "iteration": 945,
                        "learn": [
                          0.004624581328
                        ],
                        "passed_time": 133.2303642,
                        "remaining_time": 7.605115929
                      },
                      {
                        "iteration": 946,
                        "learn": [
                          0.004623304071
                        ],
                        "passed_time": 133.3294671,
                        "remaining_time": 7.461944834
                      },
                      {
                        "iteration": 947,
                        "learn": [
                          0.00462034339
                        ],
                        "passed_time": 133.4704568,
                        "remaining_time": 7.3211643
                      },
                      {
                        "iteration": 948,
                        "learn": [
                          0.004618214991
                        ],
                        "passed_time": 133.6019228,
                        "remaining_time": 7.179871511
                      },
                      {
                        "iteration": 949,
                        "learn": [
                          0.004615397333
                        ],
                        "passed_time": 133.6813529,
                        "remaining_time": 7.035860677
                      },
                      {
                        "iteration": 950,
                        "learn": [
                          0.004613982711
                        ],
                        "passed_time": 133.7720925,
                        "remaining_time": 6.892568385
                      },
                      {
                        "iteration": 951,
                        "learn": [
                          0.004605410436
                        ],
                        "passed_time": 133.8694396,
                        "remaining_time": 6.749719646
                      },
                      {
                        "iteration": 952,
                        "learn": [
                          0.004591829506
                        ],
                        "passed_time": 133.9695456,
                        "remaining_time": 6.607102461
                      },
                      {
                        "iteration": 953,
                        "learn": [
                          0.004577715467
                        ],
                        "passed_time": 134.0697068,
                        "remaining_time": 6.464577058
                      },
                      {
                        "iteration": 954,
                        "learn": [
                          0.004572784248
                        ],
                        "passed_time": 134.1646934,
                        "remaining_time": 6.321896548
                      },
                      {
                        "iteration": 955,
                        "learn": [
                          0.004569842748
                        ],
                        "passed_time": 134.2502659,
                        "remaining_time": 6.178882533
                      },
                      {
                        "iteration": 956,
                        "learn": [
                          0.004563158661
                        ],
                        "passed_time": 134.3437806,
                        "remaining_time": 6.036345419
                      },
                      {
                        "iteration": 957,
                        "learn": [
                          0.004559622639
                        ],
                        "passed_time": 134.4822326,
                        "remaining_time": 5.895880763
                      },
                      {
                        "iteration": 958,
                        "learn": [
                          0.004558536532
                        ],
                        "passed_time": 134.5833428,
                        "remaining_time": 5.753823831
                      },
                      {
                        "iteration": 959,
                        "learn": [
                          0.004557382309
                        ],
                        "passed_time": 134.6791327,
                        "remaining_time": 5.611630528
                      },
                      {
                        "iteration": 960,
                        "learn": [
                          0.004554837825
                        ],
                        "passed_time": 134.7712194,
                        "remaining_time": 5.469383514
                      },
                      {
                        "iteration": 961,
                        "learn": [
                          0.004552416884
                        ],
                        "passed_time": 134.8242386,
                        "remaining_time": 5.325697576
                      },
                      {
                        "iteration": 962,
                        "learn": [
                          0.004550984614
                        ],
                        "passed_time": 134.9166986,
                        "remaining_time": 5.183715316
                      },
                      {
                        "iteration": 963,
                        "learn": [
                          0.004545092632
                        ],
                        "passed_time": 135.015178,
                        "remaining_time": 5.042060588
                      },
                      {
                        "iteration": 964,
                        "learn": [
                          0.004541442843
                        ],
                        "passed_time": 135.1068708,
                        "remaining_time": 4.900249198
                      },
                      {
                        "iteration": 965,
                        "learn": [
                          0.00453797781
                        ],
                        "passed_time": 135.2294326,
                        "remaining_time": 4.759628061
                      },
                      {
                        "iteration": 966,
                        "learn": [
                          0.004537826598
                        ],
                        "passed_time": 135.3163479,
                        "remaining_time": 4.617827798
                      },
                      {
                        "iteration": 967,
                        "learn": [
                          0.004535205049
                        ],
                        "passed_time": 135.3860365,
                        "remaining_time": 4.475571455
                      },
                      {
                        "iteration": 968,
                        "learn": [
                          0.004533771673
                        ],
                        "passed_time": 135.5244275,
                        "remaining_time": 4.335662799
                      },
                      {
                        "iteration": 969,
                        "learn": [
                          0.00453148549
                        ],
                        "passed_time": 135.6150363,
                        "remaining_time": 4.194279472
                      },
                      {
                        "iteration": 970,
                        "learn": [
                          0.00452788433
                        ],
                        "passed_time": 135.7168166,
                        "remaining_time": 4.05333438
                      },
                      {
                        "iteration": 971,
                        "learn": [
                          0.004525039318
                        ],
                        "passed_time": 135.8210064,
                        "remaining_time": 3.91253928
                      },
                      {
                        "iteration": 972,
                        "learn": [
                          0.004522683058
                        ],
                        "passed_time": 135.8930854,
                        "remaining_time": 3.770928372
                      },
                      {
                        "iteration": 973,
                        "learn": [
                          0.004520697882
                        ],
                        "passed_time": 136.0001817,
                        "remaining_time": 3.630394993
                      },
                      {
                        "iteration": 974,
                        "learn": [
                          0.004514545776
                        ],
                        "passed_time": 136.104563,
                        "remaining_time": 3.48986059
                      },
                      {
                        "iteration": 975,
                        "learn": [
                          0.004502744493
                        ],
                        "passed_time": 136.2212974,
                        "remaining_time": 3.349704035
                      },
                      {
                        "iteration": 976,
                        "learn": [
                          0.00450082698
                        ],
                        "passed_time": 136.3205517,
                        "remaining_time": 3.209183918
                      },
                      {
                        "iteration": 977,
                        "learn": [
                          0.004499764568
                        ],
                        "passed_time": 136.4128505,
                        "remaining_time": 3.068591729
                      },
                      {
                        "iteration": 978,
                        "learn": [
                          0.004497601646
                        ],
                        "passed_time": 136.4933869,
                        "remaining_time": 2.927845889
                      },
                      {
                        "iteration": 979,
                        "learn": [
                          0.004495408055
                        ],
                        "passed_time": 136.6334305,
                        "remaining_time": 2.788437357
                      },
                      {
                        "iteration": 980,
                        "learn": [
                          0.004493945431
                        ],
                        "passed_time": 136.9347102,
                        "remaining_time": 2.65215035
                      },
                      {
                        "iteration": 981,
                        "learn": [
                          0.004491882465
                        ],
                        "passed_time": 137.2108052,
                        "remaining_time": 2.515065676
                      },
                      {
                        "iteration": 982,
                        "learn": [
                          0.004487272349
                        ],
                        "passed_time": 137.4555091,
                        "remaining_time": 2.377155294
                      },
                      {
                        "iteration": 983,
                        "learn": [
                          0.004484015307
                        ],
                        "passed_time": 137.7438322,
                        "remaining_time": 2.239737109
                      },
                      {
                        "iteration": 984,
                        "learn": [
                          0.004480952659
                        ],
                        "passed_time": 137.8799932,
                        "remaining_time": 2.099695327
                      },
                      {
                        "iteration": 985,
                        "learn": [
                          0.004478676373
                        ],
                        "passed_time": 137.9600811,
                        "remaining_time": 1.958865249
                      },
                      {
                        "iteration": 986,
                        "learn": [
                          0.004476030602
                        ],
                        "passed_time": 138.0597318,
                        "remaining_time": 1.818415921
                      },
                      {
                        "iteration": 987,
                        "learn": [
                          0.004474581448
                        ],
                        "passed_time": 138.1293862,
                        "remaining_time": 1.677684853
                      },
                      {
                        "iteration": 988,
                        "learn": [
                          0.004469509959
                        ],
                        "passed_time": 138.2484777,
                        "remaining_time": 1.537647376
                      },
                      {
                        "iteration": 989,
                        "learn": [
                          0.004463336157
                        ],
                        "passed_time": 138.3395567,
                        "remaining_time": 1.397369259
                      },
                      {
                        "iteration": 990,
                        "learn": [
                          0.004461211621
                        ],
                        "passed_time": 138.4210731,
                        "remaining_time": 1.25710359
                      },
                      {
                        "iteration": 991,
                        "learn": [
                          0.004455739496
                        ],
                        "passed_time": 138.5134974,
                        "remaining_time": 1.117044334
                      },
                      {
                        "iteration": 992,
                        "learn": [
                          0.004450405022
                        ],
                        "passed_time": 138.6053287,
                        "remaining_time": 0.9770768387
                      },
                      {
                        "iteration": 993,
                        "learn": [
                          0.004447345355
                        ],
                        "passed_time": 138.6826551,
                        "remaining_time": 0.8371186422
                      },
                      {
                        "iteration": 994,
                        "learn": [
                          0.004446430975
                        ],
                        "passed_time": 138.8234613,
                        "remaining_time": 0.697605333
                      },
                      {
                        "iteration": 995,
                        "learn": [
                          0.004441637032
                        ],
                        "passed_time": 138.9204332,
                        "remaining_time": 0.5579133863
                      },
                      {
                        "iteration": 996,
                        "learn": [
                          0.004440765335
                        ],
                        "passed_time": 139.0213628,
                        "remaining_time": 0.4183190457
                      },
                      {
                        "iteration": 997,
                        "learn": [
                          0.004439391363
                        ],
                        "passed_time": 139.1250114,
                        "remaining_time": 0.278807638
                      },
                      {
                        "iteration": 998,
                        "learn": [
                          0.004435324062
                        ],
                        "passed_time": 139.2192788,
                        "remaining_time": 0.1393586375
                      },
                      {
                        "iteration": 999,
                        "learn": [
                          0.004428688154
                        ],
                        "passed_time": 139.3242017,
                        "remaining_time": 0
                      }
                    ],
                    "meta": {
                      "iteration_count": 1000,
                      "launch_mode": "Train",
                      "learn_metrics": [
                        {
                          "best_value": "Min",
                          "name": "Logloss"
                        }
                      ],
                      "learn_sets": [
                        "learn"
                      ],
                      "name": "experiment",
                      "parameters": "",
                      "test_metrics": [],
                      "test_sets": []
                    }
                  },
                  "passed_iterations": 999,
                  "total_iterations": 1000
                },
                "name": "catboost_info",
                "path": "catboost_info"
              }
            },
            "layout": "IPY_MODEL_57c516ce543a49b08794b48f7afda144"
          }
        }
      }
    }
  },
  "nbformat": 4,
  "nbformat_minor": 0
}