{
  "nbformat": 4,
  "nbformat_minor": 0,
  "metadata": {
    "colab": {
      "name": "Tempe_Traffic_Prototype_Feature_Engineering_Model_V1.ipynb",
      "provenance": [],
      "collapsed_sections": [
        "5-YNgcEERsz4",
        "FrsVnlTZJjP0",
        "tjdozuCTJtpE",
        "nvGeUytxJ15_",
        "ugyvsykT4OJ6"
      ],
      "authorship_tag": "ABX9TyP72f4NrIiDCIJvrpj85bk2",
      "include_colab_link": true
    },
    "kernelspec": {
      "name": "python3",
      "display_name": "Python 3"
    },
    "language_info": {
      "name": "python"
    }
  },
  "cells": [
    {
      "cell_type": "markdown",
      "metadata": {
        "id": "view-in-github",
        "colab_type": "text"
      },
      "source": [
        "<a href=\"https://colab.research.google.com/github/noahruiz416/Tempe_Traffic_Classification/blob/main/Tempe_Traffic_Prototype_Feature_Engineering_Model_V1.ipynb\" target=\"_parent\"><img src=\"https://colab.research.google.com/assets/colab-badge.svg\" alt=\"Open In Colab\"/></a>"
      ]
    },
    {
      "cell_type": "markdown",
      "source": [
        "# This notebook will contain the initial feature engineering approaches that will be used. Decisions to transform or change certain varaibles will be explained"
      ],
      "metadata": {
        "id": "MNdh2WexOdio"
      }
    },
    {
      "cell_type": "code",
      "execution_count": 24,
      "metadata": {
        "id": "5IotTcbuOSf8"
      },
      "outputs": [],
      "source": [
        "import pandas as pd\n",
        "import numpy as np "
      ]
    },
    {
      "cell_type": "code",
      "source": [
        "df = pd.read_csv(\"traffic_data.2.csv\")"
      ],
      "metadata": {
        "id": "BJHtOumgOcbJ"
      },
      "execution_count": 25,
      "outputs": []
    },
    {
      "cell_type": "markdown",
      "source": [
        "#### Based on Exploratory Analysis, I plan on combining certain features that are very similar. Additionally I may exclude certain variables as well. More in depth reasoning will be included in final report."
      ],
      "metadata": {
        "id": "5-YNgcEERsz4"
      }
    },
    {
      "cell_type": "code",
      "source": [
        "from sklearn.pipeline import Pipeline\n",
        "from sklearn.model_selection import train_test_split\n",
        "from sklearn.model_selection import StratifiedKFold\n",
        "from sklearn.linear_model import LogisticRegressionCV\n",
        "from sklearn.ensemble import RandomForestClassifier\n",
        "from sklearn.svm import SVC"
      ],
      "metadata": {
        "id": "Wi97HV4HS0Fb"
      },
      "execution_count": 26,
      "outputs": []
    },
    {
      "cell_type": "markdown",
      "source": [
        "#### This first set of functions are to be used as needed, depending on the model being ran"
      ],
      "metadata": {
        "id": "FrsVnlTZJjP0"
      }
    },
    {
      "cell_type": "code",
      "source": [
        "#function to binary encode accidents as fatal or nonfatal\n",
        "def encode_fatal_accidents(data):\n",
        "  Severity = []\n",
        "  for row in data['Injuryseverity']:\n",
        "    if row != \"Fatal\":\n",
        "      Severity.append(0) #nonfatal\n",
        "    if row == \"Fatal\":\n",
        "      Severity.append(1) #fatal\n",
        "  data['Fatal_Non_Fatal'] = Severity\n",
        "\n",
        "#this function turns our categorical variables into dummy variables\n",
        "def nominal_encoding(data):\n",
        "  data = [['StreetName','Collisionmanner', 'Lightcondition', 'Weather', 'SurfaceCondition']] \n",
        "  data_dummies = pd.get_dummies(data)\n",
        "  return data_dummies\n",
        "\n",
        "def drop_useless_cols(data):\n",
        "  return_data = data.drop(labels = ['X', 'Y', 'OBJECTID',\n",
        "                      'Incidentid', 'DateTime', 'Year',\n",
        "                       'Latitude', 'Longitude', 'Totalinjuries',\n",
        "                       'Totalfatalities', 'Injuryseverity', 'Distance'], axis = 1)\n",
        "  return return_data"
      ],
      "metadata": {
        "id": "j-dSyytqDmCO"
      },
      "execution_count": 27,
      "outputs": []
    },
    {
      "cell_type": "code",
      "source": [
        "#helper function that contains the logic for whether or not drugs were involved in an accident\n",
        "def label_drugs(row):\n",
        "  if row['DrugUse_Drv1'] == \"Drugs\" or row['DrugUse_Drv2'] == \"Drugs\":\n",
        "    return 1 #drugs are involved\n",
        "  if row['DrugUse_Drv1'] != \"Drugs\" or row['DrugUse_Drv2'] != \"Drugs\":\n",
        "    return 0 #drugs are not involved\n",
        "\n",
        "#helper function that contains the logic for whether or not alch was involved in an accident\n",
        "def label_alchol(row):\n",
        "  if row['AlcoholUse_Drv1'] == \"Drugs\" or row['AlcoholUse_Drv2'] == \"Drugs\":\n",
        "    return 1 #drugs are involved\n",
        "  if row['AlcoholUse_Drv1'] != \"Drugs\" or row['AlcoholUse_Drv2'] != \"Drugs\":\n",
        "    return 0 #drugs are not involved\n",
        "\n",
        "def apply_drug_alchol_label(input_data):\n",
        "  data1 = input_data['drugs_involved'] = input_data.apply (lambda row: label_drugs(row), axis=1)\n",
        "  data1 = input_data['alcohol_involved'] = input_data.apply (lambda row: label_alchol(row), axis=1)\n"
      ],
      "metadata": {
        "id": "99KvumfLJiHe"
      },
      "execution_count": 28,
      "outputs": []
    },
    {
      "cell_type": "markdown",
      "source": [
        "#### These functions are a part of basic data cleaning and will be used for all train datasets regardless of the model"
      ],
      "metadata": {
        "id": "tjdozuCTJtpE"
      }
    },
    {
      "cell_type": "code",
      "source": [
        "#this function drops bad columns in light conditions, violations and collisionmanner\n",
        "def drop_useless_rows(input_data):\n",
        "  data1 = input_data[input_data['Lightcondition'].str.contains(\"51\")==False]\n",
        "  data2 = data1[data1['Lightcondition'].str.contains(\"Unknown 51\")==False]\n",
        "  data3 = data2[data2['Violation1_Drv1'].str.contains(\"108\")==False]\n",
        "  data4 = data3[data3['Violation1_Drv1'].str.contains(\"109\")==False]\n",
        "  data5 = data4[data4['Violation1_Drv1'].str.contains(\"49\")==False]\n",
        "  data6 = data5[data5['Collisionmanner'].str.contains(\"10\")==False]\n",
        "  return data6"
      ],
      "metadata": {
        "id": "ld-CjpzrCbdJ"
      },
      "execution_count": 29,
      "outputs": []
    },
    {
      "cell_type": "code",
      "source": [
        "#this function removes outlier driving ages in the data_set and then calculates the median age between the two drivers and creates a new column\n",
        "def age_manipulation(input_data):\n",
        "  data = input_data.drop(input_data.index[input_data['Age_Drv1'] >= 100], inplace=False)\n",
        "  data1 = data.drop(data.index[data['Age_Drv2'] >= 100], inplace=False)\n",
        "  data1['median_age'] = (data1['Age_Drv1'] + data1['Age_Drv2']) / 2\n",
        "  return data1\n"
      ],
      "metadata": {
        "id": "P_z4br8KDFJ9"
      },
      "execution_count": 30,
      "outputs": []
    },
    {
      "cell_type": "code",
      "source": [
        "#function to call all the cleaning methods at once\n",
        "def clean_dataset(input_data):\n",
        "  input_data_rows_dropped = drop_useless_rows(input_data)\n",
        "  age_manipulated_data = age_manipulation(input_data_rows_dropped)\n",
        "  return age_manipulated_data"
      ],
      "metadata": {
        "id": "BfjbdRK6EUgZ"
      },
      "execution_count": 31,
      "outputs": []
    },
    {
      "cell_type": "code",
      "source": [
        "#the encode function simply creates our binary labels for fatal or non fatal accidents\n",
        "encode_fatal_accidents(df)\n",
        "clean_dat = clean_dataset(df)\n",
        "clean_dat2_all = drop_useless_cols(clean_dat)\n",
        "apply_drug_alchol_label(clean_dat2_all)\n",
        "clean_dat2_all.dropna(inplace=True)\n",
        "\n",
        "input_vector = clean_dat2.drop(labels = ['Fatal_Non_Fatal'], axis = 1)\n",
        "\n",
        "\n",
        "#we then load the data into to different dataframes one with our input vector and the other with train/test labels\n",
        "X = input_vector\n",
        "y = clean_dat2['Fatal_Non_Fatal']"
      ],
      "metadata": {
        "id": "xqqP8ihTAMdO"
      },
      "execution_count": 74,
      "outputs": []
    },
    {
      "cell_type": "markdown",
      "source": [
        "#### With our Dataset clean we can start our modeling, Model V1 Baseline Logistc. The main issue that arises, is that our model  classifies negatives properly but since to severe imbalance it does not classify true positives at all."
      ],
      "metadata": {
        "id": "nvGeUytxJ15_"
      }
    },
    {
      "cell_type": "code",
      "source": [
        "from statsmodels.discrete.discrete_model import Logit\n",
        "from statsmodels.tools import add_constant\n",
        "\n",
        "X_ohe = pd.get_dummies(X)\n",
        "\n",
        "x1_train, x1_test, y1_train, y1_test = train_test_split(X_ohe, y, random_state=0, test_size = .20)"
      ],
      "metadata": {
        "id": "xgtXDTQoR61U"
      },
      "execution_count": 77,
      "outputs": []
    },
    {
      "cell_type": "code",
      "source": [
        "logit_lasso = LogisticRegressionCV(cv=5, random_state=0, penalty = \"l1\", solver='liblinear').fit(x1_train, y1_train)"
      ],
      "metadata": {
        "id": "Sr018RAlvOUo"
      },
      "execution_count": 78,
      "outputs": []
    },
    {
      "cell_type": "code",
      "source": [
        "coef_table = pd.DataFrame(list(x1_train.columns)).copy()\n",
        "coef_table.insert(len(coef_table.columns),\"Coefs\",logit_lasso.coef_.transpose())"
      ],
      "metadata": {
        "id": "7DdqaZq2woM3"
      },
      "execution_count": 79,
      "outputs": []
    },
    {
      "cell_type": "code",
      "source": [
        "#having a logistc regression model that is OHE with all variables, gives very poor results and almost all coefficients are shrunk to zero \n",
        "coef_table_sorted = coef_table.sort_values(by = 'Coefs')"
      ],
      "metadata": {
        "id": "uViBg3R5wsdu"
      },
      "execution_count": 98,
      "outputs": []
    },
    {
      "cell_type": "code",
      "source": [
        "#we have good accuracy performance however, we must also check the confusion matrix for positive classification performance\n",
        "logit_lasso.score(x1_train, y1_train)"
      ],
      "metadata": {
        "colab": {
          "base_uri": "https://localhost:8080/"
        },
        "id": "olLAzK1IzfMc",
        "outputId": "65eee953-0adb-43ae-85cd-ff9d8dd5e462"
      },
      "execution_count": 84,
      "outputs": [
        {
          "output_type": "execute_result",
          "data": {
            "text/plain": [
              "0.9975696319728417"
            ]
          },
          "metadata": {},
          "execution_count": 84
        }
      ]
    },
    {
      "cell_type": "code",
      "source": [
        "logit_lasso.score(x1_test, y1_test)"
      ],
      "metadata": {
        "colab": {
          "base_uri": "https://localhost:8080/"
        },
        "id": "K_2dFHgx0DZ_",
        "outputId": "5c4a89cf-8c5a-49fb-bdcb-b666a6f63ebd"
      },
      "execution_count": 85,
      "outputs": [
        {
          "output_type": "execute_result",
          "data": {
            "text/plain": [
              "0.997685542354575"
            ]
          },
          "metadata": {},
          "execution_count": 85
        }
      ]
    },
    {
      "cell_type": "code",
      "source": [
        "from sklearn.metrics import precision_score\n",
        "from sklearn.metrics import recall_score\n",
        "from sklearn.metrics import RocCurveDisplay\n",
        "from sklearn.metrics import ConfusionMatrixDisplay"
      ],
      "metadata": {
        "id": "MnVzKHs91wam"
      },
      "execution_count": 94,
      "outputs": []
    },
    {
      "cell_type": "code",
      "source": [
        "#from this ROC curve we can see that our model performs horribly with true positive rates\n",
        "RocCurveDisplay.from_estimator(logit_lasso, x1_test, y1_test)"
      ],
      "metadata": {
        "colab": {
          "base_uri": "https://localhost:8080/",
          "height": 296
        },
        "id": "PUIkbUkb2NQq",
        "outputId": "dc5af0c3-7316-4abc-f6f0-eb3617f16c10"
      },
      "execution_count": 96,
      "outputs": [
        {
          "output_type": "execute_result",
          "data": {
            "text/plain": [
              "<sklearn.metrics._plot.roc_curve.RocCurveDisplay at 0x7f6a82fadd10>"
            ]
          },
          "metadata": {},
          "execution_count": 96
        },
        {
          "output_type": "display_data",
          "data": {
            "text/plain": [
              "<Figure size 432x288 with 1 Axes>"
            ],
            "image/png": "[encoded data removed]"
          },
          "metadata": {
            "needs_background": "light"
          }
        }
      ]
    },
    {
      "cell_type": "code",
      "source": [
        "ConfusionMatrixDisplay.from_estimator(logit_lasso, x1_test, y1_test)"
      ],
      "metadata": {
        "colab": {
          "base_uri": "https://localhost:8080/",
          "height": 296
        },
        "id": "HEoT_hTK3ljd",
        "outputId": "14aa1aa4-1712-42e0-8af1-5eda4592e786"
      },
      "execution_count": 97,
      "outputs": [
        {
          "output_type": "execute_result",
          "data": {
            "text/plain": [
              "<sklearn.metrics._plot.confusion_matrix.ConfusionMatrixDisplay at 0x7f6a82f389d0>"
            ]
          },
          "metadata": {},
          "execution_count": 97
        },
        {
          "output_type": "display_data",
          "data": {
            "text/plain": [
              "<Figure size 432x288 with 2 Axes>"
            ],
            "image/png": "[encoded data removed]"
          },
          "metadata": {
            "needs_background": "light"
          }
        }
      ]
    },
    {
      "cell_type": "markdown",
      "source": [
        "### In order to correct for these issues it may be smart to deal with the large imbalance within the training data. To do so we will use a combination of resampling and imputation to create new positive values"
      ],
      "metadata": {
        "id": "ugyvsykT4OJ6"
      }
    },
    {
      "cell_type": "code",
      "source": [
        ""
      ],
      "metadata": {
        "id": "XW8wHsd44x12"
      },
      "execution_count": null,
      "outputs": []
    }
  ]
}