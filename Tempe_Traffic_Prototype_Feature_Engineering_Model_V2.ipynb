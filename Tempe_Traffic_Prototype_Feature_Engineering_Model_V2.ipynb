{
  "nbformat": 4,
  "nbformat_minor": 0,
  "metadata": {
    "colab": {
      "name": "Tempe_Traffic_Prototype_Feature_Engineering_Model_V2.ipynb",
      "provenance": [],
      "collapsed_sections": [
        "yylwCgUx9iOA",
        "xgyIA0e6-mXb",
        "tOCVfeb49n_t",
        "K5hRBDxv_QPe"
      ],
      "authorship_tag": "ABX9TyPsSgGpP8ZMKtjPlooX4yas",
      "include_colab_link": true
    },
    "kernelspec": {
      "name": "python3",
      "display_name": "Python 3"
    },
    "language_info": {
      "name": "python"
    }
  },
  "cells": [
    {
      "cell_type": "markdown",
      "metadata": {
        "id": "view-in-github",
        "colab_type": "text"
      },
      "source": [
        "<a href=\"https://colab.research.google.com/github/noahruiz416/Tempe_Traffic_Classification/blob/main/Tempe_Traffic_Prototype_Feature_Engineering_Model_V2.ipynb\" target=\"_parent\"><img src=\"https://colab.research.google.com/assets/colab-badge.svg\" alt=\"Open In Colab\"/></a>"
      ]
    },
    {
      "cell_type": "markdown",
      "source": [
        "#This notebook will contain feature engineering approaches that we will base of the V1 feature engineering notebook. Additionally this notebook will try to narrow down a final model, or at the very least get closer to doing so."
      ],
      "metadata": {
        "id": "5e1pTx4E93R0"
      }
    },
    {
      "cell_type": "markdown",
      "source": [
        "## Installing Initial Dependencies"
      ],
      "metadata": {
        "id": "oTOA--ox-G-_"
      }
    },
    {
      "cell_type": "code",
      "source": [
        "!pip install category_encoders\n",
        "!pip install catboost \n",
        "!pip install imblearn"
      ],
      "metadata": {
        "colab": {
          "base_uri": "https://localhost:8080/"
        },
        "id": "gc_c21-s8g9D",
        "outputId": "4850f32d-ab29-4db7-cc82-eff02494b2c4"
      },
      "execution_count": 1,
      "outputs": [
        {
          "output_type": "stream",
          "name": "stdout",
          "text": [
            "Installing collected packages: catboost\n",
            "Successfully installed catboost-1.0.6\n",
            "Looking in indexes: https://pypi.org/simple, https://us-python.pkg.dev/colab-wheels/public/simple/\n",
            "Requirement already satisfied: imblearn in /usr/local/lib/python3.7/dist-packages (0.0)\n",
            "Requirement already satisfied: imbalanced-learn in /usr/local/lib/python3.7/dist-packages (from imblearn) (0.8.1)\n",
            "Requirement already satisfied: numpy>=1.13.3 in /usr/local/lib/python3.7/dist-packages (from imbalanced-learn->imblearn) (1.21.6)\n",
            "Requirement already satisfied: joblib>=0.11 in /usr/local/lib/python3.7/dist-packages (from imbalanced-learn->imblearn) (1.1.0)\n",
            "Requirement already satisfied: scipy>=0.19.1 in /usr/local/lib/python3.7/dist-packages (from imbalanced-learn->imblearn) (1.7.3)\n",
            "Requirement already satisfied: scikit-learn>=0.24 in /usr/local/lib/python3.7/dist-packages (from imbalanced-learn->imblearn) (1.0.2)\n",
            "Requirement already satisfied: threadpoolctl>=2.0.0 in /usr/local/lib/python3.7/dist-packages (from scikit-learn>=0.24->imbalanced-learn->imblearn) (3.1.0)\n"
          ]
        }
      ]
    },
    {
      "cell_type": "code",
      "execution_count": 163,
      "metadata": {
        "id": "OfmPJ9ws8AjH"
      },
      "outputs": [],
      "source": [
        "#importing initial libraires\n",
        "import pandas as pd\n",
        "import numpy as np \n",
        "from category_encoders import CountEncoder\n",
        "from category_encoders import SumEncoder"
      ]
    },
    {
      "cell_type": "markdown",
      "source": [
        "## Cleaning Functions, used to load and clean our initial pandas dataframe"
      ],
      "metadata": {
        "id": "yylwCgUx9iOA"
      }
    },
    {
      "cell_type": "code",
      "source": [
        "#loading in dataframe\n",
        "df = pd.read_csv(\"traffic_data.2.csv\")"
      ],
      "metadata": {
        "id": "xXuipo0v8JKG"
      },
      "execution_count": 164,
      "outputs": []
    },
    {
      "cell_type": "code",
      "source": [
        "#function to binary encode accidents as fatal or nonfatal\n",
        "def encode_fatal_accidents(data):\n",
        "  Severity = []\n",
        "  for row in data['Injuryseverity']:\n",
        "    if row != \"Fatal\":\n",
        "      Severity.append(0) #nonfatal\n",
        "    if row == \"Fatal\":\n",
        "      Severity.append(1) #fatal\n",
        "  data['Fatal_Non_Fatal'] = Severity\n",
        "\n",
        "#this function turns our categorical variables into dummy variables\n",
        "def nominal_encoding(data):\n",
        "  data = [['StreetName','Collisionmanner', 'Lightcondition', 'Weather', 'SurfaceCondition']] \n",
        "  data_dummies = pd.get_dummies(data)\n",
        "  return data_dummies\n",
        "\n",
        "def drop_useless_cols(data):\n",
        "  return_data = data.drop(labels = ['X', 'Y',\n",
        "                      'Incidentid', 'DateTime', 'Year',\n",
        "                       'Latitude', 'Longitude', 'Totalinjuries',\n",
        "                       'Totalfatalities', 'Injuryseverity', 'Distance', 'OBJECTID', 'Age_Drv1', 'Age_Drv2'], axis = 1)\n",
        "  return return_data\n"
      ],
      "metadata": {
        "id": "cCBCqBOP8nI_"
      },
      "execution_count": 165,
      "outputs": []
    },
    {
      "cell_type": "code",
      "source": [
        "#helper function that contains the logic for whether or not drugs were involved in an accident\n",
        "def label_drugs(row):\n",
        "  if row['DrugUse_Drv1'] == \"Drugs\" or row['DrugUse_Drv2'] == \"Drugs\":\n",
        "    return 1 #drugs are involved\n",
        "  if row['DrugUse_Drv1'] != \"Drugs\" or row['DrugUse_Drv2'] != \"Drugs\":\n",
        "    return 0 #drugs are not involved\n",
        "\n",
        "#helper function that contains the logic for whether or not alch was involved in an accident\n",
        "def label_alchol(row):\n",
        "  if row['AlcoholUse_Drv1'] == \"Drugs\" or row['AlcoholUse_Drv2'] == \"Drugs\":\n",
        "    return 1 #drugs are involved\n",
        "  if row['AlcoholUse_Drv1'] != \"Drugs\" or row['AlcoholUse_Drv2'] != \"Drugs\":\n",
        "    return 0 #drugs are not involved\n",
        "\n",
        "def apply_drug_alchol_label(input_data):\n",
        "  data1 = input_data['drugs_involved'] = input_data.apply (lambda row: label_drugs(row), axis=1)\n",
        "  data1 = input_data['alcohol_involved'] = input_data.apply (lambda row: label_alchol(row), axis=1)"
      ],
      "metadata": {
        "id": "h_jNLQlS8pEr"
      },
      "execution_count": 166,
      "outputs": []
    },
    {
      "cell_type": "code",
      "source": [
        "#this function drops bad columns in light conditions, violations and collisionmanner\n",
        "def drop_useless_rows(input_data):\n",
        "  data1 = input_data[input_data['Lightcondition'].str.contains(\"51\")==False]\n",
        "  data2 = data1[data1['Lightcondition'].str.contains(\"Unknown 51\")==False]\n",
        "  data3 = data2[data2['Violation1_Drv1'].str.contains(\"108\")==False]\n",
        "  data4 = data3[data3['Violation1_Drv1'].str.contains(\"109\")==False]\n",
        "  data5 = data4[data4['Violation1_Drv1'].str.contains(\"49\")==False]\n",
        "  data6 = data5[data5['Collisionmanner'].str.contains(\"10\")==False]\n",
        "  return data6"
      ],
      "metadata": {
        "id": "EbNUpSyb8utD"
      },
      "execution_count": 167,
      "outputs": []
    },
    {
      "cell_type": "code",
      "source": [
        "#this function removes outlier driving ages in the data_set and then calculates the median age between the two drivers and creates a new column\n",
        "def age_manipulation(input_data):\n",
        "  data = input_data.drop(input_data.index[input_data['Age_Drv1'] >= 100], inplace=False)\n",
        "  data1 = data.drop(data.index[data['Age_Drv2'] >= 100], inplace=False)\n",
        "  data1['median_age'] = (data1['Age_Drv1'] + data1['Age_Drv2']) / 2\n",
        "  return data1\n"
      ],
      "metadata": {
        "id": "2ZS7vgso8wWH"
      },
      "execution_count": 168,
      "outputs": []
    },
    {
      "cell_type": "code",
      "source": [
        "#function to call all the cleaning methods at once\n",
        "def clean_dataset(input_data):\n",
        "  input_data_rows_dropped = drop_useless_rows(input_data)\n",
        "  age_manipulated_data = age_manipulation(input_data_rows_dropped)\n",
        "  return age_manipulated_data"
      ],
      "metadata": {
        "id": "mBrxGD1M8yTY"
      },
      "execution_count": 169,
      "outputs": []
    },
    {
      "cell_type": "markdown",
      "source": [
        "## Additional Functions"
      ],
      "metadata": {
        "id": "xgyIA0e6-mXb"
      }
    },
    {
      "cell_type": "code",
      "source": [
        "#takes in a training dataset and encodes it into a frequency encoding\n",
        "def freq_code(train_data):\n",
        "  #seperating features into categorical and numerical\n",
        "  cat_features_input = train_data.select_dtypes(['object'])\n",
        "  numerical_features_input = train_data.select_dtypes(['int', 'float'])\n",
        "\n",
        "  #encoding cat_features\n",
        "  encdoer = CountEncoder(return_df = True)\n",
        "  cat_features_input_encoded = encdoer.fit_transform(cat_features_input)\n",
        "\n",
        "  #concat df back together\n",
        "  converted_data = pd.concat([numerical_features_input, cat_features_input_encoded], axis =1)\n",
        "\n",
        "  return converted_data "
      ],
      "metadata": {
        "id": "xQUCNdQW-oiB"
      },
      "execution_count": 170,
      "outputs": []
    },
    {
      "cell_type": "code",
      "source": [
        "def drop_more_cols(data):\n",
        "  return_data = data.drop(labels = ['AlcoholUse_Drv1', 'AlcoholUse_Drv2', 'DrugUse_Drv1', 'DrugUse_Drv2'], axis = 1)\n",
        "  return return_data"
      ],
      "metadata": {
        "id": "t9qk-HIuKriB"
      },
      "execution_count": 171,
      "outputs": []
    },
    {
      "cell_type": "markdown",
      "source": [
        "## Cleaning our Initial Dataframe. This section takes in a 'dirty' dataframe and outputs an input dataframe as predictors and labels as our target."
      ],
      "metadata": {
        "id": "tOCVfeb49n_t"
      }
    },
    {
      "cell_type": "code",
      "source": [
        "#the encode function simply creates our binary labels for fatal or non fatal accidents\n",
        "encode_fatal_accidents(df)\n",
        "\n",
        "#setting our clean dataset equal to our cleaned and encoded dataframe\n",
        "clean_dat = clean_dataset(df)\n",
        "\n",
        "#dropping useless cols within the clean dataset\n",
        "clean_dat2_all = drop_useless_cols(clean_dat)\n",
        "\n",
        "#applying drug and alchol labels\n",
        "apply_drug_alchol_label(clean_dat2_all)\n",
        "clean_dat2_all.dropna(inplace=True)\n",
        "\n",
        "#having our initial input vector of all values into one dataframe\n",
        "input_vector = clean_dat2_all.drop(labels = ['Fatal_Non_Fatal'], axis = 1)\n",
        "\n",
        "\n",
        "#we then load the data into to different dataframes one with our input vector and the other with train/test labels\n",
        "X = input_vector\n",
        "y = clean_dat2_all['Fatal_Non_Fatal']"
      ],
      "metadata": {
        "id": "BrtpYXvI82lG"
      },
      "execution_count": 172,
      "outputs": []
    },
    {
      "cell_type": "markdown",
      "source": [
        "#After Creating Our Initial Dataframe, we will create two copies, one encoded with count frequencies and the other engineered to be compatible with catboost"
      ],
      "metadata": {
        "id": "caqkuB7P-Nsu"
      }
    },
    {
      "cell_type": "code",
      "source": [
        "from sklearn.model_selection import train_test_split"
      ],
      "metadata": {
        "id": "N7SHj7WD_pvn"
      },
      "execution_count": 173,
      "outputs": []
    },
    {
      "cell_type": "markdown",
      "source": [
        "## Count Frequency Implementation\n"
      ],
      "metadata": {
        "id": "_-2Ja5co-ekH"
      }
    },
    {
      "cell_type": "code",
      "source": [
        "#simple test train split\n",
        "x_train_freq, x_test_freq, y_train_freq, y_test_freq = train_test_split(input_vector, y, random_state=0, test_size = .20)"
      ],
      "metadata": {
        "id": "QglfKuwF-eBZ"
      },
      "execution_count": 174,
      "outputs": []
    },
    {
      "cell_type": "code",
      "source": [
        "#breaking into two different freq sets one for test and one for train\n",
        "x_train_freq = freq_code(x_train_freq)\n",
        "x_test_freq = freq_code(x_test_freq)\n",
        "\n",
        "#dropping more useless columns in this case the drug and alchol ones related to drivers\n",
        "x_train_freq = drop_more_cols(x_train_freq)\n",
        "x_test_freq = drop_more_cols(x_test_freq)\n",
        "\n",
        "x_freq_all = freq_code(drop_more_cols(input_vector))"
      ],
      "metadata": {
        "id": "TyRJ5v0tBMCp"
      },
      "execution_count": 175,
      "outputs": []
    },
    {
      "cell_type": "markdown",
      "source": [
        "## Cat Boost Implementation\n"
      ],
      "metadata": {
        "id": "K5hRBDxv_QPe"
      }
    },
    {
      "cell_type": "code",
      "source": [
        "x_train_cat, x_test_cat, y_train_cat, y_test_cat = train_test_split(input_vector, y, random_state=0, test_size = .20)\n",
        "\n",
        "#dropping more useless columns in this case the drug and alchol ones related to drivers for cat boost data\n",
        "x_train_cat = drop_more_cols(x_train_cat)\n",
        "x_test_cat = drop_more_cols(x_test_cat)\n",
        "\n",
        "x_cat_all = drop_more_cols(input_vector)\n",
        "\n",
        "categorical_features_indices = np.where(x_train_cat.dtypes != float)[0]"
      ],
      "metadata": {
        "id": "SP-M_zse_RhQ"
      },
      "execution_count": 176,
      "outputs": []
    },
    {
      "cell_type": "markdown",
      "source": [
        "## With our two seperate areas we can now run baseline models with feature selection methods"
      ],
      "metadata": {
        "id": "5_LiHPqCByPd"
      }
    },
    {
      "cell_type": "markdown",
      "source": [
        "## Pipeline Implementation"
      ],
      "metadata": {
        "id": "ZUtIfnuSI2Zz"
      }
    },
    {
      "cell_type": "code",
      "source": [
        "#pipelines\n",
        "from sklearn.pipeline import Pipeline\n",
        "\n",
        "#models for pipelines\n",
        "from sklearn.linear_model import LogisticRegression\n",
        "from sklearn.ensemble import RandomForestClassifier\n",
        "from sklearn.ensemble import GradientBoostingClassifier\n",
        "from sklearn.ensemble import AdaBoostClassifier\n",
        "from catboost import CatBoostClassifier\n",
        "\n",
        "#metric measurements\n",
        "from sklearn.metrics import precision_score\n",
        "from sklearn.metrics import recall_score\n",
        "from sklearn.metrics import accuracy_score\n",
        "from sklearn.metrics import f1_score\n",
        "from sklearn.metrics import RocCurveDisplay\n",
        "from sklearn.metrics import ConfusionMatrixDisplay"
      ],
      "metadata": {
        "id": "nm8Z_1XbCCvP"
      },
      "execution_count": 177,
      "outputs": []
    },
    {
      "cell_type": "code",
      "source": [
        "#function to use as a metric scorer\n",
        "def metric_scoring(classifier, x_test_data, y_test_data):\n",
        "  y_true = y_test_data\n",
        "  y_pred = classifier.predict(x_test_data)\n",
        "  precision = precision_score(y_true, y_pred)\n",
        "  recall = recall_score(y_true, y_pred)\n",
        "  accuracy = accuracy_score(y_true, y_pred)\n",
        "  f1 = f1_score(y_true, y_pred)\n",
        "\n",
        "  metric_data = {\n",
        "      'Precision' : precision,\n",
        "      'Recall' : recall,\n",
        "      'Accuracy': accuracy,\n",
        "      'F1 Score': f1\n",
        "  }\n",
        "  return metric_data"
      ],
      "metadata": {
        "id": "zcvEIbjfG338"
      },
      "execution_count": 198,
      "outputs": []
    },
    {
      "cell_type": "code",
      "source": [
        "pipe_rf= Pipeline([('rf_classifier',RandomForestClassifier())])\n",
        "pipe_gb= Pipeline([('gradient_boost_classifier',GradientBoostingClassifier())])\n",
        "pipe_ada= Pipeline([('ada_boost_classifier',AdaBoostClassifier())])\n",
        "pipe_lr= Pipeline([('lr_classifier',LogisticRegression(random_state=0))])\n",
        "\n",
        "pipelines = [pipe_rf, pipe_gb, pipe_ada, pipe_lr]"
      ],
      "metadata": {
        "id": "_fbFSLwuIqG6"
      },
      "execution_count": 179,
      "outputs": []
    },
    {
      "cell_type": "code",
      "source": [
        "for pipe in pipelines[0:4]:\n",
        "  pipe.fit(x_train_freq, y_train_freq)"
      ],
      "metadata": {
        "colab": {
          "base_uri": "https://localhost:8080/"
        },
        "id": "nsX9QEWuNPqt",
        "outputId": "bab29fd5-db84-458b-a0d8-ba4f0d546152"
      },
      "execution_count": 180,
      "outputs": [
        {
          "output_type": "stream",
          "name": "stderr",
          "text": [
            "/usr/local/lib/python3.7/dist-packages/sklearn/linear_model/_logistic.py:818: ConvergenceWarning: lbfgs failed to converge (status=1):\n",
            "STOP: TOTAL NO. of ITERATIONS REACHED LIMIT.\n",
            "\n",
            "Increase the number of iterations (max_iter) or scale the data as shown in:\n",
            "    https://scikit-learn.org/stable/modules/preprocessing.html\n",
            "Please also refer to the documentation for alternative solver options:\n",
            "    https://scikit-learn.org/stable/modules/linear_model.html#logistic-regression\n",
            "  extra_warning_msg=_LOGISTIC_SOLVER_CONVERGENCE_MSG,\n"
          ]
        }
      ]
    },
    {
      "cell_type": "code",
      "source": [
        "#random forest metrics\n",
        "metric_scoring(pipelines[0],x_test_freq, y_test_freq)"
      ],
      "metadata": {
        "colab": {
          "base_uri": "https://localhost:8080/"
        },
        "id": "6E-gLqZhO5jo",
        "outputId": "a55a35a9-f0b1-4f94-85e6-df8f64ab798a"
      },
      "execution_count": 201,
      "outputs": [
        {
          "output_type": "stream",
          "name": "stderr",
          "text": [
            "/usr/local/lib/python3.7/dist-packages/sklearn/metrics/_classification.py:1318: UndefinedMetricWarning: Precision is ill-defined and being set to 0.0 due to no predicted samples. Use `zero_division` parameter to control this behavior.\n",
            "  _warn_prf(average, modifier, msg_start, len(result))\n"
          ]
        },
        {
          "output_type": "execute_result",
          "data": {
            "text/plain": [
              "{'Accuracy': 0.997685542354575,\n",
              " 'F1 Score': 0.0,\n",
              " 'Precision': 0.0,\n",
              " 'Recall': 0.0}"
            ]
          },
          "metadata": {},
          "execution_count": 201
        }
      ]
    },
    {
      "cell_type": "code",
      "source": [
        "#gradient boosting metrics\n",
        "metric_scoring(pipelines[1],x_test_freq, y_test_freq)"
      ],
      "metadata": {
        "colab": {
          "base_uri": "https://localhost:8080/"
        },
        "id": "B1IQ0cm6PcKj",
        "outputId": "d633294b-0745-4da2-cfdd-7ba660020482"
      },
      "execution_count": 202,
      "outputs": [
        {
          "output_type": "execute_result",
          "data": {
            "text/plain": [
              "{'Accuracy': 0.9970683536491283,\n",
              " 'F1 Score': 0.09523809523809522,\n",
              " 'Precision': 0.16666666666666666,\n",
              " 'Recall': 0.06666666666666667}"
            ]
          },
          "metadata": {},
          "execution_count": 202
        }
      ]
    },
    {
      "cell_type": "code",
      "source": [
        "#adaboost metrics\n",
        "metric_scoring(pipelines[2],x_test_freq, y_test_freq)"
      ],
      "metadata": {
        "colab": {
          "base_uri": "https://localhost:8080/"
        },
        "id": "BYAtBDonQOOJ",
        "outputId": "694bc430-aff8-45c8-f444-ba48df7a3a86"
      },
      "execution_count": 203,
      "outputs": [
        {
          "output_type": "stream",
          "name": "stderr",
          "text": [
            "/usr/local/lib/python3.7/dist-packages/sklearn/metrics/_classification.py:1318: UndefinedMetricWarning: Precision is ill-defined and being set to 0.0 due to no predicted samples. Use `zero_division` parameter to control this behavior.\n",
            "  _warn_prf(average, modifier, msg_start, len(result))\n"
          ]
        },
        {
          "output_type": "execute_result",
          "data": {
            "text/plain": [
              "{'Accuracy': 0.997685542354575,\n",
              " 'F1 Score': 0.0,\n",
              " 'Precision': 0.0,\n",
              " 'Recall': 0.0}"
            ]
          },
          "metadata": {},
          "execution_count": 203
        }
      ]
    },
    {
      "cell_type": "code",
      "source": [
        "#logistic regression metrics \n",
        "metric_scoring(pipelines[3],x_test_freq, y_test_freq)"
      ],
      "metadata": {
        "colab": {
          "base_uri": "https://localhost:8080/"
        },
        "id": "v5TBIVmTQPm5",
        "outputId": "23458f67-cfa2-4a69-ad97-c5e0be0027ad"
      },
      "execution_count": 204,
      "outputs": [
        {
          "output_type": "stream",
          "name": "stderr",
          "text": [
            "/usr/local/lib/python3.7/dist-packages/sklearn/metrics/_classification.py:1318: UndefinedMetricWarning: Precision is ill-defined and being set to 0.0 due to no predicted samples. Use `zero_division` parameter to control this behavior.\n",
            "  _warn_prf(average, modifier, msg_start, len(result))\n"
          ]
        },
        {
          "output_type": "execute_result",
          "data": {
            "text/plain": [
              "{'Accuracy': 0.997685542354575,\n",
              " 'F1 Score': 0.0,\n",
              " 'Precision': 0.0,\n",
              " 'Recall': 0.0}"
            ]
          },
          "metadata": {},
          "execution_count": 204
        }
      ]
    },
    {
      "cell_type": "code",
      "source": [
        "#now we will train the cat boost \n",
        "catBoost = CatBoostClassifier()\n",
        "\n",
        "catBoost.fit(\n",
        "    x_train_cat, y_train_cat, cat_features=categorical_features_indices, \n",
        "    plot=True)"
      ],
      "metadata": {
        "id": "RNTRNQfiQsty"
      },
      "execution_count": null,
      "outputs": []
    },
    {
      "cell_type": "code",
      "source": [
        "#metrics for CatBoost\n",
        "metric_scoring(catBoost,x_test_cat, y_test_cat)"
      ],
      "metadata": {
        "colab": {
          "base_uri": "https://localhost:8080/"
        },
        "id": "fFS1MMWZQwVW",
        "outputId": "80adb9dd-c630-4edb-e178-2dc0087a152f"
      },
      "execution_count": 205,
      "outputs": [
        {
          "output_type": "execute_result",
          "data": {
            "text/plain": [
              "{'Accuracy': 0.9978398395309366,\n",
              " 'F1 Score': 0.125,\n",
              " 'Precision': 1.0,\n",
              " 'Recall': 0.06666666666666667}"
            ]
          },
          "metadata": {},
          "execution_count": 205
        }
      ]
    },
    {
      "cell_type": "markdown",
      "source": [
        "## Visualizing Metrics with Confusion Matrix "
      ],
      "metadata": {
        "id": "ZHGgtFf_TP7A"
      }
    },
    {
      "cell_type": "code",
      "source": [
        "#rf matrix\n",
        "ConfusionMatrixDisplay.from_estimator(pipelines[0], x_test_freq, y_test_freq)"
      ],
      "metadata": {
        "colab": {
          "base_uri": "https://localhost:8080/",
          "height": 296
        },
        "id": "E0yjW0r2Ta89",
        "outputId": "e6e59e4b-410f-4435-e73d-e39c0ed44637"
      },
      "execution_count": 187,
      "outputs": [
        {
          "output_type": "execute_result",
          "data": {
            "text/plain": [
              "<sklearn.metrics._plot.confusion_matrix.ConfusionMatrixDisplay at 0x7fb3da0a0ed0>"
            ]
          },
          "metadata": {},
          "execution_count": 187
        },
        {
          "output_type": "display_data",
          "data": {
            "text/plain": [
              "<Figure size 432x288 with 2 Axes>"
            ],
            "image/png": "[encoded data removed]"
          },
          "metadata": {
            "needs_background": "light"
          }
        }
      ]
    },
    {
      "cell_type": "code",
      "source": [
        "#gradient boost matrix\n",
        "ConfusionMatrixDisplay.from_estimator(pipelines[1], x_test_freq, y_test_freq)"
      ],
      "metadata": {
        "colab": {
          "base_uri": "https://localhost:8080/",
          "height": 296
        },
        "id": "_xDtySMUTawW",
        "outputId": "03c97aa7-ff79-4e3f-cc8e-620f96b5f4c2"
      },
      "execution_count": 188,
      "outputs": [
        {
          "output_type": "execute_result",
          "data": {
            "text/plain": [
              "<sklearn.metrics._plot.confusion_matrix.ConfusionMatrixDisplay at 0x7fb3d9dd22d0>"
            ]
          },
          "metadata": {},
          "execution_count": 188
        },
        {
          "output_type": "display_data",
          "data": {
            "text/plain": [
              "<Figure size 432x288 with 2 Axes>"
            ],
            "image/png": "[encoded data removed]"
          },
          "metadata": {
            "needs_background": "light"
          }
        }
      ]
    },
    {
      "cell_type": "code",
      "source": [
        "#ada boost matrix\n",
        "ConfusionMatrixDisplay.from_estimator(pipelines[2], x_test_freq, y_test_freq)"
      ],
      "metadata": {
        "colab": {
          "base_uri": "https://localhost:8080/",
          "height": 296
        },
        "id": "MpEQGbJeTakp",
        "outputId": "93c374da-7590-426a-a43a-9d3b055d919e"
      },
      "execution_count": 212,
      "outputs": [
        {
          "output_type": "execute_result",
          "data": {
            "text/plain": [
              "<sklearn.metrics._plot.confusion_matrix.ConfusionMatrixDisplay at 0x7fb3da091450>"
            ]
          },
          "metadata": {},
          "execution_count": 212
        },
        {
          "output_type": "display_data",
          "data": {
            "text/plain": [
              "<Figure size 432x288 with 2 Axes>"
            ],
            "image/png": "[encoded data removed]"
          },
          "metadata": {
            "needs_background": "light"
          }
        }
      ]
    },
    {
      "cell_type": "code",
      "source": [
        "#logistic\n",
        "ConfusionMatrixDisplay.from_estimator(pipelines[3], x_test_freq, y_test_freq)"
      ],
      "metadata": {
        "colab": {
          "base_uri": "https://localhost:8080/",
          "height": 296
        },
        "id": "ZJSvm7mmTaa4",
        "outputId": "8900b9f6-8521-4440-f0fa-a0043e8a4766"
      },
      "execution_count": 190,
      "outputs": [
        {
          "output_type": "execute_result",
          "data": {
            "text/plain": [
              "<sklearn.metrics._plot.confusion_matrix.ConfusionMatrixDisplay at 0x7fb3f06b8290>"
            ]
          },
          "metadata": {},
          "execution_count": 190
        },
        {
          "output_type": "display_data",
          "data": {
            "text/plain": [
              "<Figure size 432x288 with 2 Axes>"
            ],
            "image/png": "[encoded data removed]"
          },
          "metadata": {
            "needs_background": "light"
          }
        }
      ]
    },
    {
      "cell_type": "code",
      "source": [
        "#cat boost matrix\n",
        "ConfusionMatrixDisplay.from_estimator(catBoost, x_test_cat, y_test_cat)"
      ],
      "metadata": {
        "colab": {
          "base_uri": "https://localhost:8080/",
          "height": 296
        },
        "id": "U1XPHtclTV5x",
        "outputId": "24a09cd8-ee5d-441c-d116-96a3ff8fb4ea"
      },
      "execution_count": 215,
      "outputs": [
        {
          "output_type": "execute_result",
          "data": {
            "text/plain": [
              "<sklearn.metrics._plot.confusion_matrix.ConfusionMatrixDisplay at 0x7fb3d3a2c950>"
            ]
          },
          "metadata": {},
          "execution_count": 215
        },
        {
          "output_type": "display_data",
          "data": {
            "text/plain": [
              "<Figure size 432x288 with 2 Axes>"
            ],
            "image/png": "[encoded data removed]"
          },
          "metadata": {
            "needs_background": "light"
          }
        }
      ]
    },
    {
      "cell_type": "markdown",
      "source": [
        "##Visualizing Metrics with ROC Curve "
      ],
      "metadata": {
        "id": "hFCRBthcUW9K"
      }
    },
    {
      "cell_type": "code",
      "source": [
        "#rf ROC Curve\n",
        "RocCurveDisplay.from_estimator(pipelines[0], x_test_freq, y_test_freq)"
      ],
      "metadata": {
        "colab": {
          "base_uri": "https://localhost:8080/",
          "height": 296
        },
        "id": "AZtqod-oUY64",
        "outputId": "36f1a1b0-e38a-4b9c-e4aa-b9a8311964d3"
      },
      "execution_count": 193,
      "outputs": [
        {
          "output_type": "execute_result",
          "data": {
            "text/plain": [
              "<sklearn.metrics._plot.roc_curve.RocCurveDisplay at 0x7fb3d9c28510>"
            ]
          },
          "metadata": {},
          "execution_count": 193
        },
        {
          "output_type": "display_data",
          "data": {
            "text/plain": [
              "<Figure size 432x288 with 1 Axes>"
            ],
            "image/png": "[encoded data removed]"
          },
          "metadata": {
            "needs_background": "light"
          }
        }
      ]
    },
    {
      "cell_type": "code",
      "source": [
        "#gradient boost ROC Curve\n",
        "RocCurveDisplay.from_estimator(pipelines[1], x_test_freq, y_test_freq)"
      ],
      "metadata": {
        "colab": {
          "base_uri": "https://localhost:8080/",
          "height": 296
        },
        "id": "y1U7Pq1kU3r-",
        "outputId": "3346c2eb-279d-43f6-a4eb-145639023c56"
      },
      "execution_count": 194,
      "outputs": [
        {
          "output_type": "execute_result",
          "data": {
            "text/plain": [
              "<sklearn.metrics._plot.roc_curve.RocCurveDisplay at 0x7fb3d3e1b710>"
            ]
          },
          "metadata": {},
          "execution_count": 194
        },
        {
          "output_type": "display_data",
          "data": {
            "text/plain": [
              "<Figure size 432x288 with 1 Axes>"
            ],
            "image/png": "[encoded data removed]"
          },
          "metadata": {
            "needs_background": "light"
          }
        }
      ]
    },
    {
      "cell_type": "code",
      "source": [
        "#ada boost ROC Curve\n",
        "RocCurveDisplay.from_estimator(pipelines[2], x_test_freq, y_test_freq)"
      ],
      "metadata": {
        "colab": {
          "base_uri": "https://localhost:8080/",
          "height": 296
        },
        "id": "8XpR4YSnU7K0",
        "outputId": "c3fd489f-e0e3-49e9-8916-792246f4c34e"
      },
      "execution_count": 195,
      "outputs": [
        {
          "output_type": "execute_result",
          "data": {
            "text/plain": [
              "<sklearn.metrics._plot.roc_curve.RocCurveDisplay at 0x7fb3d3cb54d0>"
            ]
          },
          "metadata": {},
          "execution_count": 195
        },
        {
          "output_type": "display_data",
          "data": {
            "text/plain": [
              "<Figure size 432x288 with 1 Axes>"
            ],
            "image/png": "[encoded data removed]"
          },
          "metadata": {
            "needs_background": "light"
          }
        }
      ]
    },
    {
      "cell_type": "code",
      "source": [
        "#logistic ROC Curve\n",
        "RocCurveDisplay.from_estimator(pipelines[3], x_test_freq, y_test_freq)"
      ],
      "metadata": {
        "colab": {
          "base_uri": "https://localhost:8080/",
          "height": 296
        },
        "id": "TK-3xAnwU-vl",
        "outputId": "682ba056-3b91-4cf1-878d-5cef7d36c270"
      },
      "execution_count": 196,
      "outputs": [
        {
          "output_type": "execute_result",
          "data": {
            "text/plain": [
              "<sklearn.metrics._plot.roc_curve.RocCurveDisplay at 0x7fb3d3cb5d10>"
            ]
          },
          "metadata": {},
          "execution_count": 196
        },
        {
          "output_type": "display_data",
          "data": {
            "text/plain": [
              "<Figure size 432x288 with 1 Axes>"
            ],
            "image/png": "[encoded data removed]"
          },
          "metadata": {
            "needs_background": "light"
          }
        }
      ]
    },
    {
      "cell_type": "code",
      "source": [
        "#cat boost ROC Curve\n",
        "RocCurveDisplay.from_estimator(catBoost, x_test_cat, y_test_cat)"
      ],
      "metadata": {
        "colab": {
          "base_uri": "https://localhost:8080/",
          "height": 296
        },
        "id": "lbIgw1lKVCrz",
        "outputId": "7b520e73-a7e7-406f-a64b-bbb29d9ac62f"
      },
      "execution_count": 197,
      "outputs": [
        {
          "output_type": "execute_result",
          "data": {
            "text/plain": [
              "<sklearn.metrics._plot.roc_curve.RocCurveDisplay at 0x7fb3d3dfdc50>"
            ]
          },
          "metadata": {},
          "execution_count": 197
        },
        {
          "output_type": "display_data",
          "data": {
            "text/plain": [
              "<Figure size 432x288 with 1 Axes>"
            ],
            "image/png": "[encoded data removed]"
          },
          "metadata": {
            "needs_background": "light"
          }
        }
      ]
    },
    {
      "cell_type": "markdown",
      "source": [
        "## CatBoost and Gradient Boost have best out of box performance, now we will focus on tailoring features, and then running under and over sampling methods."
      ],
      "metadata": {
        "id": "GrFVHlrDVcdy"
      }
    },
    {
      "cell_type": "code",
      "source": [
        "#feature engineering using built in weights derived from both gradient and cat boost\n",
        "import matplotlib.pyplot as plt\n",
        "\n",
        "gb = GradientBoostingClassifier()\n",
        "gb.fit(x_train_freq, y_train_freq)"
      ],
      "metadata": {
        "id": "aChSt8g_VdFF"
      },
      "execution_count": null,
      "outputs": []
    },
    {
      "cell_type": "code",
      "source": [
        "from matplotlib.pyplot import figure\n"
      ],
      "metadata": {
        "id": "4Lrj3l2smY5t"
      },
      "execution_count": 271,
      "outputs": []
    },
    {
      "cell_type": "code",
      "source": [
        "gb_features = gb.feature_importances_\n",
        "plt.barh(x_train_freq.columns, sorted(gb.feature_importances_))\n",
        "figure(figsize=(40, 20), dpi=500)"
      ],
      "metadata": {
        "colab": {
          "base_uri": "https://localhost:8080/",
          "height": 299
        },
        "id": "4RaHIhMpi-lC",
        "outputId": "1fb30a4e-bfed-4a95-bc7f-c0017fcbcbed"
      },
      "execution_count": 292,
      "outputs": [
        {
          "output_type": "execute_result",
          "data": {
            "text/plain": [
              "<Figure size 20000x10000 with 0 Axes>"
            ]
          },
          "metadata": {},
          "execution_count": 292
        },
        {
          "output_type": "display_data",
          "data": {
            "text/plain": [
              "<Figure size 432x288 with 1 Axes>"
            ],
            "image/png": "[encoded data removed]"
          },
          "metadata": {
            "needs_background": "light"
          }
        },
        {
          "output_type": "display_data",
          "data": {
            "text/plain": [
              "<Figure size 20000x10000 with 0 Axes>"
            ]
          },
          "metadata": {}
        }
      ]
    },
    {
      "cell_type": "code",
      "source": [
        "#feature importance by index for cat boosting\n",
        "cat_features = catBoost.feature_importances_\n",
        "plt.barh(x_train_cat.columns, sorted(catBoost.feature_importances_))\n",
        "figure(figsize=(40, 20), dpi=500)"
      ],
      "metadata": {
        "colab": {
          "base_uri": "https://localhost:8080/",
          "height": 299
        },
        "id": "h8Zfdq8TdYa6",
        "outputId": "ae6e1c20-75c0-4014-a42b-0e39707f84eb"
      },
      "execution_count": 291,
      "outputs": [
        {
          "output_type": "execute_result",
          "data": {
            "text/plain": [
              "<Figure size 20000x10000 with 0 Axes>"
            ]
          },
          "metadata": {},
          "execution_count": 291
        },
        {
          "output_type": "display_data",
          "data": {
            "text/plain": [
              "<Figure size 432x288 with 1 Axes>"
            ],
            "image/png": "[encoded data removed]"
          },
          "metadata": {
            "needs_background": "light"
          }
        },
        {
          "output_type": "display_data",
          "data": {
            "text/plain": [
              "<Figure size 20000x10000 with 0 Axes>"
            ]
          },
          "metadata": {}
        }
      ]
    }
  ]
}