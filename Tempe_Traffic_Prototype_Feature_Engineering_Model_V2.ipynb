{
  "nbformat": 4,
  "nbformat_minor": 0,
  "metadata": {
    "colab": {
      "name": "Tempe_Traffic_Prototype_Feature_Engineering_Model_V2.ipynb",
      "provenance": [],
      "collapsed_sections": [
        "oTOA--ox-G-_",
        "xgyIA0e6-mXb",
        "tOCVfeb49n_t",
        "_-2Ja5co-ekH",
        "K5hRBDxv_QPe",
        "ZUtIfnuSI2Zz",
        "ZHGgtFf_TP7A",
        "hFCRBthcUW9K",
        "GrFVHlrDVcdy",
        "5sbgUIKGrA61",
        "LMVNY_r6qQsw"
      ],
      "authorship_tag": "ABX9TyP/VD5AUNh+euTbp0kABNVM",
      "include_colab_link": true
    },
    "kernelspec": {
      "name": "python3",
      "display_name": "Python 3"
    },
    "language_info": {
      "name": "python"
    }
  },
  "cells": [
    {
      "cell_type": "markdown",
      "metadata": {
        "id": "view-in-github",
        "colab_type": "text"
      },
      "source": [
        "<a href=\"https://colab.research.google.com/github/noahruiz416/Tempe_Traffic_Classification/blob/main/Tempe_Traffic_Prototype_Feature_Engineering_Model_V2.ipynb\" target=\"_parent\"><img src=\"https://colab.research.google.com/assets/colab-badge.svg\" alt=\"Open In Colab\"/></a>"
      ]
    },
    {
      "cell_type": "markdown",
      "source": [
        "#This notebook will contain feature engineering approaches that we will base of the V1 feature engineering notebook. Additionally this notebook will try to narrow down a final model, or at the very least get closer to doing so."
      ],
      "metadata": {
        "id": "5e1pTx4E93R0"
      }
    },
    {
      "cell_type": "markdown",
      "source": [
        "## Installing Initial Dependencies"
      ],
      "metadata": {
        "id": "oTOA--ox-G-_"
      }
    },
    {
      "cell_type": "code",
      "source": [
        "!pip install category_encoders\n",
        "!pip install catboost \n",
        "!pip install imblearn"
      ],
      "metadata": {
        "colab": {
          "base_uri": "https://localhost:8080/"
        },
        "id": "gc_c21-s8g9D",
        "outputId": "60fdba95-5624-4a29-dd5e-abbbd8aafe43"
      },
      "execution_count": null,
      "outputs": [
        {
          "output_type": "stream",
          "name": "stdout",
          "text": [
            "Looking in indexes: https://pypi.org/simple, https://us-python.pkg.dev/colab-wheels/public/simple/\n",
            "Collecting category_encoders\n",
            "  Downloading category_encoders-2.5.0-py2.py3-none-any.whl (69 kB)\n",
            "\u001b[K     |████████████████████████████████| 69 kB 3.5 MB/s \n",
            "\u001b[?25hRequirement already satisfied: statsmodels>=0.9.0 in /usr/local/lib/python3.7/dist-packages (from category_encoders) (0.10.2)\n",
            "Requirement already satisfied: numpy>=1.14.0 in /usr/local/lib/python3.7/dist-packages (from category_encoders) (1.21.6)\n",
            "Requirement already satisfied: pandas>=1.0.5 in /usr/local/lib/python3.7/dist-packages (from category_encoders) (1.3.5)\n",
            "Requirement already satisfied: scikit-learn>=0.20.0 in /usr/local/lib/python3.7/dist-packages (from category_encoders) (1.0.2)\n",
            "Requirement already satisfied: scipy>=1.0.0 in /usr/local/lib/python3.7/dist-packages (from category_encoders) (1.7.3)\n",
            "Requirement already satisfied: patsy>=0.5.1 in /usr/local/lib/python3.7/dist-packages (from category_encoders) (0.5.2)\n",
            "Requirement already satisfied: pytz>=2017.3 in /usr/local/lib/python3.7/dist-packages (from pandas>=1.0.5->category_encoders) (2022.1)\n",
            "Requirement already satisfied: python-dateutil>=2.7.3 in /usr/local/lib/python3.7/dist-packages (from pandas>=1.0.5->category_encoders) (2.8.2)\n",
            "Requirement already satisfied: six in /usr/local/lib/python3.7/dist-packages (from patsy>=0.5.1->category_encoders) (1.15.0)\n",
            "Requirement already satisfied: threadpoolctl>=2.0.0 in /usr/local/lib/python3.7/dist-packages (from scikit-learn>=0.20.0->category_encoders) (3.1.0)\n",
            "Requirement already satisfied: joblib>=0.11 in /usr/local/lib/python3.7/dist-packages (from scikit-learn>=0.20.0->category_encoders) (1.1.0)\n",
            "Installing collected packages: category-encoders\n",
            "Successfully installed category-encoders-2.5.0\n",
            "Looking in indexes: https://pypi.org/simple, https://us-python.pkg.dev/colab-wheels/public/simple/\n",
            "Collecting catboost\n",
            "  Downloading catboost-1.0.6-cp37-none-manylinux1_x86_64.whl (76.6 MB)\n",
            "\u001b[K     |████████████████████████████████| 76.6 MB 1.2 MB/s \n",
            "\u001b[?25hRequirement already satisfied: numpy>=1.16.0 in /usr/local/lib/python3.7/dist-packages (from catboost) (1.21.6)\n",
            "Requirement already satisfied: six in /usr/local/lib/python3.7/dist-packages (from catboost) (1.15.0)\n",
            "Requirement already satisfied: pandas>=0.24.0 in /usr/local/lib/python3.7/dist-packages (from catboost) (1.3.5)\n",
            "Requirement already satisfied: graphviz in /usr/local/lib/python3.7/dist-packages (from catboost) (0.10.1)\n",
            "Requirement already satisfied: matplotlib in /usr/local/lib/python3.7/dist-packages (from catboost) (3.2.2)\n",
            "Requirement already satisfied: plotly in /usr/local/lib/python3.7/dist-packages (from catboost) (5.5.0)\n",
            "Requirement already satisfied: scipy in /usr/local/lib/python3.7/dist-packages (from catboost) (1.7.3)\n",
            "Requirement already satisfied: pytz>=2017.3 in /usr/local/lib/python3.7/dist-packages (from pandas>=0.24.0->catboost) (2022.1)\n",
            "Requirement already satisfied: python-dateutil>=2.7.3 in /usr/local/lib/python3.7/dist-packages (from pandas>=0.24.0->catboost) (2.8.2)\n",
            "Requirement already satisfied: pyparsing!=2.0.4,!=2.1.2,!=2.1.6,>=2.0.1 in /usr/local/lib/python3.7/dist-packages (from matplotlib->catboost) (3.0.9)\n",
            "Requirement already satisfied: kiwisolver>=1.0.1 in /usr/local/lib/python3.7/dist-packages (from matplotlib->catboost) (1.4.4)\n",
            "Requirement already satisfied: cycler>=0.10 in /usr/local/lib/python3.7/dist-packages (from matplotlib->catboost) (0.11.0)\n",
            "Requirement already satisfied: typing-extensions in /usr/local/lib/python3.7/dist-packages (from kiwisolver>=1.0.1->matplotlib->catboost) (4.1.1)\n",
            "Requirement already satisfied: tenacity>=6.2.0 in /usr/local/lib/python3.7/dist-packages (from plotly->catboost) (8.0.1)\n",
            "Installing collected packages: catboost\n",
            "Successfully installed catboost-1.0.6\n",
            "Looking in indexes: https://pypi.org/simple, https://us-python.pkg.dev/colab-wheels/public/simple/\n",
            "Requirement already satisfied: imblearn in /usr/local/lib/python3.7/dist-packages (0.0)\n",
            "Requirement already satisfied: imbalanced-learn in /usr/local/lib/python3.7/dist-packages (from imblearn) (0.8.1)\n",
            "Requirement already satisfied: scikit-learn>=0.24 in /usr/local/lib/python3.7/dist-packages (from imbalanced-learn->imblearn) (1.0.2)\n",
            "Requirement already satisfied: scipy>=0.19.1 in /usr/local/lib/python3.7/dist-packages (from imbalanced-learn->imblearn) (1.7.3)\n",
            "Requirement already satisfied: joblib>=0.11 in /usr/local/lib/python3.7/dist-packages (from imbalanced-learn->imblearn) (1.1.0)\n",
            "Requirement already satisfied: numpy>=1.13.3 in /usr/local/lib/python3.7/dist-packages (from imbalanced-learn->imblearn) (1.21.6)\n",
            "Requirement already satisfied: threadpoolctl>=2.0.0 in /usr/local/lib/python3.7/dist-packages (from scikit-learn>=0.24->imbalanced-learn->imblearn) (3.1.0)\n"
          ]
        }
      ]
    },
    {
      "cell_type": "code",
      "execution_count": null,
      "metadata": {
        "id": "OfmPJ9ws8AjH",
        "colab": {
          "base_uri": "https://localhost:8080/"
        },
        "outputId": "02d5df7c-d1d0-4d48-f227-4e6497851e81"
      },
      "outputs": [
        {
          "output_type": "stream",
          "name": "stderr",
          "text": [
            "/usr/local/lib/python3.7/dist-packages/statsmodels/tools/_testing.py:19: FutureWarning: pandas.util.testing is deprecated. Use the functions in the public API at pandas.testing instead.\n",
            "  import pandas.util.testing as tm\n"
          ]
        }
      ],
      "source": [
        "#importing initial libraires\n",
        "import pandas as pd\n",
        "import numpy as np \n",
        "from category_encoders import CountEncoder\n",
        "from category_encoders import SumEncoder"
      ]
    },
    {
      "cell_type": "markdown",
      "source": [
        "## Cleaning Functions, used to load and clean our initial pandas dataframe"
      ],
      "metadata": {
        "id": "yylwCgUx9iOA"
      }
    },
    {
      "cell_type": "code",
      "source": [
        "#loading in dataframe\n",
        "df = pd.read_csv(\"traffic_data.2.csv\")"
      ],
      "metadata": {
        "id": "xXuipo0v8JKG"
      },
      "execution_count": null,
      "outputs": []
    },
    {
      "cell_type": "code",
      "source": [
        "#function to binary encode accidents as fatal or nonfatal\n",
        "def encode_fatal_accidents(data):\n",
        "  Severity = []\n",
        "  for row in data['Injuryseverity']:\n",
        "    if row != \"Fatal\":\n",
        "      Severity.append(0) #nonfatal\n",
        "    if row == \"Fatal\":\n",
        "      Severity.append(1) #fatal\n",
        "  data['Fatal_Non_Fatal'] = Severity\n",
        "\n",
        "#this function turns our categorical variables into dummy variables\n",
        "def nominal_encoding(data):\n",
        "  data = [['StreetName','Collisionmanner', 'Lightcondition', 'Weather', 'SurfaceCondition']] \n",
        "  data_dummies = pd.get_dummies(data)\n",
        "  return data_dummies\n",
        "\n",
        "def drop_useless_cols(data):\n",
        "  return_data = data.drop(labels = ['X', 'Y',\n",
        "                      'Incidentid', 'DateTime', 'Year',\n",
        "                       'Latitude', 'Longitude', 'Totalinjuries',\n",
        "                       'Totalfatalities', 'Injuryseverity', 'Distance', 'OBJECTID', 'Age_Drv1', 'Age_Drv2'], axis = 1)\n",
        "  return return_data\n"
      ],
      "metadata": {
        "id": "cCBCqBOP8nI_"
      },
      "execution_count": null,
      "outputs": []
    },
    {
      "cell_type": "code",
      "source": [
        "#helper function that contains the logic for whether or not drugs were involved in an accident\n",
        "def label_drugs(row):\n",
        "  if row['DrugUse_Drv1'] == \"Drugs\" or row['DrugUse_Drv2'] == \"Drugs\":\n",
        "    return 1 #drugs are involved\n",
        "  if row['DrugUse_Drv1'] != \"Drugs\" or row['DrugUse_Drv2'] != \"Drugs\":\n",
        "    return 0 #drugs are not involved\n",
        "\n",
        "#helper function that contains the logic for whether or not alch was involved in an accident\n",
        "def label_alchol(row):\n",
        "  if row['AlcoholUse_Drv1'] == \"Drugs\" or row['AlcoholUse_Drv2'] == \"Drugs\":\n",
        "    return 1 #drugs are involved\n",
        "  if row['AlcoholUse_Drv1'] != \"Drugs\" or row['AlcoholUse_Drv2'] != \"Drugs\":\n",
        "    return 0 #drugs are not involved\n",
        "\n",
        "def apply_drug_alchol_label(input_data):\n",
        "  data1 = input_data['drugs_involved'] = input_data.apply (lambda row: label_drugs(row), axis=1)\n",
        "  data1 = input_data['alcohol_involved'] = input_data.apply (lambda row: label_alchol(row), axis=1)"
      ],
      "metadata": {
        "id": "h_jNLQlS8pEr"
      },
      "execution_count": null,
      "outputs": []
    },
    {
      "cell_type": "code",
      "source": [
        "#this function drops bad columns in light conditions, violations and collisionmanner\n",
        "def drop_useless_rows(input_data):\n",
        "  data1 = input_data[input_data['Lightcondition'].str.contains(\"51\")==False]\n",
        "  data2 = data1[data1['Lightcondition'].str.contains(\"Unknown 51\")==False]\n",
        "  data3 = data2[data2['Violation1_Drv1'].str.contains(\"108\")==False]\n",
        "  data4 = data3[data3['Violation1_Drv1'].str.contains(\"109\")==False]\n",
        "  data5 = data4[data4['Violation1_Drv1'].str.contains(\"49\")==False]\n",
        "  data6 = data5[data5['Collisionmanner'].str.contains(\"10\")==False]\n",
        "  return data6"
      ],
      "metadata": {
        "id": "EbNUpSyb8utD"
      },
      "execution_count": null,
      "outputs": []
    },
    {
      "cell_type": "code",
      "source": [
        "#this function removes outlier driving ages in the data_set and then calculates the median age between the two drivers and creates a new column\n",
        "def age_manipulation(input_data):\n",
        "  data = input_data.drop(input_data.index[input_data['Age_Drv1'] >= 100], inplace=False)\n",
        "  data1 = data.drop(data.index[data['Age_Drv2'] >= 100], inplace=False)\n",
        "  data1['median_age'] = (data1['Age_Drv1'] + data1['Age_Drv2']) / 2\n",
        "  return data1\n"
      ],
      "metadata": {
        "id": "2ZS7vgso8wWH"
      },
      "execution_count": null,
      "outputs": []
    },
    {
      "cell_type": "code",
      "source": [
        "#function to call all the cleaning methods at once\n",
        "def clean_dataset(input_data):\n",
        "  input_data_rows_dropped = drop_useless_rows(input_data)\n",
        "  age_manipulated_data = age_manipulation(input_data_rows_dropped)\n",
        "  return age_manipulated_data"
      ],
      "metadata": {
        "id": "mBrxGD1M8yTY"
      },
      "execution_count": null,
      "outputs": []
    },
    {
      "cell_type": "markdown",
      "source": [
        "## Additional Functions"
      ],
      "metadata": {
        "id": "xgyIA0e6-mXb"
      }
    },
    {
      "cell_type": "code",
      "source": [
        "#takes in a training dataset and encodes it into a frequency encoding\n",
        "def freq_code(train_data):\n",
        "  #seperating features into categorical and numerical\n",
        "  cat_features_input = train_data.select_dtypes(['object'])\n",
        "  numerical_features_input = train_data.select_dtypes(['int', 'float'])\n",
        "\n",
        "  #encoding cat_features\n",
        "  encdoer = CountEncoder(return_df = True)\n",
        "  cat_features_input_encoded = encdoer.fit_transform(cat_features_input)\n",
        "\n",
        "  #concat df back together\n",
        "  converted_data = pd.concat([numerical_features_input, cat_features_input_encoded], axis =1)\n",
        "\n",
        "  return converted_data "
      ],
      "metadata": {
        "id": "xQUCNdQW-oiB"
      },
      "execution_count": null,
      "outputs": []
    },
    {
      "cell_type": "code",
      "source": [
        "def drop_more_cols(data):\n",
        "  return_data = data.drop(labels = ['AlcoholUse_Drv1', 'AlcoholUse_Drv2', 'DrugUse_Drv1', 'DrugUse_Drv2'], axis = 1)\n",
        "  return return_data"
      ],
      "metadata": {
        "id": "t9qk-HIuKriB"
      },
      "execution_count": null,
      "outputs": []
    },
    {
      "cell_type": "markdown",
      "source": [
        "## Cleaning our Initial Dataframe. This section takes in a 'dirty' dataframe and outputs an input dataframe as predictors and labels as our target."
      ],
      "metadata": {
        "id": "tOCVfeb49n_t"
      }
    },
    {
      "cell_type": "code",
      "source": [
        "#the encode function simply creates our binary labels for fatal or non fatal accidents\n",
        "encode_fatal_accidents(df)\n",
        "\n",
        "#setting our clean dataset equal to our cleaned and encoded dataframe\n",
        "clean_dat = clean_dataset(df)\n",
        "\n",
        "#dropping useless cols within the clean dataset\n",
        "clean_dat2_all = drop_useless_cols(clean_dat)\n",
        "\n",
        "#applying drug and alchol labels\n",
        "apply_drug_alchol_label(clean_dat2_all)\n",
        "clean_dat2_all.dropna(inplace=True)\n",
        "\n",
        "#having our initial input vector of all values into one dataframe\n",
        "input_vector = clean_dat2_all.drop(labels = ['Fatal_Non_Fatal'], axis = 1)\n",
        "\n",
        "\n",
        "#we then load the data into to different dataframes one with our input vector and the other with train/test labels\n",
        "X = input_vector\n",
        "y = clean_dat2_all['Fatal_Non_Fatal']"
      ],
      "metadata": {
        "id": "BrtpYXvI82lG"
      },
      "execution_count": null,
      "outputs": []
    },
    {
      "cell_type": "markdown",
      "source": [
        "#After Creating Our Initial Dataframe, we will create two copies, one encoded with count frequencies and the other engineered to be compatible with catboost"
      ],
      "metadata": {
        "id": "caqkuB7P-Nsu"
      }
    },
    {
      "cell_type": "code",
      "source": [
        "from sklearn.model_selection import train_test_split"
      ],
      "metadata": {
        "id": "N7SHj7WD_pvn"
      },
      "execution_count": null,
      "outputs": []
    },
    {
      "cell_type": "markdown",
      "source": [
        "## Count Frequency Implementation\n"
      ],
      "metadata": {
        "id": "_-2Ja5co-ekH"
      }
    },
    {
      "cell_type": "code",
      "source": [
        "#simple test train split\n",
        "x_train_freq, x_test_freq, y_train_freq, y_test_freq = train_test_split(input_vector, y, random_state=0, test_size = .20)"
      ],
      "metadata": {
        "id": "QglfKuwF-eBZ"
      },
      "execution_count": null,
      "outputs": []
    },
    {
      "cell_type": "code",
      "source": [
        "#breaking into two different freq sets one for test and one for train\n",
        "x_train_freq = freq_code(x_train_freq)\n",
        "x_test_freq = freq_code(x_test_freq)\n",
        "\n",
        "#dropping more useless columns in this case the drug and alchol ones related to drivers\n",
        "x_train_freq = drop_more_cols(x_train_freq)\n",
        "x_test_freq = drop_more_cols(x_test_freq)\n",
        "\n",
        "x_freq_all = freq_code(drop_more_cols(input_vector))"
      ],
      "metadata": {
        "id": "TyRJ5v0tBMCp"
      },
      "execution_count": null,
      "outputs": []
    },
    {
      "cell_type": "markdown",
      "source": [
        "## Cat Boost Implementation\n"
      ],
      "metadata": {
        "id": "K5hRBDxv_QPe"
      }
    },
    {
      "cell_type": "code",
      "source": [
        "x_train_cat, x_test_cat, y_train_cat, y_test_cat = train_test_split(input_vector, y, random_state=0, test_size = .20)\n",
        "\n",
        "#dropping more useless columns in this case the drug and alchol ones related to drivers for cat boost data\n",
        "x_train_cat = drop_more_cols(x_train_cat)\n",
        "x_test_cat = drop_more_cols(x_test_cat)\n",
        "\n",
        "x_cat_all = drop_more_cols(input_vector)\n",
        "\n",
        "categorical_features_indices = np.where(x_train_cat.dtypes != float)[0]"
      ],
      "metadata": {
        "id": "SP-M_zse_RhQ"
      },
      "execution_count": null,
      "outputs": []
    },
    {
      "cell_type": "markdown",
      "source": [
        "## With our two seperate areas we can now run baseline models with feature selection methods"
      ],
      "metadata": {
        "id": "5_LiHPqCByPd"
      }
    },
    {
      "cell_type": "markdown",
      "source": [
        "### Pipeline Implementation and Baseline model training"
      ],
      "metadata": {
        "id": "ZUtIfnuSI2Zz"
      }
    },
    {
      "cell_type": "code",
      "source": [
        "#pipelines\n",
        "from sklearn.pipeline import Pipeline\n",
        "\n",
        "#models for pipelines\n",
        "from sklearn.linear_model import LogisticRegression\n",
        "from sklearn.ensemble import RandomForestClassifier\n",
        "from sklearn.ensemble import GradientBoostingClassifier\n",
        "from sklearn.ensemble import AdaBoostClassifier\n",
        "from catboost import CatBoostClassifier\n",
        "\n",
        "#metric measurements\n",
        "from sklearn.metrics import precision_score\n",
        "from sklearn.metrics import recall_score\n",
        "from sklearn.metrics import accuracy_score\n",
        "from sklearn.metrics import f1_score\n",
        "from sklearn.metrics import RocCurveDisplay\n",
        "from sklearn.metrics import ConfusionMatrixDisplay"
      ],
      "metadata": {
        "id": "nm8Z_1XbCCvP"
      },
      "execution_count": null,
      "outputs": []
    },
    {
      "cell_type": "code",
      "source": [
        "#function to use as a metric scorer\n",
        "def metric_scoring(classifier, x_test_data, y_test_data):\n",
        "  y_true = y_test_data\n",
        "  y_pred = classifier.predict(x_test_data)\n",
        "  precision = precision_score(y_true, y_pred)\n",
        "  recall = recall_score(y_true, y_pred)\n",
        "  accuracy = accuracy_score(y_true, y_pred)\n",
        "  f1 = f1_score(y_true, y_pred)\n",
        "\n",
        "  metric_data = {\n",
        "      'Precision' : precision,\n",
        "      'Recall' : recall,\n",
        "      'Accuracy': accuracy,\n",
        "      'F1 Score': f1\n",
        "  }\n",
        "  return metric_data"
      ],
      "metadata": {
        "id": "zcvEIbjfG338"
      },
      "execution_count": null,
      "outputs": []
    },
    {
      "cell_type": "code",
      "source": [
        "pipe_rf= Pipeline([('rf_classifier',RandomForestClassifier())])\n",
        "pipe_gb= Pipeline([('gradient_boost_classifier',GradientBoostingClassifier())])\n",
        "pipe_ada= Pipeline([('ada_boost_classifier',AdaBoostClassifier())])\n",
        "pipe_lr= Pipeline([('lr_classifier',LogisticRegression(random_state=0))])\n",
        "\n",
        "pipelines = [pipe_rf, pipe_gb, pipe_ada, pipe_lr]"
      ],
      "metadata": {
        "id": "_fbFSLwuIqG6"
      },
      "execution_count": null,
      "outputs": []
    },
    {
      "cell_type": "code",
      "source": [
        "for pipe in pipelines[0:4]:\n",
        "  pipe.fit(x_train_freq, y_train_freq)"
      ],
      "metadata": {
        "colab": {
          "base_uri": "https://localhost:8080/"
        },
        "id": "nsX9QEWuNPqt",
        "outputId": "b3354395-424c-4638-8954-7ee080b26874"
      },
      "execution_count": null,
      "outputs": [
        {
          "output_type": "stream",
          "name": "stderr",
          "text": [
            "/usr/local/lib/python3.7/dist-packages/sklearn/linear_model/_logistic.py:818: ConvergenceWarning: lbfgs failed to converge (status=1):\n",
            "STOP: TOTAL NO. of ITERATIONS REACHED LIMIT.\n",
            "\n",
            "Increase the number of iterations (max_iter) or scale the data as shown in:\n",
            "    https://scikit-learn.org/stable/modules/preprocessing.html\n",
            "Please also refer to the documentation for alternative solver options:\n",
            "    https://scikit-learn.org/stable/modules/linear_model.html#logistic-regression\n",
            "  extra_warning_msg=_LOGISTIC_SOLVER_CONVERGENCE_MSG,\n"
          ]
        }
      ]
    },
    {
      "cell_type": "code",
      "source": [
        "#random forest metrics\n",
        "metric_scoring(pipelines[0],x_test_freq, y_test_freq)"
      ],
      "metadata": {
        "colab": {
          "base_uri": "https://localhost:8080/"
        },
        "id": "6E-gLqZhO5jo",
        "outputId": "c6923bda-a0d1-47b3-8233-74a691717a40"
      },
      "execution_count": null,
      "outputs": [
        {
          "output_type": "stream",
          "name": "stderr",
          "text": [
            "/usr/local/lib/python3.7/dist-packages/sklearn/metrics/_classification.py:1318: UndefinedMetricWarning: Precision is ill-defined and being set to 0.0 due to no predicted samples. Use `zero_division` parameter to control this behavior.\n",
            "  _warn_prf(average, modifier, msg_start, len(result))\n"
          ]
        },
        {
          "output_type": "execute_result",
          "data": {
            "text/plain": [
              "{'Accuracy': 0.997685542354575,\n",
              " 'F1 Score': 0.0,\n",
              " 'Precision': 0.0,\n",
              " 'Recall': 0.0}"
            ]
          },
          "metadata": {},
          "execution_count": 20
        }
      ]
    },
    {
      "cell_type": "code",
      "source": [
        "#gradient boosting metrics\n",
        "metric_scoring(pipelines[1],x_test_freq, y_test_freq)"
      ],
      "metadata": {
        "colab": {
          "base_uri": "https://localhost:8080/"
        },
        "id": "B1IQ0cm6PcKj",
        "outputId": "f2bb2c55-f9a0-40a4-ba4f-21debf84ec09"
      },
      "execution_count": null,
      "outputs": [
        {
          "output_type": "execute_result",
          "data": {
            "text/plain": [
              "{'Accuracy': 0.9970683536491283,\n",
              " 'F1 Score': 0.09523809523809522,\n",
              " 'Precision': 0.16666666666666666,\n",
              " 'Recall': 0.06666666666666667}"
            ]
          },
          "metadata": {},
          "execution_count": 21
        }
      ]
    },
    {
      "cell_type": "code",
      "source": [
        "#adaboost metrics\n",
        "metric_scoring(pipelines[2],x_test_freq, y_test_freq)"
      ],
      "metadata": {
        "colab": {
          "base_uri": "https://localhost:8080/"
        },
        "id": "BYAtBDonQOOJ",
        "outputId": "7ce3ad1c-48d8-448c-a828-ec83d80cc033"
      },
      "execution_count": null,
      "outputs": [
        {
          "output_type": "stream",
          "name": "stderr",
          "text": [
            "/usr/local/lib/python3.7/dist-packages/sklearn/metrics/_classification.py:1318: UndefinedMetricWarning: Precision is ill-defined and being set to 0.0 due to no predicted samples. Use `zero_division` parameter to control this behavior.\n",
            "  _warn_prf(average, modifier, msg_start, len(result))\n"
          ]
        },
        {
          "output_type": "execute_result",
          "data": {
            "text/plain": [
              "{'Accuracy': 0.997685542354575,\n",
              " 'F1 Score': 0.0,\n",
              " 'Precision': 0.0,\n",
              " 'Recall': 0.0}"
            ]
          },
          "metadata": {},
          "execution_count": 22
        }
      ]
    },
    {
      "cell_type": "code",
      "source": [
        "#logistic regression metrics \n",
        "metric_scoring(pipelines[3],x_test_freq, y_test_freq)"
      ],
      "metadata": {
        "colab": {
          "base_uri": "https://localhost:8080/"
        },
        "id": "v5TBIVmTQPm5",
        "outputId": "7db6ae03-ddfe-4fd5-8939-207c1b8a614d"
      },
      "execution_count": null,
      "outputs": [
        {
          "output_type": "stream",
          "name": "stderr",
          "text": [
            "/usr/local/lib/python3.7/dist-packages/sklearn/metrics/_classification.py:1318: UndefinedMetricWarning: Precision is ill-defined and being set to 0.0 due to no predicted samples. Use `zero_division` parameter to control this behavior.\n",
            "  _warn_prf(average, modifier, msg_start, len(result))\n"
          ]
        },
        {
          "output_type": "execute_result",
          "data": {
            "text/plain": [
              "{'Accuracy': 0.997685542354575,\n",
              " 'F1 Score': 0.0,\n",
              " 'Precision': 0.0,\n",
              " 'Recall': 0.0}"
            ]
          },
          "metadata": {},
          "execution_count": 23
        }
      ]
    },
    {
      "cell_type": "code",
      "source": [
        "#now we will train the cat boost \n",
        "catBoost = CatBoostClassifier()\n",
        "\n",
        "catBoost.fit(\n",
        "    x_train_cat, y_train_cat, cat_features=categorical_features_indices, \n",
        "    plot=True)"
      ],
      "metadata": {
        "id": "RNTRNQfiQsty"
      },
      "execution_count": null,
      "outputs": []
    },
    {
      "cell_type": "code",
      "source": [
        "#metrics for CatBoost\n",
        "metric_scoring(catBoost,x_test_cat, y_test_cat)"
      ],
      "metadata": {
        "colab": {
          "base_uri": "https://localhost:8080/"
        },
        "id": "fFS1MMWZQwVW",
        "outputId": "1c3415c3-6d67-40a8-ee23-4ee2098fc223"
      },
      "execution_count": null,
      "outputs": [
        {
          "output_type": "execute_result",
          "data": {
            "text/plain": [
              "{'Accuracy': 0.9978398395309366,\n",
              " 'F1 Score': 0.125,\n",
              " 'Precision': 1.0,\n",
              " 'Recall': 0.06666666666666667}"
            ]
          },
          "metadata": {},
          "execution_count": 25
        }
      ]
    },
    {
      "cell_type": "markdown",
      "source": [
        "### Visualizing Metrics with Confusion Matrix "
      ],
      "metadata": {
        "id": "ZHGgtFf_TP7A"
      }
    },
    {
      "cell_type": "code",
      "source": [
        "#rf matrix\n",
        "ConfusionMatrixDisplay.from_estimator(pipelines[0], x_test_freq, y_test_freq)"
      ],
      "metadata": {
        "colab": {
          "base_uri": "https://localhost:8080/",
          "height": 296
        },
        "id": "E0yjW0r2Ta89",
        "outputId": "bf363810-4678-4e58-8fae-b811fc1824ed"
      },
      "execution_count": null,
      "outputs": [
        {
          "output_type": "execute_result",
          "data": {
            "text/plain": [
              "<sklearn.metrics._plot.confusion_matrix.ConfusionMatrixDisplay at 0x7fd243200dd0>"
            ]
          },
          "metadata": {},
          "execution_count": 26
        },
        {
          "output_type": "display_data",
          "data": {
            "text/plain": [
              "<Figure size 432x288 with 2 Axes>"
            ],
            "image/png": "[encoded data removed]"
          },
          "metadata": {
            "needs_background": "light"
          }
        }
      ]
    },
    {
      "cell_type": "code",
      "source": [
        "#gradient boost matrix\n",
        "ConfusionMatrixDisplay.from_estimator(pipelines[1], x_test_freq, y_test_freq)"
      ],
      "metadata": {
        "colab": {
          "base_uri": "https://localhost:8080/",
          "height": 296
        },
        "id": "_xDtySMUTawW",
        "outputId": "0005514a-f8b4-41c4-925a-334b49e80a8f"
      },
      "execution_count": null,
      "outputs": [
        {
          "output_type": "execute_result",
          "data": {
            "text/plain": [
              "<sklearn.metrics._plot.confusion_matrix.ConfusionMatrixDisplay at 0x7fd2680b5ed0>"
            ]
          },
          "metadata": {},
          "execution_count": 27
        },
        {
          "output_type": "display_data",
          "data": {
            "text/plain": [
              "<Figure size 432x288 with 2 Axes>"
            ],
            "image/png": "[encoded data removed]"
          },
          "metadata": {
            "needs_background": "light"
          }
        }
      ]
    },
    {
      "cell_type": "code",
      "source": [
        "#ada boost matrix\n",
        "ConfusionMatrixDisplay.from_estimator(pipelines[2], x_test_freq, y_test_freq)"
      ],
      "metadata": {
        "colab": {
          "base_uri": "https://localhost:8080/",
          "height": 296
        },
        "id": "MpEQGbJeTakp",
        "outputId": "f5db9904-3696-4e72-a350-4a5ea6538749"
      },
      "execution_count": null,
      "outputs": [
        {
          "output_type": "execute_result",
          "data": {
            "text/plain": [
              "<sklearn.metrics._plot.confusion_matrix.ConfusionMatrixDisplay at 0x7fd22a9aba90>"
            ]
          },
          "metadata": {},
          "execution_count": 28
        },
        {
          "output_type": "display_data",
          "data": {
            "text/plain": [
              "<Figure size 432x288 with 2 Axes>"
            ],
            "image/png": "[encoded data removed]"
          },
          "metadata": {
            "needs_background": "light"
          }
        }
      ]
    },
    {
      "cell_type": "code",
      "source": [
        "#logistic\n",
        "ConfusionMatrixDisplay.from_estimator(pipelines[3], x_test_freq, y_test_freq)"
      ],
      "metadata": {
        "colab": {
          "base_uri": "https://localhost:8080/",
          "height": 296
        },
        "id": "ZJSvm7mmTaa4",
        "outputId": "2362730b-b5b0-4b91-8f67-ca5e50c84130"
      },
      "execution_count": null,
      "outputs": [
        {
          "output_type": "execute_result",
          "data": {
            "text/plain": [
              "<sklearn.metrics._plot.confusion_matrix.ConfusionMatrixDisplay at 0x7fd229d0ec90>"
            ]
          },
          "metadata": {},
          "execution_count": 29
        },
        {
          "output_type": "display_data",
          "data": {
            "text/plain": [
              "<Figure size 432x288 with 2 Axes>"
            ],
            "image/png": "[encoded data removed]"
          },
          "metadata": {
            "needs_background": "light"
          }
        }
      ]
    },
    {
      "cell_type": "code",
      "source": [
        "#cat boost matrix\n",
        "ConfusionMatrixDisplay.from_estimator(catBoost, x_test_cat, y_test_cat)"
      ],
      "metadata": {
        "colab": {
          "base_uri": "https://localhost:8080/",
          "height": 296
        },
        "id": "U1XPHtclTV5x",
        "outputId": "705ec34e-5e1f-4ea8-d4dd-ca018d2c3f0e"
      },
      "execution_count": null,
      "outputs": [
        {
          "output_type": "execute_result",
          "data": {
            "text/plain": [
              "<sklearn.metrics._plot.confusion_matrix.ConfusionMatrixDisplay at 0x7fd229cdfd10>"
            ]
          },
          "metadata": {},
          "execution_count": 30
        },
        {
          "output_type": "display_data",
          "data": {
            "text/plain": [
              "<Figure size 432x288 with 2 Axes>"
            ],
            "image/png": "[encoded data removed]"
          },
          "metadata": {
            "needs_background": "light"
          }
        }
      ]
    },
    {
      "cell_type": "markdown",
      "source": [
        "### Visualizing Metrics with ROC Curve "
      ],
      "metadata": {
        "id": "hFCRBthcUW9K"
      }
    },
    {
      "cell_type": "code",
      "source": [
        "#rf ROC Curve\n",
        "RocCurveDisplay.from_estimator(pipelines[0], x_test_freq, y_test_freq)"
      ],
      "metadata": {
        "colab": {
          "base_uri": "https://localhost:8080/",
          "height": 296
        },
        "id": "AZtqod-oUY64",
        "outputId": "f83d2710-34aa-4d8c-a80d-7eb3db30491d"
      },
      "execution_count": null,
      "outputs": [
        {
          "output_type": "execute_result",
          "data": {
            "text/plain": [
              "<sklearn.metrics._plot.roc_curve.RocCurveDisplay at 0x7fd229b26e90>"
            ]
          },
          "metadata": {},
          "execution_count": 31
        },
        {
          "output_type": "display_data",
          "data": {
            "text/plain": [
              "<Figure size 432x288 with 1 Axes>"
            ],
            "image/png": "[encoded data removed]"
          },
          "metadata": {
            "needs_background": "light"
          }
        }
      ]
    },
    {
      "cell_type": "code",
      "source": [
        "#gradient boost ROC Curve\n",
        "RocCurveDisplay.from_estimator(pipelines[1], x_test_freq, y_test_freq)"
      ],
      "metadata": {
        "colab": {
          "base_uri": "https://localhost:8080/",
          "height": 296
        },
        "id": "y1U7Pq1kU3r-",
        "outputId": "5147f625-6ed4-4e93-8937-df8fec546193"
      },
      "execution_count": null,
      "outputs": [
        {
          "output_type": "execute_result",
          "data": {
            "text/plain": [
              "<sklearn.metrics._plot.roc_curve.RocCurveDisplay at 0x7fd229ace850>"
            ]
          },
          "metadata": {},
          "execution_count": 32
        },
        {
          "output_type": "display_data",
          "data": {
            "text/plain": [
              "<Figure size 432x288 with 1 Axes>"
            ],
            "image/png": "[encoded data removed]"
          },
          "metadata": {
            "needs_background": "light"
          }
        }
      ]
    },
    {
      "cell_type": "code",
      "source": [
        "#ada boost ROC Curve\n",
        "RocCurveDisplay.from_estimator(pipelines[2], x_test_freq, y_test_freq)"
      ],
      "metadata": {
        "colab": {
          "base_uri": "https://localhost:8080/",
          "height": 296
        },
        "id": "8XpR4YSnU7K0",
        "outputId": "c0dadf83-d25e-4d1e-8ada-2274502ed348"
      },
      "execution_count": null,
      "outputs": [
        {
          "output_type": "execute_result",
          "data": {
            "text/plain": [
              "<sklearn.metrics._plot.roc_curve.RocCurveDisplay at 0x7fd229a8e790>"
            ]
          },
          "metadata": {},
          "execution_count": 33
        },
        {
          "output_type": "display_data",
          "data": {
            "text/plain": [
              "<Figure size 432x288 with 1 Axes>"
            ],
            "image/png": "[encoded data removed]"
          },
          "metadata": {
            "needs_background": "light"
          }
        }
      ]
    },
    {
      "cell_type": "code",
      "source": [
        "#logistic ROC Curve\n",
        "RocCurveDisplay.from_estimator(pipelines[3], x_test_freq, y_test_freq)"
      ],
      "metadata": {
        "colab": {
          "base_uri": "https://localhost:8080/",
          "height": 296
        },
        "id": "TK-3xAnwU-vl",
        "outputId": "e4e5ae92-248a-497a-9d93-aff1288c4223"
      },
      "execution_count": null,
      "outputs": [
        {
          "output_type": "execute_result",
          "data": {
            "text/plain": [
              "<sklearn.metrics._plot.roc_curve.RocCurveDisplay at 0x7fd229a9bf50>"
            ]
          },
          "metadata": {},
          "execution_count": 34
        },
        {
          "output_type": "display_data",
          "data": {
            "text/plain": [
              "<Figure size 432x288 with 1 Axes>"
            ],
            "image/png": "[encoded data removed]"
          },
          "metadata": {
            "needs_background": "light"
          }
        }
      ]
    },
    {
      "cell_type": "code",
      "source": [
        "#cat boost ROC Curve\n",
        "RocCurveDisplay.from_estimator(catBoost, x_test_cat, y_test_cat)"
      ],
      "metadata": {
        "colab": {
          "base_uri": "https://localhost:8080/",
          "height": 296
        },
        "id": "lbIgw1lKVCrz",
        "outputId": "9d608367-e4e9-4f53-fb73-4e45469e70b7"
      },
      "execution_count": null,
      "outputs": [
        {
          "output_type": "execute_result",
          "data": {
            "text/plain": [
              "<sklearn.metrics._plot.roc_curve.RocCurveDisplay at 0x7fd229bcd990>"
            ]
          },
          "metadata": {},
          "execution_count": 35
        },
        {
          "output_type": "display_data",
          "data": {
            "text/plain": [
              "<Figure size 432x288 with 1 Axes>"
            ],
            "image/png": "[encoded data removed]"
          },
          "metadata": {
            "needs_background": "light"
          }
        }
      ]
    },
    {
      "cell_type": "markdown",
      "source": [
        "### CatBoost and Gradient Boost have best out of box performance, now we will focus on tailoring features, and then running under and over sampling methods."
      ],
      "metadata": {
        "id": "GrFVHlrDVcdy"
      }
    },
    {
      "cell_type": "code",
      "source": [
        "#feature engineering using built in weights derived from both gradient and cat boost\n",
        "import matplotlib.pyplot as plt\n",
        "\n",
        "gb = GradientBoostingClassifier()\n",
        "gb.fit(x_train_freq, y_train_freq)"
      ],
      "metadata": {
        "id": "aChSt8g_VdFF",
        "colab": {
          "base_uri": "https://localhost:8080/"
        },
        "outputId": "4b3e3a82-3404-4688-8732-75c74d0b55af"
      },
      "execution_count": null,
      "outputs": [
        {
          "output_type": "execute_result",
          "data": {
            "text/plain": [
              "GradientBoostingClassifier()"
            ]
          },
          "metadata": {},
          "execution_count": 36
        }
      ]
    },
    {
      "cell_type": "code",
      "source": [
        "from matplotlib.pyplot import figure\n"
      ],
      "metadata": {
        "id": "4Lrj3l2smY5t"
      },
      "execution_count": null,
      "outputs": []
    },
    {
      "cell_type": "code",
      "source": [
        "gb_features = gb.feature_importances_\n",
        "plt.barh(x_train_freq.columns, sorted(gb.feature_importances_))\n",
        "figure(figsize=(40, 20), dpi=500)"
      ],
      "metadata": {
        "colab": {
          "base_uri": "https://localhost:8080/",
          "height": 299
        },
        "id": "4RaHIhMpi-lC",
        "outputId": "d7b56cf0-602d-43ed-91aa-520eea3fda3e"
      },
      "execution_count": null,
      "outputs": [
        {
          "output_type": "execute_result",
          "data": {
            "text/plain": [
              "<Figure size 20000x10000 with 0 Axes>"
            ]
          },
          "metadata": {},
          "execution_count": 38
        },
        {
          "output_type": "display_data",
          "data": {
            "text/plain": [
              "<Figure size 432x288 with 1 Axes>"
            ],
            "image/png": "[encoded data removed]"
          },
          "metadata": {
            "needs_background": "light"
          }
        },
        {
          "output_type": "display_data",
          "data": {
            "text/plain": [
              "<Figure size 20000x10000 with 0 Axes>"
            ]
          },
          "metadata": {}
        }
      ]
    },
    {
      "cell_type": "code",
      "source": [
        "#feature importance by index for cat boosting\n",
        "cat_features = catBoost.feature_importances_\n",
        "plt.barh(x_train_cat.columns, sorted(catBoost.feature_importances_))\n",
        "figure(figsize=(40, 20), dpi=500)"
      ],
      "metadata": {
        "colab": {
          "base_uri": "https://localhost:8080/",
          "height": 299
        },
        "id": "h8Zfdq8TdYa6",
        "outputId": "bfbd439a-c2a1-4bc7-9a28-129b8cb9e9de"
      },
      "execution_count": null,
      "outputs": [
        {
          "output_type": "execute_result",
          "data": {
            "text/plain": [
              "<Figure size 20000x10000 with 0 Axes>"
            ]
          },
          "metadata": {},
          "execution_count": 39
        },
        {
          "output_type": "display_data",
          "data": {
            "text/plain": [
              "<Figure size 432x288 with 1 Axes>"
            ],
            "image/png": "[encoded data removed]"
          },
          "metadata": {
            "needs_background": "light"
          }
        },
        {
          "output_type": "display_data",
          "data": {
            "text/plain": [
              "<Figure size 20000x10000 with 0 Axes>"
            ]
          },
          "metadata": {}
        }
      ]
    },
    {
      "cell_type": "markdown",
      "source": [
        "### Gradient Boost Sparse Iteration 2, sparse model"
      ],
      "metadata": {
        "id": "5sbgUIKGrA61"
      }
    },
    {
      "cell_type": "code",
      "source": [
        "#based on the feature importance found from catboost and gradient boosting, we will now create a reduced model, to see if an increase in performance occurs, additionally we will take out gender, as I hypothesize that it may not add much value\n",
        "#first we will do the sparse gradient boosted model \n",
        "x_train_freq, x_test_freq, y_train_freq, y_test_freq = train_test_split(input_vector, y, random_state=0, test_size = .20)"
      ],
      "metadata": {
        "id": "7pxyu-fdmfUz"
      },
      "execution_count": null,
      "outputs": []
    },
    {
      "cell_type": "code",
      "source": [
        "x_train_freq = freq_code(x_train_freq)\n",
        "x_train_freq = drop_more_cols(x_train_freq)"
      ],
      "metadata": {
        "id": "ziavhO1mm0ZA"
      },
      "execution_count": null,
      "outputs": []
    },
    {
      "cell_type": "code",
      "source": [
        "#dropping gender and sparse features\n",
        "x_train_freq.drop(columns = ['Gender_Drv1', 'Gender_Drv2','JunctionRelation', \n",
        "                             'Collisionmanner', 'Lightcondition',\n",
        "                             'Weather', 'SurfaceCondition', 'Unittype_One', \n",
        "                             'Traveldirection_One', 'Unitaction_One', 'Violation1_Drv1', \n",
        "                             'Unittype_Two', 'CrossStreet', 'StreetName', 'alcohol_involved', \n",
        "                             'median_age'], axis = 1, inplace = True)"
      ],
      "metadata": {
        "id": "Fv816ozOnVzU"
      },
      "execution_count": null,
      "outputs": []
    },
    {
      "cell_type": "code",
      "source": [
        "gb_sparse = GradientBoostingClassifier()\n",
        "\n",
        "gb_sparse.fit(x_train_freq, y_train_freq)"
      ],
      "metadata": {
        "colab": {
          "base_uri": "https://localhost:8080/"
        },
        "id": "72Y4PwpspHAZ",
        "outputId": "0d50e810-e0c7-43d3-b224-8e4ebda62e5b"
      },
      "execution_count": null,
      "outputs": [
        {
          "output_type": "execute_result",
          "data": {
            "text/plain": [
              "GradientBoostingClassifier()"
            ]
          },
          "metadata": {},
          "execution_count": 67
        }
      ]
    },
    {
      "cell_type": "code",
      "source": [
        "#prepping test data\n",
        "x_test_freq = freq_code(x_test_freq)\n",
        "x_test_freq = drop_more_cols(x_test_freq)\n",
        "\n",
        "#dropping gender and sparse features\n",
        "x_test_freq.drop(columns = ['Gender_Drv1', 'Gender_Drv2','JunctionRelation', \n",
        "                             'Collisionmanner', 'Lightcondition',\n",
        "                             'Weather', 'SurfaceCondition', 'Unittype_One', \n",
        "                             'Traveldirection_One', 'Unitaction_One', 'Violation1_Drv1', \n",
        "                             'Unittype_Two', 'CrossStreet', 'StreetName', 'alcohol_involved', \n",
        "                             'median_age'], axis = 1, inplace = True)"
      ],
      "metadata": {
        "id": "NDRFu3IcpfVK"
      },
      "execution_count": null,
      "outputs": []
    },
    {
      "cell_type": "code",
      "source": [
        "#checking ROC Curve from sparse model\n",
        "#sparse model does considerably worse\n",
        "RocCurveDisplay.from_estimator(gb_sparse, x_test_freq, y_test_freq)"
      ],
      "metadata": {
        "colab": {
          "base_uri": "https://localhost:8080/",
          "height": 296
        },
        "id": "tGvmvfDTpSSw",
        "outputId": "93344420-90b8-4fcc-cd40-869403224539"
      },
      "execution_count": null,
      "outputs": [
        {
          "output_type": "execute_result",
          "data": {
            "text/plain": [
              "<sklearn.metrics._plot.roc_curve.RocCurveDisplay at 0x7fd22941c210>"
            ]
          },
          "metadata": {},
          "execution_count": 69
        },
        {
          "output_type": "display_data",
          "data": {
            "text/plain": [
              "<Figure size 432x288 with 1 Axes>"
            ],
            "image/png": "[encoded data removed]"
          },
          "metadata": {
            "needs_background": "light"
          }
        }
      ]
    },
    {
      "cell_type": "code",
      "source": [
        "ConfusionMatrixDisplay.from_estimator(gb_sparse, x_test_freq, y_test_freq)"
      ],
      "metadata": {
        "colab": {
          "base_uri": "https://localhost:8080/",
          "height": 296
        },
        "id": "zD4xC1jCpnP9",
        "outputId": "08e781f4-0841-4196-d7d8-d3cd96317b4d"
      },
      "execution_count": null,
      "outputs": [
        {
          "output_type": "execute_result",
          "data": {
            "text/plain": [
              "<sklearn.metrics._plot.confusion_matrix.ConfusionMatrixDisplay at 0x7fd2293abc50>"
            ]
          },
          "metadata": {},
          "execution_count": 70
        },
        {
          "output_type": "display_data",
          "data": {
            "text/plain": [
              "<Figure size 432x288 with 2 Axes>"
            ],
            "image/png": "[encoded data removed]"
          },
          "metadata": {
            "needs_background": "light"
          }
        }
      ]
    },
    {
      "cell_type": "code",
      "source": [
        "#sparse gb_model is very poor  \n",
        "metric_scoring(gb_sparse, x_test_freq, y_test_freq)"
      ],
      "metadata": {
        "colab": {
          "base_uri": "https://localhost:8080/"
        },
        "id": "7bGtP0A-pw3J",
        "outputId": "7e4c80aa-fee8-46fa-e077-acb4c4b5668d"
      },
      "execution_count": null,
      "outputs": [
        {
          "output_type": "execute_result",
          "data": {
            "text/plain": [
              "{'Accuracy': 0.9972226508254899,\n",
              " 'F1 Score': 0.0,\n",
              " 'Precision': 0.0,\n",
              " 'Recall': 0.0}"
            ]
          },
          "metadata": {},
          "execution_count": 71
        }
      ]
    },
    {
      "cell_type": "markdown",
      "source": [
        "###Gradient Boost Iteration 3, less sparse model, still lags"
      ],
      "metadata": {
        "id": "LMVNY_r6qQsw"
      }
    },
    {
      "cell_type": "code",
      "source": [
        "#third iteration of GB model, now adding back more features and only taking out '0' weight vars\n",
        "x_train_freq, x_test_freq, y_train_freq, y_test_freq = train_test_split(input_vector, y, random_state=0, test_size = .20)"
      ],
      "metadata": {
        "id": "ZNRAysz2p6uY"
      },
      "execution_count": null,
      "outputs": []
    },
    {
      "cell_type": "code",
      "source": [
        "x_train_freq = freq_code(x_train_freq)\n",
        "x_train_freq = drop_more_cols(x_train_freq)"
      ],
      "metadata": {
        "id": "LWoMb_q_qPwL"
      },
      "execution_count": null,
      "outputs": []
    },
    {
      "cell_type": "code",
      "source": [
        "x_train_freq.drop(columns = ['CrossStreet', 'StreetName', 'alcohol_involved', \n",
        "                             'median_age'], axis = 1, inplace = True)"
      ],
      "metadata": {
        "id": "qx4TbuqvqWo3"
      },
      "execution_count": null,
      "outputs": []
    },
    {
      "cell_type": "code",
      "source": [
        "gb_sparse2 = GradientBoostingClassifier()\n",
        "\n",
        "gb_sparse2.fit(x_train_freq, y_train_freq)"
      ],
      "metadata": {
        "colab": {
          "base_uri": "https://localhost:8080/"
        },
        "id": "DhlM6FLKqhXY",
        "outputId": "41fdec36-4d9d-4e9b-beec-40ca99653c8e"
      },
      "execution_count": null,
      "outputs": [
        {
          "output_type": "execute_result",
          "data": {
            "text/plain": [
              "GradientBoostingClassifier()"
            ]
          },
          "metadata": {},
          "execution_count": 75
        }
      ]
    },
    {
      "cell_type": "code",
      "source": [
        "x_test_freq = freq_code(x_test_freq)\n",
        "x_test_freq = drop_more_cols(x_test_freq)\n",
        "\n",
        "#dropping gender and sparse features\n",
        "x_test_freq.drop(columns = ['CrossStreet', 'StreetName', 'alcohol_involved', \n",
        "                             'median_age'], axis = 1, inplace = True)"
      ],
      "metadata": {
        "id": "fPpTQxpVqkSG"
      },
      "execution_count": null,
      "outputs": []
    },
    {
      "cell_type": "code",
      "source": [
        "#performance improves but still lags behind baseline model\n",
        "RocCurveDisplay.from_estimator(gb_sparse2, x_test_freq, y_test_freq)"
      ],
      "metadata": {
        "colab": {
          "base_uri": "https://localhost:8080/",
          "height": 296
        },
        "id": "-3KrPff1qpWz",
        "outputId": "8125688d-4348-459d-d994-4faea4ca609f"
      },
      "execution_count": null,
      "outputs": [
        {
          "output_type": "execute_result",
          "data": {
            "text/plain": [
              "<sklearn.metrics._plot.roc_curve.RocCurveDisplay at 0x7fd2292ddb50>"
            ]
          },
          "metadata": {},
          "execution_count": 77
        },
        {
          "output_type": "display_data",
          "data": {
            "text/plain": [
              "<Figure size 432x288 with 1 Axes>"
            ],
            "image/png": "[encoded data removed]"
          },
          "metadata": {
            "needs_background": "light"
          }
        }
      ]
    },
    {
      "cell_type": "code",
      "source": [
        "ConfusionMatrixDisplay.from_estimator(gb_sparse2, x_test_freq, y_test_freq)"
      ],
      "metadata": {
        "colab": {
          "base_uri": "https://localhost:8080/",
          "height": 296
        },
        "id": "f2M8QfNCqrWJ",
        "outputId": "f4a2bed3-16f9-4432-ab59-1369e0dd078d"
      },
      "execution_count": null,
      "outputs": [
        {
          "output_type": "execute_result",
          "data": {
            "text/plain": [
              "<sklearn.metrics._plot.confusion_matrix.ConfusionMatrixDisplay at 0x7fd229275050>"
            ]
          },
          "metadata": {},
          "execution_count": 78
        },
        {
          "output_type": "display_data",
          "data": {
            "text/plain": [
              "<Figure size 432x288 with 2 Axes>"
            ],
            "image/png": "[encoded data removed]"
          },
          "metadata": {
            "needs_background": "light"
          }
        }
      ]
    },
    {
      "cell_type": "markdown",
      "source": [
        "### Catboost Iteration 2, sparse model"
      ],
      "metadata": {
        "id": "YNEbIHTzrKIi"
      }
    },
    {
      "cell_type": "code",
      "source": [
        "#prepping the data, getting rid of useless features\n",
        "x_train_cat, x_test_cat, y_train_cat, y_test_cat = train_test_split(input_vector, y, random_state=0, test_size = .20)\n",
        "\n",
        "x_train_cat, x_val_cat, y_train_cat, y_val_cat = train_test_split(x_train_cat, y_train_cat, test_size=0.20, random_state=0)\n",
        "\n",
        "#dropping more useless columns in this case the drug and alchol ones related to drivers for cat boost data\n",
        "x_train_cat = drop_more_cols(x_train_cat)\n",
        "x_train_cat.drop(columns = ['CrossStreet', 'StreetName'], inplace = True)\n",
        "\n",
        "x_val_cat = drop_more_cols(x_val_cat)\n",
        "x_val_cat.drop(columns = ['CrossStreet', 'StreetName'],inplace = True)\n"
      ],
      "metadata": {
        "id": "_8sl8lzXrNDv"
      },
      "execution_count": 116,
      "outputs": []
    },
    {
      "cell_type": "code",
      "source": [
        "categorical_features_indices = np.where(x_train_cat.dtypes != float)[0]\n"
      ],
      "metadata": {
        "id": "3-vGwL_duqhA"
      },
      "execution_count": 117,
      "outputs": []
    },
    {
      "cell_type": "code",
      "source": [
        "catBoost2 = CatBoostClassifier()\n"
      ],
      "metadata": {
        "id": "wjOMex-HtnHB"
      },
      "execution_count": 118,
      "outputs": []
    },
    {
      "cell_type": "code",
      "source": [
        "#fitting model\n",
        "catBoost2.fit(\n",
        "    x_train_cat, y_train_cat, cat_features=categorical_features_indices, \n",
        "    eval_set = (x_val_cat, y_val_cat), plot=True)"
      ],
      "metadata": {
        "id": "hz90-sZ1rvjP"
      },
      "execution_count": null,
      "outputs": []
    },
    {
      "cell_type": "code",
      "source": [
        "#preprocessing test data, after training process\n",
        "x_test_cat = drop_more_cols(x_test_cat)\n",
        "x_test_cat.drop(columns = ['CrossStreet', 'StreetName'], inplace = True)"
      ],
      "metadata": {
        "id": "soMdrEp8wiNC"
      },
      "execution_count": 125,
      "outputs": []
    },
    {
      "cell_type": "code",
      "source": [
        "#AUC Increased\n",
        "ocCurveDisplay.from_estimator(catBoost2, x_test_cat, y_test_cat)"
      ],
      "metadata": {
        "colab": {
          "base_uri": "https://localhost:8080/",
          "height": 296
        },
        "id": "v6UJszwavOuD",
        "outputId": "61805ddf-dbbf-4c52-fa05-24790482cadc"
      },
      "execution_count": 126,
      "outputs": [
        {
          "output_type": "execute_result",
          "data": {
            "text/plain": [
              "<sklearn.metrics._plot.roc_curve.RocCurveDisplay at 0x7fd22736e4d0>"
            ]
          },
          "metadata": {},
          "execution_count": 126
        },
        {
          "output_type": "display_data",
          "data": {
            "text/plain": [
              "<Figure size 432x288 with 1 Axes>"
            ],
            "image/png": "[encoded data removed]"
          },
          "metadata": {
            "needs_background": "light"
          }
        }
      ]
    },
    {
      "cell_type": "code",
      "source": [
        "ConfusionMatrixDisplay.from_estimator(catBoost2, x_test_cat, y_test_cat)"
      ],
      "metadata": {
        "colab": {
          "base_uri": "https://localhost:8080/",
          "height": 296
        },
        "id": "ozcfZKggwfXv",
        "outputId": "5dbfc69f-2759-48d8-a3af-792701424b3f"
      },
      "execution_count": 127,
      "outputs": [
        {
          "output_type": "execute_result",
          "data": {
            "text/plain": [
              "<sklearn.metrics._plot.confusion_matrix.ConfusionMatrixDisplay at 0x7fd2271a7310>"
            ]
          },
          "metadata": {},
          "execution_count": 127
        },
        {
          "output_type": "display_data",
          "data": {
            "text/plain": [
              "<Figure size 432x288 with 2 Axes>"
            ],
            "image/png": "[encoded data removed]"
          },
          "metadata": {
            "needs_background": "light"
          }
        }
      ]
    },
    {
      "cell_type": "code",
      "source": [
        "cat_features = catBoost2.feature_importances_\n",
        "plt.barh(x_train_cat.columns, sorted(catBoost2.feature_importances_))\n",
        "figure(figsize=(40, 20), dpi=500)"
      ],
      "metadata": {
        "colab": {
          "base_uri": "https://localhost:8080/",
          "height": 299
        },
        "id": "MpJUhqbHx6Ao",
        "outputId": "09ee3aea-7430-4f8b-fc1d-b1a46aebe03e"
      },
      "execution_count": 134,
      "outputs": [
        {
          "output_type": "execute_result",
          "data": {
            "text/plain": [
              "<Figure size 20000x10000 with 0 Axes>"
            ]
          },
          "metadata": {},
          "execution_count": 134
        },
        {
          "output_type": "display_data",
          "data": {
            "text/plain": [
              "<Figure size 432x288 with 1 Axes>"
            ],
            "image/png": "[encoded data removed]"
          },
          "metadata": {
            "needs_background": "light"
          }
        },
        {
          "output_type": "display_data",
          "data": {
            "text/plain": [
              "<Figure size 20000x10000 with 0 Axes>"
            ]
          },
          "metadata": {}
        }
      ]
    },
    {
      "cell_type": "markdown",
      "source": [
        "### Since we saw a slight increase with the sparse cat boost model, we will mive forward and conduct:\n",
        "  1. Undersampling (Near Miss)\n",
        "  2. Oversampling (SMOTE)\n",
        "\n",
        "These methods will be needed in order to try and solve the clear imbalanced class problem"
      ],
      "metadata": {
        "id": "EMUosEYkyF03"
      }
    },
    {
      "cell_type": "code",
      "source": [
        "#this method combines SMOTENC to oversample then utilizes, undersampling to clean noisy additions to the dataset\n",
        "from imblearn.over_sampling import SMOTENC\n",
        "\n",
        "#prepping the data, getting rid of useless features\n",
        "x_train_cat, x_test_cat, y_train_cat, y_test_cat = train_test_split(input_vector, y, random_state=0, test_size = .20)\n",
        "\n",
        "#dropping more useless columns in this case the drug and alchol ones related to drivers for cat boost data\n",
        "x_train_cat = drop_more_cols(x_train_cat)\n",
        "x_train_cat.drop(columns = ['CrossStreet', 'StreetName'], inplace = True)\n",
        "\n",
        "categorical_features_indices = np.where(x_train_cat.dtypes != float)[0]\n",
        "catboost3 = CatBoostClassifier()\n",
        "\n",
        "smote_nc = SMOTENC(random_state=0, categorical_features = categorical_features_indices, sampling_strategy= (4000/25859))"
      ],
      "metadata": {
        "id": "Ba0zaDIJySmK"
      },
      "execution_count": 240,
      "outputs": []
    },
    {
      "cell_type": "code",
      "source": [
        "#oversampling classes\n",
        "x_train_cat_res, y_train_cat_res = smote_nc.fit_resample(x_train_cat, y_train_cat)"
      ],
      "metadata": {
        "id": "YXTd4LYc5OMu"
      },
      "execution_count": 241,
      "outputs": []
    },
    {
      "cell_type": "code",
      "source": [
        "y_train_cat_res.value_counts()"
      ],
      "metadata": {
        "colab": {
          "base_uri": "https://localhost:8080/"
        },
        "id": "QjddGCRPA4WY",
        "outputId": "64197588-ea4b-43c9-9160-4bceaa74d91f"
      },
      "execution_count": 242,
      "outputs": [
        {
          "output_type": "execute_result",
          "data": {
            "text/plain": [
              "0    25859\n",
              "1     9049\n",
              "Name: Fatal_Non_Fatal, dtype: int64"
            ]
          },
          "metadata": {},
          "execution_count": 242
        }
      ]
    },
    {
      "cell_type": "code",
      "source": [
        "#fitting on oversampled data\n",
        "catboost3.fit(\n",
        "    x_train_cat_res, y_train_cat_res, cat_features=categorical_features_indices, \n",
        "    eval_set = (x_val_cat, y_val_cat), plot=True)"
      ],
      "metadata": {
        "id": "V3rhPAwn-XOB"
      },
      "execution_count": null,
      "outputs": []
    },
    {
      "cell_type": "code",
      "source": [
        "#preprocessing test predictors\n",
        "x_test_cat = drop_more_cols(x_test_cat)\n",
        "x_test_cat.drop(columns = ['CrossStreet', 'StreetName'], inplace = True)"
      ],
      "metadata": {
        "id": "PvMKDhcS_dyz"
      },
      "execution_count": 244,
      "outputs": []
    },
    {
      "cell_type": "code",
      "source": [
        "#slight increase in performance but imbalance problem still persists\n",
        "ConfusionMatrixDisplay.from_estimator(catboost3, x_test_cat, y_test_cat)"
      ],
      "metadata": {
        "colab": {
          "base_uri": "https://localhost:8080/",
          "height": 296
        },
        "id": "BPVy4dzv95lH",
        "outputId": "5efca867-51f8-406e-a1a9-49839506cbc6"
      },
      "execution_count": 245,
      "outputs": [
        {
          "output_type": "execute_result",
          "data": {
            "text/plain": [
              "<sklearn.metrics._plot.confusion_matrix.ConfusionMatrixDisplay at 0x7fd22644dc90>"
            ]
          },
          "metadata": {},
          "execution_count": 245
        },
        {
          "output_type": "display_data",
          "data": {
            "text/plain": [
              "<Figure size 432x288 with 2 Axes>"
            ],
            "image/png": "[encoded data removed]"
          },
          "metadata": {
            "needs_background": "light"
          }
        }
      ]
    },
    {
      "cell_type": "code",
      "source": [
        "RocCurveDisplay.from_estimator(catboost3, x_test_cat, y_test_cat)"
      ],
      "metadata": {
        "colab": {
          "base_uri": "https://localhost:8080/",
          "height": 296
        },
        "id": "HycSKdxm-2tB",
        "outputId": "57bb53d6-6822-415e-a599-2e943c7429f4"
      },
      "execution_count": 246,
      "outputs": [
        {
          "output_type": "execute_result",
          "data": {
            "text/plain": [
              "<sklearn.metrics._plot.roc_curve.RocCurveDisplay at 0x7fd2263ef2d0>"
            ]
          },
          "metadata": {},
          "execution_count": 246
        },
        {
          "output_type": "display_data",
          "data": {
            "text/plain": [
              "<Figure size 432x288 with 1 Axes>"
            ],
            "image/png": "[encoded data removed]"
          },
          "metadata": {
            "needs_background": "light"
          }
        }
      ]
    },
    {
      "cell_type": "code",
      "source": [
        "#model still reports poor performance\n",
        "metric_scoring(catBoost2, x_test_cat, y_test_cat)"
      ],
      "metadata": {
        "colab": {
          "base_uri": "https://localhost:8080/"
        },
        "id": "RmXTcdRA_-Oq",
        "outputId": "f794c66a-759a-4c0b-9597-d8738689a76e"
      },
      "execution_count": 247,
      "outputs": [
        {
          "output_type": "execute_result",
          "data": {
            "text/plain": [
              "{'Accuracy': 0.9936738157691715,\n",
              " 'F1 Score': 0.12765957446808512,\n",
              " 'Precision': 0.09375,\n",
              " 'Recall': 0.2}"
            ]
          },
          "metadata": {},
          "execution_count": 247
        }
      ]
    },
    {
      "cell_type": "code",
      "source": [
        "#using weights for classes \n",
        "#this method combines SMOTENC to oversample then utilizes, undersampling to clean noisy additions to the dataset\n",
        "from imblearn.over_sampling import SMOTENC\n",
        "\n",
        "#prepping the data, getting rid of useless features\n",
        "x_train_cat, x_test_cat, y_train_cat, y_test_cat = train_test_split(input_vector, y, random_state=0, test_size = .20)\n",
        "\n",
        "#dropping more useless columns in this case the drug and alchol ones related to drivers for cat boost data\n",
        "x_train_cat = drop_more_cols(x_train_cat)\n",
        "x_train_cat.drop(columns = ['CrossStreet', 'StreetName'], inplace = True)\n",
        "\n",
        "categorical_features_indices = np.where(x_train_cat.dtypes != float)[0]\n",
        "catboost4 = CatBoostClassifier(scale_pos_weight=750)\n",
        "\n",
        "smote_nc = SMOTENC(random_state=0, categorical_features = categorical_features_indices, sampling_strategy= (2500/25859))"
      ],
      "metadata": {
        "id": "xywTMHbkHQaE"
      },
      "execution_count": 413,
      "outputs": []
    },
    {
      "cell_type": "code",
      "source": [
        "#oversampling classes\n",
        "x_train_cat_res, y_train_cat_res = smote_nc.fit_resample(x_train_cat, y_train_cat)"
      ],
      "metadata": {
        "id": "nBRu_TRhKgYX"
      },
      "execution_count": 414,
      "outputs": []
    },
    {
      "cell_type": "code",
      "source": [
        "catboost4.fit(\n",
        "    x_train_cat_res, y_train_cat_res, cat_features=categorical_features_indices, \n",
        "    plot=False)"
      ],
      "metadata": {
        "id": "7lr9qCZSHZXF"
      },
      "execution_count": null,
      "outputs": []
    },
    {
      "cell_type": "code",
      "source": [
        "#preprocessing test predictors\n",
        "x_test_cat = drop_more_cols(x_test_cat)\n",
        "x_test_cat.drop(columns = ['CrossStreet', 'StreetName'], inplace = True)"
      ],
      "metadata": {
        "id": "JSh74hG6HgeJ"
      },
      "execution_count": 416,
      "outputs": []
    },
    {
      "cell_type": "code",
      "source": [
        "ConfusionMatrixDisplay.from_estimator(catboost4, x_test_cat, y_test_cat)"
      ],
      "metadata": {
        "colab": {
          "base_uri": "https://localhost:8080/",
          "height": 296
        },
        "id": "DrE7f8F_HmmD",
        "outputId": "133468ba-97e7-428c-adbf-a0fd29ef342d"
      },
      "execution_count": 417,
      "outputs": [
        {
          "output_type": "execute_result",
          "data": {
            "text/plain": [
              "<sklearn.metrics._plot.confusion_matrix.ConfusionMatrixDisplay at 0x7fd223fbd290>"
            ]
          },
          "metadata": {},
          "execution_count": 417
        },
        {
          "output_type": "display_data",
          "data": {
            "text/plain": [
              "<Figure size 432x288 with 2 Axes>"
            ],
            "image/png": "[encoded data removed]"
          },
          "metadata": {
            "needs_background": "light"
          }
        }
      ]
    },
    {
      "cell_type": "code",
      "source": [
        "RocCurveDisplay.from_estimator(catboost4, x_test_cat, y_test_cat)"
      ],
      "metadata": {
        "colab": {
          "base_uri": "https://localhost:8080/",
          "height": 296
        },
        "id": "zN7zPa5VHrh9",
        "outputId": "0a2ae497-de8d-48d6-b300-c6a64f9134ba"
      },
      "execution_count": 418,
      "outputs": [
        {
          "output_type": "execute_result",
          "data": {
            "text/plain": [
              "<sklearn.metrics._plot.roc_curve.RocCurveDisplay at 0x7fd224154750>"
            ]
          },
          "metadata": {},
          "execution_count": 418
        },
        {
          "output_type": "display_data",
          "data": {
            "text/plain": [
              "<Figure size 432x288 with 1 Axes>"
            ],
            "image/png": "[encoded data removed]"
          },
          "metadata": {
            "needs_background": "light"
          }
        }
      ]
    },
    {
      "cell_type": "code",
      "source": [
        "metric_scoring(catboost4, x_test_cat, y_test_cat)"
      ],
      "metadata": {
        "colab": {
          "base_uri": "https://localhost:8080/"
        },
        "id": "JPalKTD4JGQa",
        "outputId": "19252410-e8fa-43a2-edcc-63990d0a4582"
      },
      "execution_count": 419,
      "outputs": [
        {
          "output_type": "execute_result",
          "data": {
            "text/plain": [
              "{'Accuracy': 0.8762536645579386,\n",
              " 'F1 Score': 0.03140096618357488,\n",
              " 'Precision': 0.015990159901599015,\n",
              " 'Recall': 0.8666666666666667}"
            ]
          },
          "metadata": {},
          "execution_count": 419
        }
      ]
    },
    {
      "cell_type": "code",
      "source": [
        "cat_features = catboost4.feature_importances_\n",
        "plt.barh(x_train_cat.columns, sorted(catboost4.feature_importances_))\n",
        "figure(figsize=(40, 20), dpi=500)"
      ],
      "metadata": {
        "colab": {
          "base_uri": "https://localhost:8080/",
          "height": 299
        },
        "id": "rPwcrUQbTVrG",
        "outputId": "28793072-dba3-42df-c60f-7689950daca6"
      },
      "execution_count": 420,
      "outputs": [
        {
          "output_type": "execute_result",
          "data": {
            "text/plain": [
              "<Figure size 20000x10000 with 0 Axes>"
            ]
          },
          "metadata": {},
          "execution_count": 420
        },
        {
          "output_type": "display_data",
          "data": {
            "text/plain": [
              "<Figure size 432x288 with 1 Axes>"
            ],
            "image/png": "[encoded data removed]"
          },
          "metadata": {
            "needs_background": "light"
          }
        },
        {
          "output_type": "display_data",
          "data": {
            "text/plain": [
              "<Figure size 20000x10000 with 0 Axes>"
            ]
          },
          "metadata": {}
        }
      ]
    },
    {
      "cell_type": "code",
      "source": [
        ""
      ],
      "metadata": {
        "id": "r686o58rTXju"
      },
      "execution_count": 420,
      "outputs": []
    }
  ]
}